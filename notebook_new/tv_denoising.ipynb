{
 "cells": [
  {
   "cell_type": "code",
   "execution_count": 1,
   "id": "b8bcb33b",
   "metadata": {},
   "outputs": [],
   "source": [
    "import sys\n",
    "import os\n",
    "# Get the absolute path to the project root\n",
    "project_root = os.path.abspath(os.path.join(os.getcwd(), \"../src\"))\n",
    "# Add it to sys.path\n",
    "sys.path.append(project_root)"
   ]
  },
  {
   "cell_type": "code",
   "execution_count": 2,
   "id": "ba83521b",
   "metadata": {},
   "outputs": [],
   "source": [
    "import numpy as np\n",
    "from skimage.metrics import peak_signal_noise_ratio as psnr\n",
    "from mpcc_models import TVDenoising, TVDenoisingCartesian, TVDenoisingSimple\n",
    "from dataset import get_dataset\n",
    "from utils import plot_images_row"
   ]
  },
  {
   "cell_type": "code",
   "execution_count": 3,
   "id": "f8a750c0",
   "metadata": {},
   "outputs": [],
   "source": [
    "sz = 20\n",
    "dataset = get_dataset(\"cameraman\",scale=sz, random_state=100)\n",
    "true_img, noisy_img = dataset.get_training_data()"
   ]
  },
  {
   "cell_type": "code",
   "execution_count": 16,
   "id": "e8507d4b",
   "metadata": {},
   "outputs": [
    {
     "data": {
      "text/html": [
       "<pre style=\"white-space:pre;overflow-x:auto;line-height:normal;font-family:Menlo,'DejaVu Sans Mono',consolas,'Courier New',monospace\"> Iter   Termination_status            Objective      MPCC_compl               t\n",
       "\n",
       "</pre>\n"
      ],
      "text/plain": [
       " Iter   Termination_status            Objective      MPCC_compl               t\n",
       "\n"
      ]
     },
     "metadata": {},
     "output_type": "display_data"
    },
    {
     "data": {
      "text/html": [
       "<pre style=\"white-space:pre;overflow-x:auto;line-height:normal;font-family:Menlo,'DejaVu Sans Mono',consolas,'Courier New',monospace\">    <span style=\"color: #008080; text-decoration-color: #008080; font-weight: bold\">0</span>                 <span style=\"color: #008080; text-decoration-color: #008080; font-weight: bold\">0</span>  <span style=\"color: #008080; text-decoration-color: #008080; font-weight: bold\">0.00013158804826347278</span>  <span style=\"color: #008080; text-decoration-color: #008080; font-weight: bold\">0.23961973234208003</span>                <span style=\"color: #008080; text-decoration-color: #008080; font-weight: bold\">1.0</span>\n",
       "</pre>\n"
      ],
      "text/plain": [
       "    \u001b[1;36m0\u001b[0m                 \u001b[1;36m0\u001b[0m  \u001b[1;36m0.00013158804826347278\u001b[0m  \u001b[1;36m0.23961973234208003\u001b[0m                \u001b[1;36m1.0\u001b[0m\n"
      ]
     },
     "metadata": {},
     "output_type": "display_data"
    },
    {
     "data": {
      "text/html": [
       "<pre style=\"white-space:pre;overflow-x:auto;line-height:normal;font-family:Menlo,'DejaVu Sans Mono',consolas,'Courier New',monospace\">    <span style=\"color: #008080; text-decoration-color: #008080; font-weight: bold\">1</span>                 <span style=\"color: #008080; text-decoration-color: #008080; font-weight: bold\">0</span>  <span style=\"color: #008080; text-decoration-color: #008080; font-weight: bold\">0.00013132326535552835</span>  <span style=\"color: #008080; text-decoration-color: #008080; font-weight: bold\">0.23459886967366006</span>                <span style=\"color: #008080; text-decoration-color: #008080; font-weight: bold\">0.5</span>\n",
       "</pre>\n"
      ],
      "text/plain": [
       "    \u001b[1;36m1\u001b[0m                 \u001b[1;36m0\u001b[0m  \u001b[1;36m0.00013132326535552835\u001b[0m  \u001b[1;36m0.23459886967366006\u001b[0m                \u001b[1;36m0.5\u001b[0m\n"
      ]
     },
     "metadata": {},
     "output_type": "display_data"
    },
    {
     "data": {
      "text/html": [
       "<pre style=\"white-space:pre;overflow-x:auto;line-height:normal;font-family:Menlo,'DejaVu Sans Mono',consolas,'Courier New',monospace\">    <span style=\"color: #008080; text-decoration-color: #008080; font-weight: bold\">2</span>                 <span style=\"color: #008080; text-decoration-color: #008080; font-weight: bold\">0</span>  <span style=\"color: #008080; text-decoration-color: #008080; font-weight: bold\">0.0001313311513050541</span>   <span style=\"color: #008080; text-decoration-color: #008080; font-weight: bold\">0.23133310939291202</span>               <span style=\"color: #008080; text-decoration-color: #008080; font-weight: bold\">0.25</span>\n",
       "</pre>\n"
      ],
      "text/plain": [
       "    \u001b[1;36m2\u001b[0m                 \u001b[1;36m0\u001b[0m  \u001b[1;36m0.0001313311513050541\u001b[0m   \u001b[1;36m0.23133310939291202\u001b[0m               \u001b[1;36m0.25\u001b[0m\n"
      ]
     },
     "metadata": {},
     "output_type": "display_data"
    },
    {
     "data": {
      "text/html": [
       "<pre style=\"white-space:pre;overflow-x:auto;line-height:normal;font-family:Menlo,'DejaVu Sans Mono',consolas,'Courier New',monospace\">    <span style=\"color: #008080; text-decoration-color: #008080; font-weight: bold\">3</span>                 <span style=\"color: #008080; text-decoration-color: #008080; font-weight: bold\">0</span>  <span style=\"color: #008080; text-decoration-color: #008080; font-weight: bold\">0.00013135487455135183</span>  <span style=\"color: #008080; text-decoration-color: #008080; font-weight: bold\">0.22675586341347637</span>              <span style=\"color: #008080; text-decoration-color: #008080; font-weight: bold\">0.125</span>\n",
       "</pre>\n"
      ],
      "text/plain": [
       "    \u001b[1;36m3\u001b[0m                 \u001b[1;36m0\u001b[0m  \u001b[1;36m0.00013135487455135183\u001b[0m  \u001b[1;36m0.22675586341347637\u001b[0m              \u001b[1;36m0.125\u001b[0m\n"
      ]
     },
     "metadata": {},
     "output_type": "display_data"
    },
    {
     "data": {
      "text/html": [
       "<pre style=\"white-space:pre;overflow-x:auto;line-height:normal;font-family:Menlo,'DejaVu Sans Mono',consolas,'Courier New',monospace\">    <span style=\"color: #008080; text-decoration-color: #008080; font-weight: bold\">4</span>                 <span style=\"color: #008080; text-decoration-color: #008080; font-weight: bold\">0</span>  <span style=\"color: #008080; text-decoration-color: #008080; font-weight: bold\">0.00013121030659331311</span>  <span style=\"color: #008080; text-decoration-color: #008080; font-weight: bold\">0.2095595066993195</span>              <span style=\"color: #008080; text-decoration-color: #008080; font-weight: bold\">0.0625</span>\n",
       "</pre>\n"
      ],
      "text/plain": [
       "    \u001b[1;36m4\u001b[0m                 \u001b[1;36m0\u001b[0m  \u001b[1;36m0.00013121030659331311\u001b[0m  \u001b[1;36m0.2095595066993195\u001b[0m              \u001b[1;36m0.0625\u001b[0m\n"
      ]
     },
     "metadata": {},
     "output_type": "display_data"
    },
    {
     "data": {
      "text/html": [
       "<pre style=\"white-space:pre;overflow-x:auto;line-height:normal;font-family:Menlo,'DejaVu Sans Mono',consolas,'Courier New',monospace\">    <span style=\"color: #008080; text-decoration-color: #008080; font-weight: bold\">5</span>                 <span style=\"color: #008080; text-decoration-color: #008080; font-weight: bold\">0</span>  <span style=\"color: #008080; text-decoration-color: #008080; font-weight: bold\">0.00013140252143153735</span>  <span style=\"color: #008080; text-decoration-color: #008080; font-weight: bold\">0.13915886911816688</span>            <span style=\"color: #008080; text-decoration-color: #008080; font-weight: bold\">0.03125</span>\n",
       "</pre>\n"
      ],
      "text/plain": [
       "    \u001b[1;36m5\u001b[0m                 \u001b[1;36m0\u001b[0m  \u001b[1;36m0.00013140252143153735\u001b[0m  \u001b[1;36m0.13915886911816688\u001b[0m            \u001b[1;36m0.03125\u001b[0m\n"
      ]
     },
     "metadata": {},
     "output_type": "display_data"
    },
    {
     "data": {
      "text/html": [
       "<pre style=\"white-space:pre;overflow-x:auto;line-height:normal;font-family:Menlo,'DejaVu Sans Mono',consolas,'Courier New',monospace\">    <span style=\"color: #008080; text-decoration-color: #008080; font-weight: bold\">6</span>                <span style=\"color: #008080; text-decoration-color: #008080; font-weight: bold\">-3</span>  <span style=\"color: #008080; text-decoration-color: #008080; font-weight: bold\">0.00013167663130480986</span>  <span style=\"color: #008080; text-decoration-color: #008080; font-weight: bold\">0.0681872430964907</span>            <span style=\"color: #008080; text-decoration-color: #008080; font-weight: bold\">0.015625</span>\n",
       "</pre>\n"
      ],
      "text/plain": [
       "    \u001b[1;36m6\u001b[0m                \u001b[1;36m-3\u001b[0m  \u001b[1;36m0.00013167663130480986\u001b[0m  \u001b[1;36m0.0681872430964907\u001b[0m            \u001b[1;36m0.015625\u001b[0m\n"
      ]
     },
     "metadata": {},
     "output_type": "display_data"
    },
    {
     "data": {
      "text/html": [
       "<pre style=\"white-space:pre;overflow-x:auto;line-height:normal;font-family:Menlo,'DejaVu Sans Mono',consolas,'Courier New',monospace\">    <span style=\"color: #008080; text-decoration-color: #008080; font-weight: bold\">7</span>                 <span style=\"color: #008080; text-decoration-color: #008080; font-weight: bold\">0</span>  <span style=\"color: #008080; text-decoration-color: #008080; font-weight: bold\">0.00013138530550107423</span>  <span style=\"color: #008080; text-decoration-color: #008080; font-weight: bold\">0.07128756670181911</span>          <span style=\"color: #008080; text-decoration-color: #008080; font-weight: bold\">0.0171875</span>\n",
       "</pre>\n"
      ],
      "text/plain": [
       "    \u001b[1;36m7\u001b[0m                 \u001b[1;36m0\u001b[0m  \u001b[1;36m0.00013138530550107423\u001b[0m  \u001b[1;36m0.07128756670181911\u001b[0m          \u001b[1;36m0.0171875\u001b[0m\n"
      ]
     },
     "metadata": {},
     "output_type": "display_data"
    },
    {
     "data": {
      "text/html": [
       "<pre style=\"white-space:pre;overflow-x:auto;line-height:normal;font-family:Menlo,'DejaVu Sans Mono',consolas,'Courier New',monospace\">    <span style=\"color: #008080; text-decoration-color: #008080; font-weight: bold\">8</span>                 <span style=\"color: #008080; text-decoration-color: #008080; font-weight: bold\">0</span>  <span style=\"color: #008080; text-decoration-color: #008080; font-weight: bold\">0.00013202298514267542</span>  <span style=\"color: #008080; text-decoration-color: #008080; font-weight: bold\">0.04794279057611349</span>     <span style=\"color: #008080; text-decoration-color: #008080; font-weight: bold\">0.007734375000000001</span>\n",
       "</pre>\n"
      ],
      "text/plain": [
       "    \u001b[1;36m8\u001b[0m                 \u001b[1;36m0\u001b[0m  \u001b[1;36m0.00013202298514267542\u001b[0m  \u001b[1;36m0.04794279057611349\u001b[0m     \u001b[1;36m0.007734375000000001\u001b[0m\n"
      ]
     },
     "metadata": {},
     "output_type": "display_data"
    },
    {
     "data": {
      "text/html": [
       "<pre style=\"white-space:pre;overflow-x:auto;line-height:normal;font-family:Menlo,'DejaVu Sans Mono',consolas,'Courier New',monospace\">    <span style=\"color: #008080; text-decoration-color: #008080; font-weight: bold\">9</span>                 <span style=\"color: #008080; text-decoration-color: #008080; font-weight: bold\">0</span>  <span style=\"color: #008080; text-decoration-color: #008080; font-weight: bold\">0.00013377013775199394</span>  <span style=\"color: #008080; text-decoration-color: #008080; font-weight: bold\">0.03104582071025721</span>     <span style=\"color: #008080; text-decoration-color: #008080; font-weight: bold\">0.0034804687500000005</span>\n",
       "</pre>\n"
      ],
      "text/plain": [
       "    \u001b[1;36m9\u001b[0m                 \u001b[1;36m0\u001b[0m  \u001b[1;36m0.00013377013775199394\u001b[0m  \u001b[1;36m0.03104582071025721\u001b[0m     \u001b[1;36m0.0034804687500000005\u001b[0m\n"
      ]
     },
     "metadata": {},
     "output_type": "display_data"
    },
    {
     "data": {
      "text/html": [
       "<pre style=\"white-space:pre;overflow-x:auto;line-height:normal;font-family:Menlo,'DejaVu Sans Mono',consolas,'Courier New',monospace\">   <span style=\"color: #008080; text-decoration-color: #008080; font-weight: bold\">10</span>                 <span style=\"color: #008080; text-decoration-color: #008080; font-weight: bold\">0</span>  <span style=\"color: #008080; text-decoration-color: #008080; font-weight: bold\">0.00013552149043661332</span>  <span style=\"color: #008080; text-decoration-color: #008080; font-weight: bold\">0.015297861240864418</span>    <span style=\"color: #008080; text-decoration-color: #008080; font-weight: bold\">0.0015662109375000003</span>\n",
       "</pre>\n"
      ],
      "text/plain": [
       "   \u001b[1;36m10\u001b[0m                 \u001b[1;36m0\u001b[0m  \u001b[1;36m0.00013552149043661332\u001b[0m  \u001b[1;36m0.015297861240864418\u001b[0m    \u001b[1;36m0.0015662109375000003\u001b[0m\n"
      ]
     },
     "metadata": {},
     "output_type": "display_data"
    },
    {
     "data": {
      "text/html": [
       "<pre style=\"white-space:pre;overflow-x:auto;line-height:normal;font-family:Menlo,'DejaVu Sans Mono',consolas,'Courier New',monospace\">   <span style=\"color: #008080; text-decoration-color: #008080; font-weight: bold\">11</span>                 <span style=\"color: #008080; text-decoration-color: #008080; font-weight: bold\">0</span>  <span style=\"color: #008080; text-decoration-color: #008080; font-weight: bold\">0.00014021986476972877</span>  <span style=\"color: #008080; text-decoration-color: #008080; font-weight: bold\">0.00769976130187915</span>     <span style=\"color: #008080; text-decoration-color: #008080; font-weight: bold\">0.0007047949218750002</span>\n",
       "</pre>\n"
      ],
      "text/plain": [
       "   \u001b[1;36m11\u001b[0m                 \u001b[1;36m0\u001b[0m  \u001b[1;36m0.00014021986476972877\u001b[0m  \u001b[1;36m0.00769976130187915\u001b[0m     \u001b[1;36m0.0007047949218750002\u001b[0m\n"
      ]
     },
     "metadata": {},
     "output_type": "display_data"
    },
    {
     "data": {
      "text/html": [
       "<pre style=\"white-space:pre;overflow-x:auto;line-height:normal;font-family:Menlo,'DejaVu Sans Mono',consolas,'Courier New',monospace\">   <span style=\"color: #008080; text-decoration-color: #008080; font-weight: bold\">12</span>                 <span style=\"color: #008080; text-decoration-color: #008080; font-weight: bold\">0</span>  <span style=\"color: #008080; text-decoration-color: #008080; font-weight: bold\">0.00021728920283356333</span>  <span style=\"color: #008080; text-decoration-color: #008080; font-weight: bold\">0.004054259853887705</span>    <span style=\"color: #008080; text-decoration-color: #008080; font-weight: bold\">0.0003171577148437501</span>\n",
       "</pre>\n"
      ],
      "text/plain": [
       "   \u001b[1;36m12\u001b[0m                 \u001b[1;36m0\u001b[0m  \u001b[1;36m0.00021728920283356333\u001b[0m  \u001b[1;36m0.004054259853887705\u001b[0m    \u001b[1;36m0.0003171577148437501\u001b[0m\n"
      ]
     },
     "metadata": {},
     "output_type": "display_data"
    },
    {
     "data": {
      "text/html": [
       "<pre style=\"white-space:pre;overflow-x:auto;line-height:normal;font-family:Menlo,'DejaVu Sans Mono',consolas,'Courier New',monospace\">   <span style=\"color: #008080; text-decoration-color: #008080; font-weight: bold\">13</span>                 <span style=\"color: #008080; text-decoration-color: #008080; font-weight: bold\">0</span>  <span style=\"color: #008080; text-decoration-color: #008080; font-weight: bold\">0.0004598896187124579</span>   <span style=\"color: #008080; text-decoration-color: #008080; font-weight: bold\">0.0018881118249799266</span>   <span style=\"color: #008080; text-decoration-color: #008080; font-weight: bold\">0.00014272097167968755</span>\n",
       "</pre>\n"
      ],
      "text/plain": [
       "   \u001b[1;36m13\u001b[0m                 \u001b[1;36m0\u001b[0m  \u001b[1;36m0.0004598896187124579\u001b[0m   \u001b[1;36m0.0018881118249799266\u001b[0m   \u001b[1;36m0.00014272097167968755\u001b[0m\n"
      ]
     },
     "metadata": {},
     "output_type": "display_data"
    },
    {
     "data": {
      "text/html": [
       "<pre style=\"white-space:pre;overflow-x:auto;line-height:normal;font-family:Menlo,'DejaVu Sans Mono',consolas,'Courier New',monospace\">   <span style=\"color: #008080; text-decoration-color: #008080; font-weight: bold\">14</span>*               <span style=\"color: #008080; text-decoration-color: #008080; font-weight: bold\">-2</span>  <span style=\"color: #008080; text-decoration-color: #008080; font-weight: bold\">0.0011410631469806508</span>   <span style=\"color: #008080; text-decoration-color: #008080; font-weight: bold\">0.000620853011304716</span>    <span style=\"color: #008080; text-decoration-color: #008080; font-weight: bold\">6.42244372558594e-05</span>\n",
       "</pre>\n"
      ],
      "text/plain": [
       "   \u001b[1;36m14\u001b[0m*               \u001b[1;36m-2\u001b[0m  \u001b[1;36m0.0011410631469806508\u001b[0m   \u001b[1;36m0.000620853011304716\u001b[0m    \u001b[1;36m6.42244372558594e-05\u001b[0m\n"
      ]
     },
     "metadata": {},
     "output_type": "display_data"
    }
   ],
   "source": [
    "den = TVDenoisingCartesian(true_img,noisy_img)\n",
    "res = den.solve(max_iter=1000,verbose=True)"
   ]
  },
  {
   "cell_type": "code",
   "execution_count": 17,
   "id": "43e34a56",
   "metadata": {},
   "outputs": [
    {
     "ename": "KeyError",
     "evalue": "'delta'",
     "output_type": "error",
     "traceback": [
      "\u001b[0;31m---------------------------------------------------------------------------\u001b[0m",
      "\u001b[0;31mKeyError\u001b[0m                                  Traceback (most recent call last)",
      "Cell \u001b[0;32mIn[17], line 1\u001b[0m\n\u001b[0;32m----> 1\u001b[0m \u001b[38;5;28mprint\u001b[39m(\u001b[38;5;124mf\u001b[39m\u001b[38;5;124m\"\u001b[39m\u001b[38;5;124mcomplementarity: \u001b[39m\u001b[38;5;132;01m{\u001b[39;00mnp\u001b[38;5;241m.\u001b[39mlinalg\u001b[38;5;241m.\u001b[39mnorm((res[\u001b[38;5;124m'\u001b[39m\u001b[38;5;124malpha\u001b[39m\u001b[38;5;124m'\u001b[39m]\u001b[38;5;241m-\u001b[39m\u001b[43mres\u001b[49m\u001b[43m[\u001b[49m\u001b[38;5;124;43m'\u001b[39;49m\u001b[38;5;124;43mdelta\u001b[39;49m\u001b[38;5;124;43m'\u001b[39;49m\u001b[43m]\u001b[49m)\u001b[38;5;241m*\u001b[39mres[\u001b[38;5;124m'\u001b[39m\u001b[38;5;124mr\u001b[39m\u001b[38;5;124m'\u001b[39m])\u001b[38;5;132;01m}\u001b[39;00m\u001b[38;5;124m\"\u001b[39m)\n",
      "\u001b[0;31mKeyError\u001b[0m: 'delta'"
     ]
    }
   ],
   "source": [
    "print(f\"complementarity: {np.linalg.norm((res['alpha']-res['delta'])*res['r'])}\")"
   ]
  },
  {
   "cell_type": "code",
   "execution_count": 18,
   "id": "ebb08c86",
   "metadata": {},
   "outputs": [
    {
     "data": {
      "image/png": "[encoded data removed]",
      "text/plain": [
       "<Figure size 1200x400 with 3 Axes>"
      ]
     },
     "metadata": {},
     "output_type": "display_data"
    }
   ],
   "source": [
    "# plot_images_row([true_img, noisy_img, res[\"u\"], res2[\"u\"]], titles=[\"True Image\", \"Noisy Image\", f\"Denoised Image (Scholtes) [{res['alpha'][0]:.2f}]\",f\"Denoised Image (Fisher) [{res2['alpha'][0]:.2f}]\"])\n",
    "plot_images_row([true_img, noisy_img, res[\"u\"]], titles=[\"True Image\", \"Noisy Image\",f\"Denoised Image (Scholtes) [{res['alpha'][0]:.4f}]\"])"
   ]
  },
  {
   "cell_type": "code",
   "execution_count": 19,
   "id": "b98190c1",
   "metadata": {},
   "outputs": [
    {
     "name": "stdout",
     "output_type": "stream",
     "text": [
      "PSNR noisy: 20.11\n",
      "PSNR (Fisher): 52.91\n"
     ]
    }
   ],
   "source": [
    "print(f\"PSNR noisy: {psnr(true_img, noisy_img):.2f}\")\n",
    "# print(f\"PSNR (Scholtes): {psnr(true_img, res['u']):.2f}\")\n",
    "print(f\"PSNR (Fisher): {psnr(true_img, res['u']):.2f}\")"
   ]
  },
  {
   "cell_type": "code",
   "execution_count": null,
   "id": "ded5a67a",
   "metadata": {},
   "outputs": [],
   "source": []
  }
 ],
 "metadata": {
  "kernelspec": {
   "display_name": ".venv",
   "language": "python",
   "name": "python3"
  },
  "language_info": {
   "codemirror_mode": {
    "name": "ipython",
    "version": 3
   },
   "file_extension": ".py",
   "mimetype": "text/x-python",
   "name": "python",
   "nbconvert_exporter": "python",
   "pygments_lexer": "ipython3",
   "version": "3.12.7"
  }
 },
 "nbformat": 4,
 "nbformat_minor": 5
}
