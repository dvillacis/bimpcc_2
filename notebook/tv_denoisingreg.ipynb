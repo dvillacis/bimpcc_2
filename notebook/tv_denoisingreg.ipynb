{
 "cells": [
  {
   "cell_type": "code",
   "execution_count": 1,
   "metadata": {},
   "outputs": [],
   "source": [
    "import sys\n",
    "import os\n",
    "# Get the absolute path to the project root\n",
    "project_root = os.path.abspath(os.path.join(os.getcwd(), \"..\"))\n",
    "# Add it to sys.path\n",
    "sys.path.append(project_root)"
   ]
  },
  {
   "cell_type": "code",
   "execution_count": 2,
   "metadata": {},
   "outputs": [],
   "source": [
    "import numpy as np\n",
    "from bimpcc.dataset import get_dataset\n",
    "from bimpcc.models.tvregularized import TVRegularized\n",
    "from bimpcc.models.tvdenoising_model import TVDenoisingMPCC\n",
    "import matplotlib.pyplot as plt\n",
    "from skimage.metrics import peak_signal_noise_ratio as psnr"
   ]
  },
  {
   "cell_type": "code",
   "execution_count": 3,
   "metadata": {},
   "outputs": [],
   "source": [
    "def plot_experiment(true,noisy,u, alpha):\n",
    "    \n",
    "    fig,ax = plt.subplots(1,3,figsize=(14,4))\n",
    "    ax[0].imshow(true,cmap='gray')\n",
    "    ax[0].set_title('True Image')\n",
    "    ax[0].axis('off')\n",
    "    ax[1].imshow(noisy,cmap='gray')\n",
    "    ax[1].set_title('Noisy Image\\nPSNR: {:.4f}'.format(psnr(true,noisy)))\n",
    "    ax[1].axis('off')\n",
    "    ax[2].imshow(u,cmap='gray')\n",
    "    ax[2].set_title(f'Reconstructed Image\\nPSNR: {psnr(true,u):.4f}\\n alpha = {alpha}')\n",
    "    # ax[2].set_xlabel('alpha = {}'.format(alpha))\n",
    "    ax[2].axis('off')\n",
    "\n",
    "    plt.show()"
   ]
  },
  {
   "cell_type": "code",
   "execution_count": 26,
   "metadata": {},
   "outputs": [],
   "source": [
    "scale = 40"
   ]
  },
  {
   "cell_type": "code",
   "execution_count": 27,
   "metadata": {},
   "outputs": [],
   "source": [
    "dataset = get_dataset(\"cameraman\",scale=scale)\n",
    "true, noisy = dataset.get_training_data()"
   ]
  },
  {
   "cell_type": "code",
   "execution_count": 28,
   "metadata": {},
   "outputs": [
    {
     "data": {
      "text/plain": [
       "(np.float64(-0.5), np.float64(39.5), np.float64(39.5), np.float64(-0.5))"
      ]
     },
     "execution_count": 28,
     "metadata": {},
     "output_type": "execute_result"
    },
    {
     "data": {
      "image/png": "[encoded data removed]",
      "text/plain": [
       "<Figure size 1000x500 with 2 Axes>"
      ]
     },
     "metadata": {},
     "output_type": "display_data"
    }
   ],
   "source": [
    "fig,ax = plt.subplots(1,2,figsize=(10,5))\n",
    "ax[0].imshow(true,cmap='gray')\n",
    "ax[0].set_title('True Image')\n",
    "ax[0].axis('off')\n",
    "ax[1].imshow(noisy,cmap='gray')\n",
    "ax[1].set_title('Noisy Image')\n",
    "ax[1].axis('off')"
   ]
  },
  {
   "cell_type": "code",
   "execution_count": 29,
   "metadata": {},
   "outputs": [],
   "source": [
    "model = TVRegularized(true, noisy, epsilon=1e-3)"
   ]
  },
  {
   "cell_type": "code",
   "execution_count": 30,
   "metadata": {},
   "outputs": [
    {
     "name": "stdout",
     "output_type": "stream",
     "text": [
      "This is Ipopt version 3.14.17, running with linear solver MUMPS 5.6.2.\n",
      "\n",
      "Number of nonzeros in equality constraint Jacobian...:    26404\n",
      "Number of nonzeros in inequality constraint Jacobian.:        0\n",
      "Number of nonzeros in Lagrangian Hessian.............:        0\n",
      "\n",
      "Total number of variables............................:     4721\n",
      "                     variables with only lower bounds:     1601\n",
      "                variables with lower and upper bounds:        0\n",
      "                     variables with only upper bounds:        0\n",
      "Total number of equality constraints.................:     4720\n",
      "Total number of inequality constraints...............:        0\n",
      "        inequality constraints with only lower bounds:        0\n",
      "   inequality constraints with lower and upper bounds:        0\n",
      "        inequality constraints with only upper bounds:        0\n",
      "\n",
      "iter    objective    inf_pr   inf_du lg(mu)  ||d||  lg(rg) alpha_du alpha_pr  ls\n",
      "   0  1.8040531e+00 1.10e-02 6.11e-02   0.0 0.00e+00    -  0.00e+00 0.00e+00   0\n",
      "   1  1.4631516e+00 7.93e-03 3.62e+00  -2.3 2.16e-02    -  5.78e-01 1.00e+00h  1\n",
      "   2  1.1819577e+00 1.41e-02 1.52e+00  -2.7 2.17e-02    -  5.77e-01 1.00e+00h  1\n",
      "   3  9.9193012e-01 3.72e-02 3.05e+01  -2.3 3.64e-02    -  9.78e-01 1.00e+00h  1\n",
      "   4  9.8760492e-01 4.09e-02 1.56e+00  -2.7 2.07e-02    -  1.00e+00 1.00e+00h  1\n",
      "   5  9.8705174e-01 3.46e-02 1.18e+00  -3.9 7.09e-03    -  1.00e+00 1.00e+00h  1\n",
      "   6  9.8710084e-01 2.03e-02 6.44e-01  -5.3 6.30e-03    -  1.00e+00 1.00e+00h  1\n",
      "   7  9.8715745e-01 1.06e-02 5.65e-01  -7.0 1.73e-03    -  1.00e+00 1.00e+00h  1\n",
      "   8  9.8711940e-01 3.29e-02 3.58e-01  -8.3 1.94e-03    -  1.00e+00 1.00e+00h  1\n",
      "   9  9.8711979e-01 1.07e-03 1.75e-02 -10.0 3.62e-04    -  1.00e+00 1.00e+00h  1\n",
      "iter    objective    inf_pr   inf_du lg(mu)  ||d||  lg(rg) alpha_du alpha_pr  ls\n",
      "  10  9.8711970e-01 1.21e-04 1.65e-03 -11.0 2.43e-05    -  1.00e+00 1.00e+00h  1\n",
      "  11  9.8711971e-01 4.98e-06 4.35e-04 -11.0 4.08e-06    -  1.00e+00 1.00e+00h  1\n",
      "  12  9.8711969e-01 2.33e-08 7.75e-06 -11.0 5.80e-06    -  1.00e+00 1.00e+00h  1\n",
      "\n",
      "Number of Iterations....: 12\n",
      "\n",
      "                                   (scaled)                 (unscaled)\n",
      "Objective...............:   9.8711969413698963e-01    9.8711969413698963e-01\n",
      "Dual infeasibility......:   7.7501318002225527e-06    7.7501318002225527e-06\n",
      "Constraint violation....:   2.3334955967513338e-08    2.3334955967513338e-08\n",
      "Variable bound violation:   0.0000000000000000e+00    0.0000000000000000e+00\n",
      "Complementarity.........:   1.0000000000000001e-11    1.0000000000000001e-11\n",
      "Overall NLP error.......:   7.7501318002225527e-06    7.7501318002225527e-06\n",
      "\n",
      "\n",
      "Number of objective function evaluations             = 13\n",
      "Number of objective gradient evaluations             = 13\n",
      "Number of equality constraint evaluations            = 13\n",
      "Number of inequality constraint evaluations          = 0\n",
      "Number of equality constraint Jacobian evaluations   = 13\n",
      "Number of inequality constraint Jacobian evaluations = 0\n",
      "Number of Lagrangian Hessian evaluations             = 0\n",
      "Total seconds in IPOPT                               = 0.650\n",
      "\n",
      "EXIT: Optimal Solution Found.\n"
     ]
    }
   ],
   "source": [
    "res,x_opt,fun_opt = model.solve(max_iter=3000,tol=1e-4,print_level=5)"
   ]
  },
  {
   "cell_type": "code",
   "execution_count": 31,
   "metadata": {},
   "outputs": [],
   "source": [
    "u, q, alpha = model.objective_func.parse_vars(x_opt)"
   ]
  },
  {
   "cell_type": "code",
   "execution_count": 32,
   "metadata": {},
   "outputs": [
    {
     "data": {
      "image/png": "[encoded data removed]",
      "text/plain": [
       "<Figure size 1400x400 with 3 Axes>"
      ]
     },
     "metadata": {},
     "output_type": "display_data"
    }
   ],
   "source": [
    "u = u.reshape((scale,scale))\n",
    "plot_experiment(true,noisy,u,alpha)"
   ]
  },
  {
   "cell_type": "code",
   "execution_count": 33,
   "metadata": {},
   "outputs": [],
   "source": [
    "m = q.flatten().size\n",
    "n = m // 2\n",
    "Ku = model.K @ u.flatten()\n",
    "V = Ku.reshape(2, -1).T\n",
    "normKu = np.apply_along_axis(np.linalg.norm, axis=1, arr=V)\n",
    "Q = q.reshape(2,-1).T\n",
    "normQ = np.apply_along_axis(np.linalg.norm, axis=1, arr=Q)\n",
    "r0 = normKu\n",
    "delta0 = normQ\n",
    "# theta0 = np.zeros(n)"
   ]
  },
  {
   "cell_type": "code",
   "execution_count": 34,
   "metadata": {},
   "outputs": [],
   "source": [
    "Kxu = Ku[:n]  # Primeras n componentes\n",
    "Kyu = Ku[n:]  # Últimas n componentes\n",
    "qx = q[:n]  # Primeras n componentes\n",
    "qy = q[n:]  # Últimas n componentes\n",
    "epsilon = 1e-10\n",
    "\n",
    "# Condiciones para calcular theta según los casos dados\n",
    "theta0 = np.zeros(n)  # Inicializamos theta0\n",
    "\n",
    "# Caso 1: r_i ≠ 0\n",
    "mask_r_nonzero = r0 > epsilon\n",
    "theta0[mask_r_nonzero] = np.arccos(Kxu[mask_r_nonzero] / r0[mask_r_nonzero])\n",
    "theta0[mask_r_nonzero & (Kyu < 0)] *= -1  # Si Ky^i u < 0, negamos theta0\n",
    "\n",
    "# Caso 2: r_i = 0 y delta_i ≠ 0\n",
    "mask_r_zero_delta_nonzero = (r0 <= epsilon) & (delta0 > epsilon)\n",
    "theta0[mask_r_zero_delta_nonzero] = np.arccos(qx[mask_r_zero_delta_nonzero] / delta0[mask_r_zero_delta_nonzero])\n",
    "theta0[mask_r_zero_delta_nonzero & (qy < 0)] *= -1  # Si qy^i < 0, negamos theta0\n",
    "\n",
    "# Caso 3: r_i = 0 y delta_i = 0 (theta0 indefinido)\n",
    "mask_r_zero_delta_zero = (r0 <= epsilon) & (delta0 <= epsilon)\n",
    "theta0[mask_r_zero_delta_zero] = 0"
   ]
  },
  {
   "cell_type": "code",
   "execution_count": 35,
   "metadata": {},
   "outputs": [
    {
     "name": "stdout",
     "output_type": "stream",
     "text": [
      "[ 0.81417019  0.77723977  0.80216337 ... -2.66508973 -0.69330214\n",
      "  0.02108844]\n"
     ]
    }
   ],
   "source": [
    "x0_mpcc = np.concatenate((u.flatten(),q.flatten(),r0,delta0,theta0,alpha))\n",
    "print(x0_mpcc)"
   ]
  },
  {
   "cell_type": "code",
   "execution_count": 36,
   "metadata": {},
   "outputs": [],
   "source": [
    "mpcc_model = TVDenoisingMPCC(true, noisy, x0=x0_mpcc, epsilon=1e-3)"
   ]
  },
  {
   "cell_type": "code",
   "execution_count": 37,
   "metadata": {},
   "outputs": [
    {
     "data": {
      "text/html": [
       "<pre style=\"white-space:pre;overflow-x:auto;line-height:normal;font-family:Menlo,'DejaVu Sans Mono',consolas,'Courier New',monospace\"> Iter   Termination_status            Objective      MPCC_compl               t\n",
       "\n",
       "</pre>\n"
      ],
      "text/plain": [
       " Iter   Termination_status            Objective      MPCC_compl               t\n",
       "\n"
      ]
     },
     "metadata": {},
     "output_type": "display_data"
    },
    {
     "data": {
      "text/html": [
       "<pre style=\"white-space:pre;overflow-x:auto;line-height:normal;font-family:Menlo,'DejaVu Sans Mono',consolas,'Courier New',monospace\">    <span style=\"color: #008080; text-decoration-color: #008080; font-weight: bold\">0</span>                 <span style=\"color: #008080; text-decoration-color: #008080; font-weight: bold\">0</span>  <span style=\"color: #008080; text-decoration-color: #008080; font-weight: bold\">0.24166271297857142</span>     <span style=\"color: #008080; text-decoration-color: #008080; font-weight: bold\">7.282533023725065</span>                  <span style=\"color: #008080; text-decoration-color: #008080; font-weight: bold\">1.0</span>\n",
       "</pre>\n"
      ],
      "text/plain": [
       "    \u001b[1;36m0\u001b[0m                 \u001b[1;36m0\u001b[0m  \u001b[1;36m0.24166271297857142\u001b[0m     \u001b[1;36m7.282533023725065\u001b[0m                  \u001b[1;36m1.0\u001b[0m\n"
      ]
     },
     "metadata": {},
     "output_type": "display_data"
    },
    {
     "data": {
      "text/html": [
       "<pre style=\"white-space:pre;overflow-x:auto;line-height:normal;font-family:Menlo,'DejaVu Sans Mono',consolas,'Courier New',monospace\">    <span style=\"color: #008080; text-decoration-color: #008080; font-weight: bold\">1</span>                 <span style=\"color: #008080; text-decoration-color: #008080; font-weight: bold\">0</span>  <span style=\"color: #008080; text-decoration-color: #008080; font-weight: bold\">0.23582698389910234</span>     <span style=\"color: #008080; text-decoration-color: #008080; font-weight: bold\">7.26453388753287</span>                   <span style=\"color: #008080; text-decoration-color: #008080; font-weight: bold\">0.7</span>\n",
       "</pre>\n"
      ],
      "text/plain": [
       "    \u001b[1;36m1\u001b[0m                 \u001b[1;36m0\u001b[0m  \u001b[1;36m0.23582698389910234\u001b[0m     \u001b[1;36m7.26453388753287\u001b[0m                   \u001b[1;36m0.7\u001b[0m\n"
      ]
     },
     "metadata": {},
     "output_type": "display_data"
    },
    {
     "data": {
      "text/html": [
       "<pre style=\"white-space:pre;overflow-x:auto;line-height:normal;font-family:Menlo,'DejaVu Sans Mono',consolas,'Courier New',monospace\">    <span style=\"color: #008080; text-decoration-color: #008080; font-weight: bold\">2</span>                 <span style=\"color: #008080; text-decoration-color: #008080; font-weight: bold\">0</span>  <span style=\"color: #008080; text-decoration-color: #008080; font-weight: bold\">0.23571318315471063</span>     <span style=\"color: #008080; text-decoration-color: #008080; font-weight: bold\">7.017386219621605</span>       <span style=\"color: #008080; text-decoration-color: #008080; font-weight: bold\">0.48999999999999994</span>\n",
       "</pre>\n"
      ],
      "text/plain": [
       "    \u001b[1;36m2\u001b[0m                 \u001b[1;36m0\u001b[0m  \u001b[1;36m0.23571318315471063\u001b[0m     \u001b[1;36m7.017386219621605\u001b[0m       \u001b[1;36m0.48999999999999994\u001b[0m\n"
      ]
     },
     "metadata": {},
     "output_type": "display_data"
    },
    {
     "data": {
      "text/html": [
       "<pre style=\"white-space:pre;overflow-x:auto;line-height:normal;font-family:Menlo,'DejaVu Sans Mono',consolas,'Courier New',monospace\">    <span style=\"color: #008080; text-decoration-color: #008080; font-weight: bold\">3</span>                 <span style=\"color: #008080; text-decoration-color: #008080; font-weight: bold\">0</span>  <span style=\"color: #008080; text-decoration-color: #008080; font-weight: bold\">0.2357152834663497</span>      <span style=\"color: #008080; text-decoration-color: #008080; font-weight: bold\">6.263145179765682</span>       <span style=\"color: #008080; text-decoration-color: #008080; font-weight: bold\">0.3429999999999999</span>\n",
       "</pre>\n"
      ],
      "text/plain": [
       "    \u001b[1;36m3\u001b[0m                 \u001b[1;36m0\u001b[0m  \u001b[1;36m0.2357152834663497\u001b[0m      \u001b[1;36m6.263145179765682\u001b[0m       \u001b[1;36m0.3429999999999999\u001b[0m\n"
      ]
     },
     "metadata": {},
     "output_type": "display_data"
    },
    {
     "data": {
      "text/html": [
       "<pre style=\"white-space:pre;overflow-x:auto;line-height:normal;font-family:Menlo,'DejaVu Sans Mono',consolas,'Courier New',monospace\">    <span style=\"color: #008080; text-decoration-color: #008080; font-weight: bold\">4</span>                 <span style=\"color: #008080; text-decoration-color: #008080; font-weight: bold\">0</span>  <span style=\"color: #008080; text-decoration-color: #008080; font-weight: bold\">0.2361542930940776</span>      <span style=\"color: #008080; text-decoration-color: #008080; font-weight: bold\">5.333643547572984</span>       <span style=\"color: #008080; text-decoration-color: #008080; font-weight: bold\">0.24009999999999992</span>\n",
       "</pre>\n"
      ],
      "text/plain": [
       "    \u001b[1;36m4\u001b[0m                 \u001b[1;36m0\u001b[0m  \u001b[1;36m0.2361542930940776\u001b[0m      \u001b[1;36m5.333643547572984\u001b[0m       \u001b[1;36m0.24009999999999992\u001b[0m\n"
      ]
     },
     "metadata": {},
     "output_type": "display_data"
    },
    {
     "data": {
      "text/html": [
       "<pre style=\"white-space:pre;overflow-x:auto;line-height:normal;font-family:Menlo,'DejaVu Sans Mono',consolas,'Courier New',monospace\">    <span style=\"color: #008080; text-decoration-color: #008080; font-weight: bold\">5</span>                 <span style=\"color: #008080; text-decoration-color: #008080; font-weight: bold\">0</span>  <span style=\"color: #008080; text-decoration-color: #008080; font-weight: bold\">0.23738776304958972</span>     <span style=\"color: #008080; text-decoration-color: #008080; font-weight: bold\">4.675666459117697</span>       <span style=\"color: #008080; text-decoration-color: #008080; font-weight: bold\">0.16806999999999994</span>\n",
       "</pre>\n"
      ],
      "text/plain": [
       "    \u001b[1;36m5\u001b[0m                 \u001b[1;36m0\u001b[0m  \u001b[1;36m0.23738776304958972\u001b[0m     \u001b[1;36m4.675666459117697\u001b[0m       \u001b[1;36m0.16806999999999994\u001b[0m\n"
      ]
     },
     "metadata": {},
     "output_type": "display_data"
    },
    {
     "data": {
      "text/html": [
       "<pre style=\"white-space:pre;overflow-x:auto;line-height:normal;font-family:Menlo,'DejaVu Sans Mono',consolas,'Courier New',monospace\">    <span style=\"color: #008080; text-decoration-color: #008080; font-weight: bold\">6</span>                 <span style=\"color: #008080; text-decoration-color: #008080; font-weight: bold\">0</span>  <span style=\"color: #008080; text-decoration-color: #008080; font-weight: bold\">0.23957956687669973</span>     <span style=\"color: #008080; text-decoration-color: #008080; font-weight: bold\">3.7358081488559396</span>      <span style=\"color: #008080; text-decoration-color: #008080; font-weight: bold\">0.11764899999999995</span>\n",
       "</pre>\n"
      ],
      "text/plain": [
       "    \u001b[1;36m6\u001b[0m                 \u001b[1;36m0\u001b[0m  \u001b[1;36m0.23957956687669973\u001b[0m     \u001b[1;36m3.7358081488559396\u001b[0m      \u001b[1;36m0.11764899999999995\u001b[0m\n"
      ]
     },
     "metadata": {},
     "output_type": "display_data"
    },
    {
     "data": {
      "text/html": [
       "<pre style=\"white-space:pre;overflow-x:auto;line-height:normal;font-family:Menlo,'DejaVu Sans Mono',consolas,'Courier New',monospace\">    <span style=\"color: #008080; text-decoration-color: #008080; font-weight: bold\">7</span>                 <span style=\"color: #008080; text-decoration-color: #008080; font-weight: bold\">0</span>  <span style=\"color: #008080; text-decoration-color: #008080; font-weight: bold\">0.2444443414023678</span>      <span style=\"color: #008080; text-decoration-color: #008080; font-weight: bold\">2.899802425499071</span>       <span style=\"color: #008080; text-decoration-color: #008080; font-weight: bold\">0.08235429999999996</span>\n",
       "</pre>\n"
      ],
      "text/plain": [
       "    \u001b[1;36m7\u001b[0m                 \u001b[1;36m0\u001b[0m  \u001b[1;36m0.2444443414023678\u001b[0m      \u001b[1;36m2.899802425499071\u001b[0m       \u001b[1;36m0.08235429999999996\u001b[0m\n"
      ]
     },
     "metadata": {},
     "output_type": "display_data"
    },
    {
     "data": {
      "text/html": [
       "<pre style=\"white-space:pre;overflow-x:auto;line-height:normal;font-family:Menlo,'DejaVu Sans Mono',consolas,'Courier New',monospace\">    <span style=\"color: #008080; text-decoration-color: #008080; font-weight: bold\">8</span>                 <span style=\"color: #008080; text-decoration-color: #008080; font-weight: bold\">0</span>  <span style=\"color: #008080; text-decoration-color: #008080; font-weight: bold\">0.25981001167238715</span>     <span style=\"color: #008080; text-decoration-color: #008080; font-weight: bold\">2.3646877865077847</span>      <span style=\"color: #008080; text-decoration-color: #008080; font-weight: bold\">0.05764800999999997</span>\n",
       "</pre>\n"
      ],
      "text/plain": [
       "    \u001b[1;36m8\u001b[0m                 \u001b[1;36m0\u001b[0m  \u001b[1;36m0.25981001167238715\u001b[0m     \u001b[1;36m2.3646877865077847\u001b[0m      \u001b[1;36m0.05764800999999997\u001b[0m\n"
      ]
     },
     "metadata": {},
     "output_type": "display_data"
    },
    {
     "data": {
      "text/html": [
       "<pre style=\"white-space:pre;overflow-x:auto;line-height:normal;font-family:Menlo,'DejaVu Sans Mono',consolas,'Courier New',monospace\">    <span style=\"color: #008080; text-decoration-color: #008080; font-weight: bold\">9</span>                 <span style=\"color: #008080; text-decoration-color: #008080; font-weight: bold\">0</span>  <span style=\"color: #008080; text-decoration-color: #008080; font-weight: bold\">0.2840786403849715</span>      <span style=\"color: #008080; text-decoration-color: #008080; font-weight: bold\">1.9554566325977536</span>      <span style=\"color: #008080; text-decoration-color: #008080; font-weight: bold\">0.04035360699999998</span>\n",
       "</pre>\n"
      ],
      "text/plain": [
       "    \u001b[1;36m9\u001b[0m                 \u001b[1;36m0\u001b[0m  \u001b[1;36m0.2840786403849715\u001b[0m      \u001b[1;36m1.9554566325977536\u001b[0m      \u001b[1;36m0.04035360699999998\u001b[0m\n"
      ]
     },
     "metadata": {},
     "output_type": "display_data"
    },
    {
     "data": {
      "text/html": [
       "<pre style=\"white-space:pre;overflow-x:auto;line-height:normal;font-family:Menlo,'DejaVu Sans Mono',consolas,'Courier New',monospace\">   <span style=\"color: #008080; text-decoration-color: #008080; font-weight: bold\">10</span>                 <span style=\"color: #008080; text-decoration-color: #008080; font-weight: bold\">0</span>  <span style=\"color: #008080; text-decoration-color: #008080; font-weight: bold\">0.3133006620657243</span>      <span style=\"color: #008080; text-decoration-color: #008080; font-weight: bold\">1.5663364230952177</span>      <span style=\"color: #008080; text-decoration-color: #008080; font-weight: bold\">0.028247524899999984</span>\n",
       "</pre>\n"
      ],
      "text/plain": [
       "   \u001b[1;36m10\u001b[0m                 \u001b[1;36m0\u001b[0m  \u001b[1;36m0.3133006620657243\u001b[0m      \u001b[1;36m1.5663364230952177\u001b[0m      \u001b[1;36m0.028247524899999984\u001b[0m\n"
      ]
     },
     "metadata": {},
     "output_type": "display_data"
    },
    {
     "data": {
      "text/html": [
       "<pre style=\"white-space:pre;overflow-x:auto;line-height:normal;font-family:Menlo,'DejaVu Sans Mono',consolas,'Courier New',monospace\">   <span style=\"color: #008080; text-decoration-color: #008080; font-weight: bold\">11</span>                 <span style=\"color: #008080; text-decoration-color: #008080; font-weight: bold\">0</span>  <span style=\"color: #008080; text-decoration-color: #008080; font-weight: bold\">0.3506778789778847</span>      <span style=\"color: #008080; text-decoration-color: #008080; font-weight: bold\">1.3051973442019196</span>      <span style=\"color: #008080; text-decoration-color: #008080; font-weight: bold\">0.019773267429999988</span>\n",
       "</pre>\n"
      ],
      "text/plain": [
       "   \u001b[1;36m11\u001b[0m                 \u001b[1;36m0\u001b[0m  \u001b[1;36m0.3506778789778847\u001b[0m      \u001b[1;36m1.3051973442019196\u001b[0m      \u001b[1;36m0.019773267429999988\u001b[0m\n"
      ]
     },
     "metadata": {},
     "output_type": "display_data"
    },
    {
     "data": {
      "text/html": [
       "<pre style=\"white-space:pre;overflow-x:auto;line-height:normal;font-family:Menlo,'DejaVu Sans Mono',consolas,'Courier New',monospace\">   <span style=\"color: #008080; text-decoration-color: #008080; font-weight: bold\">12</span>                 <span style=\"color: #008080; text-decoration-color: #008080; font-weight: bold\">0</span>  <span style=\"color: #008080; text-decoration-color: #008080; font-weight: bold\">0.39531993013125166</span>     <span style=\"color: #008080; text-decoration-color: #008080; font-weight: bold\">1.0708256130657154</span>      <span style=\"color: #008080; text-decoration-color: #008080; font-weight: bold\">0.01384128720099999</span>\n",
       "</pre>\n"
      ],
      "text/plain": [
       "   \u001b[1;36m12\u001b[0m                 \u001b[1;36m0\u001b[0m  \u001b[1;36m0.39531993013125166\u001b[0m     \u001b[1;36m1.0708256130657154\u001b[0m      \u001b[1;36m0.01384128720099999\u001b[0m\n"
      ]
     },
     "metadata": {},
     "output_type": "display_data"
    },
    {
     "data": {
      "text/html": [
       "<pre style=\"white-space:pre;overflow-x:auto;line-height:normal;font-family:Menlo,'DejaVu Sans Mono',consolas,'Courier New',monospace\">   <span style=\"color: #008080; text-decoration-color: #008080; font-weight: bold\">13</span>                 <span style=\"color: #008080; text-decoration-color: #008080; font-weight: bold\">0</span>  <span style=\"color: #008080; text-decoration-color: #008080; font-weight: bold\">0.44855466372256714</span>     <span style=\"color: #008080; text-decoration-color: #008080; font-weight: bold\">0.8922241059650087</span>      <span style=\"color: #008080; text-decoration-color: #008080; font-weight: bold\">0.009688901040699992</span>\n",
       "</pre>\n"
      ],
      "text/plain": [
       "   \u001b[1;36m13\u001b[0m                 \u001b[1;36m0\u001b[0m  \u001b[1;36m0.44855466372256714\u001b[0m     \u001b[1;36m0.8922241059650087\u001b[0m      \u001b[1;36m0.009688901040699992\u001b[0m\n"
      ]
     },
     "metadata": {},
     "output_type": "display_data"
    },
    {
     "data": {
      "text/html": [
       "<pre style=\"white-space:pre;overflow-x:auto;line-height:normal;font-family:Menlo,'DejaVu Sans Mono',consolas,'Courier New',monospace\">   <span style=\"color: #008080; text-decoration-color: #008080; font-weight: bold\">14</span>                 <span style=\"color: #008080; text-decoration-color: #008080; font-weight: bold\">0</span>  <span style=\"color: #008080; text-decoration-color: #008080; font-weight: bold\">0.5078603892605738</span>      <span style=\"color: #008080; text-decoration-color: #008080; font-weight: bold\">0.7507091829688446</span>      <span style=\"color: #008080; text-decoration-color: #008080; font-weight: bold\">0.006782230728489994</span>\n",
       "</pre>\n"
      ],
      "text/plain": [
       "   \u001b[1;36m14\u001b[0m                 \u001b[1;36m0\u001b[0m  \u001b[1;36m0.5078603892605738\u001b[0m      \u001b[1;36m0.7507091829688446\u001b[0m      \u001b[1;36m0.006782230728489994\u001b[0m\n"
      ]
     },
     "metadata": {},
     "output_type": "display_data"
    },
    {
     "data": {
      "text/html": [
       "<pre style=\"white-space:pre;overflow-x:auto;line-height:normal;font-family:Menlo,'DejaVu Sans Mono',consolas,'Courier New',monospace\">   <span style=\"color: #008080; text-decoration-color: #008080; font-weight: bold\">15</span>                 <span style=\"color: #008080; text-decoration-color: #008080; font-weight: bold\">0</span>  <span style=\"color: #008080; text-decoration-color: #008080; font-weight: bold\">0.5699802113731187</span>      <span style=\"color: #008080; text-decoration-color: #008080; font-weight: bold\">0.6200893299952295</span>      <span style=\"color: #008080; text-decoration-color: #008080; font-weight: bold\">0.004747561509942996</span>\n",
       "</pre>\n"
      ],
      "text/plain": [
       "   \u001b[1;36m15\u001b[0m                 \u001b[1;36m0\u001b[0m  \u001b[1;36m0.5699802113731187\u001b[0m      \u001b[1;36m0.6200893299952295\u001b[0m      \u001b[1;36m0.004747561509942996\u001b[0m\n"
      ]
     },
     "metadata": {},
     "output_type": "display_data"
    },
    {
     "data": {
      "text/html": [
       "<pre style=\"white-space:pre;overflow-x:auto;line-height:normal;font-family:Menlo,'DejaVu Sans Mono',consolas,'Courier New',monospace\">   <span style=\"color: #008080; text-decoration-color: #008080; font-weight: bold\">16</span>                 <span style=\"color: #008080; text-decoration-color: #008080; font-weight: bold\">0</span>  <span style=\"color: #008080; text-decoration-color: #008080; font-weight: bold\">0.631326575670136</span>       <span style=\"color: #008080; text-decoration-color: #008080; font-weight: bold\">0.5182245204722112</span>      <span style=\"color: #008080; text-decoration-color: #008080; font-weight: bold\">0.003323293056960097</span>\n",
       "</pre>\n"
      ],
      "text/plain": [
       "   \u001b[1;36m16\u001b[0m                 \u001b[1;36m0\u001b[0m  \u001b[1;36m0.631326575670136\u001b[0m       \u001b[1;36m0.5182245204722112\u001b[0m      \u001b[1;36m0.003323293056960097\u001b[0m\n"
      ]
     },
     "metadata": {},
     "output_type": "display_data"
    },
    {
     "data": {
      "text/html": [
       "<pre style=\"white-space:pre;overflow-x:auto;line-height:normal;font-family:Menlo,'DejaVu Sans Mono',consolas,'Courier New',monospace\">   <span style=\"color: #008080; text-decoration-color: #008080; font-weight: bold\">17</span>                 <span style=\"color: #008080; text-decoration-color: #008080; font-weight: bold\">0</span>  <span style=\"color: #008080; text-decoration-color: #008080; font-weight: bold\">0.688448540298303</span>       <span style=\"color: #008080; text-decoration-color: #008080; font-weight: bold\">0.4367981545752375</span>      <span style=\"color: #008080; text-decoration-color: #008080; font-weight: bold\">0.002326305139872068</span>\n",
       "</pre>\n"
      ],
      "text/plain": [
       "   \u001b[1;36m17\u001b[0m                 \u001b[1;36m0\u001b[0m  \u001b[1;36m0.688448540298303\u001b[0m       \u001b[1;36m0.4367981545752375\u001b[0m      \u001b[1;36m0.002326305139872068\u001b[0m\n"
      ]
     },
     "metadata": {},
     "output_type": "display_data"
    },
    {
     "data": {
      "text/html": [
       "<pre style=\"white-space:pre;overflow-x:auto;line-height:normal;font-family:Menlo,'DejaVu Sans Mono',consolas,'Courier New',monospace\">   <span style=\"color: #008080; text-decoration-color: #008080; font-weight: bold\">18</span>                 <span style=\"color: #008080; text-decoration-color: #008080; font-weight: bold\">1</span>  <span style=\"color: #008080; text-decoration-color: #008080; font-weight: bold\">0.7399364951595265</span>      <span style=\"color: #008080; text-decoration-color: #008080; font-weight: bold\">0.3714636406648407</span>      <span style=\"color: #008080; text-decoration-color: #008080; font-weight: bold\">0.0016284135979104473</span>\n",
       "</pre>\n"
      ],
      "text/plain": [
       "   \u001b[1;36m18\u001b[0m                 \u001b[1;36m1\u001b[0m  \u001b[1;36m0.7399364951595265\u001b[0m      \u001b[1;36m0.3714636406648407\u001b[0m      \u001b[1;36m0.0016284135979104473\u001b[0m\n"
      ]
     },
     "metadata": {},
     "output_type": "display_data"
    },
    {
     "data": {
      "text/html": [
       "<pre style=\"white-space:pre;overflow-x:auto;line-height:normal;font-family:Menlo,'DejaVu Sans Mono',consolas,'Courier New',monospace\">   <span style=\"color: #008080; text-decoration-color: #008080; font-weight: bold\">19</span>                 <span style=\"color: #008080; text-decoration-color: #008080; font-weight: bold\">0</span>  <span style=\"color: #008080; text-decoration-color: #008080; font-weight: bold\">0.7858997389138568</span>      <span style=\"color: #008080; text-decoration-color: #008080; font-weight: bold\">0.3165660127217242</span>      <span style=\"color: #008080; text-decoration-color: #008080; font-weight: bold\">0.001139889518537313</span>\n",
       "</pre>\n"
      ],
      "text/plain": [
       "   \u001b[1;36m19\u001b[0m                 \u001b[1;36m0\u001b[0m  \u001b[1;36m0.7858997389138568\u001b[0m      \u001b[1;36m0.3165660127217242\u001b[0m      \u001b[1;36m0.001139889518537313\u001b[0m\n"
      ]
     },
     "metadata": {},
     "output_type": "display_data"
    },
    {
     "data": {
      "text/html": [
       "<pre style=\"white-space:pre;overflow-x:auto;line-height:normal;font-family:Menlo,'DejaVu Sans Mono',consolas,'Courier New',monospace\">   <span style=\"color: #008080; text-decoration-color: #008080; font-weight: bold\">20</span>                 <span style=\"color: #008080; text-decoration-color: #008080; font-weight: bold\">0</span>  <span style=\"color: #008080; text-decoration-color: #008080; font-weight: bold\">0.8262723971068399</span>      <span style=\"color: #008080; text-decoration-color: #008080; font-weight: bold\">0.26721475477882534</span>     <span style=\"color: #008080; text-decoration-color: #008080; font-weight: bold\">0.000797922662976119</span>\n",
       "</pre>\n"
      ],
      "text/plain": [
       "   \u001b[1;36m20\u001b[0m                 \u001b[1;36m0\u001b[0m  \u001b[1;36m0.8262723971068399\u001b[0m      \u001b[1;36m0.26721475477882534\u001b[0m     \u001b[1;36m0.000797922662976119\u001b[0m\n"
      ]
     },
     "metadata": {},
     "output_type": "display_data"
    },
    {
     "data": {
      "text/html": [
       "<pre style=\"white-space:pre;overflow-x:auto;line-height:normal;font-family:Menlo,'DejaVu Sans Mono',consolas,'Courier New',monospace\">   <span style=\"color: #008080; text-decoration-color: #008080; font-weight: bold\">21</span>                 <span style=\"color: #008080; text-decoration-color: #008080; font-weight: bold\">0</span>  <span style=\"color: #008080; text-decoration-color: #008080; font-weight: bold\">0.8601068420158073</span>      <span style=\"color: #008080; text-decoration-color: #008080; font-weight: bold\">0.23016216012011256</span>     <span style=\"color: #008080; text-decoration-color: #008080; font-weight: bold\">0.0005585458640832833</span>\n",
       "</pre>\n"
      ],
      "text/plain": [
       "   \u001b[1;36m21\u001b[0m                 \u001b[1;36m0\u001b[0m  \u001b[1;36m0.8601068420158073\u001b[0m      \u001b[1;36m0.23016216012011256\u001b[0m     \u001b[1;36m0.0005585458640832833\u001b[0m\n"
      ]
     },
     "metadata": {},
     "output_type": "display_data"
    },
    {
     "data": {
      "text/html": [
       "<pre style=\"white-space:pre;overflow-x:auto;line-height:normal;font-family:Menlo,'DejaVu Sans Mono',consolas,'Courier New',monospace\">   <span style=\"color: #008080; text-decoration-color: #008080; font-weight: bold\">22</span>                 <span style=\"color: #008080; text-decoration-color: #008080; font-weight: bold\">0</span>  <span style=\"color: #008080; text-decoration-color: #008080; font-weight: bold\">0.8877807503394356</span>      <span style=\"color: #008080; text-decoration-color: #008080; font-weight: bold\">0.1934275489799969</span>      <span style=\"color: #008080; text-decoration-color: #008080; font-weight: bold\">0.00039098210485829826</span>\n",
       "</pre>\n"
      ],
      "text/plain": [
       "   \u001b[1;36m22\u001b[0m                 \u001b[1;36m0\u001b[0m  \u001b[1;36m0.8877807503394356\u001b[0m      \u001b[1;36m0.1934275489799969\u001b[0m      \u001b[1;36m0.00039098210485829826\u001b[0m\n"
      ]
     },
     "metadata": {},
     "output_type": "display_data"
    },
    {
     "data": {
      "text/html": [
       "<pre style=\"white-space:pre;overflow-x:auto;line-height:normal;font-family:Menlo,'DejaVu Sans Mono',consolas,'Courier New',monospace\">   <span style=\"color: #008080; text-decoration-color: #008080; font-weight: bold\">23</span>                 <span style=\"color: #008080; text-decoration-color: #008080; font-weight: bold\">0</span>  <span style=\"color: #008080; text-decoration-color: #008080; font-weight: bold\">0.910072723137061</span>       <span style=\"color: #008080; text-decoration-color: #008080; font-weight: bold\">0.15858776527478202</span>     <span style=\"color: #008080; text-decoration-color: #008080; font-weight: bold\">0.0002736874734008088</span>\n",
       "</pre>\n"
      ],
      "text/plain": [
       "   \u001b[1;36m23\u001b[0m                 \u001b[1;36m0\u001b[0m  \u001b[1;36m0.910072723137061\u001b[0m       \u001b[1;36m0.15858776527478202\u001b[0m     \u001b[1;36m0.0002736874734008088\u001b[0m\n"
      ]
     },
     "metadata": {},
     "output_type": "display_data"
    },
    {
     "data": {
      "text/html": [
       "<pre style=\"white-space:pre;overflow-x:auto;line-height:normal;font-family:Menlo,'DejaVu Sans Mono',consolas,'Courier New',monospace\">   <span style=\"color: #008080; text-decoration-color: #008080; font-weight: bold\">24</span>                 <span style=\"color: #008080; text-decoration-color: #008080; font-weight: bold\">0</span>  <span style=\"color: #008080; text-decoration-color: #008080; font-weight: bold\">0.9277728534037883</span>      <span style=\"color: #008080; text-decoration-color: #008080; font-weight: bold\">0.12848803092329822</span>     <span style=\"color: #008080; text-decoration-color: #008080; font-weight: bold\">0.00019158123138056615</span>\n",
       "</pre>\n"
      ],
      "text/plain": [
       "   \u001b[1;36m24\u001b[0m                 \u001b[1;36m0\u001b[0m  \u001b[1;36m0.9277728534037883\u001b[0m      \u001b[1;36m0.12848803092329822\u001b[0m     \u001b[1;36m0.00019158123138056615\u001b[0m\n"
      ]
     },
     "metadata": {},
     "output_type": "display_data"
    },
    {
     "data": {
      "text/html": [
       "<pre style=\"white-space:pre;overflow-x:auto;line-height:normal;font-family:Menlo,'DejaVu Sans Mono',consolas,'Courier New',monospace\">   <span style=\"color: #008080; text-decoration-color: #008080; font-weight: bold\">25</span>                 <span style=\"color: #008080; text-decoration-color: #008080; font-weight: bold\">0</span>  <span style=\"color: #008080; text-decoration-color: #008080; font-weight: bold\">0.9417805627618766</span>      <span style=\"color: #008080; text-decoration-color: #008080; font-weight: bold\">0.10421410366345502</span>     <span style=\"color: #008080; text-decoration-color: #008080; font-weight: bold\">0.00013410686196639628</span>\n",
       "</pre>\n"
      ],
      "text/plain": [
       "   \u001b[1;36m25\u001b[0m                 \u001b[1;36m0\u001b[0m  \u001b[1;36m0.9417805627618766\u001b[0m      \u001b[1;36m0.10421410366345502\u001b[0m     \u001b[1;36m0.00013410686196639628\u001b[0m\n"
      ]
     },
     "metadata": {},
     "output_type": "display_data"
    },
    {
     "data": {
      "text/html": [
       "<pre style=\"white-space:pre;overflow-x:auto;line-height:normal;font-family:Menlo,'DejaVu Sans Mono',consolas,'Courier New',monospace\">   <span style=\"color: #008080; text-decoration-color: #008080; font-weight: bold\">26</span>                 <span style=\"color: #008080; text-decoration-color: #008080; font-weight: bold\">0</span>  <span style=\"color: #008080; text-decoration-color: #008080; font-weight: bold\">0.9527367854741542</span>      <span style=\"color: #008080; text-decoration-color: #008080; font-weight: bold\">0.08468683374488642</span>     <span style=\"color: #008080; text-decoration-color: #008080; font-weight: bold\">9.387480337647739e-05</span>\n",
       "</pre>\n"
      ],
      "text/plain": [
       "   \u001b[1;36m26\u001b[0m                 \u001b[1;36m0\u001b[0m  \u001b[1;36m0.9527367854741542\u001b[0m      \u001b[1;36m0.08468683374488642\u001b[0m     \u001b[1;36m9.387480337647739e-05\u001b[0m\n"
      ]
     },
     "metadata": {},
     "output_type": "display_data"
    },
    {
     "data": {
      "text/html": [
       "<pre style=\"white-space:pre;overflow-x:auto;line-height:normal;font-family:Menlo,'DejaVu Sans Mono',consolas,'Courier New',monospace\">   <span style=\"color: #008080; text-decoration-color: #008080; font-weight: bold\">27</span>                 <span style=\"color: #008080; text-decoration-color: #008080; font-weight: bold\">0</span>  <span style=\"color: #008080; text-decoration-color: #008080; font-weight: bold\">0.9611775103646668</span>      <span style=\"color: #008080; text-decoration-color: #008080; font-weight: bold\">0.06719350715232518</span>     <span style=\"color: #008080; text-decoration-color: #008080; font-weight: bold\">6.571236236353417e-05</span>\n",
       "</pre>\n"
      ],
      "text/plain": [
       "   \u001b[1;36m27\u001b[0m                 \u001b[1;36m0\u001b[0m  \u001b[1;36m0.9611775103646668\u001b[0m      \u001b[1;36m0.06719350715232518\u001b[0m     \u001b[1;36m6.571236236353417e-05\u001b[0m\n"
      ]
     },
     "metadata": {},
     "output_type": "display_data"
    },
    {
     "data": {
      "text/html": [
       "<pre style=\"white-space:pre;overflow-x:auto;line-height:normal;font-family:Menlo,'DejaVu Sans Mono',consolas,'Courier New',monospace\">   <span style=\"color: #008080; text-decoration-color: #008080; font-weight: bold\">28</span>                 <span style=\"color: #008080; text-decoration-color: #008080; font-weight: bold\">0</span>  <span style=\"color: #008080; text-decoration-color: #008080; font-weight: bold\">0.967622422389183</span>       <span style=\"color: #008080; text-decoration-color: #008080; font-weight: bold\">0.053605962939340515</span>    <span style=\"color: #008080; text-decoration-color: #008080; font-weight: bold\">4.5998653654473914e-05</span>\n",
       "</pre>\n"
      ],
      "text/plain": [
       "   \u001b[1;36m28\u001b[0m                 \u001b[1;36m0\u001b[0m  \u001b[1;36m0.967622422389183\u001b[0m       \u001b[1;36m0.053605962939340515\u001b[0m    \u001b[1;36m4.5998653654473914e-05\u001b[0m\n"
      ]
     },
     "metadata": {},
     "output_type": "display_data"
    },
    {
     "data": {
      "text/html": [
       "<pre style=\"white-space:pre;overflow-x:auto;line-height:normal;font-family:Menlo,'DejaVu Sans Mono',consolas,'Courier New',monospace\">   <span style=\"color: #008080; text-decoration-color: #008080; font-weight: bold\">29</span>                 <span style=\"color: #008080; text-decoration-color: #008080; font-weight: bold\">0</span>  <span style=\"color: #008080; text-decoration-color: #008080; font-weight: bold\">0.9725417259827089</span>      <span style=\"color: #008080; text-decoration-color: #008080; font-weight: bold\">0.042442025079314126</span>    <span style=\"color: #008080; text-decoration-color: #008080; font-weight: bold\">3.219905755813174e-05</span>\n",
       "</pre>\n"
      ],
      "text/plain": [
       "   \u001b[1;36m29\u001b[0m                 \u001b[1;36m0\u001b[0m  \u001b[1;36m0.9725417259827089\u001b[0m      \u001b[1;36m0.042442025079314126\u001b[0m    \u001b[1;36m3.219905755813174e-05\u001b[0m\n"
      ]
     },
     "metadata": {},
     "output_type": "display_data"
    },
    {
     "data": {
      "text/html": [
       "<pre style=\"white-space:pre;overflow-x:auto;line-height:normal;font-family:Menlo,'DejaVu Sans Mono',consolas,'Courier New',monospace\">   <span style=\"color: #008080; text-decoration-color: #008080; font-weight: bold\">30</span>                 <span style=\"color: #008080; text-decoration-color: #008080; font-weight: bold\">0</span>  <span style=\"color: #008080; text-decoration-color: #008080; font-weight: bold\">0.9762747748142754</span>      <span style=\"color: #008080; text-decoration-color: #008080; font-weight: bold\">0.03330239000534672</span>     <span style=\"color: #008080; text-decoration-color: #008080; font-weight: bold\">2.2539340290692216e-05</span>\n",
       "</pre>\n"
      ],
      "text/plain": [
       "   \u001b[1;36m30\u001b[0m                 \u001b[1;36m0\u001b[0m  \u001b[1;36m0.9762747748142754\u001b[0m      \u001b[1;36m0.03330239000534672\u001b[0m     \u001b[1;36m2.2539340290692216e-05\u001b[0m\n"
      ]
     },
     "metadata": {},
     "output_type": "display_data"
    },
    {
     "data": {
      "text/html": [
       "<pre style=\"white-space:pre;overflow-x:auto;line-height:normal;font-family:Menlo,'DejaVu Sans Mono',consolas,'Courier New',monospace\">   <span style=\"color: #008080; text-decoration-color: #008080; font-weight: bold\">31</span>                 <span style=\"color: #008080; text-decoration-color: #008080; font-weight: bold\">0</span>  <span style=\"color: #008080; text-decoration-color: #008080; font-weight: bold\">0.9790833817145655</span>      <span style=\"color: #008080; text-decoration-color: #008080; font-weight: bold\">0.025354507760273304</span>    <span style=\"color: #008080; text-decoration-color: #008080; font-weight: bold\">1.577753820348455e-05</span>\n",
       "</pre>\n"
      ],
      "text/plain": [
       "   \u001b[1;36m31\u001b[0m                 \u001b[1;36m0\u001b[0m  \u001b[1;36m0.9790833817145655\u001b[0m      \u001b[1;36m0.025354507760273304\u001b[0m    \u001b[1;36m1.577753820348455e-05\u001b[0m\n"
      ]
     },
     "metadata": {},
     "output_type": "display_data"
    },
    {
     "data": {
      "text/html": [
       "<pre style=\"white-space:pre;overflow-x:auto;line-height:normal;font-family:Menlo,'DejaVu Sans Mono',consolas,'Courier New',monospace\">   <span style=\"color: #008080; text-decoration-color: #008080; font-weight: bold\">32</span>                 <span style=\"color: #008080; text-decoration-color: #008080; font-weight: bold\">0</span>  <span style=\"color: #008080; text-decoration-color: #008080; font-weight: bold\">0.9811821463061472</span>      <span style=\"color: #008080; text-decoration-color: #008080; font-weight: bold\">0.0198610012536578</span>      <span style=\"color: #008080; text-decoration-color: #008080; font-weight: bold\">1.1044276742439186e-05</span>\n",
       "</pre>\n"
      ],
      "text/plain": [
       "   \u001b[1;36m32\u001b[0m                 \u001b[1;36m0\u001b[0m  \u001b[1;36m0.9811821463061472\u001b[0m      \u001b[1;36m0.0198610012536578\u001b[0m      \u001b[1;36m1.1044276742439186e-05\u001b[0m\n"
      ]
     },
     "metadata": {},
     "output_type": "display_data"
    },
    {
     "data": {
      "text/html": [
       "<pre style=\"white-space:pre;overflow-x:auto;line-height:normal;font-family:Menlo,'DejaVu Sans Mono',consolas,'Courier New',monospace\">Intermediate result:  message: <span style=\"color: #008000; text-decoration-color: #008000\">b'Algorithm terminated successfully at a locally optimal point, satisfying the </span>\n",
       "<span style=\"color: #008000; text-decoration-color: #008000\">convergence tolerances (can be specified by options).'</span>\n",
       " success: <span style=\"color: #00ff00; text-decoration-color: #00ff00; font-style: italic\">True</span>\n",
       "  status: <span style=\"color: #008080; text-decoration-color: #008080; font-weight: bold\">0</span>\n",
       "     fun: <span style=\"color: #008080; text-decoration-color: #008080; font-weight: bold\">0.9811821463061472</span>\n",
       "       x: <span style=\"font-weight: bold\">[</span> <span style=\"color: #008080; text-decoration-color: #008080; font-weight: bold\">8.140e-01</span>  <span style=\"color: #008080; text-decoration-color: #008080; font-weight: bold\">7.772e-01</span> <span style=\"color: #808000; text-decoration-color: #808000\">...</span> <span style=\"color: #008080; text-decoration-color: #008080; font-weight: bold\">-6.935e-01</span>  <span style=\"color: #008080; text-decoration-color: #008080; font-weight: bold\">2.123e-02</span><span style=\"font-weight: bold\">]</span>\n",
       "     nit: <span style=\"color: #008080; text-decoration-color: #008080; font-weight: bold\">102</span>\n",
       "    info:     status: <span style=\"color: #008080; text-decoration-color: #008080; font-weight: bold\">0</span>\n",
       "                   x: <span style=\"font-weight: bold\">[</span> <span style=\"color: #008080; text-decoration-color: #008080; font-weight: bold\">8.140e-01</span>  <span style=\"color: #008080; text-decoration-color: #008080; font-weight: bold\">7.772e-01</span> <span style=\"color: #808000; text-decoration-color: #808000\">...</span> <span style=\"color: #008080; text-decoration-color: #008080; font-weight: bold\">-6.935e-01</span>  <span style=\"color: #008080; text-decoration-color: #008080; font-weight: bold\">2.123e-02</span><span style=\"font-weight: bold\">]</span>\n",
       "                   g: <span style=\"font-weight: bold\">[</span><span style=\"color: #008080; text-decoration-color: #008080; font-weight: bold\">-9.901e-09</span> <span style=\"color: #008080; text-decoration-color: #008080; font-weight: bold\">-9.803e-09</span> <span style=\"color: #808000; text-decoration-color: #808000\">...</span>  <span style=\"color: #008080; text-decoration-color: #008080; font-weight: bold\">1.526e-13</span>  <span style=\"color: #008080; text-decoration-color: #008080; font-weight: bold\">2.656e-13</span><span style=\"font-weight: bold\">]</span>\n",
       "             obj_val: <span style=\"color: #008080; text-decoration-color: #008080; font-weight: bold\">0.9811821463061472</span>\n",
       "              mult_g: <span style=\"font-weight: bold\">[</span><span style=\"color: #008080; text-decoration-color: #008080; font-weight: bold\">-1.008e-01</span> <span style=\"color: #008080; text-decoration-color: #008080; font-weight: bold\">-5.084e-02</span> <span style=\"color: #808000; text-decoration-color: #808000\">...</span> <span style=\"color: #008080; text-decoration-color: #008080; font-weight: bold\">-2.651e-02</span> <span style=\"color: #008080; text-decoration-color: #008080; font-weight: bold\">-1.581e-02</span><span style=\"font-weight: bold\">]</span>\n",
       "            mult_x_L: <span style=\"font-weight: bold\">[</span> <span style=\"color: #008080; text-decoration-color: #008080; font-weight: bold\">1.229e-11</span>  <span style=\"color: #008080; text-decoration-color: #008080; font-weight: bold\">1.287e-11</span> <span style=\"color: #808000; text-decoration-color: #808000\">...</span>  <span style=\"color: #008080; text-decoration-color: #008080; font-weight: bold\">0.000e+00</span>  <span style=\"color: #008080; text-decoration-color: #008080; font-weight: bold\">4.710e-10</span><span style=\"font-weight: bold\">]</span>\n",
       "            mult_x_U: <span style=\"font-weight: bold\">[</span> <span style=\"color: #008080; text-decoration-color: #008080; font-weight: bold\">0.000e+00</span>  <span style=\"color: #008080; text-decoration-color: #008080; font-weight: bold\">0.000e+00</span> <span style=\"color: #808000; text-decoration-color: #808000\">...</span>  <span style=\"color: #008080; text-decoration-color: #008080; font-weight: bold\">0.000e+00</span>  <span style=\"color: #008080; text-decoration-color: #008080; font-weight: bold\">0.000e+00</span><span style=\"font-weight: bold\">]</span>\n",
       "          status_msg: <span style=\"color: #008000; text-decoration-color: #008000\">b'Algorithm terminated successfully at a locally optimal point, satisfying the convergence </span>\n",
       "<span style=\"color: #008000; text-decoration-color: #008000\">tolerances (can be specified by options).'</span>\n",
       "    nfev: <span style=\"color: #008080; text-decoration-color: #008080; font-weight: bold\">103</span>\n",
       "    njev: <span style=\"color: #008080; text-decoration-color: #008080; font-weight: bold\">104</span>\n",
       "</pre>\n"
      ],
      "text/plain": [
       "Intermediate result:  message: \u001b[32mb'Algorithm terminated successfully at a locally optimal point, satisfying the \u001b[0m\n",
       "\u001b[32mconvergence tolerances \u001b[0m\u001b[32m(\u001b[0m\u001b[32mcan be specified by options\u001b[0m\u001b[32m)\u001b[0m\u001b[32m.'\u001b[0m\n",
       " success: \u001b[3;92mTrue\u001b[0m\n",
       "  status: \u001b[1;36m0\u001b[0m\n",
       "     fun: \u001b[1;36m0.9811821463061472\u001b[0m\n",
       "       x: \u001b[1m[\u001b[0m \u001b[1;36m8.140e-01\u001b[0m  \u001b[1;36m7.772e-01\u001b[0m \u001b[33m...\u001b[0m \u001b[1;36m-6.935e-01\u001b[0m  \u001b[1;36m2.123e-02\u001b[0m\u001b[1m]\u001b[0m\n",
       "     nit: \u001b[1;36m102\u001b[0m\n",
       "    info:     status: \u001b[1;36m0\u001b[0m\n",
       "                   x: \u001b[1m[\u001b[0m \u001b[1;36m8.140e-01\u001b[0m  \u001b[1;36m7.772e-01\u001b[0m \u001b[33m...\u001b[0m \u001b[1;36m-6.935e-01\u001b[0m  \u001b[1;36m2.123e-02\u001b[0m\u001b[1m]\u001b[0m\n",
       "                   g: \u001b[1m[\u001b[0m\u001b[1;36m-9.901e-09\u001b[0m \u001b[1;36m-9.803e-09\u001b[0m \u001b[33m...\u001b[0m  \u001b[1;36m1.526e-13\u001b[0m  \u001b[1;36m2.656e-13\u001b[0m\u001b[1m]\u001b[0m\n",
       "             obj_val: \u001b[1;36m0.9811821463061472\u001b[0m\n",
       "              mult_g: \u001b[1m[\u001b[0m\u001b[1;36m-1.008e-01\u001b[0m \u001b[1;36m-5.084e-02\u001b[0m \u001b[33m...\u001b[0m \u001b[1;36m-2.651e-02\u001b[0m \u001b[1;36m-1.581e-02\u001b[0m\u001b[1m]\u001b[0m\n",
       "            mult_x_L: \u001b[1m[\u001b[0m \u001b[1;36m1.229e-11\u001b[0m  \u001b[1;36m1.287e-11\u001b[0m \u001b[33m...\u001b[0m  \u001b[1;36m0.000e+00\u001b[0m  \u001b[1;36m4.710e-10\u001b[0m\u001b[1m]\u001b[0m\n",
       "            mult_x_U: \u001b[1m[\u001b[0m \u001b[1;36m0.000e+00\u001b[0m  \u001b[1;36m0.000e+00\u001b[0m \u001b[33m...\u001b[0m  \u001b[1;36m0.000e+00\u001b[0m  \u001b[1;36m0.000e+00\u001b[0m\u001b[1m]\u001b[0m\n",
       "          status_msg: \u001b[32mb'Algorithm terminated successfully at a locally optimal point, satisfying the convergence \u001b[0m\n",
       "\u001b[32mtolerances \u001b[0m\u001b[32m(\u001b[0m\u001b[32mcan be specified by options\u001b[0m\u001b[32m)\u001b[0m\u001b[32m.'\u001b[0m\n",
       "    nfev: \u001b[1;36m103\u001b[0m\n",
       "    njev: \u001b[1;36m104\u001b[0m\n"
      ]
     },
     "metadata": {},
     "output_type": "display_data"
    },
    {
     "data": {
      "text/html": [
       "<pre style=\"white-space:pre;overflow-x:auto;line-height:normal;font-family:Menlo,'DejaVu Sans Mono',consolas,'Courier New',monospace\">Intermediate fn: <span style=\"color: #008080; text-decoration-color: #008080; font-weight: bold\">0.9811821463061472</span>\n",
       "</pre>\n"
      ],
      "text/plain": [
       "Intermediate fn: \u001b[1;36m0.9811821463061472\u001b[0m\n"
      ]
     },
     "metadata": {},
     "output_type": "display_data"
    },
    {
     "data": {
      "text/html": [
       "<pre style=\"white-space:pre;overflow-x:auto;line-height:normal;font-family:Menlo,'DejaVu Sans Mono',consolas,'Courier New',monospace\">complementarity: <span style=\"color: #008080; text-decoration-color: #008080; font-weight: bold\">0.0198610012536578</span>\n",
       "</pre>\n"
      ],
      "text/plain": [
       "complementarity: \u001b[1;36m0.0198610012536578\u001b[0m\n"
      ]
     },
     "metadata": {},
     "output_type": "display_data"
    },
    {
     "data": {
      "text/html": [
       "<pre style=\"white-space:pre;overflow-x:auto;line-height:normal;font-family:Menlo,'DejaVu Sans Mono',consolas,'Courier New',monospace\">* <span style=\"font-weight: bold\">(</span>STOPPED<span style=\"font-weight: bold\">)</span> Iteration <span style=\"color: #008080; text-decoration-color: #008080; font-weight: bold\">34</span>: Solving the NLP problem for t = <span style=\"color: #008080; text-decoration-color: #008080; font-weight: bold\">1e-05</span> with complementarity: <span style=\"color: #008080; text-decoration-color: #008080; font-weight: bold\">0.0198610012536578</span>\n",
       "</pre>\n"
      ],
      "text/plain": [
       "* \u001b[1m(\u001b[0mSTOPPED\u001b[1m)\u001b[0m Iteration \u001b[1;36m34\u001b[0m: Solving the NLP problem for t = \u001b[1;36m1e-05\u001b[0m with complementarity: \u001b[1;36m0.0198610012536578\u001b[0m\n"
      ]
     },
     "metadata": {},
     "output_type": "display_data"
    }
   ],
   "source": [
    "res_mpcc,x_opt_mpcc,fun_opt_mpcc = mpcc_model.solve(max_iter=300,tol=1e-4,print_level=0,verbose=True,beta=0.7)"
   ]
  },
  {
   "cell_type": "code",
   "execution_count": 38,
   "metadata": {},
   "outputs": [],
   "source": [
    "u_mpcc, q_mpcc, r_mpcc, delta_mpcc, theta_mpcc, alpha_mpcc = mpcc_model.objective_func.parse_vars(x_opt_mpcc)"
   ]
  },
  {
   "cell_type": "code",
   "execution_count": 39,
   "metadata": {},
   "outputs": [
    {
     "data": {
      "image/png": "[encoded data removed]",
      "text/plain": [
       "<Figure size 1400x400 with 3 Axes>"
      ]
     },
     "metadata": {},
     "output_type": "display_data"
    }
   ],
   "source": [
    "u_mpcc = u_mpcc.reshape((scale,scale))\n",
    "plot_experiment(true,noisy,u_mpcc,alpha_mpcc)"
   ]
  },
  {
   "cell_type": "code",
   "execution_count": null,
   "metadata": {},
   "outputs": [],
   "source": []
  }
 ],
 "metadata": {
  "kernelspec": {
   "display_name": ".venv",
   "language": "python",
   "name": "python3"
  },
  "language_info": {
   "codemirror_mode": {
    "name": "ipython",
    "version": 3
   },
   "file_extension": ".py",
   "mimetype": "text/x-python",
   "name": "python",
   "nbconvert_exporter": "python",
   "pygments_lexer": "ipython3",
   "version": "3.12.7"
  }
 },
 "nbformat": 4,
 "nbformat_minor": 2
}
