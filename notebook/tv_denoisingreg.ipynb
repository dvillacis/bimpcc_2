{
 "cells": [
  {
   "cell_type": "code",
   "execution_count": 1,
   "metadata": {},
   "outputs": [],
   "source": [
    "import sys\n",
    "import os\n",
    "# Get the absolute path to the project root\n",
    "project_root = os.path.abspath(os.path.join(os.getcwd(), \"..\"))\n",
    "# Add it to sys.path\n",
    "sys.path.append(project_root)\n",
    "os.chdir(project_root)"
   ]
  },
  {
   "cell_type": "code",
   "execution_count": 2,
   "metadata": {},
   "outputs": [],
   "source": [
    "import numpy as np\n",
    "from bimpcc.dataset import get_dataset\n",
    "from bimpcc.models.tvregularized import TVRegularized\n",
    "from bimpcc.models.tvdenoising_model import TVDenoisingMPCC\n",
    "import matplotlib.pyplot as plt\n",
    "from skimage.metrics import peak_signal_noise_ratio as psnr"
   ]
  },
  {
   "cell_type": "code",
   "execution_count": 3,
   "metadata": {},
   "outputs": [],
   "source": [
    "def plot_experiment(true,noisy,u, alpha):\n",
    "    \n",
    "    fig,ax = plt.subplots(1,3,figsize=(14,4))\n",
    "    ax[0].imshow(true,cmap='gray')\n",
    "    ax[0].set_title('True Image')\n",
    "    ax[0].axis('off')\n",
    "    ax[1].imshow(noisy,cmap='gray')\n",
    "    ax[1].set_title('Noisy Image\\nPSNR: {:.4f}'.format(psnr(true,noisy)))\n",
    "    ax[1].axis('off')\n",
    "    ax[2].imshow(u,cmap='gray')\n",
    "    ax[2].set_title(f'Reconstructed Image\\nPSNR: {psnr(true,u):.4f}\\n alpha = {alpha}')\n",
    "    # ax[2].set_xlabel('alpha = {}'.format(alpha))\n",
    "    ax[2].axis('off')\n",
    "\n",
    "    plt.show()"
   ]
  },
  {
   "cell_type": "code",
   "execution_count": 4,
   "metadata": {},
   "outputs": [],
   "source": [
    "scale = 10"
   ]
  },
  {
   "cell_type": "code",
   "execution_count": 5,
   "metadata": {},
   "outputs": [],
   "source": [
    "dataset = get_dataset(\"cameraman\",scale=scale, random_state=30)\n",
    "true, noisy = dataset.get_training_data()"
   ]
  },
  {
   "cell_type": "code",
   "execution_count": 6,
   "metadata": {},
   "outputs": [
    {
     "data": {
      "text/plain": [
       "(np.float64(-0.5), np.float64(9.5), np.float64(9.5), np.float64(-0.5))"
      ]
     },
     "execution_count": 6,
     "metadata": {},
     "output_type": "execute_result"
    },
    {
     "data": {
      "image/png": "[encoded data removed]",
      "text/plain": [
       "<Figure size 1000x500 with 2 Axes>"
      ]
     },
     "metadata": {},
     "output_type": "display_data"
    }
   ],
   "source": [
    "fig,ax = plt.subplots(1,2,figsize=(10,5))\n",
    "ax[0].imshow(true,cmap='gray')\n",
    "ax[0].set_title('True Image')\n",
    "ax[0].axis('off')\n",
    "ax[1].imshow(noisy,cmap='gray')\n",
    "ax[1].set_title('Noisy Image')\n",
    "ax[1].axis('off')"
   ]
  },
  {
   "cell_type": "code",
   "execution_count": 7,
   "metadata": {},
   "outputs": [],
   "source": [
    "model = TVRegularized(true, noisy, epsilon=1e-3)"
   ]
  },
  {
   "cell_type": "code",
   "execution_count": 8,
   "metadata": {},
   "outputs": [
    {
     "name": "stdout",
     "output_type": "stream",
     "text": [
      "\n",
      "******************************************************************************\n",
      "This program contains Ipopt, a library for large-scale nonlinear optimization.\n",
      " Ipopt is released as open source code under the Eclipse Public License (EPL).\n",
      "         For more information visit https://github.com/coin-or/Ipopt\n",
      "******************************************************************************\n",
      "\n",
      "This is Ipopt version 3.14.17, running with linear solver MUMPS 5.6.2.\n",
      "\n",
      "Number of nonzeros in equality constraint Jacobian...:     1504\n",
      "Number of nonzeros in inequality constraint Jacobian.:        0\n",
      "Number of nonzeros in Lagrangian Hessian.............:        0\n",
      "\n",
      "Total number of variables............................:      281\n",
      "                     variables with only lower bounds:      101\n",
      "                variables with lower and upper bounds:        0\n",
      "                     variables with only upper bounds:        0\n",
      "Total number of equality constraints.................:      280\n",
      "Total number of inequality constraints...............:        0\n",
      "        inequality constraints with only lower bounds:        0\n",
      "   inequality constraints with lower and upper bounds:        0\n",
      "        inequality constraints with only upper bounds:        0\n",
      "\n",
      "iter    objective    inf_pr   inf_du lg(mu)  ||d||  lg(rg) alpha_du alpha_pr  ls\n",
      "   0  1.0435292e-01 1.10e-02 4.28e-02   0.0 0.00e+00    -  0.00e+00 0.00e+00   0\n",
      "   1  9.6779465e-02 1.99e-03 4.36e-01  -6.2 8.48e-03    -  6.59e-01 1.00e+00h  1\n",
      "   2  1.7625118e-01 8.71e-02 5.75e+00  -1.4 1.32e-01    -  7.60e-01 1.00e+00f  1\n",
      "   3  2.4489462e-01 1.31e-01 1.40e+00  -1.2 9.64e-02    -  9.89e-01 1.00e+00h  1\n",
      "   4  3.2335536e-01 1.45e-01 5.59e+00  -1.2 4.71e-02    -  1.00e+00 1.00e+00h  1\n",
      "   5  3.4760601e-01 1.35e-01 1.58e+00  -1.2 5.73e-02    -  1.00e+00 1.00e+00h  1\n",
      "   6  3.6219269e-01 4.71e-02 5.22e-01  -1.2 1.97e-02    -  1.00e+00 1.00e+00h  1\n",
      "   7  2.8086059e-01 1.65e-01 2.20e+00  -1.9 2.97e-02    -  1.00e+00 1.00e+00h  1\n",
      "   8  1.1136064e-01 1.85e-01 5.37e-01  -1.9 2.23e-01    -  1.00e+00 1.00e+00h  1\n",
      "   9  9.1945368e-02 4.97e-02 2.98e+00  -1.9 1.69e-01    -  1.00e+00 1.00e+00h  1\n",
      "iter    objective    inf_pr   inf_du lg(mu)  ||d||  lg(rg) alpha_du alpha_pr  ls\n",
      "  10  8.5022003e-02 2.46e-02 1.93e-01  -2.5 4.60e-02    -  1.00e+00 1.00e+00h  1\n",
      "  11  8.4471147e-02 2.37e-02 3.69e-01  -3.6 1.90e-02    -  1.00e+00 1.00e+00h  1\n",
      "  12  8.3604122e-02 1.07e-02 1.75e-01  -4.9 2.71e-02    -  1.00e+00 1.00e+00h  1\n",
      "  13  8.2763756e-02 1.05e-02 2.44e-01  -4.3 1.32e-02    -  1.00e+00 1.00e+00h  1\n",
      "  14  8.2945398e-02 2.77e-03 2.42e-01  -6.0 1.63e-03    -  1.00e+00 1.00e+00h  1\n",
      "  15  8.2916204e-02 1.59e-04 3.96e-02  -7.9 5.50e-04    -  1.00e+00 1.00e+00h  1\n",
      "  16  8.2899778e-02 3.30e-04 1.90e-02  -9.7 1.11e-03    -  1.00e+00 1.00e+00h  1\n",
      "  17  8.2902470e-02 3.85e-06 6.72e-03 -11.0 4.85e-05    -  1.00e+00 1.00e+00h  1\n",
      "  18  8.2902295e-02 3.63e-06 1.19e-03 -11.0 1.68e-04    -  1.00e+00 1.00e+00h  1\n",
      "  19  8.2902324e-02 1.80e-07 1.25e-07 -11.0 3.98e-05    -  1.00e+00 1.00e+00h  1\n",
      "\n",
      "Number of Iterations....: 19\n",
      "\n",
      "                                   (scaled)                 (unscaled)\n",
      "Objective...............:   8.2902323585599610e-02    8.2902323585599610e-02\n",
      "Dual infeasibility......:   1.2523106520194612e-07    1.2523106520194612e-07\n",
      "Constraint violation....:   1.8039804689472250e-07    1.8039804689472250e-07\n",
      "Variable bound violation:   0.0000000000000000e+00    0.0000000000000000e+00\n",
      "Complementarity.........:   9.9999999999990365e-12    9.9999999999990365e-12\n",
      "Overall NLP error.......:   1.8039804689472250e-07    1.8039804689472250e-07\n",
      "\n",
      "\n",
      "Number of objective function evaluations             = 20\n",
      "Number of objective gradient evaluations             = 20\n",
      "Number of equality constraint evaluations            = 20\n",
      "Number of inequality constraint evaluations          = 0\n",
      "Number of equality constraint Jacobian evaluations   = 20\n",
      "Number of inequality constraint Jacobian evaluations = 0\n",
      "Number of Lagrangian Hessian evaluations             = 0\n",
      "Total seconds in IPOPT                               = 0.128\n",
      "\n",
      "EXIT: Optimal Solution Found.\n"
     ]
    }
   ],
   "source": [
    "res,x_opt,fun_opt = model.solve(max_iter=3000,tol=1e-4,print_level=5)"
   ]
  },
  {
   "cell_type": "code",
   "execution_count": 9,
   "metadata": {},
   "outputs": [],
   "source": [
    "u, q, alpha = model.objective_func.parse_vars(x_opt)"
   ]
  },
  {
   "cell_type": "code",
   "execution_count": 10,
   "metadata": {},
   "outputs": [
    {
     "data": {
      "image/png": "[encoded data removed]",
      "text/plain": [
       "<Figure size 1400x400 with 3 Axes>"
      ]
     },
     "metadata": {},
     "output_type": "display_data"
    }
   ],
   "source": [
    "u = u.reshape((scale,scale))\n",
    "plot_experiment(true,noisy,u,alpha)"
   ]
  },
  {
   "cell_type": "code",
   "execution_count": 11,
   "metadata": {},
   "outputs": [],
   "source": [
    "m = q.flatten().size\n",
    "n = m // 2\n",
    "Ku = model.K @ u.flatten()\n",
    "V = Ku.reshape(2, -1).T\n",
    "normKu = np.apply_along_axis(np.linalg.norm, axis=1, arr=V)\n",
    "Q = q.reshape(2,-1).T\n",
    "normQ = np.apply_along_axis(np.linalg.norm, axis=1, arr=Q)\n",
    "r0 = normKu\n",
    "delta0 = normQ\n",
    "# theta0 = np.zeros(n)"
   ]
  },
  {
   "cell_type": "code",
   "execution_count": 12,
   "metadata": {},
   "outputs": [],
   "source": [
    "Kxu = Ku[:n]  # Primeras n componentes\n",
    "Kyu = Ku[n:]  # Últimas n componentes\n",
    "qx = q[:n]  # Primeras n componentes\n",
    "qy = q[n:]  # Últimas n componentes\n",
    "epsilon = 1e-10\n",
    "\n",
    "# Condiciones para calcular theta según los casos dados\n",
    "theta0 = np.zeros(n)  # Inicializamos theta0\n",
    "\n",
    "# Caso 1: r_i ≠ 0\n",
    "mask_r_nonzero = r0 > epsilon\n",
    "theta0[mask_r_nonzero] = np.arccos(Kxu[mask_r_nonzero] / r0[mask_r_nonzero])\n",
    "theta0[mask_r_nonzero & (Kyu < 0)] *= -1  # Si Ky^i u < 0, negamos theta0\n",
    "\n",
    "# Caso 2: r_i = 0 y delta_i ≠ 0\n",
    "mask_r_zero_delta_nonzero = (r0 <= epsilon) & (delta0 > epsilon)\n",
    "theta0[mask_r_zero_delta_nonzero] = np.arccos(qx[mask_r_zero_delta_nonzero] / delta0[mask_r_zero_delta_nonzero])\n",
    "theta0[mask_r_zero_delta_nonzero & (qy < 0)] *= -1  # Si qy^i < 0, negamos theta0\n",
    "\n",
    "# Caso 3: r_i = 0 y delta_i = 0 (theta0 indefinido)\n",
    "mask_r_zero_delta_zero = (r0 <= epsilon) & (delta0 <= epsilon)\n",
    "theta0[mask_r_zero_delta_zero] = 0"
   ]
  },
  {
   "cell_type": "code",
   "execution_count": 13,
   "metadata": {},
   "outputs": [
    {
     "name": "stdout",
     "output_type": "stream",
     "text": [
      "[ 8.65581937e-01  8.15813276e-01  9.14815652e-01  9.56315509e-01\n",
      "  9.78034126e-01  9.53956885e-01  9.42072219e-01  8.98104802e-01\n",
      "  8.00999559e-01  8.00962956e-01  8.22489535e-01  9.07624809e-01\n",
      "  9.40927615e-01  9.20802210e-01  5.59292981e-01  8.83484091e-01\n",
      "  8.88408292e-01  9.16674679e-01  8.01004840e-01  7.57541520e-01\n",
      "  8.75060383e-01  9.17454534e-01  7.94732710e-01  4.95087890e-01\n",
      "  3.85997093e-01  5.26766134e-01  8.67762935e-01  9.06294059e-01\n",
      "  7.85303945e-01  8.04311105e-01  8.94262695e-01  7.92718052e-01\n",
      "  9.94213339e-02  5.80886692e-02  2.81329777e-01  5.41454149e-01\n",
      "  7.92583062e-01  8.41153452e-01  8.17698706e-01  7.84159052e-01\n",
      "  9.29637079e-01  4.75918752e-01  4.38722286e-02  7.24863375e-02\n",
      "  1.11228120e-01  3.62304854e-01  8.20066433e-01  8.13962900e-01\n",
      "  8.07810492e-01  8.17828856e-01  8.27512756e-01  4.21669982e-01\n",
      "  9.04923877e-02  1.14944747e-01  3.64018609e-01  5.68476800e-01\n",
      "  6.98090386e-01  8.92106096e-01  8.85392985e-01  8.52847176e-01\n",
      "  5.87653493e-01  1.71652475e-01  8.95459780e-02  1.05834323e-01\n",
      "  5.51739036e-01  6.76473266e-01  4.85686501e-01  5.43023256e-01\n",
      "  7.02535665e-01  6.03004764e-01  7.02415511e-01  1.26951644e-01\n",
      "  3.70503411e-02  2.99659211e-01  5.34550086e-01  6.15330951e-01\n",
      "  6.46446443e-01  6.05225513e-01  6.24425743e-01  6.01295517e-01\n",
      "  6.15021824e-01  3.76281841e-01  9.55787249e-02  3.75140055e-01\n",
      "  6.01711198e-01  6.34063692e-01  6.27026384e-01  6.06004005e-01\n",
      "  6.25656643e-01  6.14359155e-01  5.92691376e-01  3.46564185e-01\n",
      "  2.84629587e-01  5.20830088e-01  6.21651843e-01  6.39375253e-01\n",
      "  6.09790613e-01  6.09675836e-01  6.15043973e-01  6.15619926e-01\n",
      " -1.05269061e-02  1.02099920e-02  1.17857085e-02  7.26489359e-03\n",
      " -7.99332462e-04 -2.31557551e-03 -8.82486840e-03 -1.36767709e-02\n",
      " -3.66029203e-03  1.24043918e-02  7.45165845e-03 -1.25119421e-02\n",
      " -1.29089895e-02  8.43623729e-03  3.95507231e-04  1.09994117e-03\n",
      " -1.37079749e-02 -1.35436826e-02  1.30578496e-02 -1.30117267e-02\n",
      " -1.38961053e-02 -9.16686627e-03  2.76304516e-03  8.56622386e-03\n",
      "  4.81045825e-03 -1.38231224e-02  3.41306745e-03 -1.17203264e-02\n",
      " -1.39094338e-02 -1.25162183e-02  1.37530179e-02  8.83639658e-03\n",
      "  1.35959673e-02  1.33504060e-02 -1.90202161e-03 -2.56239447e-03\n",
      " -1.38991339e-02 -1.38971156e-02  1.31609298e-02  1.05100969e-02\n",
      "  1.28984559e-02  1.38278469e-02 -1.80759939e-03 -1.99688033e-03\n",
      "  5.51415256e-04 -1.24145222e-02 -1.30665320e-02  4.15841321e-03\n",
      "  1.32946012e-02  1.37247590e-02  6.61980491e-03  8.53675144e-03\n",
      " -1.37882616e-02 -1.34091539e-02 -1.26922074e-02 -8.42744557e-03\n",
      "  1.06469211e-03  1.09643394e-02  7.84677060e-03 -8.45098078e-03\n",
      "  6.22343036e-03  1.34080827e-02 -1.23164772e-02 -1.31961964e-02\n",
      " -1.36768630e-02  1.35618780e-02  1.14910512e-02  1.10328116e-02\n",
      "  5.15312446e-03 -1.39126546e-02  2.98795226e-03 -1.28625601e-03\n",
      " -1.35241313e-02 -1.34469414e-02  1.35393837e-02  1.38772589e-02\n",
      "  1.19388580e-02 -1.38401888e-02 -1.39008033e-02  1.15963560e-02\n",
      " -6.28608896e-03 -1.38242068e-02 -4.33510519e-03  1.18514810e-02\n",
      "  1.36600008e-02  1.33384884e-02 -1.20316674e-02 -4.34994850e-04\n",
      "  6.28509602e-03  5.78614974e-03 -9.11476852e-03  9.46841172e-03\n",
      "  7.41564924e-03 -1.18792289e-02 -1.39016482e-02 -1.37307271e-02\n",
      " -1.07710935e-02  2.61547281e-03  5.28016104e-04 -6.32659620e-03\n",
      "  1.17629734e-02  6.11114441e-03 -5.22041625e-03 -1.10781161e-02\n",
      " -1.39189917e-02 -1.38810982e-02 -2.44666831e-03 -3.23472121e-03\n",
      " -4.83604400e-03  4.95880297e-03  8.90512638e-04 -1.04815705e-02\n",
      " -1.36477228e-02 -1.09779126e-02 -1.30672969e-02  1.67810881e-03\n",
      " -1.34998421e-02 -7.51855737e-03  6.49928152e-04 -6.10237984e-03\n",
      "  2.17927864e-03 -1.07616380e-02 -3.00739644e-03  3.95745255e-03\n",
      " -1.37940955e-02 -1.36868145e-02  8.41921931e-04 -8.74605915e-04\n",
      " -4.54804171e-03  9.13414695e-03 -5.24638839e-03 -1.63872078e-03\n",
      "  1.38067868e-02  1.37806830e-02  1.39136874e-02  6.30669450e-03\n",
      " -4.81253554e-03  1.32891820e-02  4.14105507e-03  2.35069074e-03\n",
      " -1.22504261e-02 -1.10008468e-02 -1.94386183e-03 -3.75358080e-03\n",
      "  5.72735770e-03  1.10848058e-02 -1.38838463e-02 -8.58358999e-03\n",
      " -1.15031712e-02 -1.10668732e-02  1.24564711e-02 -3.75740259e-03\n",
      " -6.49608690e-03  4.44467738e-03 -2.61499051e-03 -3.15756584e-03\n",
      "  7.86450912e-03  8.49540013e-03 -1.29359989e-02 -5.76891144e-04\n",
      " -1.36002537e-02  1.38650749e-02  3.31551316e-03  3.61587095e-03\n",
      "  3.25266736e-03  1.14736280e-03 -7.16647986e-03  1.53102152e-03\n",
      "  8.13937984e-04  7.70839286e-03 -1.24249696e-02 -1.66915038e-03\n",
      "  1.32325969e-02  7.31007209e-03  2.70169119e-03  3.99743477e-03\n",
      " -7.00954640e-03  1.39178174e-02 -1.24254708e-02  1.26655176e-02\n",
      "  6.58321704e-02  1.35021583e-01  4.90313444e-02  4.16280282e-02\n",
      "  4.19432783e-01  7.14678947e-02  6.93754339e-02  9.88649005e-02\n",
      "  3.69818047e-05  9.55690121e-02  6.22315915e-02  2.23976658e-02\n",
      "  3.89951116e-01  5.35100512e-01  1.73365835e-01  3.57836122e-01\n",
      "  1.17497840e-01  4.46857635e-02  4.52082089e-02  1.31331795e-01\n",
      "  3.00259466e-01  1.65710567e-01  7.09417953e-01  5.54298780e-01\n",
      "  1.11534275e-01  1.21878405e-01  7.75453771e-02  1.20642502e-01\n",
      "  6.94053139e-01  4.59836320e-02  2.26026413e-01  4.09910338e-01\n",
      "  2.57199211e-01  5.06594088e-02  1.71711092e-01  1.82261840e-01\n",
      "  4.54549948e-01  4.32901287e-01  3.02744780e-02  5.13281735e-02\n",
      "  2.71051478e-01  4.60964849e-01  4.70180002e-02  4.29018495e-02\n",
      "  2.52988931e-01  4.55208995e-01  3.52925990e-01  8.18796495e-02\n",
      "  2.60877044e-01  2.07435374e-01  2.72639227e-01  3.16466190e-01\n",
      "  6.77949530e-03  3.37968856e-02  4.56394353e-01  1.35663973e-01\n",
      "  2.13027511e-01  5.66294837e-01  2.21349108e-01  3.14357791e-01\n",
      "  1.28288052e-01  1.65657397e-01  1.12526407e-01  6.07228746e-01\n",
      "  9.15297994e-02  2.69632716e-01  2.84635701e-01  1.01954249e-01\n",
      "  8.40793309e-02  4.12563524e-02  8.94779596e-02  2.50400788e-01\n",
      "  2.45809584e-01  2.90674383e-01  2.87515481e-01  2.27344229e-01\n",
      "  3.77335732e-02  7.08023673e-03  2.10583840e-02  2.35984072e-02\n",
      "  2.50256299e-02  2.47914770e-01  1.98937485e-01  2.77518040e-01\n",
      "  1.02774781e-01  1.85022145e-02  3.42391982e-02  3.67362454e-03\n",
      "  1.18930928e-02  1.38609715e-03  1.39246098e-02  1.39246098e-02\n",
      "  1.39246106e-02  1.39246098e-02  1.39246097e-02  1.39246097e-02\n",
      "  1.39246097e-02  1.39246098e-02  3.69818047e-03  1.39246097e-02\n",
      "  1.39246097e-02  1.39246107e-02  1.39246097e-02  1.39246097e-02\n",
      "  1.39246098e-02  1.39246097e-02  1.39246099e-02  1.39246098e-02\n",
      "  1.39246097e-02  1.39246098e-02  1.39246097e-02  1.39246098e-02\n",
      "  1.39246097e-02  1.39246097e-02  1.39246098e-02  1.39246099e-02\n",
      "  1.39246101e-02  1.39246097e-02  1.39246097e-02  1.39246098e-02\n",
      "  1.39246097e-02  1.39246097e-02  1.39246098e-02  1.39246103e-02\n",
      "  1.39246097e-02  1.39246097e-02  1.39246098e-02  1.39246097e-02\n",
      "  1.39246098e-02  1.39246105e-02  1.39246097e-02  1.39246097e-02\n",
      "  1.39246105e-02  1.39246097e-02  1.39246097e-02  1.39246097e-02\n",
      "  1.39246097e-02  1.39246098e-02  1.39246098e-02  1.39246097e-02\n",
      "  1.39246097e-02  1.39246097e-02  1.39246097e-02  1.39246105e-02\n",
      "  1.39246097e-02  1.39246098e-02  1.39246097e-02  1.39246098e-02\n",
      "  1.39246098e-02  1.39246098e-02  1.39246098e-02  1.39246097e-02\n",
      "  1.39246097e-02  1.39246097e-02  1.39246098e-02  1.39246097e-02\n",
      "  1.39246099e-02  1.39246097e-02  1.39246098e-02  1.39246099e-02\n",
      "  1.39246098e-02  1.39246097e-02  1.39246097e-02  1.39246097e-02\n",
      "  1.39246097e-02  1.39246098e-02  1.39246100e-02  1.39246132e-02\n",
      "  1.39246123e-02  1.39246111e-02  1.39246107e-02  1.39246098e-02\n",
      "  1.39246098e-02  1.39246097e-02  1.39246097e-02  1.39246097e-02\n",
      "  1.39246099e-02  1.39246135e-02  1.39246097e-02  1.39246136e-02\n",
      " -2.42796614e+00  7.47730878e-01  5.61618205e-01 -1.02191804e+00\n",
      " -1.62823219e+00 -1.73786624e+00 -2.25720153e+00  2.95263945e+00\n",
      "  2.99832579e+00 -4.71638379e-01  1.00611921e+00  2.68724887e+00\n",
      " -2.75729758e+00 -9.19961397e-01 -1.54238898e+00 -1.49172140e+00\n",
      " -2.96496735e+00 -2.90714826e+00 -3.54692319e-01  2.77748267e+00\n",
      "  3.07759658e+00 -2.28938279e+00 -1.37104162e+00 -9.08174565e-01\n",
      " -1.21806270e+00  3.02078534e+00 -1.32316300e+00 -2.57121803e+00\n",
      "  3.09490093e+00 -2.68794845e+00  1.57151582e-01 -8.83320415e-01\n",
      " -2.17692301e-01  2.88177359e-01 -1.70781894e+00 -1.75587012e+00\n",
      "  3.08109294e+00 -3.07874123e+00 -3.32723993e-01  7.15468643e-01\n",
      " -3.86307872e-01 -1.17958625e-01  1.70097639e+00  1.71469906e+00\n",
      "  1.53118596e+00  2.67155807e+00 -2.78869998e+00  1.26753131e+00\n",
      "  3.01958883e-01  1.69627863e-01 -1.07537394e+00 -9.10856501e-01\n",
      " -3.00153638e+00 -2.86865239e+00  2.71769978e+00  2.22083804e+00\n",
      " -1.49426040e+00 -6.64204603e-01 -9.72158004e-01 -2.22296272e+00\n",
      "  1.10745726e+00 -2.73225855e-01 -2.65624219e+00  2.81671184e+00\n",
      " -2.95267470e+00 -2.28751257e-01  6.00181077e-01  6.56186425e-01\n",
      " -1.19170870e+00 -3.10015089e+00 -1.35453397e+00  1.66330102e+00\n",
      "  2.90117883e+00  2.87890711e+00  2.35769523e-01  8.24916639e-02\n",
      " -5.40614097e-01  3.03141709e+00  3.08310753e+00  5.86658511e-01\n",
      " -2.03917113e+00 -3.02143326e+00  1.88738537e+00  5.52685741e-01\n",
      "  1.95261164e-01  2.91174045e-01 -2.61407160e+00  1.60204503e+00\n",
      " -1.10250080e+00  1.14228068e+00  1.39246097e-02]\n"
     ]
    }
   ],
   "source": [
    "x0_mpcc = np.concatenate((u.flatten(),q.flatten(),r0,delta0,theta0,alpha))\n",
    "print(x0_mpcc)"
   ]
  },
  {
   "cell_type": "code",
   "execution_count": 14,
   "metadata": {},
   "outputs": [],
   "source": [
    "mpcc_model = TVDenoisingMPCC(true, noisy, x0=x0_mpcc, epsilon=1e-3)"
   ]
  },
  {
   "cell_type": "code",
   "execution_count": 15,
   "metadata": {},
   "outputs": [
    {
     "data": {
      "text/html": [
       "<pre style=\"white-space:pre;overflow-x:auto;line-height:normal;font-family:Menlo,'DejaVu Sans Mono',consolas,'Courier New',monospace\"> Iter   Termination_status            Objective      MPCC_compl               t\n",
       "\n",
       "</pre>\n"
      ],
      "text/plain": [
       " Iter   Termination_status            Objective      MPCC_compl               t\n",
       "\n"
      ]
     },
     "metadata": {},
     "output_type": "display_data"
    },
    {
     "data": {
      "text/html": [
       "<pre style=\"white-space:pre;overflow-x:auto;line-height:normal;font-family:Menlo,'DejaVu Sans Mono',consolas,'Courier New',monospace\">    <span style=\"color: #008080; text-decoration-color: #008080; font-weight: bold\">0</span>                 <span style=\"color: #008080; text-decoration-color: #008080; font-weight: bold\">0</span>  <span style=\"color: #008080; text-decoration-color: #008080; font-weight: bold\">0.04280470032558853</span>     <span style=\"color: #008080; text-decoration-color: #008080; font-weight: bold\">2.377254552493261</span>                  <span style=\"color: #008080; text-decoration-color: #008080; font-weight: bold\">1.0</span>\n",
       "</pre>\n"
      ],
      "text/plain": [
       "    \u001b[1;36m0\u001b[0m                 \u001b[1;36m0\u001b[0m  \u001b[1;36m0.04280470032558853\u001b[0m     \u001b[1;36m2.377254552493261\u001b[0m                  \u001b[1;36m1.0\u001b[0m\n"
      ]
     },
     "metadata": {},
     "output_type": "display_data"
    },
    {
     "data": {
      "text/html": [
       "<pre style=\"white-space:pre;overflow-x:auto;line-height:normal;font-family:Menlo,'DejaVu Sans Mono',consolas,'Courier New',monospace\">    <span style=\"color: #008080; text-decoration-color: #008080; font-weight: bold\">1</span>                 <span style=\"color: #008080; text-decoration-color: #008080; font-weight: bold\">0</span>  <span style=\"color: #008080; text-decoration-color: #008080; font-weight: bold\">0.042804697803723896</span>    <span style=\"color: #008080; text-decoration-color: #008080; font-weight: bold\">2.3772465031531014</span>                 <span style=\"color: #008080; text-decoration-color: #008080; font-weight: bold\">0.5</span>\n",
       "</pre>\n"
      ],
      "text/plain": [
       "    \u001b[1;36m1\u001b[0m                 \u001b[1;36m0\u001b[0m  \u001b[1;36m0.042804697803723896\u001b[0m    \u001b[1;36m2.3772465031531014\u001b[0m                 \u001b[1;36m0.5\u001b[0m\n"
      ]
     },
     "metadata": {},
     "output_type": "display_data"
    },
    {
     "data": {
      "text/html": [
       "<pre style=\"white-space:pre;overflow-x:auto;line-height:normal;font-family:Menlo,'DejaVu Sans Mono',consolas,'Courier New',monospace\">    <span style=\"color: #008080; text-decoration-color: #008080; font-weight: bold\">2</span>                 <span style=\"color: #008080; text-decoration-color: #008080; font-weight: bold\">0</span>  <span style=\"color: #008080; text-decoration-color: #008080; font-weight: bold\">0.042804700401765566</span>    <span style=\"color: #008080; text-decoration-color: #008080; font-weight: bold\">1.952664825149564</span>                 <span style=\"color: #008080; text-decoration-color: #008080; font-weight: bold\">0.25</span>\n",
       "</pre>\n"
      ],
      "text/plain": [
       "    \u001b[1;36m2\u001b[0m                 \u001b[1;36m0\u001b[0m  \u001b[1;36m0.042804700401765566\u001b[0m    \u001b[1;36m1.952664825149564\u001b[0m                 \u001b[1;36m0.25\u001b[0m\n"
      ]
     },
     "metadata": {},
     "output_type": "display_data"
    },
    {
     "data": {
      "text/html": [
       "<pre style=\"white-space:pre;overflow-x:auto;line-height:normal;font-family:Menlo,'DejaVu Sans Mono',consolas,'Courier New',monospace\">    <span style=\"color: #008080; text-decoration-color: #008080; font-weight: bold\">3</span>                 <span style=\"color: #008080; text-decoration-color: #008080; font-weight: bold\">0</span>  <span style=\"color: #008080; text-decoration-color: #008080; font-weight: bold\">0.042804695157281615</span>    <span style=\"color: #008080; text-decoration-color: #008080; font-weight: bold\">1.1833552967125838</span>               <span style=\"color: #008080; text-decoration-color: #008080; font-weight: bold\">0.125</span>\n",
       "</pre>\n"
      ],
      "text/plain": [
       "    \u001b[1;36m3\u001b[0m                 \u001b[1;36m0\u001b[0m  \u001b[1;36m0.042804695157281615\u001b[0m    \u001b[1;36m1.1833552967125838\u001b[0m               \u001b[1;36m0.125\u001b[0m\n"
      ]
     },
     "metadata": {},
     "output_type": "display_data"
    },
    {
     "data": {
      "text/html": [
       "<pre style=\"white-space:pre;overflow-x:auto;line-height:normal;font-family:Menlo,'DejaVu Sans Mono',consolas,'Courier New',monospace\">    <span style=\"color: #008080; text-decoration-color: #008080; font-weight: bold\">4</span>                 <span style=\"color: #008080; text-decoration-color: #008080; font-weight: bold\">0</span>  <span style=\"color: #008080; text-decoration-color: #008080; font-weight: bold\">0.042961299264650345</span>    <span style=\"color: #008080; text-decoration-color: #008080; font-weight: bold\">0.64712019634752</span>                <span style=\"color: #008080; text-decoration-color: #008080; font-weight: bold\">0.0625</span>\n",
       "</pre>\n"
      ],
      "text/plain": [
       "    \u001b[1;36m4\u001b[0m                 \u001b[1;36m0\u001b[0m  \u001b[1;36m0.042961299264650345\u001b[0m    \u001b[1;36m0.64712019634752\u001b[0m                \u001b[1;36m0.0625\u001b[0m\n"
      ]
     },
     "metadata": {},
     "output_type": "display_data"
    },
    {
     "data": {
      "text/html": [
       "<pre style=\"white-space:pre;overflow-x:auto;line-height:normal;font-family:Menlo,'DejaVu Sans Mono',consolas,'Courier New',monospace\">    <span style=\"color: #008080; text-decoration-color: #008080; font-weight: bold\">5</span>                 <span style=\"color: #008080; text-decoration-color: #008080; font-weight: bold\">0</span>  <span style=\"color: #008080; text-decoration-color: #008080; font-weight: bold\">0.04416377940287182</span>     <span style=\"color: #008080; text-decoration-color: #008080; font-weight: bold\">0.45590504846365015</span>            <span style=\"color: #008080; text-decoration-color: #008080; font-weight: bold\">0.03125</span>\n",
       "</pre>\n"
      ],
      "text/plain": [
       "    \u001b[1;36m5\u001b[0m                 \u001b[1;36m0\u001b[0m  \u001b[1;36m0.04416377940287182\u001b[0m     \u001b[1;36m0.45590504846365015\u001b[0m            \u001b[1;36m0.03125\u001b[0m\n"
      ]
     },
     "metadata": {},
     "output_type": "display_data"
    },
    {
     "data": {
      "text/html": [
       "<pre style=\"white-space:pre;overflow-x:auto;line-height:normal;font-family:Menlo,'DejaVu Sans Mono',consolas,'Courier New',monospace\">    <span style=\"color: #008080; text-decoration-color: #008080; font-weight: bold\">6</span>                 <span style=\"color: #008080; text-decoration-color: #008080; font-weight: bold\">0</span>  <span style=\"color: #008080; text-decoration-color: #008080; font-weight: bold\">0.04793259713688708</span>     <span style=\"color: #008080; text-decoration-color: #008080; font-weight: bold\">0.29347241609471275</span>           <span style=\"color: #008080; text-decoration-color: #008080; font-weight: bold\">0.015625</span>\n",
       "</pre>\n"
      ],
      "text/plain": [
       "    \u001b[1;36m6\u001b[0m                 \u001b[1;36m0\u001b[0m  \u001b[1;36m0.04793259713688708\u001b[0m     \u001b[1;36m0.29347241609471275\u001b[0m           \u001b[1;36m0.015625\u001b[0m\n"
      ]
     },
     "metadata": {},
     "output_type": "display_data"
    },
    {
     "data": {
      "text/html": [
       "<pre style=\"white-space:pre;overflow-x:auto;line-height:normal;font-family:Menlo,'DejaVu Sans Mono',consolas,'Courier New',monospace\">    <span style=\"color: #008080; text-decoration-color: #008080; font-weight: bold\">7</span>                 <span style=\"color: #008080; text-decoration-color: #008080; font-weight: bold\">0</span>  <span style=\"color: #008080; text-decoration-color: #008080; font-weight: bold\">0.053622858560239704</span>    <span style=\"color: #008080; text-decoration-color: #008080; font-weight: bold\">0.17210256834512377</span>          <span style=\"color: #008080; text-decoration-color: #008080; font-weight: bold\">0.0078125</span>\n",
       "</pre>\n"
      ],
      "text/plain": [
       "    \u001b[1;36m7\u001b[0m                 \u001b[1;36m0\u001b[0m  \u001b[1;36m0.053622858560239704\u001b[0m    \u001b[1;36m0.17210256834512377\u001b[0m          \u001b[1;36m0.0078125\u001b[0m\n"
      ]
     },
     "metadata": {},
     "output_type": "display_data"
    },
    {
     "data": {
      "text/html": [
       "<pre style=\"white-space:pre;overflow-x:auto;line-height:normal;font-family:Menlo,'DejaVu Sans Mono',consolas,'Courier New',monospace\">    <span style=\"color: #008080; text-decoration-color: #008080; font-weight: bold\">8</span>                 <span style=\"color: #008080; text-decoration-color: #008080; font-weight: bold\">0</span>  <span style=\"color: #008080; text-decoration-color: #008080; font-weight: bold\">0.06158493551815739</span>     <span style=\"color: #008080; text-decoration-color: #008080; font-weight: bold\">0.11688352129893921</span>         <span style=\"color: #008080; text-decoration-color: #008080; font-weight: bold\">0.00390625</span>\n",
       "</pre>\n"
      ],
      "text/plain": [
       "    \u001b[1;36m8\u001b[0m                 \u001b[1;36m0\u001b[0m  \u001b[1;36m0.06158493551815739\u001b[0m     \u001b[1;36m0.11688352129893921\u001b[0m         \u001b[1;36m0.00390625\u001b[0m\n"
      ]
     },
     "metadata": {},
     "output_type": "display_data"
    },
    {
     "data": {
      "text/html": [
       "<pre style=\"white-space:pre;overflow-x:auto;line-height:normal;font-family:Menlo,'DejaVu Sans Mono',consolas,'Courier New',monospace\">    <span style=\"color: #008080; text-decoration-color: #008080; font-weight: bold\">9</span>*                <span style=\"color: #008080; text-decoration-color: #008080; font-weight: bold\">0</span>  <span style=\"color: #008080; text-decoration-color: #008080; font-weight: bold\">0.06867499798570521</span>     <span style=\"color: #008080; text-decoration-color: #008080; font-weight: bold\">0.08313359033973432</span>        <span style=\"color: #008080; text-decoration-color: #008080; font-weight: bold\">0.001953125</span>\n",
       "</pre>\n"
      ],
      "text/plain": [
       "    \u001b[1;36m9\u001b[0m*                \u001b[1;36m0\u001b[0m  \u001b[1;36m0.06867499798570521\u001b[0m     \u001b[1;36m0.08313359033973432\u001b[0m        \u001b[1;36m0.001953125\u001b[0m\n"
      ]
     },
     "metadata": {},
     "output_type": "display_data"
    }
   ],
   "source": [
    "res_mpcc,x_opt_mpcc,fun_opt_mpcc = mpcc_model.solve(max_iter=300,tol=1e-1,print_level=0,verbose=True,beta=0.5)"
   ]
  },
  {
   "cell_type": "code",
   "execution_count": 16,
   "metadata": {},
   "outputs": [],
   "source": [
    "u_mpcc, q_mpcc, r_mpcc, delta_mpcc, theta_mpcc, alpha_mpcc = mpcc_model.objective_func.parse_vars(x_opt_mpcc)"
   ]
  },
  {
   "cell_type": "code",
   "execution_count": 17,
   "metadata": {},
   "outputs": [
    {
     "data": {
      "image/png": "[encoded data removed]",
      "text/plain": [
       "<Figure size 1400x400 with 3 Axes>"
      ]
     },
     "metadata": {},
     "output_type": "display_data"
    }
   ],
   "source": [
    "u_mpcc = u_mpcc.reshape((scale,scale))\n",
    "plot_experiment(true,noisy,u_mpcc,alpha_mpcc)"
   ]
  },
  {
   "cell_type": "code",
   "execution_count": null,
   "metadata": {},
   "outputs": [],
   "source": []
  }
 ],
 "metadata": {
  "kernelspec": {
   "display_name": ".venv",
   "language": "python",
   "name": "python3"
  },
  "language_info": {
   "codemirror_mode": {
    "name": "ipython",
    "version": 3
   },
   "file_extension": ".py",
   "mimetype": "text/x-python",
   "name": "python",
   "nbconvert_exporter": "python",
   "pygments_lexer": "ipython3",
   "version": "3.12.7"
  }
 },
 "nbformat": 4,
 "nbformat_minor": 2
}
