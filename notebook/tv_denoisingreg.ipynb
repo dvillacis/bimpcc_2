{
 "cells": [
  {
   "cell_type": "code",
   "execution_count": 19,
   "metadata": {},
   "outputs": [],
   "source": [
    "import sys\n",
    "import os\n",
    "# Get the absolute path to the project root\n",
    "project_root = os.path.abspath(os.path.join(os.getcwd(), \"..\"))\n",
    "# Add it to sys.path\n",
    "sys.path.append(project_root)"
   ]
  },
  {
   "cell_type": "code",
   "execution_count": 20,
   "metadata": {},
   "outputs": [],
   "source": [
    "import numpy as np\n",
    "from bimpcc.dataset import get_dataset\n",
    "from bimpcc.models.tvregularized import TVRegularized\n",
    "from bimpcc.models.tvdenoising_model import TVDenoisingMPCC\n",
    "import matplotlib.pyplot as plt\n",
    "from skimage.metrics import peak_signal_noise_ratio as psnr"
   ]
  },
  {
   "cell_type": "code",
   "execution_count": 21,
   "metadata": {},
   "outputs": [],
   "source": [
    "def plot_experiment(true,noisy,u, alpha):\n",
    "    \n",
    "    fig,ax = plt.subplots(1,3,figsize=(14,4))\n",
    "    ax[0].imshow(true,cmap='gray')\n",
    "    ax[0].set_title('True Image')\n",
    "    ax[0].axis('off')\n",
    "    ax[1].imshow(noisy,cmap='gray')\n",
    "    ax[1].set_title('Noisy Image\\nPSNR: {:.4f}'.format(psnr(true,noisy)))\n",
    "    ax[1].axis('off')\n",
    "    ax[2].imshow(u,cmap='gray')\n",
    "    ax[2].set_title(f'Reconstructed Image\\nPSNR: {psnr(true,u):.4f}\\n alpha = {alpha}')\n",
    "    # ax[2].set_xlabel('alpha = {}'.format(alpha))\n",
    "    ax[2].axis('off')\n",
    "\n",
    "    plt.show()"
   ]
  },
  {
   "cell_type": "code",
   "execution_count": 22,
   "metadata": {},
   "outputs": [],
   "source": [
    "scale = 10"
   ]
  },
  {
   "cell_type": "code",
   "execution_count": 23,
   "metadata": {},
   "outputs": [],
   "source": [
    "dataset = get_dataset(\"cameraman\",scale=scale)\n",
    "true, noisy = dataset.get_training_data()"
   ]
  },
  {
   "cell_type": "code",
   "execution_count": 24,
   "metadata": {},
   "outputs": [
    {
     "data": {
      "text/plain": [
       "(np.float64(-0.5), np.float64(9.5), np.float64(9.5), np.float64(-0.5))"
      ]
     },
     "execution_count": 24,
     "metadata": {},
     "output_type": "execute_result"
    },
    {
     "data": {
      "image/png": "[encoded data removed]",
      "text/plain": [
       "<Figure size 1000x500 with 2 Axes>"
      ]
     },
     "metadata": {},
     "output_type": "display_data"
    }
   ],
   "source": [
    "fig,ax = plt.subplots(1,2,figsize=(10,5))\n",
    "ax[0].imshow(true,cmap='gray')\n",
    "ax[0].set_title('True Image')\n",
    "ax[0].axis('off')\n",
    "ax[1].imshow(noisy,cmap='gray')\n",
    "ax[1].set_title('Noisy Image')\n",
    "ax[1].axis('off')"
   ]
  },
  {
   "cell_type": "code",
   "execution_count": 25,
   "metadata": {},
   "outputs": [],
   "source": [
    "model = TVRegularized(true, noisy, epsilon=1e-3)"
   ]
  },
  {
   "cell_type": "code",
   "execution_count": 26,
   "metadata": {},
   "outputs": [
    {
     "name": "stdout",
     "output_type": "stream",
     "text": [
      "This is Ipopt version 3.14.17, running with linear solver MUMPS 5.6.2.\n",
      "\n",
      "Number of nonzeros in equality constraint Jacobian...:     1504\n",
      "Number of nonzeros in inequality constraint Jacobian.:        0\n",
      "Number of nonzeros in Lagrangian Hessian.............:        0\n",
      "\n",
      "Total number of variables............................:      281\n",
      "                     variables with only lower bounds:      101\n",
      "                variables with lower and upper bounds:        0\n",
      "                     variables with only upper bounds:        0\n",
      "Total number of equality constraints.................:      280\n",
      "Total number of inequality constraints...............:        0\n",
      "        inequality constraints with only lower bounds:        0\n",
      "   inequality constraints with lower and upper bounds:        0\n",
      "        inequality constraints with only upper bounds:        0\n",
      "\n",
      "iter    objective    inf_pr   inf_du lg(mu)  ||d||  lg(rg) alpha_du alpha_pr  ls\n",
      "   0  1.0796127e-01 1.10e-02 5.61e-02   0.0 0.00e+00    -  0.00e+00 0.00e+00   0\n",
      "   1  9.6885100e-02 2.70e-03 3.05e-01  -6.2 1.40e-02    -  7.42e-01 1.00e+00h  1\n",
      "   2  8.5636604e-02 5.24e-03 2.83e-01  -2.9 1.91e-02    -  6.14e-01 1.00e+00h  1\n",
      "   3  7.8698855e-02 3.12e-02 1.70e+00  -2.9 3.06e-02    -  9.75e-01 1.00e+00h  1\n",
      "   4  7.8707825e-02 3.22e-02 1.94e-01  -3.6 8.84e-03    -  1.00e+00 1.00e+00h  1\n",
      "   5  7.8593980e-02 1.52e-02 1.43e-01  -5.3 3.12e-03    -  1.00e+00 1.00e+00h  1\n",
      "   6  7.8583426e-02 3.77e-03 1.76e-01  -6.8 3.38e-03    -  1.00e+00 1.00e+00h  1\n",
      "   7  7.8580468e-02 2.13e-05 1.88e-02  -8.0 5.33e-04    -  1.00e+00 1.00e+00h  1\n",
      "   8  7.8580405e-02 5.31e-08 6.03e-07  -9.9 4.32e-05    -  1.00e+00 1.00e+00h  1\n",
      "\n",
      "Number of Iterations....: 8\n",
      "\n",
      "                                   (scaled)                 (unscaled)\n",
      "Objective...............:   7.8580404870965834e-02    7.8580404870965834e-02\n",
      "Dual infeasibility......:   6.0290445444452314e-07    6.0290445444452314e-07\n",
      "Constraint violation....:   5.3098314850910655e-08    5.3098314850910655e-08\n",
      "Variable bound violation:   0.0000000000000000e+00    0.0000000000000000e+00\n",
      "Complementarity.........:   1.3788502415030869e-10    1.3788502415030869e-10\n",
      "Overall NLP error.......:   6.0290445444452314e-07    6.0290445444452314e-07\n",
      "\n",
      "\n",
      "Number of objective function evaluations             = 9\n",
      "Number of objective gradient evaluations             = 9\n",
      "Number of equality constraint evaluations            = 9\n",
      "Number of inequality constraint evaluations          = 0\n",
      "Number of equality constraint Jacobian evaluations   = 9\n",
      "Number of inequality constraint Jacobian evaluations = 0\n",
      "Number of Lagrangian Hessian evaluations             = 0\n",
      "Total seconds in IPOPT                               = 0.073\n",
      "\n",
      "EXIT: Optimal Solution Found.\n"
     ]
    }
   ],
   "source": [
    "res,x_opt,fun_opt = model.solve(max_iter=3000,tol=1e-4,print_level=5)"
   ]
  },
  {
   "cell_type": "code",
   "execution_count": 27,
   "metadata": {},
   "outputs": [],
   "source": [
    "u, q, alpha = model.objective_func.parse_vars(x_opt)"
   ]
  },
  {
   "cell_type": "code",
   "execution_count": 28,
   "metadata": {},
   "outputs": [
    {
     "data": {
      "image/png": "[encoded data removed]",
      "text/plain": [
       "<Figure size 1400x400 with 3 Axes>"
      ]
     },
     "metadata": {},
     "output_type": "display_data"
    }
   ],
   "source": [
    "u = u.reshape((scale,scale))\n",
    "plot_experiment(true,noisy,u,alpha)"
   ]
  },
  {
   "cell_type": "code",
   "execution_count": 29,
   "metadata": {},
   "outputs": [],
   "source": [
    "m = q.flatten().size\n",
    "n = m // 2\n",
    "Ku = model.K @ u.flatten()\n",
    "V = Ku.reshape(2, -1).T\n",
    "normKu = np.apply_along_axis(np.linalg.norm, axis=1, arr=V)\n",
    "Q = q.reshape(2,-1).T\n",
    "normQ = np.apply_along_axis(np.linalg.norm, axis=1, arr=Q)\n",
    "r0 = normKu\n",
    "delta0 = normQ\n",
    "# theta0 = np.zeros(n)"
   ]
  },
  {
   "cell_type": "code",
   "execution_count": 30,
   "metadata": {},
   "outputs": [],
   "source": [
    "Kxu = Ku[:n]  # Primeras n componentes\n",
    "Kyu = Ku[n:]  # Últimas n componentes\n",
    "qx = q[:n]  # Primeras n componentes\n",
    "qy = q[n:]  # Últimas n componentes\n",
    "epsilon = 1e-10  \n",
    "\n",
    "# Condiciones para calcular theta según los casos dados\n",
    "theta0 = np.zeros(n)  # Inicializamos theta0\n",
    "\n",
    "# Caso 1: r_i ≠ 0\n",
    "mask_r_nonzero = r0 > epsilon\n",
    "theta0[mask_r_nonzero] = np.arccos(Kxu[mask_r_nonzero] / r0[mask_r_nonzero])\n",
    "theta0[mask_r_nonzero & (Kyu < 0)] *= -1  # Si Ky^i u < 0, negamos theta0\n",
    "\n",
    "# Caso 2: r_i = 0 y delta_i ≠ 0\n",
    "mask_r_zero_delta_nonzero = (r0 <= epsilon) & (delta0 > epsilon)\n",
    "theta0[mask_r_zero_delta_nonzero] = np.arccos(qx[mask_r_zero_delta_nonzero] / delta0[mask_r_zero_delta_nonzero])\n",
    "theta0[mask_r_zero_delta_nonzero & (qy < 0)] *= -1  # Si qy^i < 0, negamos theta0\n",
    "\n",
    "# Caso 3: r_i = 0 y delta_i = 0 (theta0 indefinido)\n",
    "mask_r_zero_delta_zero = (r0 <= epsilon) & (delta0 <= epsilon)\n",
    "theta0[mask_r_zero_delta_zero] = 0"
   ]
  },
  {
   "cell_type": "code",
   "execution_count": 31,
   "metadata": {},
   "outputs": [
    {
     "name": "stdout",
     "output_type": "stream",
     "text": [
      "[ 8.94849132e-01  9.04501744e-01  9.54520156e-01  9.67740509e-01\n",
      "  9.77233915e-01  9.16972985e-01  9.41304545e-01  8.68185561e-01\n",
      "  8.36928867e-01  8.26899724e-01  8.61566609e-01  9.34025050e-01\n",
      "  9.55774537e-01  9.05930335e-01  5.87792438e-01  8.91467873e-01\n",
      "  9.65647169e-01  8.69927842e-01  8.38398454e-01  7.83942967e-01\n",
      "  7.75530806e-01  9.19525219e-01  8.04075092e-01  4.18616601e-01\n",
      "  4.33602616e-01  4.99030373e-01  8.50233471e-01  8.72418396e-01\n",
      "  8.72432860e-01  8.36829599e-01  8.58125594e-01  6.81147012e-01\n",
      "  7.56502742e-02  4.84434805e-02  2.59746454e-01  4.99193439e-01\n",
      "  8.29406757e-01  8.98819150e-01  7.95244203e-01  7.62898429e-01\n",
      "  8.06678737e-01  4.04479133e-01  3.50812789e-02  1.18199108e-01\n",
      "  1.08374966e-01  3.65917881e-01  7.65071429e-01  8.64600221e-01\n",
      "  7.59974922e-01  7.60411137e-01  7.57231080e-01  5.58916861e-01\n",
      "  3.05138877e-02  3.06346325e-02  3.96569914e-01  6.29405070e-01\n",
      "  7.62912706e-01  8.64654831e-01  7.93572417e-01  7.59272576e-01\n",
      "  5.60849766e-01  1.80510150e-01  3.06901128e-02  5.69228833e-02\n",
      "  5.39308750e-01  6.09144979e-01  4.62382920e-01  5.84310499e-01\n",
      "  6.35110871e-01  5.72183845e-01  6.57018534e-01  1.83692194e-01\n",
      "  8.71067094e-02  2.13833882e-01  5.73570721e-01  6.26254656e-01\n",
      "  5.51861158e-01  5.65829508e-01  5.86608988e-01  5.90953110e-01\n",
      "  6.22959746e-01  3.79474088e-01  1.24393341e-01  3.21863926e-01\n",
      "  6.37303153e-01  7.21644374e-01  6.82830617e-01  5.92510756e-01\n",
      "  5.88219652e-01  6.09804117e-01  6.15822059e-01  4.21234006e-01\n",
      "  2.90146464e-01  5.63963323e-01  6.75120068e-01  6.77351104e-01\n",
      "  6.73402888e-01  6.84854995e-01  6.09799814e-01  6.09755241e-01\n",
      "  4.90447569e-03  1.51632756e-02  1.75289250e-02  2.67300802e-03\n",
      " -2.69250861e-03  1.21539393e-02 -1.67061648e-02 -1.75803604e-02\n",
      " -1.74216098e-02  1.51460239e-02  4.31538503e-03 -1.69068127e-02\n",
      " -1.58932713e-02  9.31227807e-03  7.63344195e-03 -4.17235998e-03\n",
      " -4.64012794e-03 -1.75892644e-02  1.71355122e-02 -1.60079661e-02\n",
      " -1.72168351e-02  1.10475186e-03  1.57519317e-03  1.21188893e-02\n",
      "  2.22875352e-03  1.38390976e-03 -1.51983030e-02 -1.74149484e-02\n",
      " -1.74662994e-02 -6.08095802e-03  1.71078756e-02  1.15226660e-02\n",
      "  1.74762531e-02  1.24197411e-02 -9.94308248e-03 -4.15279478e-03\n",
      " -1.73866220e-02 -1.75325870e-02  1.62087806e-02 -1.70691118e-02\n",
      "  1.72918200e-02  1.64213486e-02  1.75891402e-02 -1.35026293e-02\n",
      "  2.66514460e-05 -1.05884543e-02 -1.76075040e-02  1.20555646e-02\n",
      "  1.75339044e-02  1.76074404e-02  9.89935295e-03  4.57179834e-03\n",
      " -1.76075969e-02 -1.39751746e-02 -1.64849683e-02 -1.74488301e-02\n",
      "  1.53112261e-03  1.52234840e-02  7.10091877e-03 -1.08675681e-02\n",
      "  1.38248944e-02  1.75732101e-02 -1.31101985e-02 -1.67132190e-02\n",
      " -1.65944966e-02  1.74493340e-02  1.70870143e-02  1.66150323e-02\n",
      " -1.47497726e-02  1.05122093e-02  9.17050904e-03  3.90592606e-04\n",
      " -1.74047551e-02 -1.62135312e-02  1.67565536e-02  1.68538839e-02\n",
      "  9.53318988e-03 -1.45100038e-02 -1.76048521e-02 -3.90810121e-03\n",
      "  1.67173134e-02 -1.72156705e-02 -1.09222721e-02  1.31910153e-02\n",
      "  1.66693640e-02  8.85761886e-04 -6.80150343e-03  2.16702499e-03\n",
      " -1.69220648e-02 -4.45727683e-03 -1.69108109e-02  8.95010962e-03\n",
      "  1.66320379e-03 -1.74035745e-02 -1.74005681e-02 -1.27401392e-02\n",
      "  5.56178287e-03  9.79948615e-04  2.55282089e-03 -8.97927232e-03\n",
      " -1.70706422e-02 -4.91823938e-03 -7.57847603e-03 -1.49435889e-02\n",
      " -1.58669449e-02 -1.71061622e-02 -1.69852461e-02  8.04456642e-04\n",
      "  4.05013525e-03  7.33310283e-03  3.68916842e-03 -1.75729592e-02\n",
      " -1.75370504e-02 -1.27734840e-02 -1.74660250e-02  1.56013892e-02\n",
      " -8.89049824e-03  2.59787317e-03 -2.22660205e-03 -1.65242647e-02\n",
      " -4.16532893e-03 -1.33138101e-02 -2.14707895e-03  1.24811629e-02\n",
      " -1.45314997e-02 -1.71109225e-02 -2.78114140e-03 -1.62411970e-03\n",
      " -6.87784886e-03 -4.32152368e-03 -3.31998997e-03  6.35363529e-03\n",
      " -8.07167623e-04 -1.13008132e-02  1.76076308e-02  1.40681914e-02\n",
      " -7.19327904e-05  5.45242065e-03  1.60983536e-03 -8.60996958e-05\n",
      " -1.45613249e-02 -1.70037652e-02  4.36515149e-05  1.07109229e-02\n",
      "  6.18669484e-03 -2.35959721e-03 -1.75409531e-02 -8.84731070e-03\n",
      " -1.61123035e-02 -1.38537120e-02  1.09042041e-02  1.10075407e-03\n",
      "  1.17538116e-02  5.54054902e-03  5.88659974e-03  2.35586860e-03\n",
      "  4.25009569e-03 -5.82838530e-03 -9.61631857e-03  1.41252551e-02\n",
      " -1.50310059e-02  1.76033181e-02  2.66530907e-03  6.86664244e-03\n",
      "  5.40807564e-03  5.09666271e-03  1.48036368e-02  9.97442562e-03\n",
      "  3.13943232e-04  1.71684629e-02 -5.52818328e-03  3.69459921e-03\n",
      "  1.38106243e-02  1.16630394e-02  5.67112650e-03 -1.75853582e-02\n",
      " -1.62409649e-02  1.74737920e-02  4.86550113e-03 -4.88761517e-03\n",
      "  3.46539928e-02  5.80815563e-02  1.32797282e-02  6.25349690e-02\n",
      "  3.94076191e-01  3.52496180e-02  7.70645781e-02  3.13052143e-02\n",
      "  1.01362423e-02  8.42348420e-02  8.87423216e-02  5.19103999e-02\n",
      "  3.52454881e-01  5.74189380e-01  1.71105433e-01  4.03942299e-01\n",
      "  1.19642903e-01  5.45124112e-02  1.47961926e-01  1.26987116e-01\n",
      "  3.94208253e-01  2.38848802e-01  7.31357304e-01  5.10266357e-01\n",
      "  1.75265900e-01  1.63706119e-04  4.12473538e-02  1.78936911e-01\n",
      "  6.10396911e-01  7.87783443e-02  2.17475805e-01  3.65896124e-01\n",
      "  3.32696076e-01  9.84069507e-02  1.83415095e-01  1.37144535e-01\n",
      "  4.07312602e-01  3.70979392e-01  9.02911718e-02  1.01341204e-02\n",
      "  2.62246875e-01  4.27988980e-01  9.96335363e-02  1.36433099e-01\n",
      "  2.88195278e-01  3.29778756e-01  5.28407383e-01  1.32519883e-04\n",
      "  3.67474382e-01  2.32837940e-01  2.37465596e-01  3.91845760e-01\n",
      "  7.10826324e-02  4.32151732e-02  4.06242046e-01  1.51183712e-01\n",
      "  3.01672521e-01  5.57932854e-01  1.73168012e-01  2.37784136e-01\n",
      "  1.55289299e-01  5.08999329e-02  8.45141583e-02  4.98657083e-01\n",
      "  1.02482381e-01  1.27876961e-01  3.70697921e-01  5.58313890e-02\n",
      "  8.88077988e-02  2.33965840e-02  3.98972157e-02  1.95830084e-01\n",
      "  2.46324093e-01  2.77013859e-01  2.07500494e-01  3.29546816e-01\n",
      "  1.55776894e-01  4.70998592e-02  9.03342206e-02  1.93332365e-02\n",
      "  2.27340207e-02  1.99018595e-01  2.11324493e-01  3.65496636e-01\n",
      "  1.17413547e-01  4.43494228e-02  1.02210796e-02  9.30516481e-02\n",
      "  7.80959898e-02  6.61483928e-05  1.76076519e-02  1.76076515e-02\n",
      "  1.76076534e-02  1.76076511e-02  1.76076509e-02  1.76076514e-02\n",
      "  1.76076510e-02  1.76076510e-02  1.76076512e-02  1.76076509e-02\n",
      "  1.76076510e-02  1.76076516e-02  1.76076509e-02  1.76076509e-02\n",
      "  1.76076511e-02  1.76076510e-02  1.76076510e-02  1.76076510e-02\n",
      "  1.76076510e-02  1.76076511e-02  1.76076510e-02  1.76076510e-02\n",
      "  1.76076509e-02  1.76076509e-02  1.76076510e-02  1.56626483e-02\n",
      "  1.76076510e-02  1.76076510e-02  1.76076509e-02  1.76076510e-02\n",
      "  1.76076509e-02  1.76076510e-02  1.76076509e-02  1.76076516e-02\n",
      "  1.76076510e-02  1.76076509e-02  1.76076509e-02  1.76076509e-02\n",
      "  1.76076510e-02  1.76076729e-02  1.76076510e-02  1.76076510e-02\n",
      "  1.76076510e-02  1.76076511e-02  1.76076510e-02  1.76076510e-02\n",
      "  1.76076510e-02  1.32312331e-02  1.76076510e-02  1.76076510e-02\n",
      "  1.76076510e-02  1.76076509e-02  1.76076510e-02  1.76076510e-02\n",
      "  1.76076509e-02  1.76076510e-02  1.76076510e-02  1.76076510e-02\n",
      "  1.76076510e-02  1.76076510e-02  1.76076510e-02  1.76076509e-02\n",
      "  1.76076515e-02  1.76076509e-02  1.76076510e-02  1.76076510e-02\n",
      "  1.76076509e-02  1.76076509e-02  1.76076510e-02  1.76076511e-02\n",
      "  1.76076510e-02  1.76076509e-02  1.76076510e-02  1.76076510e-02\n",
      "  1.76076509e-02  1.76076510e-02  1.76076510e-02  1.76076511e-02\n",
      "  1.76076511e-02  1.76076510e-02  1.76076511e-02  1.76076510e-02\n",
      "  1.76076510e-02  1.76076509e-02  1.76076510e-02  1.76076517e-02\n",
      "  1.76076515e-02  1.76076519e-02  1.76076511e-02  6.61483928e-03\n",
      " -1.28852004e+00  5.33218619e-01  9.45993423e-02 -1.41839752e+00\n",
      " -1.72431560e+00 -8.08941759e-01  2.82021597e+00  3.08590921e+00\n",
      "  2.99609646e+00 -5.35143217e-01 -1.32318809e+00 -2.85850242e+00\n",
      " -2.69664777e+00 -1.01351976e+00 -1.12239023e+00 -1.81003481e+00\n",
      " -1.83747515e+00  3.09588892e+00  2.32099650e-01  2.71203088e+00\n",
      "  2.93050790e+00 -1.50801241e+00 -1.48121584e+00 -8.11689095e-01\n",
      " -1.44387718e+00  1.48232384e+00 -2.61230057e+00  2.99350979e+00\n",
      " -3.01479667e+00 -1.92341740e+00 -2.38827519e-01 -8.57390990e-01\n",
      " -1.22244344e-01  7.87864492e-01 -2.17086896e+00 -1.80889124e+00\n",
      " -2.98297766e+00 -3.04922192e+00 -4.01301911e-01 -2.89362174e+00\n",
      " -1.89689372e-01  3.69173891e-01 -4.58579772e-02 -2.44473312e+00\n",
      "  1.56928272e+00  2.21599270e+00 -3.13750730e+00  4.24743524e-01\n",
      "  9.15559854e-02 -4.88994550e-03 -9.73729907e-01 -1.30813823e+00\n",
      "  3.13911349e+00  2.48766223e+00  2.78256504e+00 -3.00717852e+00\n",
      " -1.48372859e+00 -5.26452850e-01 -1.15569139e+00 -2.23598438e+00\n",
      "  6.67835305e-01  6.25564753e-02  2.41069244e+00  2.82148669e+00\n",
      "  2.80070840e+00  1.34200420e-01  2.43785351e-01 -3.37378317e-01\n",
      " -2.56383800e+00  9.31008541e-01 -1.02297887e+00  1.54861139e+00\n",
      "  2.98963628e+00  2.74098208e+00  3.12190006e-01  2.93659774e-01\n",
      "  9.98667393e-01  2.53936147e+00  3.12376165e+00  1.79461511e+00\n",
      " -3.19366352e-01  2.93019236e+00  2.23993930e+00  7.23997513e-01\n",
      "  3.27928982e-01 -1.52046923e+00 -1.96739324e+00  1.44741091e+00\n",
      "  2.86162072e+00 -2.31017635e+00  1.76076509e-02]\n"
     ]
    }
   ],
   "source": [
    "x0_mpcc = np.concatenate((u.flatten(),q.flatten(),r0,delta0,theta0,alpha))\n",
    "print(x0_mpcc)"
   ]
  },
  {
   "cell_type": "code",
   "execution_count": 32,
   "metadata": {},
   "outputs": [],
   "source": [
    "mpcc_model = TVDenoisingMPCC(true, noisy, x0=x0_mpcc, epsilon=1e-3)"
   ]
  },
  {
   "cell_type": "code",
   "execution_count": 33,
   "metadata": {},
   "outputs": [
    {
     "data": {
      "text/html": [
       "<pre style=\"white-space:pre;overflow-x:auto;line-height:normal;font-family:Menlo,'DejaVu Sans Mono',consolas,'Courier New',monospace\"> Iter   Termination_status            Objective      MPCC_compl               t\n",
       "\n",
       "</pre>\n"
      ],
      "text/plain": [
       " Iter   Termination_status            Objective      MPCC_compl               t\n",
       "\n"
      ]
     },
     "metadata": {},
     "output_type": "display_data"
    },
    {
     "data": {
      "text/html": [
       "<pre style=\"white-space:pre;overflow-x:auto;line-height:normal;font-family:Menlo,'DejaVu Sans Mono',consolas,'Courier New',monospace\">    <span style=\"color: #008080; text-decoration-color: #008080; font-weight: bold\">0</span>                 <span style=\"color: #008080; text-decoration-color: #008080; font-weight: bold\">0</span>  <span style=\"color: #008080; text-decoration-color: #008080; font-weight: bold\">0.025513270772116077</span>    <span style=\"color: #008080; text-decoration-color: #008080; font-weight: bold\">2.4181478857301126</span>                 <span style=\"color: #008080; text-decoration-color: #008080; font-weight: bold\">1.0</span>\n",
       "</pre>\n"
      ],
      "text/plain": [
       "    \u001b[1;36m0\u001b[0m                 \u001b[1;36m0\u001b[0m  \u001b[1;36m0.025513270772116077\u001b[0m    \u001b[1;36m2.4181478857301126\u001b[0m                 \u001b[1;36m1.0\u001b[0m\n"
      ]
     },
     "metadata": {},
     "output_type": "display_data"
    },
    {
     "data": {
      "text/html": [
       "<pre style=\"white-space:pre;overflow-x:auto;line-height:normal;font-family:Menlo,'DejaVu Sans Mono',consolas,'Courier New',monospace\">    <span style=\"color: #008080; text-decoration-color: #008080; font-weight: bold\">1</span>                 <span style=\"color: #008080; text-decoration-color: #008080; font-weight: bold\">0</span>  <span style=\"color: #008080; text-decoration-color: #008080; font-weight: bold\">0.02542963206665004</span>     <span style=\"color: #008080; text-decoration-color: #008080; font-weight: bold\">2.39882211900419</span>                   <span style=\"color: #008080; text-decoration-color: #008080; font-weight: bold\">0.5</span>\n",
       "</pre>\n"
      ],
      "text/plain": [
       "    \u001b[1;36m1\u001b[0m                 \u001b[1;36m0\u001b[0m  \u001b[1;36m0.02542963206665004\u001b[0m     \u001b[1;36m2.39882211900419\u001b[0m                   \u001b[1;36m0.5\u001b[0m\n"
      ]
     },
     "metadata": {},
     "output_type": "display_data"
    },
    {
     "data": {
      "text/html": [
       "<pre style=\"white-space:pre;overflow-x:auto;line-height:normal;font-family:Menlo,'DejaVu Sans Mono',consolas,'Courier New',monospace\">    <span style=\"color: #008080; text-decoration-color: #008080; font-weight: bold\">2</span>                 <span style=\"color: #008080; text-decoration-color: #008080; font-weight: bold\">0</span>  <span style=\"color: #008080; text-decoration-color: #008080; font-weight: bold\">0.025429632066882216</span>    <span style=\"color: #008080; text-decoration-color: #008080; font-weight: bold\">1.9284268904265878</span>                <span style=\"color: #008080; text-decoration-color: #008080; font-weight: bold\">0.25</span>\n",
       "</pre>\n"
      ],
      "text/plain": [
       "    \u001b[1;36m2\u001b[0m                 \u001b[1;36m0\u001b[0m  \u001b[1;36m0.025429632066882216\u001b[0m    \u001b[1;36m1.9284268904265878\u001b[0m                \u001b[1;36m0.25\u001b[0m\n"
      ]
     },
     "metadata": {},
     "output_type": "display_data"
    },
    {
     "data": {
      "text/html": [
       "<pre style=\"white-space:pre;overflow-x:auto;line-height:normal;font-family:Menlo,'DejaVu Sans Mono',consolas,'Courier New',monospace\">    <span style=\"color: #008080; text-decoration-color: #008080; font-weight: bold\">3</span>                <span style=\"color: #008080; text-decoration-color: #008080; font-weight: bold\">-3</span>  <span style=\"color: #008080; text-decoration-color: #008080; font-weight: bold\">0.02551328948799124</span>     <span style=\"color: #008080; text-decoration-color: #008080; font-weight: bold\">1.1201798382529708</span>               <span style=\"color: #008080; text-decoration-color: #008080; font-weight: bold\">0.125</span>\n",
       "</pre>\n"
      ],
      "text/plain": [
       "    \u001b[1;36m3\u001b[0m                \u001b[1;36m-3\u001b[0m  \u001b[1;36m0.02551328948799124\u001b[0m     \u001b[1;36m1.1201798382529708\u001b[0m               \u001b[1;36m0.125\u001b[0m\n"
      ]
     },
     "metadata": {},
     "output_type": "display_data"
    },
    {
     "data": {
      "text/html": [
       "<pre style=\"white-space:pre;overflow-x:auto;line-height:normal;font-family:Menlo,'DejaVu Sans Mono',consolas,'Courier New',monospace\">    <span style=\"color: #008080; text-decoration-color: #008080; font-weight: bold\">4</span>                 <span style=\"color: #008080; text-decoration-color: #008080; font-weight: bold\">0</span>  <span style=\"color: #008080; text-decoration-color: #008080; font-weight: bold\">0.025513270771434397</span>    <span style=\"color: #008080; text-decoration-color: #008080; font-weight: bold\">1.1920374693159717</span>              <span style=\"color: #008080; text-decoration-color: #008080; font-weight: bold\">0.1375</span>\n",
       "</pre>\n"
      ],
      "text/plain": [
       "    \u001b[1;36m4\u001b[0m                 \u001b[1;36m0\u001b[0m  \u001b[1;36m0.025513270771434397\u001b[0m    \u001b[1;36m1.1920374693159717\u001b[0m              \u001b[1;36m0.1375\u001b[0m\n"
      ]
     },
     "metadata": {},
     "output_type": "display_data"
    },
    {
     "data": {
      "text/html": [
       "<pre style=\"white-space:pre;overflow-x:auto;line-height:normal;font-family:Menlo,'DejaVu Sans Mono',consolas,'Courier New',monospace\">    <span style=\"color: #008080; text-decoration-color: #008080; font-weight: bold\">5</span>                 <span style=\"color: #008080; text-decoration-color: #008080; font-weight: bold\">0</span>  <span style=\"color: #008080; text-decoration-color: #008080; font-weight: bold\">0.02634184228121682</span>     <span style=\"color: #008080; text-decoration-color: #008080; font-weight: bold\">0.7752717542182931</span>      <span style=\"color: #008080; text-decoration-color: #008080; font-weight: bold\">0.061875000000000006</span>\n",
       "</pre>\n"
      ],
      "text/plain": [
       "    \u001b[1;36m5\u001b[0m                 \u001b[1;36m0\u001b[0m  \u001b[1;36m0.02634184228121682\u001b[0m     \u001b[1;36m0.7752717542182931\u001b[0m      \u001b[1;36m0.061875000000000006\u001b[0m\n"
      ]
     },
     "metadata": {},
     "output_type": "display_data"
    },
    {
     "data": {
      "text/html": [
       "<pre style=\"white-space:pre;overflow-x:auto;line-height:normal;font-family:Menlo,'DejaVu Sans Mono',consolas,'Courier New',monospace\">    <span style=\"color: #008080; text-decoration-color: #008080; font-weight: bold\">6</span>                 <span style=\"color: #008080; text-decoration-color: #008080; font-weight: bold\">0</span>  <span style=\"color: #008080; text-decoration-color: #008080; font-weight: bold\">0.030723025080690303</span>    <span style=\"color: #008080; text-decoration-color: #008080; font-weight: bold\">0.46522402348937586</span>     <span style=\"color: #008080; text-decoration-color: #008080; font-weight: bold\">0.027843750000000004</span>\n",
       "</pre>\n"
      ],
      "text/plain": [
       "    \u001b[1;36m6\u001b[0m                 \u001b[1;36m0\u001b[0m  \u001b[1;36m0.030723025080690303\u001b[0m    \u001b[1;36m0.46522402348937586\u001b[0m     \u001b[1;36m0.027843750000000004\u001b[0m\n"
      ]
     },
     "metadata": {},
     "output_type": "display_data"
    },
    {
     "data": {
      "text/html": [
       "<pre style=\"white-space:pre;overflow-x:auto;line-height:normal;font-family:Menlo,'DejaVu Sans Mono',consolas,'Courier New',monospace\">    <span style=\"color: #008080; text-decoration-color: #008080; font-weight: bold\">7</span>                 <span style=\"color: #008080; text-decoration-color: #008080; font-weight: bold\">0</span>  <span style=\"color: #008080; text-decoration-color: #008080; font-weight: bold\">0.038903009237001074</span>    <span style=\"color: #008080; text-decoration-color: #008080; font-weight: bold\">0.26521080610264486</span>     <span style=\"color: #008080; text-decoration-color: #008080; font-weight: bold\">0.012529687500000003</span>\n",
       "</pre>\n"
      ],
      "text/plain": [
       "    \u001b[1;36m7\u001b[0m                 \u001b[1;36m0\u001b[0m  \u001b[1;36m0.038903009237001074\u001b[0m    \u001b[1;36m0.26521080610264486\u001b[0m     \u001b[1;36m0.012529687500000003\u001b[0m\n"
      ]
     },
     "metadata": {},
     "output_type": "display_data"
    },
    {
     "data": {
      "text/html": [
       "<pre style=\"white-space:pre;overflow-x:auto;line-height:normal;font-family:Menlo,'DejaVu Sans Mono',consolas,'Courier New',monospace\">    <span style=\"color: #008080; text-decoration-color: #008080; font-weight: bold\">8</span>                 <span style=\"color: #008080; text-decoration-color: #008080; font-weight: bold\">0</span>  <span style=\"color: #008080; text-decoration-color: #008080; font-weight: bold\">0.04956646805247014</span>     <span style=\"color: #008080; text-decoration-color: #008080; font-weight: bold\">0.15891099753595844</span>     <span style=\"color: #008080; text-decoration-color: #008080; font-weight: bold\">0.0056383593750000014</span>\n",
       "</pre>\n"
      ],
      "text/plain": [
       "    \u001b[1;36m8\u001b[0m                 \u001b[1;36m0\u001b[0m  \u001b[1;36m0.04956646805247014\u001b[0m     \u001b[1;36m0.15891099753595844\u001b[0m     \u001b[1;36m0.0056383593750000014\u001b[0m\n"
      ]
     },
     "metadata": {},
     "output_type": "display_data"
    },
    {
     "data": {
      "text/html": [
       "<pre style=\"white-space:pre;overflow-x:auto;line-height:normal;font-family:Menlo,'DejaVu Sans Mono',consolas,'Courier New',monospace\">    <span style=\"color: #008080; text-decoration-color: #008080; font-weight: bold\">9</span>                 <span style=\"color: #008080; text-decoration-color: #008080; font-weight: bold\">0</span>  <span style=\"color: #008080; text-decoration-color: #008080; font-weight: bold\">0.059186323384195605</span>    <span style=\"color: #008080; text-decoration-color: #008080; font-weight: bold\">0.10061661678655914</span>     <span style=\"color: #008080; text-decoration-color: #008080; font-weight: bold\">0.0025372617187500008</span>\n",
       "</pre>\n"
      ],
      "text/plain": [
       "    \u001b[1;36m9\u001b[0m                 \u001b[1;36m0\u001b[0m  \u001b[1;36m0.059186323384195605\u001b[0m    \u001b[1;36m0.10061661678655914\u001b[0m     \u001b[1;36m0.0025372617187500008\u001b[0m\n"
      ]
     },
     "metadata": {},
     "output_type": "display_data"
    },
    {
     "data": {
      "text/html": [
       "<pre style=\"white-space:pre;overflow-x:auto;line-height:normal;font-family:Menlo,'DejaVu Sans Mono',consolas,'Courier New',monospace\">   <span style=\"color: #008080; text-decoration-color: #008080; font-weight: bold\">10</span>                 <span style=\"color: #008080; text-decoration-color: #008080; font-weight: bold\">0</span>  <span style=\"color: #008080; text-decoration-color: #008080; font-weight: bold\">0.0664422242286237</span>      <span style=\"color: #008080; text-decoration-color: #008080; font-weight: bold\">0.06653704592387003</span>     <span style=\"color: #008080; text-decoration-color: #008080; font-weight: bold\">0.0011417677734375004</span>\n",
       "</pre>\n"
      ],
      "text/plain": [
       "   \u001b[1;36m10\u001b[0m                 \u001b[1;36m0\u001b[0m  \u001b[1;36m0.0664422242286237\u001b[0m      \u001b[1;36m0.06653704592387003\u001b[0m     \u001b[1;36m0.0011417677734375004\u001b[0m\n"
      ]
     },
     "metadata": {},
     "output_type": "display_data"
    },
    {
     "data": {
      "text/html": [
       "<pre style=\"white-space:pre;overflow-x:auto;line-height:normal;font-family:Menlo,'DejaVu Sans Mono',consolas,'Courier New',monospace\">   <span style=\"color: #008080; text-decoration-color: #008080; font-weight: bold\">11</span>                 <span style=\"color: #008080; text-decoration-color: #008080; font-weight: bold\">0</span>  <span style=\"color: #008080; text-decoration-color: #008080; font-weight: bold\">0.07148514011845636</span>     <span style=\"color: #008080; text-decoration-color: #008080; font-weight: bold\">0.046049721013355104</span>    <span style=\"color: #008080; text-decoration-color: #008080; font-weight: bold\">0.0005137954980468752</span>\n",
       "</pre>\n"
      ],
      "text/plain": [
       "   \u001b[1;36m11\u001b[0m                 \u001b[1;36m0\u001b[0m  \u001b[1;36m0.07148514011845636\u001b[0m     \u001b[1;36m0.046049721013355104\u001b[0m    \u001b[1;36m0.0005137954980468752\u001b[0m\n"
      ]
     },
     "metadata": {},
     "output_type": "display_data"
    },
    {
     "data": {
      "text/html": [
       "<pre style=\"white-space:pre;overflow-x:auto;line-height:normal;font-family:Menlo,'DejaVu Sans Mono',consolas,'Courier New',monospace\">   <span style=\"color: #008080; text-decoration-color: #008080; font-weight: bold\">12</span>                 <span style=\"color: #008080; text-decoration-color: #008080; font-weight: bold\">0</span>  <span style=\"color: #008080; text-decoration-color: #008080; font-weight: bold\">0.07467404241044512</span>     <span style=\"color: #008080; text-decoration-color: #008080; font-weight: bold\">0.0294950203743523</span>      <span style=\"color: #008080; text-decoration-color: #008080; font-weight: bold\">0.00023120797412109383</span>\n",
       "</pre>\n"
      ],
      "text/plain": [
       "   \u001b[1;36m12\u001b[0m                 \u001b[1;36m0\u001b[0m  \u001b[1;36m0.07467404241044512\u001b[0m     \u001b[1;36m0.0294950203743523\u001b[0m      \u001b[1;36m0.00023120797412109383\u001b[0m\n"
      ]
     },
     "metadata": {},
     "output_type": "display_data"
    },
    {
     "data": {
      "text/html": [
       "<pre style=\"white-space:pre;overflow-x:auto;line-height:normal;font-family:Menlo,'DejaVu Sans Mono',consolas,'Courier New',monospace\">   <span style=\"color: #008080; text-decoration-color: #008080; font-weight: bold\">13</span>                 <span style=\"color: #008080; text-decoration-color: #008080; font-weight: bold\">0</span>  <span style=\"color: #008080; text-decoration-color: #008080; font-weight: bold\">0.07655748143385045</span>     <span style=\"color: #008080; text-decoration-color: #008080; font-weight: bold\">0.01649910625656703</span>     <span style=\"color: #008080; text-decoration-color: #008080; font-weight: bold\">0.00010404358835449222</span>\n",
       "</pre>\n"
      ],
      "text/plain": [
       "   \u001b[1;36m13\u001b[0m                 \u001b[1;36m0\u001b[0m  \u001b[1;36m0.07655748143385045\u001b[0m     \u001b[1;36m0.01649910625656703\u001b[0m     \u001b[1;36m0.00010404358835449222\u001b[0m\n"
      ]
     },
     "metadata": {},
     "output_type": "display_data"
    },
    {
     "data": {
      "text/html": [
       "<pre style=\"white-space:pre;overflow-x:auto;line-height:normal;font-family:Menlo,'DejaVu Sans Mono',consolas,'Courier New',monospace\">   <span style=\"color: #008080; text-decoration-color: #008080; font-weight: bold\">14</span>                 <span style=\"color: #008080; text-decoration-color: #008080; font-weight: bold\">0</span>  <span style=\"color: #008080; text-decoration-color: #008080; font-weight: bold\">0.07756112868351508</span>     <span style=\"color: #008080; text-decoration-color: #008080; font-weight: bold\">0.009099026652406516</span>    <span style=\"color: #008080; text-decoration-color: #008080; font-weight: bold\">4.68196147595215e-05</span>\n",
       "</pre>\n"
      ],
      "text/plain": [
       "   \u001b[1;36m14\u001b[0m                 \u001b[1;36m0\u001b[0m  \u001b[1;36m0.07756112868351508\u001b[0m     \u001b[1;36m0.009099026652406516\u001b[0m    \u001b[1;36m4.68196147595215e-05\u001b[0m\n"
      ]
     },
     "metadata": {},
     "output_type": "display_data"
    },
    {
     "data": {
      "text/html": [
       "<pre style=\"white-space:pre;overflow-x:auto;line-height:normal;font-family:Menlo,'DejaVu Sans Mono',consolas,'Courier New',monospace\">   <span style=\"color: #008080; text-decoration-color: #008080; font-weight: bold\">15</span>                 <span style=\"color: #008080; text-decoration-color: #008080; font-weight: bold\">0</span>  <span style=\"color: #008080; text-decoration-color: #008080; font-weight: bold\">0.07807927915745447</span>     <span style=\"color: #008080; text-decoration-color: #008080; font-weight: bold\">0.004884384993526334</span>    <span style=\"color: #008080; text-decoration-color: #008080; font-weight: bold\">2.1068826641784675e-05</span>\n",
       "</pre>\n"
      ],
      "text/plain": [
       "   \u001b[1;36m15\u001b[0m                 \u001b[1;36m0\u001b[0m  \u001b[1;36m0.07807927915745447\u001b[0m     \u001b[1;36m0.004884384993526334\u001b[0m    \u001b[1;36m2.1068826641784675e-05\u001b[0m\n"
      ]
     },
     "metadata": {},
     "output_type": "display_data"
    },
    {
     "data": {
      "text/html": [
       "<pre style=\"white-space:pre;overflow-x:auto;line-height:normal;font-family:Menlo,'DejaVu Sans Mono',consolas,'Courier New',monospace\">Intermediate result:  message: <span style=\"color: #008000; text-decoration-color: #008000\">b'Algorithm terminated successfully at a locally optimal point, satisfying the </span>\n",
       "<span style=\"color: #008000; text-decoration-color: #008000\">convergence tolerances (can be specified by options).'</span>\n",
       " success: <span style=\"color: #00ff00; text-decoration-color: #00ff00; font-style: italic\">True</span>\n",
       "  status: <span style=\"color: #008080; text-decoration-color: #008080; font-weight: bold\">0</span>\n",
       "     fun: <span style=\"color: #008080; text-decoration-color: #008080; font-weight: bold\">0.07807927915745447</span>\n",
       "       x: <span style=\"font-weight: bold\">[</span> <span style=\"color: #008080; text-decoration-color: #008080; font-weight: bold\">8.947e-01</span>  <span style=\"color: #008080; text-decoration-color: #008080; font-weight: bold\">9.042e-01</span> <span style=\"color: #808000; text-decoration-color: #808000\">...</span> <span style=\"color: #008080; text-decoration-color: #008080; font-weight: bold\">-2.336e+00</span>  <span style=\"color: #008080; text-decoration-color: #008080; font-weight: bold\">1.772e-02</span><span style=\"font-weight: bold\">]</span>\n",
       "     nit: <span style=\"color: #008080; text-decoration-color: #008080; font-weight: bold\">17</span>\n",
       "    info:     status: <span style=\"color: #008080; text-decoration-color: #008080; font-weight: bold\">0</span>\n",
       "                   x: <span style=\"font-weight: bold\">[</span> <span style=\"color: #008080; text-decoration-color: #008080; font-weight: bold\">8.947e-01</span>  <span style=\"color: #008080; text-decoration-color: #008080; font-weight: bold\">9.042e-01</span> <span style=\"color: #808000; text-decoration-color: #808000\">...</span> <span style=\"color: #008080; text-decoration-color: #008080; font-weight: bold\">-2.336e+00</span>  <span style=\"color: #008080; text-decoration-color: #008080; font-weight: bold\">1.772e-02</span><span style=\"font-weight: bold\">]</span>\n",
       "                   g: <span style=\"font-weight: bold\">[</span><span style=\"color: #008080; text-decoration-color: #008080; font-weight: bold\">-9.706e-09</span>  <span style=\"color: #008080; text-decoration-color: #008080; font-weight: bold\">3.654e-04</span> <span style=\"color: #808000; text-decoration-color: #808000\">...</span>  <span style=\"color: #008080; text-decoration-color: #008080; font-weight: bold\">1.323e-15</span> <span style=\"color: #008080; text-decoration-color: #008080; font-weight: bold\">-1.539e-14</span><span style=\"font-weight: bold\">]</span>\n",
       "             obj_val: <span style=\"color: #008080; text-decoration-color: #008080; font-weight: bold\">0.07807927915745447</span>\n",
       "              mult_g: <span style=\"font-weight: bold\">[</span><span style=\"color: #008080; text-decoration-color: #008080; font-weight: bold\">-3.404e-02</span> <span style=\"color: #008080; text-decoration-color: #008080; font-weight: bold\">-2.713e-08</span> <span style=\"color: #808000; text-decoration-color: #808000\">...</span>  <span style=\"color: #008080; text-decoration-color: #008080; font-weight: bold\">2.702e-02</span>  <span style=\"color: #008080; text-decoration-color: #008080; font-weight: bold\">4.929e-04</span><span style=\"font-weight: bold\">]</span>\n",
       "            mult_x_L: <span style=\"font-weight: bold\">[</span> <span style=\"color: #008080; text-decoration-color: #008080; font-weight: bold\">1.118e-11</span>  <span style=\"color: #008080; text-decoration-color: #008080; font-weight: bold\">1.106e-11</span> <span style=\"color: #808000; text-decoration-color: #808000\">...</span>  <span style=\"color: #008080; text-decoration-color: #008080; font-weight: bold\">0.000e+00</span>  <span style=\"color: #008080; text-decoration-color: #008080; font-weight: bold\">5.644e-10</span><span style=\"font-weight: bold\">]</span>\n",
       "            mult_x_U: <span style=\"font-weight: bold\">[</span> <span style=\"color: #008080; text-decoration-color: #008080; font-weight: bold\">0.000e+00</span>  <span style=\"color: #008080; text-decoration-color: #008080; font-weight: bold\">0.000e+00</span> <span style=\"color: #808000; text-decoration-color: #808000\">...</span>  <span style=\"color: #008080; text-decoration-color: #008080; font-weight: bold\">0.000e+00</span>  <span style=\"color: #008080; text-decoration-color: #008080; font-weight: bold\">0.000e+00</span><span style=\"font-weight: bold\">]</span>\n",
       "          status_msg: <span style=\"color: #008000; text-decoration-color: #008000\">b'Algorithm terminated successfully at a locally optimal point, satisfying the convergence </span>\n",
       "<span style=\"color: #008000; text-decoration-color: #008000\">tolerances (can be specified by options).'</span>\n",
       "    nfev: <span style=\"color: #008080; text-decoration-color: #008080; font-weight: bold\">18</span>\n",
       "    njev: <span style=\"color: #008080; text-decoration-color: #008080; font-weight: bold\">19</span>\n",
       "</pre>\n"
      ],
      "text/plain": [
       "Intermediate result:  message: \u001b[32mb'Algorithm terminated successfully at a locally optimal point, satisfying the \u001b[0m\n",
       "\u001b[32mconvergence tolerances \u001b[0m\u001b[32m(\u001b[0m\u001b[32mcan be specified by options\u001b[0m\u001b[32m)\u001b[0m\u001b[32m.'\u001b[0m\n",
       " success: \u001b[3;92mTrue\u001b[0m\n",
       "  status: \u001b[1;36m0\u001b[0m\n",
       "     fun: \u001b[1;36m0.07807927915745447\u001b[0m\n",
       "       x: \u001b[1m[\u001b[0m \u001b[1;36m8.947e-01\u001b[0m  \u001b[1;36m9.042e-01\u001b[0m \u001b[33m...\u001b[0m \u001b[1;36m-2.336e+00\u001b[0m  \u001b[1;36m1.772e-02\u001b[0m\u001b[1m]\u001b[0m\n",
       "     nit: \u001b[1;36m17\u001b[0m\n",
       "    info:     status: \u001b[1;36m0\u001b[0m\n",
       "                   x: \u001b[1m[\u001b[0m \u001b[1;36m8.947e-01\u001b[0m  \u001b[1;36m9.042e-01\u001b[0m \u001b[33m...\u001b[0m \u001b[1;36m-2.336e+00\u001b[0m  \u001b[1;36m1.772e-02\u001b[0m\u001b[1m]\u001b[0m\n",
       "                   g: \u001b[1m[\u001b[0m\u001b[1;36m-9.706e-09\u001b[0m  \u001b[1;36m3.654e-04\u001b[0m \u001b[33m...\u001b[0m  \u001b[1;36m1.323e-15\u001b[0m \u001b[1;36m-1.539e-14\u001b[0m\u001b[1m]\u001b[0m\n",
       "             obj_val: \u001b[1;36m0.07807927915745447\u001b[0m\n",
       "              mult_g: \u001b[1m[\u001b[0m\u001b[1;36m-3.404e-02\u001b[0m \u001b[1;36m-2.713e-08\u001b[0m \u001b[33m...\u001b[0m  \u001b[1;36m2.702e-02\u001b[0m  \u001b[1;36m4.929e-04\u001b[0m\u001b[1m]\u001b[0m\n",
       "            mult_x_L: \u001b[1m[\u001b[0m \u001b[1;36m1.118e-11\u001b[0m  \u001b[1;36m1.106e-11\u001b[0m \u001b[33m...\u001b[0m  \u001b[1;36m0.000e+00\u001b[0m  \u001b[1;36m5.644e-10\u001b[0m\u001b[1m]\u001b[0m\n",
       "            mult_x_U: \u001b[1m[\u001b[0m \u001b[1;36m0.000e+00\u001b[0m  \u001b[1;36m0.000e+00\u001b[0m \u001b[33m...\u001b[0m  \u001b[1;36m0.000e+00\u001b[0m  \u001b[1;36m0.000e+00\u001b[0m\u001b[1m]\u001b[0m\n",
       "          status_msg: \u001b[32mb'Algorithm terminated successfully at a locally optimal point, satisfying the convergence \u001b[0m\n",
       "\u001b[32mtolerances \u001b[0m\u001b[32m(\u001b[0m\u001b[32mcan be specified by options\u001b[0m\u001b[32m)\u001b[0m\u001b[32m.'\u001b[0m\n",
       "    nfev: \u001b[1;36m18\u001b[0m\n",
       "    njev: \u001b[1;36m19\u001b[0m\n"
      ]
     },
     "metadata": {},
     "output_type": "display_data"
    },
    {
     "data": {
      "text/html": [
       "<pre style=\"white-space:pre;overflow-x:auto;line-height:normal;font-family:Menlo,'DejaVu Sans Mono',consolas,'Courier New',monospace\">Intermediate fn: <span style=\"color: #008080; text-decoration-color: #008080; font-weight: bold\">0.07807927915745447</span>\n",
       "</pre>\n"
      ],
      "text/plain": [
       "Intermediate fn: \u001b[1;36m0.07807927915745447\u001b[0m\n"
      ]
     },
     "metadata": {},
     "output_type": "display_data"
    },
    {
     "data": {
      "text/html": [
       "<pre style=\"white-space:pre;overflow-x:auto;line-height:normal;font-family:Menlo,'DejaVu Sans Mono',consolas,'Courier New',monospace\">complementarity: <span style=\"color: #008080; text-decoration-color: #008080; font-weight: bold\">0.004884384993526334</span>\n",
       "</pre>\n"
      ],
      "text/plain": [
       "complementarity: \u001b[1;36m0.004884384993526334\u001b[0m\n"
      ]
     },
     "metadata": {},
     "output_type": "display_data"
    },
    {
     "data": {
      "text/html": [
       "<pre style=\"white-space:pre;overflow-x:auto;line-height:normal;font-family:Menlo,'DejaVu Sans Mono',consolas,'Courier New',monospace\">* <span style=\"font-weight: bold\">(</span>STOPPED<span style=\"font-weight: bold\">)</span> Iteration <span style=\"color: #008080; text-decoration-color: #008080; font-weight: bold\">17</span>: Solving the NLP problem for t = <span style=\"color: #008080; text-decoration-color: #008080; font-weight: bold\">1e-05</span> with complementarity: <span style=\"color: #008080; text-decoration-color: #008080; font-weight: bold\">0.004884384993526334</span>\n",
       "</pre>\n"
      ],
      "text/plain": [
       "* \u001b[1m(\u001b[0mSTOPPED\u001b[1m)\u001b[0m Iteration \u001b[1;36m17\u001b[0m: Solving the NLP problem for t = \u001b[1;36m1e-05\u001b[0m with complementarity: \u001b[1;36m0.004884384993526334\u001b[0m\n"
      ]
     },
     "metadata": {},
     "output_type": "display_data"
    }
   ],
   "source": [
    "res_mpcc,x_opt_mpcc,fun_opt_mpcc = mpcc_model.solve(max_iter=100,tol=1e-4,print_level=0,verbose=True)"
   ]
  },
  {
   "cell_type": "code",
   "execution_count": 34,
   "metadata": {},
   "outputs": [],
   "source": [
    "u_mpcc, q_mpcc, r_mpcc, delta_mpcc, theta_mpcc, alpha_mpcc = mpcc_model.objective_func.parse_vars(x_opt_mpcc)"
   ]
  },
  {
   "cell_type": "code",
   "execution_count": 35,
   "metadata": {},
   "outputs": [
    {
     "data": {
      "image/png": "[encoded data removed]",
      "text/plain": [
       "<Figure size 1400x400 with 3 Axes>"
      ]
     },
     "metadata": {},
     "output_type": "display_data"
    }
   ],
   "source": [
    "u_mpcc = u_mpcc.reshape((scale,scale))\n",
    "plot_experiment(true,noisy,u_mpcc,alpha_mpcc)"
   ]
  },
  {
   "cell_type": "code",
   "execution_count": null,
   "metadata": {},
   "outputs": [],
   "source": []
  }
 ],
 "metadata": {
  "kernelspec": {
   "display_name": ".venv",
   "language": "python",
   "name": "python3"
  },
  "language_info": {
   "codemirror_mode": {
    "name": "ipython",
    "version": 3
   },
   "file_extension": ".py",
   "mimetype": "text/x-python",
   "name": "python",
   "nbconvert_exporter": "python",
   "pygments_lexer": "ipython3",
   "version": "3.12.7"
  }
 },
 "nbformat": 4,
 "nbformat_minor": 2
}
