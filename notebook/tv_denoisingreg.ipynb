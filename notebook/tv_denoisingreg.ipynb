{
 "cells": [
  {
   "cell_type": "code",
   "execution_count": 1,
   "metadata": {},
   "outputs": [],
   "source": [
    "import sys\n",
    "import os\n",
    "# Get the absolute path to the project root\n",
    "project_root = os.path.abspath(os.path.join(os.getcwd(), \"..\"))\n",
    "# Add it to sys.path\n",
    "sys.path.append(project_root)\n",
    "os.chdir(project_root)"
   ]
  },
  {
   "cell_type": "code",
   "execution_count": 2,
   "metadata": {},
   "outputs": [],
   "source": [
    "import numpy as np\n",
    "from bimpcc.dataset import get_dataset\n",
    "from bimpcc.models.tvregularized import TVRegularized\n",
    "from bimpcc.models.tvdenoising_model import TVDenoisingMPCC\n",
    "import matplotlib.pyplot as plt\n",
    "from skimage.metrics import peak_signal_noise_ratio as psnr"
   ]
  },
  {
   "cell_type": "code",
   "execution_count": 3,
   "metadata": {},
   "outputs": [],
   "source": [
    "def plot_experiment(true,noisy,u, alpha):\n",
    "    \n",
    "    fig,ax = plt.subplots(1,3,figsize=(14,4))\n",
    "    ax[0].imshow(true,cmap='gray')\n",
    "    ax[0].set_title('True Image')\n",
    "    ax[0].axis('off')\n",
    "    ax[1].imshow(noisy,cmap='gray')\n",
    "    ax[1].set_title('Noisy Image\\nPSNR: {:.4f}'.format(psnr(true,noisy)))\n",
    "    ax[1].axis('off')\n",
    "    ax[2].imshow(u,cmap='gray')\n",
    "    ax[2].set_title(f'Reconstructed Image\\nPSNR: {psnr(true,u):.4f}\\n alpha = {alpha}')\n",
    "    # ax[2].set_xlabel('alpha = {}'.format(alpha))\n",
    "    ax[2].axis('off')\n",
    "\n",
    "    plt.show()"
   ]
  },
  {
   "cell_type": "code",
   "execution_count": 4,
   "metadata": {},
   "outputs": [],
   "source": [
    "scale = 8"
   ]
  },
  {
   "cell_type": "code",
   "execution_count": 6,
   "metadata": {},
   "outputs": [],
   "source": [
    "dataset = get_dataset(\"cameraman\",scale=scale, random_state=1)\n",
    "true, noisy = dataset.get_training_data()"
   ]
  },
  {
   "cell_type": "code",
   "execution_count": 7,
   "metadata": {},
   "outputs": [
    {
     "data": {
      "text/plain": [
       "(np.float64(-0.5), np.float64(7.5), np.float64(7.5), np.float64(-0.5))"
      ]
     },
     "execution_count": 7,
     "metadata": {},
     "output_type": "execute_result"
    },
    {
     "data": {
      "image/png": "[encoded data removed]",
      "text/plain": [
       "<Figure size 1000x500 with 2 Axes>"
      ]
     },
     "metadata": {},
     "output_type": "display_data"
    }
   ],
   "source": [
    "fig,ax = plt.subplots(1,2,figsize=(10,5))\n",
    "ax[0].imshow(true,cmap='gray')\n",
    "ax[0].set_title('True Image')\n",
    "ax[0].axis('off')\n",
    "ax[1].imshow(noisy,cmap='gray')\n",
    "ax[1].set_title('Noisy Image')\n",
    "ax[1].axis('off')"
   ]
  },
  {
   "cell_type": "code",
   "execution_count": 8,
   "metadata": {},
   "outputs": [],
   "source": [
    "model = TVRegularized(true, noisy, epsilon=0.0)"
   ]
  },
  {
   "cell_type": "code",
   "execution_count": 9,
   "metadata": {},
   "outputs": [
    {
     "name": "stdout",
     "output_type": "stream",
     "text": [
      "\n",
      "******************************************************************************\n",
      "This program contains Ipopt, a library for large-scale nonlinear optimization.\n",
      " Ipopt is released as open source code under the Eclipse Public License (EPL).\n",
      "         For more information visit https://github.com/coin-or/Ipopt\n",
      "******************************************************************************\n",
      "\n",
      "This is Ipopt version 3.14.17, running with linear solver MUMPS 5.6.2.\n",
      "\n",
      "Number of nonzeros in equality constraint Jacobian...:      932\n",
      "Number of nonzeros in inequality constraint Jacobian.:        0\n",
      "Number of nonzeros in Lagrangian Hessian.............:        0\n",
      "\n",
      "Total number of variables............................:      177\n",
      "                     variables with only lower bounds:       65\n",
      "                variables with lower and upper bounds:        0\n",
      "                     variables with only upper bounds:        0\n",
      "Total number of equality constraints.................:      176\n",
      "Total number of inequality constraints...............:        0\n",
      "        inequality constraints with only lower bounds:        0\n",
      "   inequality constraints with lower and upper bounds:        0\n",
      "        inequality constraints with only upper bounds:        0\n",
      "\n",
      "iter    objective    inf_pr   inf_du lg(mu)  ||d||  lg(rg) alpha_du alpha_pr  ls\n",
      "   0  5.7866453e-02 1.10e-02 4.88e-02   0.0 0.00e+00    -  0.00e+00 0.00e+00   0\n",
      "   1  5.5925116e-02 1.47e-03 2.23e-01  -6.2 8.08e-03    -  8.01e-01 1.00e+00h  1\n",
      "   2  5.4030576e-02 1.42e-03 6.06e-01  -6.9 6.55e-03    -  5.69e-01 1.00e+00h  1\n",
      "   3  6.4133798e-02 4.88e-02 1.69e+00  -2.5 8.12e-02    -  9.56e-01 1.00e+00h  1\n",
      "   4  5.8034017e-02 3.46e-02 9.28e-02  -2.3 2.18e-02    -  1.00e+00 1.00e+00h  1\n",
      "   5  5.5100577e-02 2.75e-02 6.26e-02  -2.3 1.04e-02    -  1.00e+00 1.00e+00h  1\n",
      "   6  5.2926328e-02 1.95e-02 7.93e-01  -2.3 1.21e-02    -  1.00e+00 1.00e+00h  1\n",
      "   7  5.1514046e-02 2.57e-03 4.39e-01  -4.0 7.97e-03    -  9.99e-01 1.00e+00h  1\n",
      "   8  5.0638159e-02 5.18e-03 2.70e-02  -5.5 8.54e-03    -  1.00e+00 1.00e+00h  1\n",
      "   9  5.0639832e-02 2.08e-04 2.55e-01  -5.4 4.88e-03    -  1.00e+00 1.00e+00h  1\n",
      "iter    objective    inf_pr   inf_du lg(mu)  ||d||  lg(rg) alpha_du alpha_pr  ls\n",
      "  10  5.0475493e-02 2.83e-04 5.67e-02  -7.0 4.89e-03    -  1.00e+00 1.00e+00h  1\n",
      "  11  5.0449476e-02 6.93e-05 1.60e-02  -8.9 2.05e-03    -  1.00e+00 1.00e+00h  1\n",
      "\n",
      "Number of Iterations....: 11\n",
      "\n",
      "                                   (scaled)                 (unscaled)\n",
      "Objective...............:   5.0449476493469994e-02    5.0449476493469994e-02\n",
      "Dual infeasibility......:   1.6045090533521281e-02    1.6045090533521281e-02\n",
      "Constraint violation....:   6.9326892055308724e-05    6.9326892055308724e-05\n",
      "Variable bound violation:   0.0000000000000000e+00    0.0000000000000000e+00\n",
      "Complementarity.........:   1.2886478084560408e-08    1.2886478084560408e-08\n",
      "Overall NLP error.......:   1.6045090533521281e-02    1.6045090533521281e-02\n",
      "\n",
      "\n",
      "Number of objective function evaluations             = 12\n",
      "Number of objective gradient evaluations             = 12\n",
      "Number of equality constraint evaluations            = 12\n",
      "Number of inequality constraint evaluations          = 0\n",
      "Number of equality constraint Jacobian evaluations   = 12\n",
      "Number of inequality constraint Jacobian evaluations = 0\n",
      "Number of Lagrangian Hessian evaluations             = 0\n",
      "Total seconds in IPOPT                               = 0.132\n",
      "\n",
      "EXIT: Optimal Solution Found.\n"
     ]
    }
   ],
   "source": [
    "res,x_opt,fun_opt = model.solve(max_iter=3000,tol=1e-1,print_level=5)"
   ]
  },
  {
   "cell_type": "code",
   "execution_count": 10,
   "metadata": {},
   "outputs": [],
   "source": [
    "u, q, alpha = model.objective_func.parse_vars(x_opt)"
   ]
  },
  {
   "cell_type": "code",
   "execution_count": 11,
   "metadata": {},
   "outputs": [
    {
     "data": {
      "image/png": "[encoded data removed]",
      "text/plain": [
       "<Figure size 1400x400 with 3 Axes>"
      ]
     },
     "metadata": {},
     "output_type": "display_data"
    }
   ],
   "source": [
    "u = u.reshape((scale,scale))\n",
    "plot_experiment(true,noisy,u,alpha)"
   ]
  },
  {
   "cell_type": "code",
   "execution_count": 12,
   "metadata": {},
   "outputs": [],
   "source": [
    "m = q.flatten().size\n",
    "n = m // 2\n",
    "Ku = model.K @ u.flatten()\n",
    "V = Ku.reshape(2, -1).T\n",
    "normKu = np.apply_along_axis(np.linalg.norm, axis=1, arr=V)\n",
    "Q = q.reshape(2,-1).T\n",
    "normQ = np.apply_along_axis(np.linalg.norm, axis=1, arr=Q)\n",
    "r0 = normKu\n",
    "delta0 = normQ\n",
    "# theta0 = np.zeros(n)"
   ]
  },
  {
   "cell_type": "code",
   "execution_count": 13,
   "metadata": {},
   "outputs": [],
   "source": [
    "Kxu = Ku[:n]  # Primeras n componentes\n",
    "Kyu = Ku[n:]  # Últimas n componentes\n",
    "qx = q[:n]  # Primeras n componentes\n",
    "qy = q[n:]  # Últimas n componentes\n",
    "epsilon = 1e-10\n",
    "\n",
    "# Condiciones para calcular theta según los casos dados\n",
    "theta0 = np.zeros(n)  # Inicializamos theta0\n",
    "\n",
    "# Caso 1: r_i ≠ 0\n",
    "mask_r_nonzero = r0 > epsilon\n",
    "theta0[mask_r_nonzero] = np.arccos(Kxu[mask_r_nonzero] / r0[mask_r_nonzero])\n",
    "theta0[mask_r_nonzero & (Kyu < 0)] *= -1  # Si Ky^i u < 0, negamos theta0\n",
    "\n",
    "# Caso 2: r_i = 0 y delta_i ≠ 0\n",
    "mask_r_zero_delta_nonzero = (r0 <= epsilon) & (delta0 > epsilon)\n",
    "theta0[mask_r_zero_delta_nonzero] = np.arccos(qx[mask_r_zero_delta_nonzero] / delta0[mask_r_zero_delta_nonzero])\n",
    "theta0[mask_r_zero_delta_nonzero & (qy < 0)] *= -1  # Si qy^i < 0, negamos theta0\n",
    "\n",
    "# Caso 3: r_i = 0 y delta_i = 0 (theta0 indefinido)\n",
    "mask_r_zero_delta_zero = (r0 <= epsilon) & (delta0 <= epsilon)\n",
    "theta0[mask_r_zero_delta_zero] = 0"
   ]
  },
  {
   "cell_type": "code",
   "execution_count": 14,
   "metadata": {},
   "outputs": [
    {
     "name": "stdout",
     "output_type": "stream",
     "text": [
      "[ 8.92255779e-01  9.54341785e-01  9.61763983e-01  9.30378176e-01\n",
      "  9.84821766e-01  9.45073466e-01  8.63983231e-01  8.63937258e-01\n",
      "  9.11266059e-01  9.53540690e-01  9.05968315e-01  4.94752993e-01\n",
      "  7.62361520e-01  9.19683254e-01  8.63953756e-01  8.52639585e-01\n",
      "  9.02976846e-01  6.48483667e-01  1.54044931e-01  2.89621943e-01\n",
      "  5.63275273e-01  8.67021771e-01  9.23307106e-01  8.51040438e-01\n",
      "  7.48919528e-01  1.63618880e-01  3.58109194e-02  9.66257456e-02\n",
      "  5.04171440e-01  8.97083344e-01  9.54229281e-01  7.67436086e-01\n",
      "  7.59665169e-01  3.71389625e-01  6.72478344e-02  4.07447695e-01\n",
      "  6.24733468e-01  7.35025054e-01  8.51777518e-01  7.84717815e-01\n",
      "  4.91384013e-01  6.87896696e-02  8.31711573e-02  4.89005374e-01\n",
      "  6.32004891e-01  5.41199977e-01  6.36571422e-01  5.72825782e-01\n",
      "  6.69179537e-01  1.99419957e-01  2.23593838e-01  5.32759036e-01\n",
      "  7.10029115e-01  6.23177337e-01  6.46192402e-01  5.75661677e-01\n",
      "  6.68841098e-01  3.04804248e-01  3.22059803e-01  6.56572045e-01\n",
      "  6.72647439e-01  6.62504190e-01  5.85708711e-01  5.67742430e-01\n",
      "  1.12995195e-02  1.17807437e-02 -5.79663851e-03  1.46603569e-03\n",
      " -2.07849600e-03 -1.12789318e-02 -4.59727032e-03  1.14178073e-02\n",
      " -1.16476508e-02 -9.49125572e-03  3.96262543e-03  7.19414825e-03\n",
      " -3.18791334e-03 -2.48157475e-03 -1.15087994e-02 -1.18178591e-02\n",
      "  7.80896479e-03  5.80783817e-03  1.10129752e-02  3.30974115e-03\n",
      " -9.14927359e-03 -1.18023416e-02 -1.14861851e-02  6.95026074e-03\n",
      "  1.18138093e-02  1.04466346e-02  1.03540401e-02 -6.08851030e-03\n",
      " -1.12861535e-02 -1.04301016e-02  1.13160929e-02  1.17806393e-02\n",
      "  4.49211644e-03  4.25407515e-03 -1.14974389e-02 -1.16040157e-02\n",
      "  1.05609212e-02  1.06636678e-02  6.54075182e-03 -4.65806634e-03\n",
      "  5.58683961e-03 -5.18328963e-03 -1.13231751e-02  5.71182701e-03\n",
      "  1.14583618e-02  1.07278683e-02 -1.17459905e-02  1.17289142e-02\n",
      " -1.18179850e-02 -1.13519195e-02  2.04247611e-03  1.10831396e-02\n",
      "  4.65655436e-03 -2.93178589e-03 -9.28118143e-03 -1.08118715e-02\n",
      "  3.46199635e-03 -1.19884141e-03 -1.02987681e-02 -1.17266363e-02\n",
      " -1.16337024e-02 -3.52869742e-03 -2.94754290e-03 -3.04925054e-03\n",
      " -2.01514572e-03 -7.04125319e-03 -1.11337672e-02 -9.37607716e-03\n",
      " -1.13799258e-02 -1.15544434e-02  2.68540963e-03 -3.78519548e-05\n",
      " -8.87044391e-03 -1.02923560e-02 -4.28690389e-03 -1.13450081e-02\n",
      " -7.48033944e-03  6.06621292e-04  2.78059787e-03 -9.55817185e-03\n",
      "  3.12775629e-04  5.52554626e-03  5.69714203e-03  1.01288601e-02\n",
      "  3.50515801e-03 -5.55665503e-03 -3.40725079e-03  9.38829399e-04\n",
      " -1.09309201e-02 -1.10256977e-02  2.73459988e-03  2.23840992e-03\n",
      "  5.31348864e-03 -5.09410226e-03 -9.84285426e-03 -1.08613917e-02\n",
      "  1.04139585e-02  1.06205832e-02  3.38368916e-03  1.03462161e-02\n",
      "  2.89306178e-03  4.95778484e-03  1.31078263e-03  1.45052195e-03\n",
      " -6.10555639e-05  3.28589998e-03  1.16401899e-02  4.10209546e-03\n",
      " -1.08639982e-02  1.14526480e-02 -7.31654964e-03 -4.77232899e-03\n",
      "  6.49312159e-02  7.46530527e-03  6.40173843e-02  4.39014128e-01\n",
      "  2.25983381e-01  8.49722846e-02  5.46103502e-05  4.37582206e-02\n",
      "  4.82891499e-02  5.12013504e-01  7.98124739e-01  2.58512815e-01\n",
      "  2.06739233e-01  5.38631805e-02  2.61322787e-01  4.94441322e-01\n",
      "  2.05218868e-01  5.56758481e-01  3.25946647e-01  2.01036244e-01\n",
      "  9.33580974e-02  5.86072134e-01  1.31495459e-01  1.03383416e-01\n",
      "  4.07687334e-01  4.44464224e-01  6.52222178e-02  3.62632020e-01\n",
      "  4.06562542e-01  3.44623154e-01  3.55291864e-01  2.17971937e-01\n",
      "  2.90067256e-01  3.24342212e-01  6.89242770e-02  4.30392419e-01\n",
      "  1.61152345e-02  4.49743896e-01  2.58384453e-01  2.30529317e-01\n",
      "  2.01759661e-01  1.45353977e-01  4.90298473e-01  4.99875933e-02\n",
      "  3.18858745e-01  1.95307369e-01  8.73830339e-02  2.31891249e-02\n",
      "  7.05315364e-02  3.78983743e-01  9.99664971e-02  3.56690483e-01\n",
      "  4.06916209e-02  4.06138755e-02  9.77538865e-02  1.96341985e-02\n",
      "  1.18179762e-02  1.18415853e-02  1.18180220e-02  1.18179212e-02\n",
      "  1.18179176e-02  1.18180374e-02  5.46103502e-03  1.18179631e-02\n",
      "  1.18206845e-02  1.18179178e-02  1.18179174e-02  1.18180621e-02\n",
      "  1.18180160e-02  1.18179261e-02  1.18179478e-02  1.18179197e-02\n",
      "  1.18179823e-02  1.18179346e-02  1.18179172e-02  1.18179353e-02\n",
      "  1.18179814e-02  1.18179209e-02  1.18179597e-02  1.18179852e-02\n",
      "  1.18179490e-02  1.18179455e-02  1.18179344e-02  1.18179425e-02\n",
      "  1.18179268e-02  1.18179285e-02  1.18179235e-02  1.18179890e-02\n",
      "  1.18179577e-02  1.18179171e-02  1.18181698e-02  1.18179380e-02\n",
      "  1.18222763e-02  1.18179393e-02  1.18179192e-02  1.18180968e-02\n",
      "  1.18179232e-02  1.18179219e-02  1.18179375e-02  1.18181705e-02\n",
      "  1.18179466e-02  1.18180704e-02  1.18189019e-02  1.18182673e-02\n",
      "  1.18181427e-02  1.18179192e-02  1.18180256e-02  1.18179173e-02\n",
      "  1.18198966e-02  1.18219505e-02  1.18183005e-02  1.18182778e-02\n",
      "  2.97128419e-01 -1.07515974e-01 -2.08319591e+00 -1.44646294e+00\n",
      " -1.74760649e+00 -2.83815161e+00 -2.57146359e+00 -2.61142019e-01\n",
      " -2.96908038e+00 -2.50333279e+00 -1.22887627e+00 -9.16545998e-01\n",
      " -1.84373679e+00 -1.78242641e+00  2.91246652e+00 -3.13835840e+00\n",
      " -8.49117433e-01 -1.05697153e+00 -3.71206888e-01 -1.28702716e+00\n",
      " -2.45605747e+00  3.09027684e+00  2.90421180e+00 -9.41908819e-01\n",
      "  2.63606068e-02  4.86419145e-01  5.02932546e-01  2.11192528e+00\n",
      "  2.84052508e+00 -2.65202108e+00 -2.92513056e-01  7.93674886e-02\n",
      " -1.18075392e+00 -1.20256390e+00  2.90846023e+00  2.95094375e+00\n",
      "  4.68125495e-01 -4.45564867e-01 -9.84311126e-01 -1.97566436e+00\n",
      "  1.07844609e+00  2.02478594e+00  2.85112278e+00  1.06603606e+00\n",
      "  2.47208621e-01  4.33153458e-01  3.03126775e+00  1.22601109e-01\n",
      " -3.13679423e+00  2.85980760e+00  1.39731406e+00  3.54494242e-01\n",
      " -1.16466953e+00  1.82321669e+00 -2.47446200e+00 -2.72642923e+00\n",
      "  1.18179171e-02]\n"
     ]
    }
   ],
   "source": [
    "x0_mpcc = np.concatenate((u.flatten(),q.flatten(),r0,delta0,theta0,alpha))\n",
    "print(x0_mpcc)"
   ]
  },
  {
   "cell_type": "code",
   "execution_count": 19,
   "metadata": {},
   "outputs": [],
   "source": [
    "mpcc_model = TVDenoisingMPCC(true, noisy, x0=x0_mpcc, epsilon=0.0)"
   ]
  },
  {
   "cell_type": "code",
   "execution_count": 23,
   "metadata": {},
   "outputs": [
    {
     "data": {
      "text/html": [
       "<pre style=\"white-space:pre;overflow-x:auto;line-height:normal;font-family:Menlo,'DejaVu Sans Mono',consolas,'Courier New',monospace\"> Iter   Termination_status            Objective      MPCC_compl               t\n",
       "\n",
       "</pre>\n"
      ],
      "text/plain": [
       " Iter   Termination_status            Objective      MPCC_compl               t\n",
       "\n"
      ]
     },
     "metadata": {},
     "output_type": "display_data"
    },
    {
     "data": {
      "text/html": [
       "<pre style=\"white-space:pre;overflow-x:auto;line-height:normal;font-family:Menlo,'DejaVu Sans Mono',consolas,'Courier New',monospace\">    <span style=\"color: #008080; text-decoration-color: #008080; font-weight: bold\">0</span>                 <span style=\"color: #008080; text-decoration-color: #008080; font-weight: bold\">0</span>  <span style=\"color: #008080; text-decoration-color: #008080; font-weight: bold\">0.0208856849702278</span>      <span style=\"color: #008080; text-decoration-color: #008080; font-weight: bold\">2.1952670886904375</span>                 <span style=\"color: #008080; text-decoration-color: #008080; font-weight: bold\">1.0</span>\n",
       "</pre>\n"
      ],
      "text/plain": [
       "    \u001b[1;36m0\u001b[0m                 \u001b[1;36m0\u001b[0m  \u001b[1;36m0.0208856849702278\u001b[0m      \u001b[1;36m2.1952670886904375\u001b[0m                 \u001b[1;36m1.0\u001b[0m\n"
      ]
     },
     "metadata": {},
     "output_type": "display_data"
    },
    {
     "data": {
      "text/html": [
       "<pre style=\"white-space:pre;overflow-x:auto;line-height:normal;font-family:Menlo,'DejaVu Sans Mono',consolas,'Courier New',monospace\">    <span style=\"color: #008080; text-decoration-color: #008080; font-weight: bold\">1</span>                 <span style=\"color: #008080; text-decoration-color: #008080; font-weight: bold\">0</span>  <span style=\"color: #008080; text-decoration-color: #008080; font-weight: bold\">0.020885684926974252</span>    <span style=\"color: #008080; text-decoration-color: #008080; font-weight: bold\">2.1952624732556663</span>                 <span style=\"color: #008080; text-decoration-color: #008080; font-weight: bold\">0.7</span>\n",
       "</pre>\n"
      ],
      "text/plain": [
       "    \u001b[1;36m1\u001b[0m                 \u001b[1;36m0\u001b[0m  \u001b[1;36m0.020885684926974252\u001b[0m    \u001b[1;36m2.1952624732556663\u001b[0m                 \u001b[1;36m0.7\u001b[0m\n"
      ]
     },
     "metadata": {},
     "output_type": "display_data"
    },
    {
     "data": {
      "text/html": [
       "<pre style=\"white-space:pre;overflow-x:auto;line-height:normal;font-family:Menlo,'DejaVu Sans Mono',consolas,'Courier New',monospace\">    <span style=\"color: #008080; text-decoration-color: #008080; font-weight: bold\">2</span>                 <span style=\"color: #008080; text-decoration-color: #008080; font-weight: bold\">0</span>  <span style=\"color: #008080; text-decoration-color: #008080; font-weight: bold\">0.02088568600838989</span>     <span style=\"color: #008080; text-decoration-color: #008080; font-weight: bold\">2.1326855355911585</span>      <span style=\"color: #008080; text-decoration-color: #008080; font-weight: bold\">0.48999999999999994</span>\n",
       "</pre>\n"
      ],
      "text/plain": [
       "    \u001b[1;36m2\u001b[0m                 \u001b[1;36m0\u001b[0m  \u001b[1;36m0.02088568600838989\u001b[0m     \u001b[1;36m2.1326855355911585\u001b[0m      \u001b[1;36m0.48999999999999994\u001b[0m\n"
      ]
     },
     "metadata": {},
     "output_type": "display_data"
    },
    {
     "data": {
      "text/html": [
       "<pre style=\"white-space:pre;overflow-x:auto;line-height:normal;font-family:Menlo,'DejaVu Sans Mono',consolas,'Courier New',monospace\">    <span style=\"color: #008080; text-decoration-color: #008080; font-weight: bold\">3</span>                 <span style=\"color: #008080; text-decoration-color: #008080; font-weight: bold\">0</span>  <span style=\"color: #008080; text-decoration-color: #008080; font-weight: bold\">0.02088568454948467</span>     <span style=\"color: #008080; text-decoration-color: #008080; font-weight: bold\">1.8888262469200257</span>      <span style=\"color: #008080; text-decoration-color: #008080; font-weight: bold\">0.3429999999999999</span>\n",
       "</pre>\n"
      ],
      "text/plain": [
       "    \u001b[1;36m3\u001b[0m                 \u001b[1;36m0\u001b[0m  \u001b[1;36m0.02088568454948467\u001b[0m     \u001b[1;36m1.8888262469200257\u001b[0m      \u001b[1;36m0.3429999999999999\u001b[0m\n"
      ]
     },
     "metadata": {},
     "output_type": "display_data"
    },
    {
     "data": {
      "text/html": [
       "<pre style=\"white-space:pre;overflow-x:auto;line-height:normal;font-family:Menlo,'DejaVu Sans Mono',consolas,'Courier New',monospace\">    <span style=\"color: #008080; text-decoration-color: #008080; font-weight: bold\">4</span>                 <span style=\"color: #008080; text-decoration-color: #008080; font-weight: bold\">0</span>  <span style=\"color: #008080; text-decoration-color: #008080; font-weight: bold\">0.020885684847907933</span>    <span style=\"color: #008080; text-decoration-color: #008080; font-weight: bold\">1.4970519349760638</span>      <span style=\"color: #008080; text-decoration-color: #008080; font-weight: bold\">0.24009999999999992</span>\n",
       "</pre>\n"
      ],
      "text/plain": [
       "    \u001b[1;36m4\u001b[0m                 \u001b[1;36m0\u001b[0m  \u001b[1;36m0.020885684847907933\u001b[0m    \u001b[1;36m1.4970519349760638\u001b[0m      \u001b[1;36m0.24009999999999992\u001b[0m\n"
      ]
     },
     "metadata": {},
     "output_type": "display_data"
    },
    {
     "data": {
      "text/html": [
       "<pre style=\"white-space:pre;overflow-x:auto;line-height:normal;font-family:Menlo,'DejaVu Sans Mono',consolas,'Courier New',monospace\">    <span style=\"color: #008080; text-decoration-color: #008080; font-weight: bold\">5</span>                 <span style=\"color: #008080; text-decoration-color: #008080; font-weight: bold\">0</span>  <span style=\"color: #008080; text-decoration-color: #008080; font-weight: bold\">0.0208856850868809</span>      <span style=\"color: #008080; text-decoration-color: #008080; font-weight: bold\">1.121260159085687</span>       <span style=\"color: #008080; text-decoration-color: #008080; font-weight: bold\">0.16806999999999994</span>\n",
       "</pre>\n"
      ],
      "text/plain": [
       "    \u001b[1;36m5\u001b[0m                 \u001b[1;36m0\u001b[0m  \u001b[1;36m0.0208856850868809\u001b[0m      \u001b[1;36m1.121260159085687\u001b[0m       \u001b[1;36m0.16806999999999994\u001b[0m\n"
      ]
     },
     "metadata": {},
     "output_type": "display_data"
    },
    {
     "data": {
      "text/html": [
       "<pre style=\"white-space:pre;overflow-x:auto;line-height:normal;font-family:Menlo,'DejaVu Sans Mono',consolas,'Courier New',monospace\">    <span style=\"color: #008080; text-decoration-color: #008080; font-weight: bold\">6</span>                 <span style=\"color: #008080; text-decoration-color: #008080; font-weight: bold\">0</span>  <span style=\"color: #008080; text-decoration-color: #008080; font-weight: bold\">0.020885685348227104</span>    <span style=\"color: #008080; text-decoration-color: #008080; font-weight: bold\">0.8053705140771574</span>      <span style=\"color: #008080; text-decoration-color: #008080; font-weight: bold\">0.11764899999999995</span>\n",
       "</pre>\n"
      ],
      "text/plain": [
       "    \u001b[1;36m6\u001b[0m                 \u001b[1;36m0\u001b[0m  \u001b[1;36m0.020885685348227104\u001b[0m    \u001b[1;36m0.8053705140771574\u001b[0m      \u001b[1;36m0.11764899999999995\u001b[0m\n"
      ]
     },
     "metadata": {},
     "output_type": "display_data"
    },
    {
     "data": {
      "text/html": [
       "<pre style=\"white-space:pre;overflow-x:auto;line-height:normal;font-family:Menlo,'DejaVu Sans Mono',consolas,'Courier New',monospace\">    <span style=\"color: #008080; text-decoration-color: #008080; font-weight: bold\">7</span>                 <span style=\"color: #008080; text-decoration-color: #008080; font-weight: bold\">0</span>  <span style=\"color: #008080; text-decoration-color: #008080; font-weight: bold\">0.020996322876628004</span>    <span style=\"color: #008080; text-decoration-color: #008080; font-weight: bold\">0.575753700394221</span>       <span style=\"color: #008080; text-decoration-color: #008080; font-weight: bold\">0.08235429999999996</span>\n",
       "</pre>\n"
      ],
      "text/plain": [
       "    \u001b[1;36m7\u001b[0m                 \u001b[1;36m0\u001b[0m  \u001b[1;36m0.020996322876628004\u001b[0m    \u001b[1;36m0.575753700394221\u001b[0m       \u001b[1;36m0.08235429999999996\u001b[0m\n"
      ]
     },
     "metadata": {},
     "output_type": "display_data"
    },
    {
     "data": {
      "text/html": [
       "<pre style=\"white-space:pre;overflow-x:auto;line-height:normal;font-family:Menlo,'DejaVu Sans Mono',consolas,'Courier New',monospace\">    <span style=\"color: #008080; text-decoration-color: #008080; font-weight: bold\">8</span>                 <span style=\"color: #008080; text-decoration-color: #008080; font-weight: bold\">0</span>  <span style=\"color: #008080; text-decoration-color: #008080; font-weight: bold\">0.02181711684600641</span>     <span style=\"color: #008080; text-decoration-color: #008080; font-weight: bold\">0.49861447624398075</span>     <span style=\"color: #008080; text-decoration-color: #008080; font-weight: bold\">0.05764800999999997</span>\n",
       "</pre>\n"
      ],
      "text/plain": [
       "    \u001b[1;36m8\u001b[0m                 \u001b[1;36m0\u001b[0m  \u001b[1;36m0.02181711684600641\u001b[0m     \u001b[1;36m0.49861447624398075\u001b[0m     \u001b[1;36m0.05764800999999997\u001b[0m\n"
      ]
     },
     "metadata": {},
     "output_type": "display_data"
    },
    {
     "data": {
      "text/html": [
       "<pre style=\"white-space:pre;overflow-x:auto;line-height:normal;font-family:Menlo,'DejaVu Sans Mono',consolas,'Courier New',monospace\">    <span style=\"color: #008080; text-decoration-color: #008080; font-weight: bold\">9</span>                 <span style=\"color: #008080; text-decoration-color: #008080; font-weight: bold\">0</span>  <span style=\"color: #008080; text-decoration-color: #008080; font-weight: bold\">0.02282799367291003</span>     <span style=\"color: #008080; text-decoration-color: #008080; font-weight: bold\">0.38918683682545907</span>     <span style=\"color: #008080; text-decoration-color: #008080; font-weight: bold\">0.04035360699999998</span>\n",
       "</pre>\n"
      ],
      "text/plain": [
       "    \u001b[1;36m9\u001b[0m                 \u001b[1;36m0\u001b[0m  \u001b[1;36m0.02282799367291003\u001b[0m     \u001b[1;36m0.38918683682545907\u001b[0m     \u001b[1;36m0.04035360699999998\u001b[0m\n"
      ]
     },
     "metadata": {},
     "output_type": "display_data"
    },
    {
     "data": {
      "text/html": [
       "<pre style=\"white-space:pre;overflow-x:auto;line-height:normal;font-family:Menlo,'DejaVu Sans Mono',consolas,'Courier New',monospace\">   <span style=\"color: #008080; text-decoration-color: #008080; font-weight: bold\">10</span>                 <span style=\"color: #008080; text-decoration-color: #008080; font-weight: bold\">0</span>  <span style=\"color: #008080; text-decoration-color: #008080; font-weight: bold\">0.024418708406319645</span>    <span style=\"color: #008080; text-decoration-color: #008080; font-weight: bold\">0.3130302595164517</span>      <span style=\"color: #008080; text-decoration-color: #008080; font-weight: bold\">0.028247524899999984</span>\n",
       "</pre>\n"
      ],
      "text/plain": [
       "   \u001b[1;36m10\u001b[0m                 \u001b[1;36m0\u001b[0m  \u001b[1;36m0.024418708406319645\u001b[0m    \u001b[1;36m0.3130302595164517\u001b[0m      \u001b[1;36m0.028247524899999984\u001b[0m\n"
      ]
     },
     "metadata": {},
     "output_type": "display_data"
    },
    {
     "data": {
      "text/html": [
       "<pre style=\"white-space:pre;overflow-x:auto;line-height:normal;font-family:Menlo,'DejaVu Sans Mono',consolas,'Courier New',monospace\">   <span style=\"color: #008080; text-decoration-color: #008080; font-weight: bold\">11</span>                 <span style=\"color: #008080; text-decoration-color: #008080; font-weight: bold\">0</span>  <span style=\"color: #008080; text-decoration-color: #008080; font-weight: bold\">0.026477407440914227</span>    <span style=\"color: #008080; text-decoration-color: #008080; font-weight: bold\">0.21922363522781285</span>     <span style=\"color: #008080; text-decoration-color: #008080; font-weight: bold\">0.019773267429999988</span>\n",
       "</pre>\n"
      ],
      "text/plain": [
       "   \u001b[1;36m11\u001b[0m                 \u001b[1;36m0\u001b[0m  \u001b[1;36m0.026477407440914227\u001b[0m    \u001b[1;36m0.21922363522781285\u001b[0m     \u001b[1;36m0.019773267429999988\u001b[0m\n"
      ]
     },
     "metadata": {},
     "output_type": "display_data"
    },
    {
     "data": {
      "text/html": [
       "<pre style=\"white-space:pre;overflow-x:auto;line-height:normal;font-family:Menlo,'DejaVu Sans Mono',consolas,'Courier New',monospace\">   <span style=\"color: #008080; text-decoration-color: #008080; font-weight: bold\">12</span>                 <span style=\"color: #008080; text-decoration-color: #008080; font-weight: bold\">0</span>  <span style=\"color: #008080; text-decoration-color: #008080; font-weight: bold\">0.029292963796476584</span>    <span style=\"color: #008080; text-decoration-color: #008080; font-weight: bold\">0.16223585722908168</span>     <span style=\"color: #008080; text-decoration-color: #008080; font-weight: bold\">0.01384128720099999</span>\n",
       "</pre>\n"
      ],
      "text/plain": [
       "   \u001b[1;36m12\u001b[0m                 \u001b[1;36m0\u001b[0m  \u001b[1;36m0.029292963796476584\u001b[0m    \u001b[1;36m0.16223585722908168\u001b[0m     \u001b[1;36m0.01384128720099999\u001b[0m\n"
      ]
     },
     "metadata": {},
     "output_type": "display_data"
    },
    {
     "data": {
      "text/html": [
       "<pre style=\"white-space:pre;overflow-x:auto;line-height:normal;font-family:Menlo,'DejaVu Sans Mono',consolas,'Courier New',monospace\">   <span style=\"color: #008080; text-decoration-color: #008080; font-weight: bold\">13</span>                 <span style=\"color: #008080; text-decoration-color: #008080; font-weight: bold\">0</span>  <span style=\"color: #008080; text-decoration-color: #008080; font-weight: bold\">0.0323670115917011</span>      <span style=\"color: #008080; text-decoration-color: #008080; font-weight: bold\">0.13163568089199248</span>     <span style=\"color: #008080; text-decoration-color: #008080; font-weight: bold\">0.009688901040699992</span>\n",
       "</pre>\n"
      ],
      "text/plain": [
       "   \u001b[1;36m13\u001b[0m                 \u001b[1;36m0\u001b[0m  \u001b[1;36m0.0323670115917011\u001b[0m      \u001b[1;36m0.13163568089199248\u001b[0m     \u001b[1;36m0.009688901040699992\u001b[0m\n"
      ]
     },
     "metadata": {},
     "output_type": "display_data"
    },
    {
     "data": {
      "text/html": [
       "<pre style=\"white-space:pre;overflow-x:auto;line-height:normal;font-family:Menlo,'DejaVu Sans Mono',consolas,'Courier New',monospace\">   <span style=\"color: #008080; text-decoration-color: #008080; font-weight: bold\">14</span>                 <span style=\"color: #008080; text-decoration-color: #008080; font-weight: bold\">0</span>  <span style=\"color: #008080; text-decoration-color: #008080; font-weight: bold\">0.03531788666264891</span>     <span style=\"color: #008080; text-decoration-color: #008080; font-weight: bold\">0.1067951048685356</span>      <span style=\"color: #008080; text-decoration-color: #008080; font-weight: bold\">0.006782230728489994</span>\n",
       "</pre>\n"
      ],
      "text/plain": [
       "   \u001b[1;36m14\u001b[0m                 \u001b[1;36m0\u001b[0m  \u001b[1;36m0.03531788666264891\u001b[0m     \u001b[1;36m0.1067951048685356\u001b[0m      \u001b[1;36m0.006782230728489994\u001b[0m\n"
      ]
     },
     "metadata": {},
     "output_type": "display_data"
    },
    {
     "data": {
      "text/html": [
       "<pre style=\"white-space:pre;overflow-x:auto;line-height:normal;font-family:Menlo,'DejaVu Sans Mono',consolas,'Courier New',monospace\">   <span style=\"color: #008080; text-decoration-color: #008080; font-weight: bold\">15</span>*                <span style=\"color: #008080; text-decoration-color: #008080; font-weight: bold\">0</span>  <span style=\"color: #008080; text-decoration-color: #008080; font-weight: bold\">0.03786059359185827</span>     <span style=\"color: #008080; text-decoration-color: #008080; font-weight: bold\">0.08799400715067135</span>     <span style=\"color: #008080; text-decoration-color: #008080; font-weight: bold\">0.004747561509942996</span>\n",
       "</pre>\n"
      ],
      "text/plain": [
       "   \u001b[1;36m15\u001b[0m*                \u001b[1;36m0\u001b[0m  \u001b[1;36m0.03786059359185827\u001b[0m     \u001b[1;36m0.08799400715067135\u001b[0m     \u001b[1;36m0.004747561509942996\u001b[0m\n"
      ]
     },
     "metadata": {},
     "output_type": "display_data"
    }
   ],
   "source": [
    "res_mpcc,x_opt_mpcc,fun_opt_mpcc = mpcc_model.solve(max_iter=100,tol=1e-1,print_level=0,verbose=True,beta=0.7)"
   ]
  },
  {
   "cell_type": "code",
   "execution_count": 24,
   "metadata": {},
   "outputs": [],
   "source": [
    "u_mpcc, q_mpcc, r_mpcc, delta_mpcc, theta_mpcc, alpha_mpcc = mpcc_model.objective_func.parse_vars(x_opt_mpcc)"
   ]
  },
  {
   "cell_type": "code",
   "execution_count": 25,
   "metadata": {},
   "outputs": [
    {
     "data": {
      "image/png": "[encoded data removed]",
      "text/plain": [
       "<Figure size 1400x400 with 3 Axes>"
      ]
     },
     "metadata": {},
     "output_type": "display_data"
    }
   ],
   "source": [
    "u_mpcc = u_mpcc.reshape((scale,scale))\n",
    "plot_experiment(true,noisy,u_mpcc,alpha_mpcc)"
   ]
  },
  {
   "cell_type": "code",
   "execution_count": null,
   "metadata": {},
   "outputs": [],
   "source": []
  }
 ],
 "metadata": {
  "kernelspec": {
   "display_name": ".venv",
   "language": "python",
   "name": "python3"
  },
  "language_info": {
   "codemirror_mode": {
    "name": "ipython",
    "version": 3
   },
   "file_extension": ".py",
   "mimetype": "text/x-python",
   "name": "python",
   "nbconvert_exporter": "python",
   "pygments_lexer": "ipython3",
   "version": "3.12.7"
  }
 },
 "nbformat": 4,
 "nbformat_minor": 2
}
