{
 "cells": [
  {
   "cell_type": "code",
   "execution_count": 2,
   "metadata": {},
   "outputs": [],
   "source": [
    "import sys\n",
    "import os\n",
    "# Get the absolute path to the project root\n",
    "project_root = os.path.abspath(os.path.join(os.getcwd(), \"..\"))\n",
    "# Add it to sys.path\n",
    "sys.path.append(project_root)"
   ]
  },
  {
   "cell_type": "code",
   "execution_count": 3,
   "metadata": {},
   "outputs": [],
   "source": [
    "import numpy as np\n",
    "from bimpcc.dataset import get_dataset\n",
    "from bimpcc.models.tvregularized import TVRegularized\n",
    "from bimpcc.models.tvq_denoising import TVDenoisingMPCC\n",
    "import matplotlib.pyplot as plt\n",
    "from skimage.metrics import peak_signal_noise_ratio as psnr\n",
    "from bimpcc.utils import generate_2D_gradient_matrices"
   ]
  },
  {
   "cell_type": "code",
   "execution_count": 4,
   "metadata": {},
   "outputs": [],
   "source": [
    "def plot_experiment(true,noisy,u, alpha):\n",
    "    \n",
    "    fig,ax = plt.subplots(1,3,figsize=(14,4))\n",
    "    ax[0].imshow(true,cmap='gray')\n",
    "    ax[0].set_title('True Image')\n",
    "    ax[0].axis('off')\n",
    "    ax[1].imshow(noisy,cmap='gray')\n",
    "    ax[1].set_title('Noisy Image\\nPSNR: {:.4f}'.format(psnr(true,noisy)))\n",
    "    ax[1].axis('off')\n",
    "    ax[2].imshow(u,cmap='gray')\n",
    "    ax[2].set_title(f'Reconstructed Image\\nPSNR: {psnr(true,u):.4f}\\n alpha = {alpha}')\n",
    "    # ax[2].set_xlabel('alpha = {}'.format(alpha))\n",
    "    ax[2].axis('off')\n",
    "\n",
    "    plt.show()"
   ]
  },
  {
   "cell_type": "code",
   "execution_count": 5,
   "metadata": {},
   "outputs": [],
   "source": [
    "scale = 4"
   ]
  },
  {
   "cell_type": "code",
   "execution_count": 6,
   "metadata": {},
   "outputs": [],
   "source": [
    "dataset = get_dataset(\"cameraman\",scale=scale)\n",
    "true, noisy = dataset.get_training_data()"
   ]
  },
  {
   "cell_type": "code",
   "execution_count": 7,
   "metadata": {},
   "outputs": [
    {
     "data": {
      "text/plain": [
       "(np.float64(-0.5), np.float64(3.5), np.float64(3.5), np.float64(-0.5))"
      ]
     },
     "execution_count": 7,
     "metadata": {},
     "output_type": "execute_result"
    },
    {
     "data": {
      "image/png": "[encoded data removed]",
      "text/plain": [
       "<Figure size 1000x500 with 2 Axes>"
      ]
     },
     "metadata": {},
     "output_type": "display_data"
    }
   ],
   "source": [
    "fig,ax = plt.subplots(1,2,figsize=(10,5))\n",
    "ax[0].imshow(true,cmap='gray')\n",
    "ax[0].set_title('True Image')\n",
    "ax[0].axis('off')\n",
    "ax[1].imshow(noisy,cmap='gray')\n",
    "ax[1].set_title('Noisy Image')\n",
    "ax[1].axis('off')"
   ]
  },
  {
   "cell_type": "code",
   "execution_count": 8,
   "metadata": {},
   "outputs": [],
   "source": [
    "model = TVRegularized(true, noisy, epsilon=1e-3)"
   ]
  },
  {
   "cell_type": "code",
   "execution_count": 9,
   "metadata": {},
   "outputs": [
    {
     "name": "stdout",
     "output_type": "stream",
     "text": [
      "\n",
      "******************************************************************************\n",
      "This program contains Ipopt, a library for large-scale nonlinear optimization.\n",
      " Ipopt is released as open source code under the Eclipse Public License (EPL).\n",
      "         For more information visit https://github.com/coin-or/Ipopt\n",
      "******************************************************************************\n",
      "\n",
      "This is Ipopt version 3.14.17, running with linear solver MUMPS 5.6.2.\n",
      "\n",
      "Number of nonzeros in equality constraint Jacobian...:      196\n",
      "Number of nonzeros in inequality constraint Jacobian.:        0\n",
      "Number of nonzeros in Lagrangian Hessian.............:        0\n",
      "\n",
      "Total number of variables............................:       41\n",
      "                     variables with only lower bounds:       17\n",
      "                variables with lower and upper bounds:        0\n",
      "                     variables with only upper bounds:        0\n",
      "Total number of equality constraints.................:       40\n",
      "Total number of inequality constraints...............:        0\n",
      "        inequality constraints with only lower bounds:        0\n",
      "   inequality constraints with lower and upper bounds:        0\n",
      "        inequality constraints with only upper bounds:        0\n",
      "\n",
      "iter    objective    inf_pr   inf_du lg(mu)  ||d||  lg(rg) alpha_du alpha_pr  ls\n",
      "   0  1.3257738e-02 1.10e-02 1.29e-01   0.0 0.00e+00    -  0.00e+00 0.00e+00   0\n",
      "   1  1.1745506e-02 8.81e-04 1.38e-01  -6.2 1.90e-02    -  8.75e-01 1.00e+00h  1\n",
      "   2  1.0884786e-02 8.24e-04 1.60e-02  -2.3 3.26e-02    -  1.00e+00 1.00e+00h  1\n",
      "   3  1.0811195e-02 5.22e-06 5.55e-04  -4.2 1.76e-03    -  9.98e-01 1.00e+00h  1\n",
      "   4  1.0810676e-02 5.12e-07 2.55e-04 -10.1 7.06e-04    -  9.99e-01 1.00e+00h  1\n",
      "   5  1.0810642e-02 5.52e-09 6.95e-08  -8.9 7.51e-05    -  1.00e+00 1.00e+00h  1\n",
      "\n",
      "Number of Iterations....: 5\n",
      "\n",
      "                                   (scaled)                 (unscaled)\n",
      "Objective...............:   1.0810641603645785e-02    1.0810641603645785e-02\n",
      "Dual infeasibility......:   6.9540553178884008e-08    6.9540553178884008e-08\n",
      "Constraint violation....:   5.5191608449266238e-09    5.5191608449266238e-09\n",
      "Variable bound violation:   0.0000000000000000e+00    0.0000000000000000e+00\n",
      "Complementarity.........:   2.7748567182499091e-09    2.7748567182499091e-09\n",
      "Overall NLP error.......:   6.9540553178884008e-08    6.9540553178884008e-08\n",
      "\n",
      "\n",
      "Number of objective function evaluations             = 6\n",
      "Number of objective gradient evaluations             = 6\n",
      "Number of equality constraint evaluations            = 6\n",
      "Number of inequality constraint evaluations          = 0\n",
      "Number of equality constraint Jacobian evaluations   = 6\n",
      "Number of inequality constraint Jacobian evaluations = 0\n",
      "Number of Lagrangian Hessian evaluations             = 0\n",
      "Total seconds in IPOPT                               = 0.091\n",
      "\n",
      "EXIT: Optimal Solution Found.\n"
     ]
    }
   ],
   "source": [
    "res,x_opt,fun_opt = model.solve(max_iter=3000,tol=1e-4,print_level=5)"
   ]
  },
  {
   "cell_type": "code",
   "execution_count": 10,
   "metadata": {},
   "outputs": [],
   "source": [
    "u, q, alpha = model.objective_func.parse_vars(x_opt)"
   ]
  },
  {
   "cell_type": "code",
   "execution_count": 11,
   "metadata": {},
   "outputs": [
    {
     "data": {
      "image/png": "[encoded data removed]",
      "text/plain": [
       "<Figure size 1400x400 with 3 Axes>"
      ]
     },
     "metadata": {},
     "output_type": "display_data"
    }
   ],
   "source": [
    "u = u.reshape((scale,scale))\n",
    "plot_experiment(true,noisy,u,alpha)"
   ]
  },
  {
   "cell_type": "code",
   "execution_count": 12,
   "metadata": {},
   "outputs": [],
   "source": [
    "Kx, Ky, K = generate_2D_gradient_matrices(scale)"
   ]
  },
  {
   "cell_type": "code",
   "execution_count": 13,
   "metadata": {},
   "outputs": [],
   "source": [
    "m = q.flatten().size\n",
    "n = m // 2\n",
    "\n",
    "Ku = K @ u.flatten()\n",
    "V = Ku.reshape(2, -1).T\n",
    "normKu = np.apply_along_axis(np.linalg.norm, axis=1, arr=V)\n",
    "Q = q.reshape(2,-1).T\n",
    "normQ = np.apply_along_axis(np.linalg.norm, axis=1, arr=Q)\n",
    "r0 = normKu\n",
    "delta0 = normQ"
   ]
  },
  {
   "cell_type": "code",
   "execution_count": 14,
   "metadata": {},
   "outputs": [],
   "source": [
    "Kxu = Ku[:n]  # Primeras n componentes\n",
    "Kyu = Ku[n:]  # Últimas n componentes\n",
    "qx = q[:n]  # Primeras n componentes\n",
    "qy = q[n:]  # Últimas n componentes\n",
    "epsilon = 1e-10  \n",
    "\n",
    "# Condiciones para calcular theta según los casos dados\n",
    "theta0 = np.zeros(n)  # Inicializamos theta0\n",
    "\n",
    "# Caso 1: r_i ≠ 0\n",
    "mask_r_nonzero = r0 > epsilon\n",
    "theta0[mask_r_nonzero] = np.arccos(Kxu[mask_r_nonzero] / r0[mask_r_nonzero])\n",
    "theta0[mask_r_nonzero & (Kyu < 0)] *= -1  # Si Ky^i u < 0, negamos theta0\n",
    "\n",
    "# Caso 2: r_i = 0 y delta_i ≠ 0\n",
    "mask_r_zero_delta_nonzero = (r0 <= epsilon) & (delta0 > epsilon)\n",
    "theta0[mask_r_zero_delta_nonzero] = np.arccos(qx[mask_r_zero_delta_nonzero] / delta0[mask_r_zero_delta_nonzero])\n",
    "theta0[mask_r_zero_delta_nonzero & (qy < 0)] *= -1  # Si qy^i < 0, negamos theta0\n",
    "\n",
    "# Caso 3: r_i = 0 y delta_i = 0 (theta0 indefinido)\n",
    "mask_r_zero_delta_zero = (r0 <= epsilon) & (delta0 <= epsilon)\n",
    "theta0[mask_r_zero_delta_zero] = 0"
   ]
  },
  {
   "cell_type": "code",
   "execution_count": 15,
   "metadata": {},
   "outputs": [],
   "source": [
    "x0_mpcc = np.concatenate((u.flatten(),q.flatten(),r0,delta0,theta0,alpha))\n",
    "# print(x0_mpcc)"
   ]
  },
  {
   "cell_type": "code",
   "execution_count": 16,
   "metadata": {},
   "outputs": [],
   "source": [
    "mpcc_model = TVDenoisingMPCC(true, noisy, x0=x0_mpcc, epsilon=1e-3)"
   ]
  },
  {
   "cell_type": "code",
   "execution_count": 18,
   "metadata": {},
   "outputs": [
    {
     "data": {
      "text/html": [
       "<pre style=\"white-space:pre;overflow-x:auto;line-height:normal;font-family:Menlo,'DejaVu Sans Mono',consolas,'Courier New',monospace\"> Iter   Termination_status            Objective      MPCC_compl               t\n",
       "\n",
       "</pre>\n"
      ],
      "text/plain": [
       " Iter   Termination_status            Objective      MPCC_compl               t\n",
       "\n"
      ]
     },
     "metadata": {},
     "output_type": "display_data"
    },
    {
     "ename": "ValueError",
     "evalue": "too many values to unpack (expected 3)",
     "output_type": "error",
     "traceback": [
      "\u001b[31m---------------------------------------------------------------------------\u001b[39m",
      "\u001b[31mValueError\u001b[39m                                Traceback (most recent call last)",
      "\u001b[36mCell\u001b[39m\u001b[36m \u001b[39m\u001b[32mIn[18]\u001b[39m\u001b[32m, line 1\u001b[39m\n\u001b[32m----> \u001b[39m\u001b[32m1\u001b[39m res_mpcc,x_opt_mpcc,fun_opt_mpcc = \u001b[43mmpcc_model\u001b[49m\u001b[43m.\u001b[49m\u001b[43msolve\u001b[49m\u001b[43m(\u001b[49m\u001b[43mmax_iter\u001b[49m\u001b[43m=\u001b[49m\u001b[32;43m100\u001b[39;49m\u001b[43m,\u001b[49m\u001b[43mtol\u001b[49m\u001b[43m=\u001b[49m\u001b[32;43m1e-4\u001b[39;49m\u001b[43m,\u001b[49m\u001b[43mprint_level\u001b[49m\u001b[43m=\u001b[49m\u001b[32;43m5\u001b[39;49m\u001b[43m,\u001b[49m\u001b[43mverbose\u001b[49m\u001b[43m=\u001b[49m\u001b[38;5;28;43;01mTrue\u001b[39;49;00m\u001b[43m)\u001b[49m\n",
      "\u001b[36mFile \u001b[39m\u001b[32m~/Documents/bimpcc_2 4/bimpcc_2 3/bimpcc/models/model.py:82\u001b[39m, in \u001b[36mMPCCModel.solve\u001b[39m\u001b[34m(self, t_min, max_iter, tol, nlp_tol, verbose, print_level, beta, *args, **kwargs)\u001b[39m\n\u001b[32m     80\u001b[39m     \u001b[38;5;28mprint\u001b[39m(\u001b[33mf\u001b[39m\u001b[33m\"\u001b[39m\u001b[33mcomplementarity: \u001b[39m\u001b[38;5;132;01m{\u001b[39;00m\u001b[38;5;28mself\u001b[39m.compute_complementarity(x)\u001b[38;5;132;01m}\u001b[39;00m\u001b[33m\"\u001b[39m)\n\u001b[32m     81\u001b[39m     \u001b[38;5;28;01mbreak\u001b[39;00m\n\u001b[32m---> \u001b[39m\u001b[32m82\u001b[39m res, x_, fn = \u001b[38;5;28;43mself\u001b[39;49m\u001b[43m.\u001b[49m\u001b[43m_solve_nlp\u001b[49m\u001b[43m(\u001b[49m\n\u001b[32m     83\u001b[39m \u001b[43m    \u001b[49m\u001b[43mx\u001b[49m\u001b[43m,\u001b[49m\u001b[43m \u001b[49m\u001b[38;5;28;43mself\u001b[39;49m\u001b[43m.\u001b[49m\u001b[43mbounds\u001b[49m\u001b[43m,\u001b[49m\u001b[43m \u001b[49m\u001b[43mt\u001b[49m\u001b[43m,\u001b[49m\u001b[43m \u001b[49m\u001b[43mtol\u001b[49m\u001b[43m=\u001b[49m\u001b[43mnlp_tol\u001b[49m\u001b[43m,\u001b[49m\u001b[43m \u001b[49m\u001b[43mprint_level\u001b[49m\u001b[43m=\u001b[49m\u001b[43mprint_level\u001b[49m\n\u001b[32m     84\u001b[39m \u001b[43m\u001b[49m\u001b[43m)\u001b[49m\n\u001b[32m     85\u001b[39m comp = \u001b[38;5;28mself\u001b[39m.compute_complementarity(x_)\n\u001b[32m     86\u001b[39m \u001b[38;5;28;01mif\u001b[39;00m np.abs(comp) < tol:\n",
      "\u001b[36mFile \u001b[39m\u001b[32m~/Documents/bimpcc_2 4/bimpcc_2 3/bimpcc/models/model.py:53\u001b[39m, in \u001b[36mMPCCModel._solve_nlp\u001b[39m\u001b[34m(self, x0, bounds, t, *args, **kwargs)\u001b[39m\n\u001b[32m     44\u001b[39m nlp = OptimizationProblem(\n\u001b[32m     45\u001b[39m     \u001b[38;5;28mself\u001b[39m.objective_func,\n\u001b[32m     46\u001b[39m     \u001b[38;5;28mself\u001b[39m.eq_constraint_funcs,\n\u001b[32m     47\u001b[39m     \u001b[38;5;28mself\u001b[39m.ineq_constraint_funcs + [\u001b[38;5;28mself\u001b[39m.complementarity_constraint_func],\n\u001b[32m     48\u001b[39m )\n\u001b[32m     49\u001b[39m options = {\n\u001b[32m     50\u001b[39m     \u001b[33m\"\u001b[39m\u001b[33mprint_level\u001b[39m\u001b[33m\"\u001b[39m: print_level,\n\u001b[32m     51\u001b[39m     \u001b[33m\"\u001b[39m\u001b[33mtol\u001b[39m\u001b[33m\"\u001b[39m: tol,\n\u001b[32m     52\u001b[39m }\n\u001b[32m---> \u001b[39m\u001b[32m53\u001b[39m \u001b[38;5;28;01mreturn\u001b[39;00m \u001b[43mnlp\u001b[49m\u001b[43m.\u001b[49m\u001b[43msolve\u001b[49m\u001b[43m(\u001b[49m\u001b[43mx0\u001b[49m\u001b[43m,\u001b[49m\u001b[43m \u001b[49m\u001b[43mbounds\u001b[49m\u001b[43m,\u001b[49m\u001b[43m \u001b[49m\u001b[43moptions\u001b[49m\u001b[43m=\u001b[49m\u001b[43moptions\u001b[49m\u001b[43m)\u001b[49m\n",
      "\u001b[36mFile \u001b[39m\u001b[32m~/Documents/bimpcc_2 4/bimpcc_2 3/bimpcc/nlp.py:103\u001b[39m, in \u001b[36mOptimizationProblem.solve\u001b[39m\u001b[34m(self, x0, bounds, options)\u001b[39m\n\u001b[32m    100\u001b[39m \u001b[38;5;28;01mdef\u001b[39;00m\u001b[38;5;250m \u001b[39m\u001b[34msolve\u001b[39m(\n\u001b[32m    101\u001b[39m     \u001b[38;5;28mself\u001b[39m, x0: List[\u001b[38;5;28mfloat\u001b[39m], bounds: List[Tuple[\u001b[38;5;28mfloat\u001b[39m, \u001b[38;5;28mfloat\u001b[39m]], options: \u001b[38;5;28mdict\u001b[39m = {}\n\u001b[32m    102\u001b[39m ) -> Tuple[\u001b[38;5;28mdict\u001b[39m, np.ndarray, \u001b[38;5;28mfloat\u001b[39m]:\n\u001b[32m--> \u001b[39m\u001b[32m103\u001b[39m     result = \u001b[43mminimize_ipopt\u001b[49m\u001b[43m(\u001b[49m\n\u001b[32m    104\u001b[39m \u001b[43m        \u001b[49m\u001b[43mfun\u001b[49m\u001b[43m=\u001b[49m\u001b[38;5;28;43mself\u001b[39;49m\u001b[43m.\u001b[49m\u001b[43mobjective_func\u001b[49m\u001b[43m,\u001b[49m\n\u001b[32m    105\u001b[39m \u001b[43m        \u001b[49m\u001b[43mjac\u001b[49m\u001b[43m=\u001b[49m\u001b[38;5;28;43mself\u001b[39;49m\u001b[43m.\u001b[49m\u001b[43mgradient_objective_func\u001b[49m\u001b[43m,\u001b[49m\n\u001b[32m    106\u001b[39m \u001b[43m        \u001b[49m\u001b[38;5;66;43;03m# hess=self.hessian_objective_func,\u001b[39;49;00m\n\u001b[32m    107\u001b[39m \u001b[43m        \u001b[49m\u001b[43mx0\u001b[49m\u001b[43m=\u001b[49m\u001b[43mx0\u001b[49m\u001b[43m,\u001b[49m\n\u001b[32m    108\u001b[39m \u001b[43m        \u001b[49m\u001b[43mbounds\u001b[49m\u001b[43m=\u001b[49m\u001b[43mbounds\u001b[49m\u001b[43m,\u001b[49m\n\u001b[32m    109\u001b[39m \u001b[43m        \u001b[49m\u001b[43mconstraints\u001b[49m\u001b[43m=\u001b[49m\u001b[38;5;28;43mself\u001b[39;49m\u001b[43m.\u001b[49m\u001b[43mconstraints\u001b[49m\u001b[43m,\u001b[49m\n\u001b[32m    110\u001b[39m \u001b[43m        \u001b[49m\u001b[43moptions\u001b[49m\u001b[43m=\u001b[49m\u001b[43moptions\u001b[49m\u001b[43m,\u001b[49m\n\u001b[32m    111\u001b[39m \u001b[43m        \u001b[49m\u001b[38;5;66;43;03m# options={\u001b[39;49;00m\n\u001b[32m    112\u001b[39m \u001b[43m        \u001b[49m\u001b[38;5;66;43;03m#     \"print_level\": print_level,\u001b[39;49;00m\n\u001b[32m    113\u001b[39m \u001b[43m        \u001b[49m\u001b[38;5;66;43;03m#     \"max_iter\": 5000,\u001b[39;49;00m\n\u001b[32m    114\u001b[39m \u001b[43m        \u001b[49m\u001b[38;5;66;43;03m#     # \"alpha_for_y\": \"safer-min-dual-infeas\",\u001b[39;49;00m\n\u001b[32m    115\u001b[39m \u001b[43m        \u001b[49m\u001b[38;5;66;43;03m#     # \"dual_inf_tol\": 1e-6,\u001b[39;49;00m\n\u001b[32m    116\u001b[39m \u001b[43m        \u001b[49m\u001b[38;5;66;43;03m#     \"tol\": tol\u001b[39;49;00m\n\u001b[32m    117\u001b[39m \u001b[43m        \u001b[49m\u001b[38;5;66;43;03m#     # \"jacobian_approximation\": \"finite-difference-values\",\u001b[39;49;00m\n\u001b[32m    118\u001b[39m \u001b[43m        \u001b[49m\u001b[38;5;66;43;03m# },\u001b[39;49;00m\n\u001b[32m    119\u001b[39m \u001b[43m    \u001b[49m\u001b[43m)\u001b[49m\n\u001b[32m    120\u001b[39m     \u001b[38;5;28;01mreturn\u001b[39;00m result, result[\u001b[33m\"\u001b[39m\u001b[33mx\u001b[39m\u001b[33m\"\u001b[39m], result[\u001b[33m\"\u001b[39m\u001b[33mfun\u001b[39m\u001b[33m\"\u001b[39m]\n",
      "\u001b[36mFile \u001b[39m\u001b[32m/Library/Frameworks/Python.framework/Versions/3.13/lib/python3.13/site-packages/cyipopt/scipy_interface.py:565\u001b[39m, in \u001b[36mminimize_ipopt\u001b[39m\u001b[34m(fun, x0, args, kwargs, method, jac, hess, hessp, bounds, constraints, tol, callback, options)\u001b[39m\n\u001b[32m    563\u001b[39m cl, cu = get_constraint_bounds(constraints, _x0)\n\u001b[32m    564\u001b[39m con_dims = get_constraint_dimensions(constraints, _x0)\n\u001b[32m--> \u001b[39m\u001b[32m565\u001b[39m sparse_jacs, jac_nnz_row, jac_nnz_col = \u001b[43m_get_sparse_jacobian_structure\u001b[49m\u001b[43m(\u001b[49m\n\u001b[32m    566\u001b[39m \u001b[43m    \u001b[49m\u001b[43mconstraints\u001b[49m\u001b[43m,\u001b[49m\u001b[43m \u001b[49m\u001b[43mx0\u001b[49m\u001b[43m)\u001b[49m\n\u001b[32m    568\u001b[39m \u001b[38;5;28;01mif\u001b[39;00m options \u001b[38;5;129;01mis\u001b[39;00m \u001b[38;5;28;01mNone\u001b[39;00m:\n\u001b[32m    569\u001b[39m     options = {}\n",
      "\u001b[36mFile \u001b[39m\u001b[32m/Library/Frameworks/Python.framework/Versions/3.13/lib/python3.13/site-packages/cyipopt/scipy_interface.py:270\u001b[39m, in \u001b[36m_get_sparse_jacobian_structure\u001b[39m\u001b[34m(constraints, x0)\u001b[39m\n\u001b[32m    267\u001b[39m     _, jac_val = con[\u001b[33m'\u001b[39m\u001b[33mfun\u001b[39m\u001b[33m'\u001b[39m](x0, *con.get(\u001b[33m'\u001b[39m\u001b[33margs\u001b[39m\u001b[33m'\u001b[39m, []),\n\u001b[32m    268\u001b[39m                             **con.get(\u001b[33m'\u001b[39m\u001b[33mkwargs\u001b[39m\u001b[33m'\u001b[39m, {}))\n\u001b[32m    269\u001b[39m \u001b[38;5;28;01melse\u001b[39;00m:\n\u001b[32m--> \u001b[39m\u001b[32m270\u001b[39m     jac_val = \u001b[43mcon_jac\u001b[49m\u001b[43m(\u001b[49m\u001b[43mx0\u001b[49m\u001b[43m,\u001b[49m\u001b[43m \u001b[49m\u001b[43m*\u001b[49m\u001b[43mcon\u001b[49m\u001b[43m.\u001b[49m\u001b[43mget\u001b[49m\u001b[43m(\u001b[49m\u001b[33;43m'\u001b[39;49m\u001b[33;43margs\u001b[39;49m\u001b[33;43m'\u001b[39;49m\u001b[43m,\u001b[49m\u001b[43m \u001b[49m\u001b[43m[\u001b[49m\u001b[43m]\u001b[49m\u001b[43m)\u001b[49m\u001b[43m,\u001b[49m\n\u001b[32m    271\u001b[39m \u001b[43m                      \u001b[49m\u001b[43m*\u001b[49m\u001b[43m*\u001b[49m\u001b[43mcon\u001b[49m\u001b[43m.\u001b[49m\u001b[43mget\u001b[49m\u001b[43m(\u001b[49m\u001b[33;43m'\u001b[39;49m\u001b[33;43mkwargs\u001b[39;49m\u001b[33;43m'\u001b[39;49m\u001b[43m,\u001b[49m\u001b[43m \u001b[49m\u001b[43m{\u001b[49m\u001b[43m}\u001b[49m\u001b[43m)\u001b[49m\u001b[43m)\u001b[49m\n\u001b[32m    272\u001b[39m \u001b[38;5;66;03m# check if dense or sparse\u001b[39;00m\n\u001b[32m    273\u001b[39m \u001b[38;5;28;01mif\u001b[39;00m \u001b[38;5;28misinstance\u001b[39m(jac_val, coo_array):\n",
      "\u001b[36mFile \u001b[39m\u001b[32m~/Documents/bimpcc_2 4/bimpcc_2 3/bimpcc/models/tvq_denoising.py:194\u001b[39m, in \u001b[36mStateConstraintFn.jacobian\u001b[39m\u001b[34m(self, x)\u001b[39m\n\u001b[32m    193\u001b[39m \u001b[38;5;28;01mdef\u001b[39;00m\u001b[38;5;250m \u001b[39m\u001b[34mjacobian\u001b[39m(\u001b[38;5;28mself\u001b[39m, x: np.ndarray) -> \u001b[38;5;28mfloat\u001b[39m:\n\u001b[32m--> \u001b[39m\u001b[32m194\u001b[39m     u, q, alpha = \u001b[38;5;28mself\u001b[39m.parse_vars(x)\n\u001b[32m    195\u001b[39m     nabla_u_W, nabla_beta_W = build_nabla_u(\u001b[38;5;28mself\u001b[39m.gradient_op, u, \u001b[38;5;28mself\u001b[39m.q_param, alpha, \u001b[38;5;28mself\u001b[39m.delta_gamma, \u001b[38;5;28mself\u001b[39m.gamma_param, \u001b[38;5;28mself\u001b[39m.rho, \u001b[38;5;28mself\u001b[39m.M)\n\u001b[32m    196\u001b[39m     jac = sp.hstack(\n\u001b[32m    197\u001b[39m         [\n\u001b[32m    198\u001b[39m             (-\u001b[32m1\u001b[39m/\u001b[38;5;28mself\u001b[39m.delta_gamma)*(\u001b[38;5;28mself\u001b[39m.KT @ nabla_u_W - \u001b[38;5;28mself\u001b[39m.Id),  \u001b[38;5;66;03m# u\u001b[39;00m\n\u001b[32m   (...)\u001b[39m\u001b[32m    204\u001b[39m         ]\n\u001b[32m    205\u001b[39m     )\n",
      "\u001b[31mValueError\u001b[39m: too many values to unpack (expected 3)"
     ]
    }
   ],
   "source": [
    "res_mpcc,x_opt_mpcc,fun_opt_mpcc = mpcc_model.solve(max_iter=100,tol=1e-4,print_level=5,verbose=True)"
   ]
  },
  {
   "cell_type": "code",
   "execution_count": null,
   "metadata": {},
   "outputs": [],
   "source": []
  }
 ],
 "metadata": {
  "kernelspec": {
   "display_name": ".venv",
   "language": "python",
   "name": "python3"
  },
  "language_info": {
   "codemirror_mode": {
    "name": "ipython",
    "version": 3
   },
   "file_extension": ".py",
   "mimetype": "text/x-python",
   "name": "python",
   "nbconvert_exporter": "python",
   "pygments_lexer": "ipython3",
   "version": "3.12.7"
  }
 },
 "nbformat": 4,
 "nbformat_minor": 2
}
