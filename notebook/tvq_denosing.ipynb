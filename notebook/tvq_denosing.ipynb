{
 "cells": [
  {
   "cell_type": "code",
   "execution_count": 1,
   "metadata": {},
   "outputs": [],
   "source": [
    "import sys\n",
    "import os\n",
    "# Get the absolute path to the project root\n",
    "project_root = os.path.abspath(os.path.join(os.getcwd(), \"..\"))\n",
    "# Add it to sys.path\n",
    "sys.path.append(project_root)"
   ]
  },
  {
   "cell_type": "code",
   "execution_count": 2,
   "metadata": {},
   "outputs": [],
   "source": [
    "import numpy as np\n",
    "from bimpcc.dataset import get_dataset\n",
    "from bimpcc.models.tvqregularized import TVqRegularized\n",
    "from bimpcc.models.tvq_denoising import TVDenoisingMPCC\n",
    "import matplotlib.pyplot as plt\n",
    "from skimage.metrics import peak_signal_noise_ratio as psnr\n",
    "from bimpcc.utils import generate_2D_gradient_matrices"
   ]
  },
  {
   "cell_type": "code",
   "execution_count": 3,
   "metadata": {},
   "outputs": [],
   "source": [
    "def plot_experiment(true,noisy,u, alpha):\n",
    "    \n",
    "    fig,ax = plt.subplots(1,3,figsize=(14,4))\n",
    "    ax[0].imshow(true,cmap='gray')\n",
    "    ax[0].set_title('True Image')\n",
    "    ax[0].axis('off')\n",
    "    ax[1].imshow(noisy,cmap='gray')\n",
    "    ax[1].set_title('Noisy Image\\nPSNR: {:.4f}'.format(psnr(true,noisy)))\n",
    "    ax[1].axis('off')\n",
    "    ax[2].imshow(u,cmap='gray')\n",
    "    ax[2].set_title(f'Reconstructed Image\\nPSNR: {psnr(true,u):.4f}\\n alpha = {alpha}')\n",
    "    # ax[2].set_xlabel('alpha = {}'.format(alpha))\n",
    "    ax[2].axis('off')\n",
    "\n",
    "    plt.show()"
   ]
  },
  {
   "cell_type": "code",
   "execution_count": 4,
   "metadata": {},
   "outputs": [],
   "source": [
    "scale = 4"
   ]
  },
  {
   "cell_type": "code",
   "execution_count": 5,
   "metadata": {},
   "outputs": [],
   "source": [
    "dataset = get_dataset(\"cameraman\",scale=scale)\n",
    "true, noisy = dataset.get_training_data()"
   ]
  },
  {
   "cell_type": "code",
   "execution_count": 6,
   "metadata": {},
   "outputs": [
    {
     "data": {
      "text/plain": [
       "(np.float64(-0.5), np.float64(3.5), np.float64(3.5), np.float64(-0.5))"
      ]
     },
     "execution_count": 6,
     "metadata": {},
     "output_type": "execute_result"
    },
    {
     "data": {
      "image/png": "[encoded data removed]",
      "text/plain": [
       "<Figure size 1000x500 with 2 Axes>"
      ]
     },
     "metadata": {},
     "output_type": "display_data"
    }
   ],
   "source": [
    "fig,ax = plt.subplots(1,2,figsize=(10,5))\n",
    "ax[0].imshow(true,cmap='gray')\n",
    "ax[0].set_title('True Image')\n",
    "ax[0].axis('off')\n",
    "ax[1].imshow(noisy,cmap='gray')\n",
    "ax[1].set_title('Noisy Image')\n",
    "ax[1].axis('off')"
   ]
  },
  {
   "cell_type": "code",
   "execution_count": 7,
   "metadata": {},
   "outputs": [],
   "source": [
    "model = TVqRegularized(true, noisy, epsilon=1e-3, q_param=0.99)"
   ]
  },
  {
   "cell_type": "code",
   "execution_count": 8,
   "metadata": {},
   "outputs": [
    {
     "name": "stdout",
     "output_type": "stream",
     "text": [
      "\n",
      "******************************************************************************\n",
      "This program contains Ipopt, a library for large-scale nonlinear optimization.\n",
      " Ipopt is released as open source code under the Eclipse Public License (EPL).\n",
      "         For more information visit https://github.com/coin-or/Ipopt\n",
      "******************************************************************************\n",
      "\n",
      "This is Ipopt version 3.14.17, running with linear solver MUMPS 5.6.2.\n",
      "\n",
      "Number of nonzeros in equality constraint Jacobian...:      290\n",
      "Number of nonzeros in inequality constraint Jacobian.:        0\n",
      "Number of nonzeros in Lagrangian Hessian.............:        0\n",
      "\n",
      "Total number of variables............................:       41\n",
      "                     variables with only lower bounds:       17\n",
      "                variables with lower and upper bounds:        0\n",
      "                     variables with only upper bounds:        0\n",
      "Total number of equality constraints.................:       40\n",
      "Total number of inequality constraints...............:        0\n",
      "        inequality constraints with only lower bounds:        0\n",
      "   inequality constraints with lower and upper bounds:        0\n",
      "        inequality constraints with only upper bounds:        0\n",
      "\n",
      "iter    objective    inf_pr   inf_du lg(mu)  ||d||  lg(rg) alpha_du alpha_pr  ls\n",
      "   0  1.3257738e-02 1.10e-02 1.29e-01   0.0 0.00e+00    -  0.00e+00 0.00e+00   0\n",
      "   1  1.1755548e-02 8.85e-04 1.38e-01  -6.2 1.89e-02    -  8.75e-01 1.00e+00h  1\n",
      "   2  1.0911124e-02 8.23e-04 1.64e-02  -2.3 3.24e-02    -  1.00e+00 1.00e+00h  1\n",
      "   3  1.0833755e-02 5.36e-06 5.69e-04  -4.2 1.91e-03    -  9.98e-01 1.00e+00h  1\n",
      "   4  1.0833320e-02 8.41e-07 2.67e-04 -10.1 7.24e-04    -  9.99e-01 1.00e+00h  1\n",
      "   5  1.0833336e-02 8.31e-08 6.58e-08  -8.9 7.32e-05    -  1.00e+00 1.00e+00h  1\n",
      "\n",
      "Number of Iterations....: 5\n",
      "\n",
      "                                   (scaled)                 (unscaled)\n",
      "Objective...............:   1.0833335887042241e-02    1.0833335887042241e-02\n",
      "Dual infeasibility......:   6.5829628541839117e-08    6.5829628541839117e-08\n",
      "Constraint violation....:   8.3147419490357810e-08    8.3147419490357810e-08\n",
      "Variable bound violation:   0.0000000000000000e+00    0.0000000000000000e+00\n",
      "Complementarity.........:   2.9202894401455536e-09    2.9202894401455536e-09\n",
      "Overall NLP error.......:   8.3147419490357810e-08    8.3147419490357810e-08\n",
      "\n",
      "\n",
      "Number of objective function evaluations             = 6\n",
      "Number of objective gradient evaluations             = 6\n",
      "Number of equality constraint evaluations            = 6\n",
      "Number of inequality constraint evaluations          = 0\n",
      "Number of equality constraint Jacobian evaluations   = 6\n",
      "Number of inequality constraint Jacobian evaluations = 0\n",
      "Number of Lagrangian Hessian evaluations             = 0\n",
      "Total seconds in IPOPT                               = 0.099\n",
      "\n",
      "EXIT: Optimal Solution Found.\n"
     ]
    }
   ],
   "source": [
    "res,x_opt,fun_opt = model.solve(max_iter=3000,tol=1e-4,print_level=5)"
   ]
  },
  {
   "cell_type": "code",
   "execution_count": 9,
   "metadata": {},
   "outputs": [],
   "source": [
    "u, q, alpha = model.objective_func.parse_vars(x_opt)"
   ]
  },
  {
   "cell_type": "code",
   "execution_count": 10,
   "metadata": {},
   "outputs": [
    {
     "data": {
      "image/png": "[encoded data removed]",
      "text/plain": [
       "<Figure size 1400x400 with 3 Axes>"
      ]
     },
     "metadata": {},
     "output_type": "display_data"
    }
   ],
   "source": [
    "u = u.reshape((scale,scale))\n",
    "plot_experiment(true,noisy,u,alpha)"
   ]
  },
  {
   "cell_type": "code",
   "execution_count": 11,
   "metadata": {},
   "outputs": [],
   "source": [
    "Kx, Ky, K = generate_2D_gradient_matrices(scale)"
   ]
  },
  {
   "cell_type": "code",
   "execution_count": 12,
   "metadata": {},
   "outputs": [],
   "source": [
    "m = q.flatten().size\n",
    "n = m // 2\n",
    "\n",
    "Ku = K @ u.flatten()\n",
    "V = Ku.reshape(2, -1).T\n",
    "normKu = np.apply_along_axis(np.linalg.norm, axis=1, arr=V)\n",
    "Q = q.reshape(2,-1).T\n",
    "normQ = np.apply_along_axis(np.linalg.norm, axis=1, arr=Q)\n",
    "r0 = normKu\n",
    "delta0 = normQ"
   ]
  },
  {
   "cell_type": "code",
   "execution_count": 13,
   "metadata": {},
   "outputs": [],
   "source": [
    "Kxu = Ku[:n]  # Primeras n componentes\n",
    "Kyu = Ku[n:]  # Últimas n componentes\n",
    "qx = q[:n]  # Primeras n componentes\n",
    "qy = q[n:]  # Últimas n componentes\n",
    "epsilon = 1e-10  \n",
    "\n",
    "# Condiciones para calcular theta según los casos dados\n",
    "theta0 = np.zeros(n)  # Inicializamos theta0\n",
    "\n",
    "# Caso 1: r_i ≠ 0\n",
    "mask_r_nonzero = r0 > epsilon\n",
    "theta0[mask_r_nonzero] = np.arccos(Kxu[mask_r_nonzero] / r0[mask_r_nonzero])\n",
    "theta0[mask_r_nonzero & (Kyu < 0)] *= -1  # Si Ky^i u < 0, negamos theta0\n",
    "\n",
    "# Caso 2: r_i = 0 y delta_i ≠ 0\n",
    "mask_r_zero_delta_nonzero = (r0 <= epsilon) & (delta0 > epsilon)\n",
    "theta0[mask_r_zero_delta_nonzero] = np.arccos(qx[mask_r_zero_delta_nonzero] / delta0[mask_r_zero_delta_nonzero])\n",
    "theta0[mask_r_zero_delta_nonzero & (qy < 0)] *= -1  # Si qy^i < 0, negamos theta0\n",
    "\n",
    "# Caso 3: r_i = 0 y delta_i = 0 (theta0 indefinido)\n",
    "mask_r_zero_delta_zero = (r0 <= epsilon) & (delta0 <= epsilon)\n",
    "theta0[mask_r_zero_delta_zero] = 0"
   ]
  },
  {
   "cell_type": "code",
   "execution_count": 14,
   "metadata": {},
   "outputs": [],
   "source": [
    "x0_mpcc = np.concatenate((u.flatten(),q.flatten(),r0,delta0,theta0,alpha))\n",
    "# print(x0_mpcc)"
   ]
  },
  {
   "cell_type": "code",
   "execution_count": 15,
   "metadata": {},
   "outputs": [],
   "source": [
    "mpcc_model = TVDenoisingMPCC(true, noisy, x0=x0_mpcc, epsilon=1e-3, q_param = 0.99)"
   ]
  },
  {
   "cell_type": "code",
   "execution_count": 16,
   "metadata": {},
   "outputs": [
    {
     "data": {
      "text/html": [
       "<pre style=\"white-space:pre;overflow-x:auto;line-height:normal;font-family:Menlo,'DejaVu Sans Mono',consolas,'Courier New',monospace\"> Iter   Termination_status            Objective      MPCC_compl               t\n",
       "\n",
       "</pre>\n"
      ],
      "text/plain": [
       " Iter   Termination_status            Objective      MPCC_compl               t\n",
       "\n"
      ]
     },
     "metadata": {},
     "output_type": "display_data"
    },
    {
     "name": "stdout",
     "output_type": "stream",
     "text": [
      "This is Ipopt version 3.14.17, running with linear solver MUMPS 5.6.2.\n",
      "\n",
      "Number of nonzeros in equality constraint Jacobian...:      326\n",
      "Number of nonzeros in inequality constraint Jacobian.:       60\n",
      "Number of nonzeros in Lagrangian Hessian.............:        0\n",
      "\n",
      "Total number of variables............................:       77\n",
      "                     variables with only lower bounds:       41\n",
      "                variables with lower and upper bounds:        0\n",
      "                     variables with only upper bounds:        0\n",
      "Total number of equality constraints.................:       64\n",
      "Total number of inequality constraints...............:       24\n",
      "        inequality constraints with only lower bounds:       24\n",
      "   inequality constraints with lower and upper bounds:        0\n",
      "        inequality constraints with only upper bounds:        0\n",
      "\n",
      "iter    objective    inf_pr   inf_du lg(mu)  ||d||  lg(rg) alpha_du alpha_pr  ls\n",
      "   0  1.0833336e-02 8.31e-08 7.50e-01   0.0 0.00e+00    -  0.00e+00 0.00e+00   0\n",
      "   1  1.0730264e-02 5.48e-06 6.77e-01  -6.4 9.10e-03    -  5.97e-01 1.00e+00h  1\n",
      "   2  1.0503404e-02 1.03e-04 4.43e-02  -2.9 1.98e-02    -  9.09e-01 1.00e+00h  1\n",
      "   3  8.8071662e-03 2.92e-04 2.07e-02  -3.7 5.72e-02    -  7.81e-01 1.00e+00h  1\n",
      "   4  7.2192356e-03 1.00e-03 1.04e-02  -4.3 1.10e-01    -  6.97e-01 1.00e+00h  1\n",
      "   5  6.0605805e-03 2.82e-03 1.04e-02  -4.4 1.78e-01    -  6.70e-01 1.00e+00h  1\n",
      "   6  5.7324082e-03 3.33e-03 2.78e-02  -4.9 2.35e-01    -  5.07e-01 1.00e+00h  1\n",
      "   7  6.3996327e-03 6.07e-03 3.00e-02  -3.9 7.41e-01    -  5.51e-01 1.00e+00h  1\n",
      "   8  7.9257930e-03 1.20e-02 5.66e-02  -3.8 4.11e-01    -  4.30e-01 1.00e+00h  1\n",
      "   9  5.3617342e-03 1.08e-02 2.18e-02  -3.8 1.87e-01    -  5.84e-01 1.00e+00h  1\n",
      "iter    objective    inf_pr   inf_du lg(mu)  ||d||  lg(rg) alpha_du alpha_pr  ls\n",
      "  10  5.3774269e-03 3.90e-03 1.62e-02  -4.3 7.01e-02    -  1.00e+00 1.00e+00h  1\n",
      "  11  5.0579159e-03 3.23e-03 8.53e-03  -5.0 4.52e-02    -  1.00e+00 1.00e+00h  1\n",
      "  12  5.1026559e-03 2.88e-04 6.14e-03  -5.9 2.05e-02    -  1.00e+00 1.00e+00h  1\n",
      "  13  5.0918466e-03 3.36e-04 2.06e-03  -6.7 1.15e-02    -  1.00e+00 1.00e+00h  1\n",
      "  14  5.0887232e-03 1.30e-04 1.08e-03  -7.0 9.38e-03    -  1.00e+00 1.00e+00h  1\n",
      "  15  5.1007826e-03 1.90e-05 1.69e-03  -8.4 1.96e-02    -  1.00e+00 1.00e+00H  1\n",
      "  16  5.0961664e-03 3.97e-04 2.26e-03 -10.0 1.65e-02    -  1.00e+00 1.00e+00h  1\n",
      "  17  5.1218498e-03 2.21e-04 1.19e-03  -9.9 5.95e-03    -  9.65e-01 1.00e+00h  1\n",
      "  18  5.1039448e-03 4.65e-05 4.39e-04  -9.9 2.05e-03    -  1.00e+00 1.00e+00h  1\n",
      "  19  5.1061097e-03 7.67e-05 2.92e-04  -9.9 2.18e-03    -  1.00e+00 1.00e+00h  1\n",
      "iter    objective    inf_pr   inf_du lg(mu)  ||d||  lg(rg) alpha_du alpha_pr  ls\n",
      "  20  5.1096785e-03 1.11e-06 4.84e-04  -9.9 3.61e-03    -  1.00e+00 1.00e+00H  1\n",
      "  21  5.1096092e-03 4.77e-05 4.25e-04 -10.9 1.99e-03    -  1.00e+00 1.00e+00h  1\n",
      "  22  5.1094827e-03 3.81e-05 1.92e-04 -11.0 1.07e-03    -  1.00e+00 1.00e+00h  1\n",
      "  23  5.1082737e-03 1.08e-05 5.80e-05 -11.0 5.33e-04    -  1.00e+00 1.00e+00h  1\n",
      "  24  5.1085156e-03 3.42e-06 7.02e-05 -11.0 2.22e-04    -  1.00e+00 1.00e+00h  1\n",
      "  25  5.1083918e-03 2.75e-06 8.03e-06 -11.0 1.17e-04    -  1.00e+00 1.00e+00h  1\n",
      "  26  5.1084987e-03 7.92e-07 3.27e-06 -11.0 2.34e-05    -  1.00e+00 1.00e+00h  1\n",
      "  27  5.1084607e-03 9.61e-07 5.84e-06 -11.0 8.49e-05    -  1.00e+00 1.00e+00h  1\n",
      "  28  5.1084528e-03 2.44e-06 2.14e-05 -11.0 1.48e-04    -  1.00e+00 1.00e+00h  1\n",
      "  29  5.1082929e-03 3.71e-06 3.51e-06 -11.0 5.54e-05    -  1.00e+00 1.00e+00h  1\n",
      "iter    objective    inf_pr   inf_du lg(mu)  ||d||  lg(rg) alpha_du alpha_pr  ls\n",
      "  30  5.1084464e-03 5.96e-07 3.42e-06 -11.0 1.61e-05    -  1.00e+00 1.00e+00h  1\n",
      "  31  5.1084418e-03 1.35e-07 1.40e-07 -11.0 5.14e-06    -  1.00e+00 1.00e+00h  1\n",
      "  32  5.1084374e-03 7.99e-08 8.52e-08 -11.0 2.51e-06    -  1.00e+00 1.00e+00h  1\n",
      "  33  5.1084376e-03 1.77e-08 3.70e-08 -11.0 8.82e-07    -  1.00e+00 1.00e+00h  1\n",
      "  34  5.1084382e-03 1.20e-08 2.92e-08 -11.0 5.69e-07    -  1.00e+00 1.00e+00h  1\n",
      "  35  5.1084394e-03 2.00e-09 2.38e-08 -11.0 2.10e-06    -  1.00e+00 1.00e+00H  1\n",
      "  36  5.1084393e-03 1.71e-08 1.80e-08 -11.0 6.59e-07    -  1.00e+00 1.00e+00h  1\n",
      "  37  5.1084407e-03 1.78e-08 7.34e-09 -11.0 4.01e-07    -  1.00e+00 1.00e+00h  1\n",
      "  38  5.1084395e-03 1.28e-08 5.70e-09 -11.0 1.33e-07    -  1.00e+00 1.00e+00h  1\n",
      "  39  5.1084396e-03 3.55e-09 3.92e-09 -11.0 2.10e-07    -  1.00e+00 1.00e+00h  1\n",
      "\n",
      "Number of Iterations....: 39\n",
      "\n",
      "                                   (scaled)                 (unscaled)\n",
      "Objective...............:   5.1084396011248472e-03    5.1084396011248472e-03\n",
      "Dual infeasibility......:   3.9166768198457412e-09    3.9166768198457412e-09\n",
      "Constraint violation....:   3.5496840744553282e-09    3.5496840744553282e-09\n",
      "Variable bound violation:   0.0000000000000000e+00    0.0000000000000000e+00\n",
      "Complementarity.........:   1.0000000000000001e-11    1.0000000000000001e-11\n",
      "Overall NLP error.......:   3.9166768198457412e-09    3.9166768198457412e-09\n",
      "\n",
      "\n",
      "Number of objective function evaluations             = 43\n",
      "Number of objective gradient evaluations             = 40\n",
      "Number of equality constraint evaluations            = 43\n",
      "Number of inequality constraint evaluations          = 43\n",
      "Number of equality constraint Jacobian evaluations   = 40\n",
      "Number of inequality constraint Jacobian evaluations = 40\n",
      "Number of Lagrangian Hessian evaluations             = 0\n",
      "Total seconds in IPOPT                               = 0.486\n",
      "\n",
      "EXIT: Optimal Solution Found.\n"
     ]
    },
    {
     "data": {
      "text/html": [
       "<pre style=\"white-space:pre;overflow-x:auto;line-height:normal;font-family:Menlo,'DejaVu Sans Mono',consolas,'Courier New',monospace\">    <span style=\"color: #008080; text-decoration-color: #008080; font-weight: bold\">0</span>                 <span style=\"color: #008080; text-decoration-color: #008080; font-weight: bold\">0</span>  <span style=\"color: #008080; text-decoration-color: #008080; font-weight: bold\">0.005108439601124847</span>    <span style=\"color: #008080; text-decoration-color: #008080; font-weight: bold\">1.3256676467880115</span>                 <span style=\"color: #008080; text-decoration-color: #008080; font-weight: bold\">1.0</span>\n",
       "</pre>\n"
      ],
      "text/plain": [
       "    \u001b[1;36m0\u001b[0m                 \u001b[1;36m0\u001b[0m  \u001b[1;36m0.005108439601124847\u001b[0m    \u001b[1;36m1.3256676467880115\u001b[0m                 \u001b[1;36m1.0\u001b[0m\n"
      ]
     },
     "metadata": {},
     "output_type": "display_data"
    },
    {
     "name": "stdout",
     "output_type": "stream",
     "text": [
      "This is Ipopt version 3.14.17, running with linear solver MUMPS 5.6.2.\n",
      "\n",
      "Number of nonzeros in equality constraint Jacobian...:      326\n",
      "Number of nonzeros in inequality constraint Jacobian.:       60\n",
      "Number of nonzeros in Lagrangian Hessian.............:        0\n",
      "\n",
      "Total number of variables............................:       77\n",
      "                     variables with only lower bounds:       41\n",
      "                variables with lower and upper bounds:        0\n",
      "                     variables with only upper bounds:        0\n",
      "Total number of equality constraints.................:       64\n",
      "Total number of inequality constraints...............:       24\n",
      "        inequality constraints with only lower bounds:       24\n",
      "   inequality constraints with lower and upper bounds:        0\n",
      "        inequality constraints with only upper bounds:        0\n",
      "\n",
      "iter    objective    inf_pr   inf_du lg(mu)  ||d||  lg(rg) alpha_du alpha_pr  ls\n",
      "   0  5.1084396e-03 3.48e-01 8.17e-01   0.0 0.00e+00    -  0.00e+00 0.00e+00   0\n",
      "   1  4.8869009e-02 4.53e-02 1.16e+00  -1.0 4.71e-01    -  6.28e-01 1.00e+00f  1\n",
      "   2  6.3240804e-02 6.66e-03 1.46e-01  -1.4 1.88e-01    -  1.00e+00 1.00e+00h  1\n",
      "   3  5.7938291e-02 7.73e-04 5.17e-02  -2.3 2.90e-02    -  9.67e-01 1.00e+00h  1\n",
      "   4  1.9687562e-02 2.70e-02 8.09e-02  -2.6 3.08e-01    -  9.74e-01 1.00e+00h  1\n",
      "   5  7.6110471e-03 1.09e-02 5.86e-02  -3.0 3.35e-01    -  9.97e-01 1.00e+00h  1\n",
      "   6  7.1321101e-03 1.53e-03 1.73e-02  -3.1 5.83e-02    -  9.94e-01 1.00e+00h  1\n",
      "   7  5.7408512e-03 1.15e-03 8.94e-03  -3.8 7.17e-02    -  1.00e+00 1.00e+00h  1\n",
      "   8  5.3392549e-03 8.01e-04 7.30e-03  -4.4 4.37e-02    -  9.99e-01 1.00e+00h  1\n",
      "   9  5.2554348e-03 8.01e-04 8.55e-03  -5.1 5.19e-02    -  1.00e+00 1.00e+00h  1\n",
      "iter    objective    inf_pr   inf_du lg(mu)  ||d||  lg(rg) alpha_du alpha_pr  ls\n",
      "  10  5.1587537e-03 8.76e-04 4.34e-03  -5.8 2.59e-02    -  1.00e+00 1.00e+00h  1\n",
      "  11  5.1463331e-03 2.50e-04 1.91e-03  -6.2 1.60e-02    -  1.00e+00 1.00e+00h  1\n",
      "  12  5.1276384e-03 3.31e-04 3.72e-03  -6.6 4.92e-02    -  1.00e+00 1.00e+00h  1\n",
      "  13  5.1213460e-03 3.39e-04 3.99e-03  -5.2 5.55e-02    -  1.00e+00 9.88e-01h  1\n",
      "  14  5.1390539e-03 3.91e-04 5.16e-03  -5.8 2.31e-02    -  1.00e+00 1.00e+00h  1\n",
      "  15  5.1205496e-03 3.00e-04 2.55e-03  -6.0 3.57e-02    -  1.00e+00 1.00e+00h  1\n",
      "  16  5.1183712e-03 1.18e-04 2.61e-03  -6.7 1.33e-02    -  1.00e+00 1.00e+00h  1\n",
      "  17  5.1091962e-03 2.00e-05 8.47e-04  -6.8 8.14e-03    -  1.00e+00 1.00e+00h  1\n",
      "  18  5.1096064e-03 5.03e-05 6.64e-04  -8.4 2.86e-03    -  1.00e+00 1.00e+00h  1\n",
      "  19  5.1126053e-03 2.83e-05 1.80e-04 -10.0 1.05e-03    -  1.00e+00 1.00e+00h  1\n",
      "iter    objective    inf_pr   inf_du lg(mu)  ||d||  lg(rg) alpha_du alpha_pr  ls\n",
      "  20  5.1104803e-03 4.98e-06 7.08e-05 -11.0 5.29e-04    -  1.00e+00 1.00e+00h  1\n",
      "  21  5.1109794e-03 7.84e-07 1.67e-04 -11.0 1.78e-03    -  1.00e+00 1.00e+00H  1\n",
      "  22  5.1115458e-03 8.96e-08 3.40e-05 -11.0 2.15e-03    -  1.00e+00 1.00e+00H  1\n",
      "  23  5.1114922e-03 1.59e-05 6.56e-05 -11.0 1.36e-03    -  1.00e+00 1.00e+00h  1\n",
      "  24  5.1108164e-03 1.26e-05 1.19e-04 -11.0 5.83e-04    -  1.00e+00 1.00e+00h  1\n",
      "  25  5.1111221e-03 8.57e-06 1.24e-05 -11.0 4.44e-04    -  1.00e+00 1.00e+00h  1\n",
      "  26  5.1110193e-03 2.07e-06 1.51e-05 -11.0 4.28e-05    -  1.00e+00 1.00e+00h  1\n",
      "  27  5.1110682e-03 1.20e-06 6.80e-06 -11.0 4.33e-05    -  1.00e+00 1.00e+00h  1\n",
      "  28  5.1110396e-03 8.13e-07 7.07e-06 -11.0 6.09e-05    -  1.00e+00 1.00e+00h  1\n",
      "  29  5.1110647e-03 7.93e-07 8.68e-06 -11.0 1.10e-04    -  1.00e+00 1.00e+00h  1\n",
      "iter    objective    inf_pr   inf_du lg(mu)  ||d||  lg(rg) alpha_du alpha_pr  ls\n",
      "  30  5.1110773e-03 3.16e-07 7.60e-06 -11.0 3.19e-05    -  1.00e+00 1.00e+00h  1\n",
      "  31  5.1110833e-03 2.40e-07 3.73e-07 -11.0 4.44e-05    -  1.00e+00 1.00e+00h  1\n",
      "  32  5.1110940e-03 1.03e-07 4.35e-07 -11.0 8.89e-06    -  1.00e+00 1.00e+00h  1\n"
     ]
    },
    {
     "data": {
      "text/html": [
       "<pre style=\"white-space:pre;overflow-x:auto;line-height:normal;font-family:Menlo,'DejaVu Sans Mono',consolas,'Courier New',monospace\">    <span style=\"color: #008080; text-decoration-color: #008080; font-weight: bold\">1</span>                 <span style=\"color: #008080; text-decoration-color: #008080; font-weight: bold\">0</span>  <span style=\"color: #008080; text-decoration-color: #008080; font-weight: bold\">0.005111090883544839</span>    <span style=\"color: #008080; text-decoration-color: #008080; font-weight: bold\">1.3245017545181859</span>                 <span style=\"color: #008080; text-decoration-color: #008080; font-weight: bold\">0.5</span>\n",
       "</pre>\n"
      ],
      "text/plain": [
       "    \u001b[1;36m1\u001b[0m                 \u001b[1;36m0\u001b[0m  \u001b[1;36m0.005111090883544839\u001b[0m    \u001b[1;36m1.3245017545181859\u001b[0m                 \u001b[1;36m0.5\u001b[0m\n"
      ]
     },
     "metadata": {},
     "output_type": "display_data"
    },
    {
     "name": "stdout",
     "output_type": "stream",
     "text": [
      "  33  5.1110878e-03 6.86e-08 8.18e-08 -11.0 4.69e-06    -  1.00e+00 1.00e+00h  1\n",
      "  34  5.1110893e-03 1.95e-08 1.90e-08 -11.0 1.64e-06    -  1.00e+00 1.00e+00h  1\n",
      "  35  5.1110906e-03 4.78e-09 1.26e-08 -11.0 5.15e-07    -  1.00e+00 1.00e+00h  1\n",
      "  36  5.1110904e-03 2.44e-08 2.64e-08 -11.0 1.02e-06    -  1.00e+00 1.00e+00h  1\n",
      "  37  5.1110909e-03 3.40e-10 6.17e-09 -11.0 4.72e-07    -  1.00e+00 1.00e+00H  1\n",
      "\n",
      "Number of Iterations....: 37\n",
      "\n",
      "                                   (scaled)                 (unscaled)\n",
      "Objective...............:   5.1110908835448393e-03    5.1110908835448393e-03\n",
      "Dual infeasibility......:   6.1698211568826200e-09    6.1698211568826200e-09\n",
      "Constraint violation....:   3.4006475153197657e-10    3.4006475153197657e-10\n",
      "Variable bound violation:   8.8626587319007299e-09    8.8626587319007299e-09\n",
      "Complementarity.........:   1.0000000000000003e-11    1.0000000000000003e-11\n",
      "Overall NLP error.......:   6.1698211568826200e-09    6.1698211568826200e-09\n",
      "\n",
      "\n",
      "Number of objective function evaluations             = 42\n",
      "Number of objective gradient evaluations             = 38\n",
      "Number of equality constraint evaluations            = 42\n",
      "Number of inequality constraint evaluations          = 42\n",
      "Number of equality constraint Jacobian evaluations   = 38\n",
      "Number of inequality constraint Jacobian evaluations = 38\n",
      "Number of Lagrangian Hessian evaluations             = 0\n",
      "Total seconds in IPOPT                               = 0.461\n",
      "\n",
      "EXIT: Optimal Solution Found.\n",
      "This is Ipopt version 3.14.17, running with linear solver MUMPS 5.6.2.\n",
      "\n",
      "Number of nonzeros in equality constraint Jacobian...:      326\n",
      "Number of nonzeros in inequality constraint Jacobian.:       60\n",
      "Number of nonzeros in Lagrangian Hessian.............:        0\n",
      "\n",
      "Total number of variables............................:       77\n",
      "                     variables with only lower bounds:       41\n",
      "                variables with lower and upper bounds:        0\n",
      "                     variables with only upper bounds:        0\n",
      "Total number of equality constraints.................:       64\n",
      "Total number of inequality constraints...............:       24\n",
      "        inequality constraints with only lower bounds:       24\n",
      "   inequality constraints with lower and upper bounds:        0\n",
      "        inequality constraints with only upper bounds:        0\n",
      "\n",
      "iter    objective    inf_pr   inf_du lg(mu)  ||d||  lg(rg) alpha_du alpha_pr  ls\n",
      "   0  5.1110909e-03 2.50e-01 7.38e-01   0.0 0.00e+00    -  0.00e+00 0.00e+00   0\n",
      "   1  3.3003366e-02 2.44e-02 1.25e+00  -1.3 3.58e-01    -  5.61e-01 1.00e+00f  1\n",
      "   2  4.3242437e-02 2.82e-03 9.48e-02  -1.8 1.19e-01    -  9.68e-01 1.00e+00h  1\n",
      "   3  3.7017616e-02 4.41e-04 1.18e-02  -2.5 5.50e-02    -  9.98e-01 1.00e+00h  1\n",
      "   4  1.0809182e-02 2.41e-02 4.52e-02  -2.9 3.52e-01    -  6.78e-01 1.00e+00h  1\n",
      "   5  1.0812067e-02 1.08e-03 1.68e-02  -2.9 4.95e-02    -  9.79e-01 1.00e+00h  1\n",
      "   6  7.2061374e-03 2.30e-03 1.82e-02  -3.6 1.56e-01    -  9.96e-01 1.00e+00h  1\n",
      "   7  6.2342147e-03 4.73e-04 5.10e-03  -4.4 5.05e-02    -  1.00e+00 1.00e+00h  1\n",
      "   8  5.7138433e-03 5.04e-04 5.93e-03  -5.1 4.84e-02    -  1.00e+00 1.00e+00h  1\n",
      "   9  5.4517671e-03 8.69e-04 1.03e-02  -5.0 9.87e-02    -  1.00e+00 9.32e-01h  1\n",
      "iter    objective    inf_pr   inf_du lg(mu)  ||d||  lg(rg) alpha_du alpha_pr  ls\n",
      "  10  5.3262953e-03 6.92e-04 9.72e-03  -4.7 1.78e-01    -  1.00e+00 2.59e-01h  1\n",
      "  11  5.2911886e-03 3.57e-04 6.92e-03  -5.2 5.71e-02    -  1.00e+00 1.00e+00h  1\n",
      "  12  5.2704903e-03 2.15e-04 3.05e-03  -5.8 1.88e-02    -  1.00e+00 1.00e+00h  1\n",
      "  13  5.2466654e-03 5.37e-05 1.64e-03  -6.7 8.82e-03    -  1.00e+00 1.00e+00h  1\n",
      "  14  5.2484511e-03 3.47e-05 4.21e-04  -8.4 4.10e-03    -  1.00e+00 1.00e+00h  1\n",
      "  15  5.2470317e-03 1.29e-05 3.46e-04  -7.7 6.07e-03    -  1.00e+00 1.00e+00h  1\n",
      "  16  5.2498160e-03 2.08e-06 9.85e-04  -8.6 1.29e-02    -  1.00e+00 1.00e+00H  1\n",
      "  17  5.2499962e-03 4.53e-07 9.41e-04  -9.2 4.94e-03    -  1.00e+00 1.00e+00H  1\n",
      "  18  5.2493716e-03 5.86e-05 4.75e-04  -9.7 3.27e-03    -  1.00e+00 1.00e+00h  1\n",
      "  19  5.2480283e-03 2.37e-05 2.85e-04  -9.9 1.38e-03    -  1.00e+00 1.00e+00h  1\n",
      "iter    objective    inf_pr   inf_du lg(mu)  ||d||  lg(rg) alpha_du alpha_pr  ls\n",
      "  20  5.2484559e-03 2.16e-06 3.17e-05  -9.9 8.77e-04    -  1.00e+00 1.00e+00h  1\n",
      "  21  5.2484010e-03 1.75e-06 4.10e-05 -11.0 3.03e-04    -  1.00e+00 1.00e+00h  1\n",
      "  22  5.2483070e-03 1.08e-07 1.06e-05 -11.0 5.32e-04    -  1.00e+00 1.00e+00H  1\n",
      "  23  5.2484235e-03 5.25e-09 2.78e-06 -11.0 2.23e-04    -  1.00e+00 1.00e+00H  1\n",
      "  24  5.2483930e-03 1.44e-08 1.75e-06 -11.0 1.48e-04    -  1.00e+00 1.00e+00H  1\n",
      "  25  5.2483988e-03 1.46e-09 8.92e-08 -11.0 6.63e-05    -  1.00e+00 1.00e+00H  1\n",
      "  26  5.2483987e-03 1.72e-08 5.11e-08 -11.0 3.97e-06    -  1.00e+00 1.00e+00h  1\n",
      "  27  5.2484015e-03 2.00e-09 1.55e-07 -11.0 1.19e-05    -  1.00e+00 1.00e+00H  1\n",
      "  28  5.2484014e-03 8.10e-08 4.02e-08 -11.0 8.06e-06    -  1.00e+00 1.00e+00h  1\n",
      "  29  5.2484002e-03 2.81e-08 9.84e-08 -11.0 3.09e-06    -  1.00e+00 1.00e+00h  1\n",
      "iter    objective    inf_pr   inf_du lg(mu)  ||d||  lg(rg) alpha_du alpha_pr  ls\n",
      "  30  5.2484003e-03 2.15e-08 7.00e-09 -11.0 2.13e-06    -  1.00e+00 1.00e+00h  1\n",
      "  31  5.2484003e-03 5.77e-10 3.31e-09 -11.0 1.60e-07    -  1.00e+00 1.00e+00h  1\n",
      "\n",
      "Number of Iterations....: 31\n",
      "\n",
      "                                   (scaled)                 (unscaled)\n",
      "Objective...............:   5.2484002907254206e-03    5.2484002907254206e-03\n",
      "Dual infeasibility......:   3.3125138695219771e-09    3.3125138695219771e-09\n",
      "Constraint viol"
     ]
    },
    {
     "data": {
      "text/html": [
       "<pre style=\"white-space:pre;overflow-x:auto;line-height:normal;font-family:Menlo,'DejaVu Sans Mono',consolas,'Courier New',monospace\">    <span style=\"color: #008080; text-decoration-color: #008080; font-weight: bold\">2</span>                 <span style=\"color: #008080; text-decoration-color: #008080; font-weight: bold\">0</span>  <span style=\"color: #008080; text-decoration-color: #008080; font-weight: bold\">0.005248400290725421</span>    <span style=\"color: #008080; text-decoration-color: #008080; font-weight: bold\">0.8789048113163592</span>                <span style=\"color: #008080; text-decoration-color: #008080; font-weight: bold\">0.25</span>\n",
       "</pre>\n"
      ],
      "text/plain": [
       "    \u001b[1;36m2\u001b[0m                 \u001b[1;36m0\u001b[0m  \u001b[1;36m0.005248400290725421\u001b[0m    \u001b[1;36m0.8789048113163592\u001b[0m                \u001b[1;36m0.25\u001b[0m\n"
      ]
     },
     "metadata": {},
     "output_type": "display_data"
    },
    {
     "name": "stdout",
     "output_type": "stream",
     "text": [
      "ation....:   5.7706996126061227e-10    5.7706996126061227e-10\n",
      "Variable bound violation:   9.4414867844467426e-09    9.4414867844467426e-09\n",
      "Complementarity.........:   1.0000000000000001e-11    1.0000000000000001e-11\n",
      "Overall NLP error.......:   3.3125138695219771e-09    3.3125138695219771e-09\n",
      "\n",
      "\n",
      "Number of objective function evaluations             = 40\n",
      "Number of objective gradient evaluations             = 32\n",
      "Number of equality constraint evaluations            = 40\n",
      "Number of inequality constraint evaluations          = 40\n",
      "Number of equality constraint Jacobian evaluations   = 32\n",
      "Number of inequality constraint Jacobian evaluations = 32\n",
      "Number of Lagrangian Hessian evaluations             = 0\n",
      "Total seconds in IPOPT                               = 0.403\n",
      "\n",
      "EXIT: Optimal Solution Found.\n",
      "This is Ipopt version 3.14.17, running with linear solver MUMPS 5.6.2.\n",
      "\n",
      "Number of nonzeros in equality constraint Jacobian...:      326\n",
      "Number of nonzeros in inequality constraint Jacobian.:       60\n",
      "Number of nonzeros in Lagrangian Hessian.............:        0\n",
      "\n",
      "Total number of variables............................:       77\n",
      "                     variables with only lower bounds:       41\n",
      "                variables with lower and upper bounds:        0\n",
      "                     variables with only upper bounds:        0\n",
      "Total number of equality constraints.................:       64\n",
      "Total number of inequality constraints...............:       24\n",
      "        inequality constraints with only lower bounds:       24\n",
      "   inequality constraints with lower and upper bounds:        0\n",
      "        inequality constraints with only upper bounds:        0\n",
      "\n",
      "iter    objective    inf_pr   inf_du lg(mu)  ||d||  lg(rg) alpha_du alpha_pr  ls\n",
      "   0  5.2484003e-03 1.25e-01 7.00e-01   0.0 0.00e+00    -  0.00e+00 0.00e+00   0\n",
      "   1  3.4097581e-02 2.03e-02 1.71e+00  -1.2 2.37e-01    -  6.48e-01 1.00e+00f  1\n",
      "   2  4.0946221e-02 2.30e-03 9.51e-02  -1.7 1.06e-01    -  9.98e-01 1.00e+00h  1\n",
      "   3  3.7178748e-02 1.81e-04 1.28e-02  -2.4 1.47e-02    -  1.00e+00 1.00e+00h  1\n",
      "   4  1.3172013e-02 1.29e-02 3.39e-02  -3.0 1.65e-01    -  9.39e-01 1.00e+00h  1\n",
      "   5  8.8543184e-03 7.87e-04 2.59e-02  -3.3 7.53e-02    -  9.95e-01 1.00e+00h  1\n",
      "   6  6.4760668e-03 9.85e-04 8.91e-03  -4.3 9.24e-02    -  1.00e+00 1.00e+00h  1\n",
      "   7  5.7757005e-03 3.62e-04 8.12e-03  -4.9 5.17e-02    -  1.00e+00 1.00e+00h  1\n",
      "   8  5.6408716e-03 4.49e-04 8.16e-03  -5.8 7.00e-02    -  1.00e+00 1.00e+00h  1\n",
      "   9  5.5683275e-03 2.02e-04 6.56e-03  -4.8 4.48e-02    -  1.00e+00 6.10e-01h  1\n",
      "iter    objective    inf_pr   inf_du lg(mu)  ||d||  lg(rg) alpha_du alpha_pr  ls\n",
      "  10  5.5028015e-03 7.00e-05 3.11e-03  -5.6 1.88e-02    -  1.00e+00 1.00e+00h  1\n",
      "  11  5.4795092e-03 6.95e-05 1.92e-03  -6.9 2.11e-02    -  1.00e+00 1.00e+00h  1\n",
      "  12  5.4851418e-03 2.74e-06 4.31e-03  -7.3 4.38e-02    -  1.00e+00 9.99e-01H  1\n",
      "  13  5.4769247e-03 5.93e-05 2.59e-03  -7.8 1.40e-02    -  1.00e+00 1.00e+00h  1\n",
      "  14  5.4676997e-03 5.31e-05 1.44e-03  -7.6 1.54e-02    -  1.00e+00 1.00e+00h  1\n",
      "  15  5.4689225e-03 1.01e-05 9.59e-04  -7.7 6.28e-03    -  1.00e+00 1.00e+00h  1\n",
      "  16  5.4684386e-03 1.53e-05 3.42e-04  -7.4 1.76e-03    -  1.00e+00 9.89e-01h  1\n",
      "  17  5.4681623e-03 1.36e-05 3.33e-04  -8.9 9.93e-04    -  1.00e+00 1.00e+00h  1\n",
      "  18  5.4679199e-03 4.79e-06 4.27e-05 -10.1 3.91e-04    -  1.00e+00 1.00e+00h  1\n",
      "  19  5.4680775e-03 1.18e-06 3.15e-05  -8.9 3.20e-04    -  1.00e+00 1.00e+00h  1\n",
      "iter    objective    inf_pr   inf_du lg(mu)  ||d||  lg(rg) alpha_du alpha_pr  ls\n",
      "  20  5.4681272e-03 2.01e-08 4.75e-06  -9.8 7.74e-04    -  1.00e+00 1.00e+00H  1\n",
      "  21  5.4681236e-03 5.72e-07 3.32e-05 -11.0 4.98e-04    -  1.00e+00 1.00e+00h  1\n",
      "  22  5.4681245e-03 2.76e-07 6.31e-06 -11.0 1.27e-04    -  1.00e+00 1.00e+00h  1\n",
      "  23  5.4681023e-03 1.45e-07 5.77e-07 -11.0 9.99e-05    -  1.00e+00 1.00e+00h  1\n",
      "  24  5.4681172e-03 2.34e-08 2.99e-07 -11.0 1.08e-05    -  1.00e+00 1.00e+00h  1\n",
      "  25  5.4681167e-03 4.73e-08 1.80e-07 -11.0 1.89e-05    -  1.00e+00 1.00e+00h  1\n",
      "  26  5.4681191e-03 1.59e-09 9.13e-07 -11.0 2.72e-05    -  1.00e+00 1.00e+00H  1\n",
      "  27  5.4681190e-03 7.38e-08 2.79e-08 -11.0 2.36e-05    -  1.00e+00 1.00e+00h  1\n",
      "  28  5.4681172e-03 6.38e-09 3.56e-08 -11.0 9.93e-07    -  1.00e+00 1.00e+00h  1\n",
      "  29  5.4681176e-03 2.73e-09 2.64e-09 -11.0 4.60e-07    -  1.00e+00 1.00e+00h  1\n",
      "\n",
      "Number of Iterations....: 29\n",
      "\n",
      "                                   (scaled)                 (unscaled)\n",
      "Objective...............:   5.4681176066923957e-03    5.4681176066923957e-03\n",
      "Dual infeasibility......:   2.6405835893908030e-09    2.6405835893908030e-09\n",
      "Constraint violation....:   2.7283256903709585e-09    2.7283256903709585e-09\n",
      "Variable bound violation:   9.5746098497523358e-09    9.5746098497523358e-09\n",
      "Complementarity.........:   1.0000000002421378e-11    1.0000000002421378e-11\n",
      "Overall NLP error.......:   2.7283256903709585e-09    2.7283256903709585e-09\n",
      "\n",
      "\n",
      "Number of objective function evaluations             = 33\n",
      "Number of objective gradient evaluations             = 30\n",
      "Number of equality constraint evaluations            = 33\n",
      "Number of inequality constraint evaluations          = 33\n",
      "Number of equality constraint Jacobian evaluations   = 30\n",
      "Number of inequality constraint Jacobian evaluations = 30\n",
      "Number of Lagrangian Hessian evaluations             = 0\n",
      "Total seconds in IPOPT                               = 0.368\n",
      "\n",
      "EXIT: Optimal Solution Found.\n"
     ]
    },
    {
     "data": {
      "text/html": [
       "<pre style=\"white-space:pre;overflow-x:auto;line-height:normal;font-family:Menlo,'DejaVu Sans Mono',consolas,'Courier New',monospace\">    <span style=\"color: #008080; text-decoration-color: #008080; font-weight: bold\">3</span>                 <span style=\"color: #008080; text-decoration-color: #008080; font-weight: bold\">0</span>  <span style=\"color: #008080; text-decoration-color: #008080; font-weight: bold\">0.005468117606692396</span>    <span style=\"color: #008080; text-decoration-color: #008080; font-weight: bold\">0.5399648818081856</span>               <span style=\"color: #008080; text-decoration-color: #008080; font-weight: bold\">0.125</span>\n",
       "</pre>\n"
      ],
      "text/plain": [
       "    \u001b[1;36m3\u001b[0m                 \u001b[1;36m0\u001b[0m  \u001b[1;36m0.005468117606692396\u001b[0m    \u001b[1;36m0.5399648818081856\u001b[0m               \u001b[1;36m0.125\u001b[0m\n"
      ]
     },
     "metadata": {},
     "output_type": "display_data"
    },
    {
     "name": "stdout",
     "output_type": "stream",
     "text": [
      "This is Ipopt version 3.14.17, running with linear solver MUMPS 5.6.2.\n",
      "\n",
      "Number of nonzeros in equality constraint Jacobian...:      326\n",
      "Number of nonzeros in inequality constraint Jacobian.:       60\n",
      "Number of nonzeros in Lagrangian Hessian.............:        0\n",
      "\n",
      "Total number of variables............................:       77\n",
      "                     variables with only lower bounds:       41\n",
      "                variables with lower and upper bounds:        0\n",
      "                     variables with only upper bounds:        0\n",
      "Total number of equality constraints.................:       64\n",
      "Total number of inequality constraints...............:       24\n",
      "        inequality constraints with only lower bounds:       24\n",
      "   inequality constraints with lower and upper bounds:        0\n",
      "        inequality constraints with only upper bounds:        0\n",
      "\n",
      "iter    objective    inf_pr   inf_du lg(mu)  ||d||  lg(rg) alpha_du alpha_pr  ls\n",
      "   0  5.4681176e-03 5.70e-02 7.14e-01   0.0 0.00e+00    -  0.00e+00 0.00e+00   0\n",
      "   1  1.9705755e-02 1.14e-02 1.39e+00  -1.4 1.62e-01    -  7.40e-01 1.00e+00f  1\n",
      "   2  2.1796192e-02 3.15e-04 8.78e-02  -2.2 4.90e-02    -  1.00e+00 1.00e+00h  1\n",
      "   3  1.5708625e-02 1.05e-03 2.79e-02  -2.9 7.76e-02    -  9.86e-01 1.00e+00h  1\n",
      "   4  8.5145514e-03 3.56e-03 2.50e-02  -3.5 1.50e-01    -  9.94e-01 1.00e+00h  1\n",
      "   5  6.8587458e-03 4.05e-04 1.32e-02  -3.8 2.37e-02    -  9.99e-01 1.00e+00h  1\n",
      "   6  6.0570916e-03 2.94e-04 4.12e-03  -4.7 3.46e-02    -  1.00e+00 1.00e+00h  1\n",
      "   7  5.7805487e-03 1.37e-04 4.44e-03  -5.3 2.40e-02    -  1.00e+00 1.00e+00h  1\n",
      "   8  5.6883648e-03 1.46e-04 3.95e-03  -6.1 3.07e-02    -  1.00e+00 1.00e+00h  1\n",
      "   9  5.7308850e-03 2.33e-05 9.22e-03  -5.0 5.22e-02    -  1.00e+00 9.15e-01H  1\n",
      "iter    objective    inf_pr   inf_du lg(mu)  ||d||  lg(rg) alpha_du alpha_pr  ls\n",
      "  10  5.6631684e-03 1.31e-04 1.93e-03  -5.5 1.44e-02    -  1.00e+00 1.00e+00h  1\n",
      "  11  5.6475612e-03 1.24e-05 5.31e-04  -7.1 6.31e-03    -  1.00e+00 1.00e+00h  1\n",
      "  12  5.6422777e-03 1.22e-05 8.25e-04  -6.7 9.35e-03    -  1.00e+00 9.62e-01h  1\n",
      "  13  5.6421997e-03 3.32e-07 1.47e-03  -7.3 1.57e-02    -  1.00e+00 9.89e-01H  1\n",
      "  14  5.6410850e-03 1.19e-05 1.43e-03  -8.1 9.26e-03    -  1.00e+00 1.00e+00h  1\n",
      "  15  5.6395269e-03 4.85e-06 2.13e-04  -8.7 7.11e-03    -  1.00e+00 1.00e+00h  1\n",
      "  16  5.6395212e-03 6.06e-07 8.77e-05  -9.5 5.93e-04    -  1.00e+00 1.00e+00h  1\n",
      "  17  5.6394512e-03 6.76e-07 4.23e-05 -11.0 2.69e-04    -  1.00e+00 1.00e+00h  1\n",
      "  18  5.6394793e-03 1.58e-07 3.03e-06 -11.0 2.06e-04    -  1.00e+00 1.00e+00h  1\n",
      "  19  5.6394871e-03 1.79e-09 8.49e-06 -11.0 4.72e-04    -  1.00e+00 1.00e+00H  1\n",
      "iter    objective    inf_pr   inf_du lg(mu)  ||d||  lg(rg) alpha_du alpha_pr  ls\n",
      "  20  5.6394853e-03 4.35e-07 5.16e-06 -11.0 3.64e-04    -  1.00e+00 1.00e+00h  1\n",
      "  21  5.6394834e-03 1.29e-08 2.95e-07 -11.0 1.30e-05    -  1.00e+00 1.00e+00h  1\n",
      "  22  5.6394843e-03 6.73e-09 1.62e-07 -11.0 3.90e-06    -  1.00e+00 1.00e+00h  1\n",
      "  23  5.6394842e-03 2.63e-09 3.32e-08 -11.0 3.18e-06    -  1.00e+00 1.00e+00h  1\n",
      "  24  5.6394840e-03 5.24e-10 7.99e-09 -11.0 5.37e-07    -  1.00e+00 1.00e+00h  1\n",
      "\n",
      "Number of Iterations....: 24\n",
      "\n",
      "                                   (scaled)                 (unscaled)\n",
      "Objective...............:   5.6394840027341256e-03    5.6394840027341256e-03\n",
      "Dual infeasibility......:   7.9940751776274340e-09    7.9940751776274340e-09\n",
      "Constraint violation....:   5.2380974904786548e-10    5.2380974904786548e-10\n",
      "Variable bound violation:   9.6323482768560093e-09    9.6323482768560093e-09\n",
      "Complementarity.........:   1.0000000000325587e-11    1.0000000000325587e-11\n",
      "Overall NLP error.......:   7.9940751776274340e-09    7.9940751776274340e-09\n",
      "\n",
      "\n",
      "Number of objective function evaluations             = 28\n",
      "Number of objective gradient evaluations             = 25\n",
      "Number of equality constraint evaluations            = 28\n",
      "Number of inequality constraint evaluations          = 28\n",
      "Number of equality constraint Jacobian evaluations   = 25\n",
      "Number of inequality constraint Jacobian evaluations = 25\n",
      "Number of Lagrangian Hessian evaluations             = 0\n",
      "Total seconds in IPOPT                               = 0.358\n",
      "\n",
      "EXIT: Optimal Solution Found.\n"
     ]
    },
    {
     "data": {
      "text/html": [
       "<pre style=\"white-space:pre;overflow-x:auto;line-height:normal;font-family:Menlo,'DejaVu Sans Mono',consolas,'Courier New',monospace\">    <span style=\"color: #008080; text-decoration-color: #008080; font-weight: bold\">4</span>                 <span style=\"color: #008080; text-decoration-color: #008080; font-weight: bold\">0</span>  <span style=\"color: #008080; text-decoration-color: #008080; font-weight: bold\">0.005639484002734126</span>    <span style=\"color: #008080; text-decoration-color: #008080; font-weight: bold\">0.27428272260823505</span>             <span style=\"color: #008080; text-decoration-color: #008080; font-weight: bold\">0.0625</span>\n",
       "</pre>\n"
      ],
      "text/plain": [
       "    \u001b[1;36m4\u001b[0m                 \u001b[1;36m0\u001b[0m  \u001b[1;36m0.005639484002734126\u001b[0m    \u001b[1;36m0.27428272260823505\u001b[0m             \u001b[1;36m0.0625\u001b[0m\n"
      ]
     },
     "metadata": {},
     "output_type": "display_data"
    },
    {
     "name": "stdout",
     "output_type": "stream",
     "text": [
      "This is Ipopt version 3.14.17, running with linear solver MUMPS 5.6.2.\n",
      "\n",
      "Number of nonzeros in equality constraint Jacobian...:      326\n",
      "Number of nonzeros in inequality constraint Jacobian.:       60\n",
      "Number of nonzeros in Lagrangian Hessian.............:        0\n",
      "\n",
      "Total number of variables............................:       77\n",
      "                     variables with only lower bounds:       41\n",
      "                variables with lower and upper bounds:        0\n",
      "                     variables with only upper bounds:        0\n",
      "Total number of equality constraints.................:       64\n",
      "Total number of inequality constraints...............:       24\n",
      "        inequality constraints with only lower bounds:       24\n",
      "   inequality constraints with lower and upper bounds:        0\n",
      "        inequality constraints with only upper bounds:        0\n",
      "\n",
      "iter    objective    inf_pr   inf_du lg(mu)  ||d||  lg(rg) alpha_du alpha_pr  ls\n",
      "   0  5.6394840e-03 2.44e-02 7.33e-01   0.0 0.00e+00    -  0.00e+00 0.00e+00   0\n",
      "   1  1.4410011e-02 7.97e-03 1.24e+00  -1.6 1.45e-01    -  8.01e-01 1.00e+00f  1\n",
      "   2  1.4872878e-02 1.37e-04 4.64e-02  -2.7 3.75e-02    -  9.97e-01 1.00e+00h  1\n",
      "   3  9.1568207e-03 1.97e-03 2.80e-02  -3.4 1.31e-01    -  9.80e-01 1.00e+00h  1\n",
      "   4  7.2007673e-03 7.21e-04 1.59e-02  -4.0 3.92e-02    -  9.99e-01 1.00e+00h  1\n",
      "   5  6.3115728e-03 2.17e-04 9.69e-03  -4.2 2.76e-02    -  1.00e+00 1.00e+00h  1\n",
      "   6  5.8955540e-03 1.42e-04 3.95e-03  -5.2 2.79e-02    -  1.00e+00 1.00e+00h  1\n",
      "   7  5.8005313e-03 3.70e-05 1.63e-03  -5.6 1.48e-02    -  1.00e+00 9.24e-01h  1\n",
      "   8  5.7787043e-03 2.35e-05 2.32e-03  -6.3 9.86e-03    -  1.00e+00 1.00e+00h  1\n",
      "   9  5.7716855e-03 1.92e-05 2.10e-03  -7.3 1.25e-02    -  1.00e+00 1.00e+00h  1\n",
      "iter    objective    inf_pr   inf_du lg(mu)  ||d||  lg(rg) alpha_du alpha_pr  ls\n",
      "  10  5.7699886e-03 6.68e-06 6.79e-04  -6.8 3.95e-03    -  1.00e+00 1.00e+00h  1\n",
      "  11  5.7684293e-03 3.04e-06 2.98e-04  -8.1 6.14e-03    -  1.00e+00 1.00e+00h  1\n",
      "  12  5.7683381e-03 3.64e-06 3.83e-04  -7.0 6.13e-03    -  1.00e+00 1.00e+00h  1\n",
      "  13  5.7679195e-03 2.02e-06 2.79e-04  -8.6 1.49e-03    -  1.00e+00 1.00e+00h  1\n",
      "  14  5.7677165e-03 1.02e-06 4.33e-05 -10.0 1.06e-03    -  1.00e+00 1.00e+00h  1\n",
      "  15  5.7677903e-03 1.01e-07 3.57e-06 -10.5 2.56e-04    -  1.00e+00 1.00e+00h  1\n",
      "  16  5.7677950e-03 7.66e-10 6.90e-06 -11.0 4.45e-04    -  1.00e+00 1.00e+00H  1\n",
      "  17  5.7677979e-03 3.39e-10 4.94e-06 -11.0 1.62e-04    -  1.00e+00 1.00e+00H  1\n",
      "  18  5.7677969e-03 6.56e-08 6.72e-07 -11.0 1.72e-04    -  1.00e+00 1.00e+00h  1\n",
      "  19  5.7677935e-03 3.38e-08 8.20e-07 -11.0 4.41e-05    -  1.00e+00 1.00e+00h  1\n",
      "iter    objective    inf_pr   inf_du lg(mu)  ||d||  lg(rg) alpha_du alpha_pr  ls\n",
      "  20  5.7677940e-03 1.86e-08 9.13e-08 -11.0 2.03e-05    -  1.00e+00 1.00e+00h  1\n",
      "  21  5.7677940e-03 7.82e-10 1.49e-08 -11.0 1.06e-06    -  1.00e+00 1.00e+00h  1\n",
      "  22  5.7677939e-03 7.24e-10 1.71e-08 -11.0 1.12e-06    -  1.00e+00 1.00e+00h  1\n",
      "  23  5.7677940e-03 4.22e-10 1.71e-09 -11.0 5.85e-07    -  1.00e+00 1.00e+00h  1\n",
      "\n",
      "Number of Iterations....: 23\n",
      "\n",
      "                                   (scaled)                 (unscaled)\n",
      "Objective...............:   5.7677939839252419e-03    5.7677939839252419e-03\n",
      "Dual infeasibility......:   1.7083042130732150e-09    1.7083042130732150e-09\n",
      "Constraint violation....:   4.2213856715767051e-10    4.2213856715767051e-10\n",
      "Variable bound violation:   9.7078218250570836e-09    9.7078218250570836e-09\n",
      "Complementarity.........:   1.0000000002204340e-11    1.0000000002204340e-11\n",
      "Overall NLP error.......:   1.7083042130732150e-09    1.7083042130732150e-09\n",
      "\n",
      "\n",
      "Number of objective function evaluations             = 26\n",
      "Number of objective gradient evaluations             = 24\n",
      "Number of equality constraint evaluations            = 26\n",
      "Number of inequality constraint evaluations          = 26\n",
      "Number of equality constraint Jacobian evaluations   = 24\n",
      "Number of inequality constraint Jacobian evaluations = 24\n",
      "Numbe"
     ]
    },
    {
     "data": {
      "text/html": [
       "<pre style=\"white-space:pre;overflow-x:auto;line-height:normal;font-family:Menlo,'DejaVu Sans Mono',consolas,'Courier New',monospace\">    <span style=\"color: #008080; text-decoration-color: #008080; font-weight: bold\">5</span>                 <span style=\"color: #008080; text-decoration-color: #008080; font-weight: bold\">0</span>  <span style=\"color: #008080; text-decoration-color: #008080; font-weight: bold\">0.005767793983925242</span>    <span style=\"color: #008080; text-decoration-color: #008080; font-weight: bold\">0.12879043777530738</span>            <span style=\"color: #008080; text-decoration-color: #008080; font-weight: bold\">0.03125</span>\n",
       "</pre>\n"
      ],
      "text/plain": [
       "    \u001b[1;36m5\u001b[0m                 \u001b[1;36m0\u001b[0m  \u001b[1;36m0.005767793983925242\u001b[0m    \u001b[1;36m0.12879043777530738\u001b[0m            \u001b[1;36m0.03125\u001b[0m\n"
      ]
     },
     "metadata": {},
     "output_type": "display_data"
    },
    {
     "name": "stdout",
     "output_type": "stream",
     "text": [
      "r of Lagrangian Hessian evaluations             = 0\n",
      "Total seconds in IPOPT                               = 0.304\n",
      "\n",
      "EXIT: Optimal Solution Found.\n",
      "This is Ipopt version 3.14.17, running with linear solver MUMPS 5.6.2.\n",
      "\n",
      "Number of nonzeros in equality constraint Jacobian...:      326\n",
      "Number of nonzeros in inequality constraint Jacobian.:       60\n",
      "Number of nonzeros in Lagrangian Hessian.............:        0\n",
      "\n",
      "Total number of variables............................:       77\n",
      "                     variables with only lower bounds:       41\n",
      "                variables with lower and upper bounds:        0\n",
      "                     variables with only upper bounds:        0\n",
      "Total number of equality constraints.................:       64\n",
      "Total number of inequality constraints...............:       24\n",
      "        inequality constraints with only lower bounds:       24\n",
      "   inequality constraints with lower and upper bounds:        0\n",
      "        inequality constraints with only upper bounds:        0\n",
      "\n",
      "iter    objective    inf_pr   inf_du lg(mu)  ||d||  lg(rg) alpha_du alpha_pr  ls\n",
      "   0  5.7677940e-03 9.81e-03 7.42e-01   0.0 0.00e+00    -  0.00e+00 0.00e+00   0\n",
      "   1  1.7552234e-02 1.65e-02 2.82e+00  -1.3 2.97e-01    -  7.94e-01 8.36e-01f  1\n",
      "   2  1.7653329e-02 7.27e-04 8.32e-01  -7.0 9.47e-02    -  9.12e-01 1.00e+00h  1\n",
      "   3  1.5196024e-02 3.52e-04 3.14e-01  -2.9 6.60e-02    -  9.49e-01 1.00e+00h  1\n",
      "   4  9.3408712e-03 2.25e-03 3.58e-01  -3.5 9.67e-02    -  1.00e+00 1.00e+00h  1\n",
      "   5  7.5202044e-03 5.89e-04 1.69e-01  -4.2 8.92e-02    -  1.00e+00 1.00e+00h  1\n",
      "   6  6.8970270e-03 5.70e-04 1.19e-01  -4.7 7.74e-02    -  1.00e+00 1.00e+00h  1\n",
      "   7  6.6185191e-03 3.12e-04 1.08e-01  -5.3 5.58e-02    -  1.00e+00 1.00e+00h  1\n",
      "   8  6.6726983e-03 4.09e-04 1.13e-01  -5.0 2.79e-02    -  1.00e+00 9.84e-01h  1\n",
      "   9  6.3350914e-03 3.49e-04 5.02e-02  -4.7 6.01e-02    -  5.49e-01 5.16e-01h  1\n",
      "iter    objective    inf_pr   inf_du lg(mu)  ||d||  lg(rg) alpha_du alpha_pr  ls\n",
      "  10  6.4413769e-03 3.73e-04 2.83e-02  -4.3 9.73e-02    -  1.00e+00 4.39e-01h  1\n",
      "  11  6.4949246e-03 2.15e-04 6.88e-03  -4.3 4.05e-02    -  1.00e+00 1.00e+00h  1\n",
      "  12  6.2698304e-03 1.58e-04 2.05e-03  -4.6 3.83e-02    -  9.97e-01 1.00e+00h  1\n",
      "  13  6.0960169e-03 3.19e-04 1.41e-03  -5.7 5.20e-02    -  1.00e+00 1.00e+00h  1\n",
      "  14  6.0603333e-03 5.51e-05 6.78e-04  -6.6 1.77e-02    -  1.00e+00 1.00e+00h  1\n",
      "  15  6.0574317e-03 1.87e-05 1.92e-03  -7.2 6.89e-03    -  1.00e+00 1.00e+00h  1\n",
      "  16  6.0530020e-03 7.75e-06 3.04e-04  -7.9 4.01e-03    -  1.00e+00 1.00e+00h  1\n",
      "  17  6.0526935e-03 4.45e-07 1.83e-04  -9.0 2.51e-03    -  1.00e+00 1.00e+00h  1\n",
      "  18  6.0526542e-03 1.96e-06 2.09e-04  -7.7 2.98e-03    -  1.00e+00 9.17e-01h  1\n",
      "  19  6.0525703e-03 4.31e-07 1.64e-04  -9.6 1.24e-03    -  1.00e+00 1.00e+00h  1\n",
      "iter    objective    inf_pr   inf_du lg(mu)  ||d||  lg(rg) alpha_du alpha_pr  ls\n",
      "  20  6.0525398e-03 3.20e-07 5.33e-05 -10.6 5.52e-04    -  1.00e+00 1.00e+00h  1\n",
      "  21  6.0525372e-03 1.04e-07 1.65e-06 -11.0 3.45e-04    -  1.00e+00 1.00e+00h  1\n",
      "  22  6.0525367e-03 2.98e-08 4.98e-07 -11.0 3.66e-05    -  1.00e+00 1.00e+00h  1\n",
      "  23  6.0525353e-03 8.46e-09 1.32e-07 -11.0 1.27e-05    -  1.00e+00 1.00e+00h  1\n",
      "  24  6.0525359e-03 7.60e-09 2.51e-07 -11.0 5.90e-06    -  1.00e+00 1.00e+00h  1\n",
      "  25  6.0525359e-03 5.11e-09 5.35e-09 -11.0 3.56e-06    -  1.00e+00 1.00e+00h  1\n",
      "\n",
      "Number of Iterations....: 25\n",
      "\n",
      "                                   (scaled)                 (unscaled)\n",
      "Objective...............:   6.0525358570724594e-03    6.0525358570724594e-03\n",
      "Dual infeasibility......:   5.3495739522193163e-09    5.3495739522193163e-09\n",
      "Constraint violation....:   5.1125952534036845e-09    5.1125952534036845e-09\n",
      "Variable bound violation:   9.7519202392135074e-09    9.7519202392135074e-09\n",
      "Complementarity.........:   1.0000000001470124e-11    1.0000000001470124e-11\n",
      "Overall NLP error.......:   5.3495739522193163e-09    5.3495739522193163e-09\n",
      "\n",
      "\n",
      "Number of objective function evaluations             = 26\n",
      "Number of objective gradient evaluations             = 26\n",
      "Number of equality constraint evaluations            = 26\n",
      "Number of inequal"
     ]
    },
    {
     "data": {
      "text/html": [
       "<pre style=\"white-space:pre;overflow-x:auto;line-height:normal;font-family:Menlo,'DejaVu Sans Mono',consolas,'Courier New',monospace\">    <span style=\"color: #008080; text-decoration-color: #008080; font-weight: bold\">6</span>                 <span style=\"color: #008080; text-decoration-color: #008080; font-weight: bold\">0</span>  <span style=\"color: #008080; text-decoration-color: #008080; font-weight: bold\">0.006052535857072459</span>    <span style=\"color: #008080; text-decoration-color: #008080; font-weight: bold\">0.0936373217127188</span>            <span style=\"color: #008080; text-decoration-color: #008080; font-weight: bold\">0.015625</span>\n",
       "</pre>\n"
      ],
      "text/plain": [
       "    \u001b[1;36m6\u001b[0m                 \u001b[1;36m0\u001b[0m  \u001b[1;36m0.006052535857072459\u001b[0m    \u001b[1;36m0.0936373217127188\u001b[0m            \u001b[1;36m0.015625\u001b[0m\n"
      ]
     },
     "metadata": {},
     "output_type": "display_data"
    },
    {
     "name": "stdout",
     "output_type": "stream",
     "text": [
      "ity constraint evaluations          = 26\n",
      "Number of equality constraint Jacobian evaluations   = 26\n",
      "Number of inequality constraint Jacobian evaluations = 26\n",
      "Number of Lagrangian Hessian evaluations             = 0\n",
      "Total seconds in IPOPT                               = 0.321\n",
      "\n",
      "EXIT: Optimal Solution Found.\n",
      "This is Ipopt version 3.14.17, running with linear solver MUMPS 5.6.2.\n",
      "\n",
      "Number of nonzeros in equality constraint Jacobian...:      326\n",
      "Number of nonzeros in inequality constraint Jacobian.:       60\n",
      "Number of nonzeros in Lagrangian Hessian.............:        0\n",
      "\n",
      "Total number of variables............................:       77\n",
      "                     variables with only lower bounds:       41\n",
      "                variables with lower and upper bounds:        0\n",
      "                     variables with only upper bounds:        0\n",
      "Total number of equality constraints.................:       64\n",
      "Total number of inequality constraints...............:       24\n",
      "        inequality constraints with only lower bounds:       24\n",
      "   inequality constraints with lower and upper bounds:        0\n",
      "        inequality constraints with only upper bounds:        0\n",
      "\n",
      "iter    objective    inf_pr   inf_du lg(mu)  ||d||  lg(rg) alpha_du alpha_pr  ls\n",
      "   0  6.0525359e-03 9.82e-03 7.45e-01   0.0 0.00e+00    -  0.00e+00 0.00e+00   0\n",
      "   1  9.9389161e-03 6.37e-03 1.18e+00  -1.5 2.51e-01    -  8.41e-01 5.58e-01h  1\n",
      "   2  1.1014302e-02 1.63e-03 5.99e-01  -7.2 1.24e-01    -  7.32e-01 8.41e-01h  1\n",
      "   3  1.1268451e-02 2.25e-04 2.82e-02  -3.0 7.22e-02    -  9.99e-01 1.00e+00f  1\n",
      "   4  7.9256703e-03 2.10e-03 4.84e-02  -3.6 8.77e-02    -  9.97e-01 1.00e+00h  1\n",
      "   5  7.6808009e-03 2.05e-04 1.40e-02  -3.9 2.88e-02    -  9.99e-01 1.00e+00h  1\n",
      "   6  6.9018709e-03 6.06e-04 9.40e-03  -4.7 7.66e-02    -  1.00e+00 1.00e+00h  1\n",
      "   7  6.6002042e-03 2.97e-04 2.58e-03  -5.0 6.06e-02    -  1.00e+00 9.36e-01h  1\n",
      "   8  6.5438288e-03 1.29e-04 5.04e-03  -5.3 2.10e-02    -  1.00e+00 9.62e-01h  1\n",
      "   9  6.5182853e-03 4.37e-05 6.09e-04  -5.5 9.65e-03    -  1.00e+00 1.00e+00h  1\n",
      "iter    objective    inf_pr   inf_du lg(mu)  ||d||  lg(rg) alpha_du alpha_pr  ls\n",
      "  10  6.4890427e-03 3.91e-06 1.56e-04  -7.2 5.42e-03    -  1.00e+00 1.00e+00h  1\n",
      "  11  6.4879687e-03 1.70e-07 1.17e-05  -8.3 4.76e-04    -  1.00e+00 9.96e-01h  1\n",
      "  12  6.4879137e-03 1.14e-07 2.60e-06 -10.3 4.16e-04    -  1.00e+00 1.00e+00h  1\n",
      "  13  6.4879126e-03 5.11e-08 1.53e-06 -11.0 1.00e-04    -  1.00e+00 1.00e+00h  1\n",
      "  14  6.4879142e-03 1.61e-08 5.99e-08 -11.0 3.52e-05    -  1.00e+00 1.00e+00h  1\n"
     ]
    },
    {
     "data": {
      "text/html": [
       "<pre style=\"white-space:pre;overflow-x:auto;line-height:normal;font-family:Menlo,'DejaVu Sans Mono',consolas,'Courier New',monospace\">    <span style=\"color: #008080; text-decoration-color: #008080; font-weight: bold\">7</span>                 <span style=\"color: #008080; text-decoration-color: #008080; font-weight: bold\">0</span>  <span style=\"color: #008080; text-decoration-color: #008080; font-weight: bold\">0.006487913548329885</span>    <span style=\"color: #008080; text-decoration-color: #008080; font-weight: bold\">0.07193923746803808</span>          <span style=\"color: #008080; text-decoration-color: #008080; font-weight: bold\">0.0078125</span>\n",
       "</pre>\n"
      ],
      "text/plain": [
       "    \u001b[1;36m7\u001b[0m                 \u001b[1;36m0\u001b[0m  \u001b[1;36m0.006487913548329885\u001b[0m    \u001b[1;36m0.07193923746803808\u001b[0m          \u001b[1;36m0.0078125\u001b[0m\n"
      ]
     },
     "metadata": {},
     "output_type": "display_data"
    },
    {
     "name": "stdout",
     "output_type": "stream",
     "text": [
      "  15  6.4879135e-03 6.35e-11 1.08e-09 -11.0 1.10e-07    -  1.00e+00 1.00e+00h  1\n",
      "\n",
      "Number of Iterations....: 15\n",
      "\n",
      "                                   (scaled)                 (unscaled)\n",
      "Objective...............:   6.4879135483298846e-03    6.4879135483298846e-03\n",
      "Dual infeasibility......:   1.0777932206688121e-09    1.0777932206688121e-09\n",
      "Constraint violation....:   6.3463581612133169e-11    6.3463581612133169e-11\n",
      "Variable bound violation:   9.6075518909912588e-09    9.6075518909912588e-09\n",
      "Complementarity.........:   1.0000000000971428e-11    1.0000000000971428e-11\n",
      "Overall NLP error.......:   1.0777932206688121e-09    1.0777932206688121e-09\n",
      "\n",
      "\n",
      "Number of objective function evaluations             = 16\n",
      "Number of objective gradient evaluations             = 16\n",
      "Number of equality constraint evaluations            = 16\n",
      "Number of inequality constraint evaluations          = 16\n",
      "Number of equality constraint Jacobian evaluations   = 16\n",
      "Number of inequality constraint Jacobian evaluations = 16\n",
      "Number of Lagrangian Hessian evaluations             = 0\n",
      "Total seconds in IPOPT                               = 0.208\n",
      "\n",
      "EXIT: Optimal Solution Found.\n",
      "This is Ipopt version 3.14.17, running with linear solver MUMPS 5.6.2.\n",
      "\n",
      "Number of nonzeros in equality constraint Jacobian...:      326\n",
      "Number of nonzeros in inequality constraint Jacobian.:       60\n",
      "Number of nonzeros in Lagrangian Hessian.............:        0\n",
      "\n",
      "Total number of variables............................:       77\n",
      "                     variables with only lower bounds:       41\n",
      "                variables with lower and upper bounds:        0\n",
      "                     variables with only upper bounds:        0\n",
      "Total number of equality constraints.................:       64\n",
      "Total number of inequality constraints...............:       24\n",
      "        inequality constraints with only lower bounds:       24\n",
      "   inequality constraints with lower and upper bounds:        0\n",
      "        inequality constraints with only upper bounds:        0\n",
      "\n",
      "iter    objective    inf_pr   inf_du lg(mu)  ||d||  lg(rg) alpha_du alpha_pr  ls\n",
      "   0  6.4879135e-03 9.65e-03 7.46e-01   0.0 0.00e+00    -  0.00e+00 0.00e+00   0\n",
      "   1  7.9292852e-03 5.00e-03 5.92e-01  -1.9 1.15e-01    -  9.19e-01 6.30e-01h  1\n",
      "   2  1.2560021e-02 5.83e-03 2.91e+00  -1.8 3.05e-01    -  9.82e-01 6.16e-01h  1\n",
      "   3  1.2770781e-02 9.60e-04 1.09e+00  -7.8 1.28e-01    -  8.53e-01 1.00e+00h  1\n",
      "   4  1.1122766e-02 3.37e-04 5.43e-02  -3.5 4.41e-02    -  1.00e+00 1.00e+00h  1\n",
      "   5  9.0279265e-03 7.08e-04 9.39e-02  -4.0 4.52e-02    -  9.97e-01 1.00e+00h  1\n",
      "   6  8.4012370e-03 5.62e-04 9.70e-03  -4.3 7.05e-02    -  1.00e+00 1.00e+00h  1\n",
      "   7  7.9182083e-03 4.29e-04 1.35e-02  -4.8 7.30e-02    -  1.00e+00 9.38e-01h  1\n",
      "   8  7.7317428e-03 1.38e-04 1.89e-02  -5.6 3.80e-02    -  1.00e+00 9.86e-01h  1\n",
      "   9  7.6895167e-03 9.32e-05 3.72e-03  -5.7 2.57e-02    -  1.00e+00 9.65e-01h  1\n",
      "iter    objective    inf_pr   inf_du lg(mu)  ||d||  lg(rg) alpha_du alpha_pr  ls\n",
      "  10  7.7224651e-03 8.12e-05 4.48e-03  -5.3 9.33e-03    -  1.00e+00 1.00e+00h  1\n",
      "  11  7.6772579e-03 2.88e-05 1.20e-04  -6.0 6.75e-03    -  1.00e+00 1.00e+00h  1\n",
      "  12  7.6679767e-03 1.68e-06 1.93e-04  -7.4 4.24e-03    -  1.00e+00 1.00e+00h  1\n",
      "  13  7.6669982e-03 8.41e-07 3.30e-04  -8.9 2.24e-03    -  1.00e+00 1.00e+00h  1\n",
      "  14  7.6669614e-03 2.08e-08 2.20e-06  -9.6 2.36e-04    -  1.00e+00 1.00e+00h  1\n",
      "  15  7.6669516e-03 3.53e-08 1.41e-06 -11.0 1.35e-04    -  1.00e+00 1.00e+00h  1\n",
      "  16  7.6669517e-03 2.36e-08 2.05e-06 -11.0 4.52e-05    -  1.00e+00 1.00e+00h  1\n",
      "  17  7.6669506e-03 1.40e-08 4.09e-08 -11.0 2.16e-05    -  1.00e+00 1.00e+00h  1\n",
      "  18  7.6669512e-03 1.28e-10 1.32e-08 -11.0 2.95e-07    -  1.00e+00 1.00e+00h  1\n",
      "  19  7.6669512e-03 9.77e-11 3.62e-09 -11.0 4.96e-07    -  1.00e+00 1.00e+00h  1\n",
      "\n",
      "Number of Iterations....: 19\n",
      "\n",
      "                                   (scaled)                 (unscaled)\n",
      "Objective...............:   7.6669511797894758e-03    7.6669511797894758e-03\n",
      "Dual infeasibility......:   3.6194277456038368e-09    3.6194277456038368e-09\n",
      "Constraint violation....:   9.7701707835184948e-11    9.7701707835184948e-11\n",
      "Variable bound violation:   9.4759372312822748e-09    9.4759372312822748e-09\n",
      "Complementarity.........:   1.0000000001052496e-11    1.0000000001052496e-11\n",
      "Overall NLP error.......:   3.6194277456038368e-09    3.6194277456038368e-09\n",
      "\n",
      "\n",
      "Number of objective function evaluations             = 20\n",
      "Number of objective gradient evaluations             = 20\n",
      "Number of equality constraint evaluations            = 20\n",
      "Number of inequality constraint evaluations          = 20\n",
      "Number of equality constraint Jacobian evaluations   = 20\n",
      "Number of inequality constraint Jacobian evaluations = 20\n",
      "Number of Lagrangian Hessian evaluations             = 0\n",
      "Total seconds in IPOPT                               = 0.245\n",
      "\n",
      "EXIT: Optimal Solution Found.\n"
     ]
    },
    {
     "data": {
      "text/html": [
       "<pre style=\"white-space:pre;overflow-x:auto;line-height:normal;font-family:Menlo,'DejaVu Sans Mono',consolas,'Courier New',monospace\">    <span style=\"color: #008080; text-decoration-color: #008080; font-weight: bold\">8</span>                 <span style=\"color: #008080; text-decoration-color: #008080; font-weight: bold\">0</span>  <span style=\"color: #008080; text-decoration-color: #008080; font-weight: bold\">0.007666951179789476</span>    <span style=\"color: #008080; text-decoration-color: #008080; font-weight: bold\">0.04935945084027469</span>         <span style=\"color: #008080; text-decoration-color: #008080; font-weight: bold\">0.00390625</span>\n",
       "</pre>\n"
      ],
      "text/plain": [
       "    \u001b[1;36m8\u001b[0m                 \u001b[1;36m0\u001b[0m  \u001b[1;36m0.007666951179789476\u001b[0m    \u001b[1;36m0.04935945084027469\u001b[0m         \u001b[1;36m0.00390625\u001b[0m\n"
      ]
     },
     "metadata": {},
     "output_type": "display_data"
    },
    {
     "name": "stdout",
     "output_type": "stream",
     "text": [
      "This is Ipopt version 3.14.17, running with linear solver MUMPS 5.6.2.\n",
      "\n",
      "Number of nonzeros in equality constraint Jacobian...:      326\n",
      "Number of nonzeros in inequality constraint Jacobian.:       60\n",
      "Number of nonzeros in Lagrangian Hessian.............:        0\n",
      "\n",
      "Total number of variables............................:       77\n",
      "                     variables with only lower bounds:       41\n",
      "                variables with lower and upper bounds:        0\n",
      "                     variables with only upper bounds:        0\n",
      "Total number of equality constraints.................:       64\n",
      "Total number of inequality constraints...............:       24\n",
      "        inequality constraints with only lower bounds:       24\n",
      "   inequality constraints with lower and upper bounds:        0\n",
      "        inequality constraints with only upper bounds:        0\n",
      "\n",
      "iter    objective    inf_pr   inf_du lg(mu)  ||d||  lg(rg) alpha_du alpha_pr  ls\n",
      "   0  7.6669512e-03 9.16e-03 7.47e-01   0.0 0.00e+00    -  0.00e+00 0.00e+00   0\n",
      "   1  8.4790266e-03 3.27e-03 3.57e-01  -2.2 8.35e-02    -  9.36e-01 7.16e-01h  1\n",
      "   2  9.6747269e-03 1.22e-03 1.72e+00  -2.3 1.62e-01    -  9.96e-01 5.79e-01h  1\n",
      "   3  1.0361140e-02 4.59e-04 8.56e-01  -8.3 9.61e-02    -  8.19e-01 1.00e+00h  1\n",
      "   4  1.0201065e-02 1.00e-05 1.41e-02  -3.8 6.59e-03    -  1.00e+00 1.00e+00h  1\n",
      "   5  9.5036428e-03 2.32e-04 5.43e-03  -4.4 3.98e-02    -  9.99e-01 1.00e+00h  1\n",
      "   6  9.0749418e-03 3.08e-04 1.23e-02  -5.1 5.16e-02    -  1.00e+00 1.00e+00h  1\n",
      "   7  8.9491856e-03 7.98e-05 1.03e-02  -5.5 2.09e-02    -  1.00e+00 9.73e-01h  1\n",
      "   8  8.9426027e-03 2.07e-05 5.52e-03  -5.5 5.30e-03    -  1.00e+00 7.40e-01h  1\n",
      "   9  8.9164123e-03 2.79e-06 2.28e-04  -6.5 4.25e-03    -  1.00e+00 1.00e+00h  1\n",
      "iter    objective    inf_pr   inf_du lg(mu)  ||d||  lg(rg) alpha_du alpha_pr  ls\n",
      "  10  8.9134035e-03 3.88e-07 2.25e-04  -8.2 1.03e-03    -  1.00e+00 1.00e+00h  1\n",
      "  11  8.9133195e-03 2.76e-07 3.81e-05 -10.0 3.74e-04    -  1.00e+00 1.00e+00h  1\n",
      "  12  8.9133283e-03 5.97e-08 5.67e-06 -11.0 1.87e-04    -  1.00e+00 1.00e+00h  1\n",
      "  13  8.9133297e-03 4.42e-08 2.58e-06 -11.0 2.75e-04    -  1.00e+00 1.00e+00h  1\n",
      "  14  8.9133305e-03 9.37e-09 6.21e-07 -11.0 8.91e-05    -  1.00e+00 1.00e+00h  1\n",
      "  15  8.9133301e-03 2.22e-09 3.26e-07 -11.0 4.27e-06    -  1.00e+00 1.00e+00h  1\n",
      "  16  8.9133301e-03 1.49e-09 5.49e-09 -11.0 2.96e-06    -  1.00e+00 1.00e+00h  1\n",
      "\n",
      "Number of Iterations....: 16\n",
      "\n",
      "                                   (scaled)                 (unscaled)\n",
      "Objective...............:   8.9133300999142007e-03    8.9133300999142007e-03\n",
      "Dual infeasibility......:   5.4923945973559376e-09    5.4923945973559376e-09\n",
      "Constraint violation....:   1.4872852459150987e-09    1.4872852459150987e-09\n",
      "Variable bound violation:   0.0000000000000000e+00    0.0000000000000000e+00\n",
      "Complementarity.........:   1.0000000000000001e-11    1.0000000000000001e-11\n",
      "Overall NLP error.......:   5.4923945973559376e-09    5.4923945973559376e-09\n",
      "\n",
      "\n",
      "Number of objective function evaluations             = 17\n",
      "Number of objective gradient evaluations             = 17\n",
      "Number of equality constraint evaluations            = 17\n",
      "Number of inequality constraint evaluations          = 17\n",
      "Number of equality constraint Jacobian evaluations   = 17\n",
      "Number of inequality constraint Jacobian evaluations = 17\n",
      "Number of Lagrangian Hessian evaluations             = 0\n",
      "Total seconds in IPOPT                               = 0.213\n",
      "\n",
      "EXIT: Optimal Solution Found.\n"
     ]
    },
    {
     "data": {
      "text/html": [
       "<pre style=\"white-space:pre;overflow-x:auto;line-height:normal;font-family:Menlo,'DejaVu Sans Mono',consolas,'Courier New',monospace\">    <span style=\"color: #008080; text-decoration-color: #008080; font-weight: bold\">9</span>                 <span style=\"color: #008080; text-decoration-color: #008080; font-weight: bold\">0</span>  <span style=\"color: #008080; text-decoration-color: #008080; font-weight: bold\">0.0089133300999142</span>      <span style=\"color: #008080; text-decoration-color: #008080; font-weight: bold\">0.026776355854619533</span>       <span style=\"color: #008080; text-decoration-color: #008080; font-weight: bold\">0.001953125</span>\n",
       "</pre>\n"
      ],
      "text/plain": [
       "    \u001b[1;36m9\u001b[0m                 \u001b[1;36m0\u001b[0m  \u001b[1;36m0.0089133300999142\u001b[0m      \u001b[1;36m0.026776355854619533\u001b[0m       \u001b[1;36m0.001953125\u001b[0m\n"
      ]
     },
     "metadata": {},
     "output_type": "display_data"
    },
    {
     "name": "stdout",
     "output_type": "stream",
     "text": [
      "This is Ipopt version 3.14.17, running with linear solver MUMPS 5.6.2.\n",
      "\n",
      "Number of nonzeros in equality constraint Jacobian...:      326\n",
      "Number of nonzeros in inequality constraint Jacobian.:       60\n",
      "Number of nonzeros in Lagrangian Hessian.............:        0\n",
      "\n",
      "Total number of variables............................:       77\n",
      "                     variables with only lower bounds:       41\n",
      "                variables with lower and upper bounds:        0\n",
      "                     variables with only upper bounds:        0\n",
      "Total number of equality constraints.................:       64\n",
      "Total number of inequality constraints...............:       24\n",
      "        inequality constraints with only lower bounds:       24\n",
      "   inequality constraints with lower and upper bounds:        0\n",
      "        inequality constraints with only upper bounds:        0\n",
      "\n",
      "iter    objective    inf_pr   inf_du lg(mu)  ||d||  lg(rg) alpha_du alpha_pr  ls\n",
      "   0  8.9133301e-03 7.48e-03 7.50e-01   0.0 0.00e+00    -  0.00e+00 0.00e+00   0\n",
      "   1  9.2167590e-03 2.04e-03 1.24e-01  -6.6 3.78e-02    -  8.63e-01 8.04e-01h  1\n",
      "   2  9.6768643e-03 7.47e-04 6.06e-01  -3.0 6.42e-02    -  9.89e-01 6.17e-01h  1\n",
      "   3  1.0305001e-02 2.01e-04 4.43e-01  -8.8 5.40e-02    -  7.97e-01 1.00e+00h  1\n",
      "   4  1.0340666e-02 1.10e-04 6.47e-03  -4.3 1.82e-02    -  1.00e+00 1.00e+00h  1\n",
      "   5  9.9946509e-03 1.50e-04 3.50e-03  -4.9 3.27e-02    -  1.00e+00 1.00e+00h  1\n",
      "   6  9.8297961e-03 6.11e-05 3.10e-03  -5.6 2.00e-02    -  1.00e+00 1.00e+00h  1\n",
      "   7  9.7962712e-03 6.73e-06 1.67e-03  -6.4 4.54e-03    -  1.00e+00 9.45e-01h  1\n",
      "   8  9.7909465e-03 1.18e-06 2.52e-04  -7.7 2.51e-03    -  1.00e+00 9.91e-01h  1\n",
      "   9  9.7905734e-03 6.48e-08 9.48e-06  -8.5 3.13e-04    -  1.00e+00 1.00e+00h  1\n",
      "iter    objective    inf_pr   inf_du lg(mu)  ||d||  lg(rg) alpha_du alpha_pr  ls\n",
      "  10  9.7905425e-03 3.16e-08 3.80e-06 -10.3 7.87e-05    -  1.00e+00 1.00e+00h  1\n",
      "  11  9.7905441e-03 2.69e-09 9.15e-08 -11.0 2.00e-05    -  1.00e+00 1.00e+00h  1\n",
      "  12  9.7905444e-03 4.48e-11 2.86e-09 -11.0 3.13e-07    -  1.00e+00 1.00e+00h  1\n",
      "\n",
      "Number of Iterations....: 12\n",
      "\n",
      "                                   (scaled)                 (unscaled)\n",
      "Objective...............:   9.7905443559125008e-03    9.7905443559125008e-03\n",
      "Dual infeasibility......:   2.8624468234972523e-09    2.8624468234972523e-09\n",
      "Constraint violation....:   4.4773003284471341e-11    4.4773003284471341e-11\n",
      "Variable bound violation:   0.0000000000000000e+00    0.0000000000000000e+00\n",
      "Complementarity.........:   1.0000002063117789e-11    1.0000002063117789e-11\n",
      "Overall NLP error.......:   2.8624468234972523e-09    2.8624468234972523e-09\n",
      "\n",
      "\n",
      "Number of objective function evaluations             = 13\n",
      "Number of objective gradient evaluations             = 13\n",
      "Number of equality constraint evaluations            = 13\n",
      "Number of inequality constraint evaluations          = 13\n",
      "Number of equality constraint Jacobian evaluations   = 13\n",
      "Number of inequality constraint Jacobian evaluations = 13\n",
      "Number of Lagrangian Hessian evaluations             = 0\n",
      "Total seconds in IPOPT                               = 0.164\n",
      "\n",
      "EXIT: Optimal Solution Found.\n"
     ]
    },
    {
     "data": {
      "text/html": [
       "<pre style=\"white-space:pre;overflow-x:auto;line-height:normal;font-family:Menlo,'DejaVu Sans Mono',consolas,'Courier New',monospace\">   <span style=\"color: #008080; text-decoration-color: #008080; font-weight: bold\">10</span>                 <span style=\"color: #008080; text-decoration-color: #008080; font-weight: bold\">0</span>  <span style=\"color: #008080; text-decoration-color: #008080; font-weight: bold\">0.0097905443559125</span>      <span style=\"color: #008080; text-decoration-color: #008080; font-weight: bold\">0.013649061174649478</span>      <span style=\"color: #008080; text-decoration-color: #008080; font-weight: bold\">0.0009765625</span>\n",
       "</pre>\n"
      ],
      "text/plain": [
       "   \u001b[1;36m10\u001b[0m                 \u001b[1;36m0\u001b[0m  \u001b[1;36m0.0097905443559125\u001b[0m      \u001b[1;36m0.013649061174649478\u001b[0m      \u001b[1;36m0.0009765625\u001b[0m\n"
      ]
     },
     "metadata": {},
     "output_type": "display_data"
    },
    {
     "name": "stdout",
     "output_type": "stream",
     "text": [
      "This is Ipopt version 3.14.17, running with linear solver MUMPS 5.6.2.\n",
      "\n",
      "Number of nonzeros in equality constraint Jacobian...:      326\n",
      "Number of nonzeros in inequality constraint Jacobian.:       60\n",
      "Number of nonzeros in Lagrangian Hessian.............:        0\n",
      "\n",
      "Total number of variables............................:       77\n",
      "                     variables with only lower bounds:       41\n",
      "                variables with lower and upper bounds:        0\n",
      "                     variables with only upper bounds:        0\n",
      "Total number of equality constraints.................:       64\n",
      "Total number of inequality constraints...............:       24\n",
      "        inequality constraints with only lower bounds:       24\n",
      "   inequality constraints with lower and upper bounds:        0\n",
      "        inequality constraints with only upper bounds:        0\n",
      "\n",
      "iter    objective    inf_pr   inf_du lg(mu)  ||d||  lg(rg) alpha_du alpha_pr  ls\n",
      "   0  9.7905444e-03 2.74e-03 7.51e-01   0.0 0.00e+00    -  0.00e+00 0.00e+00   0\n",
      "   1  9.8088624e-03 1.85e-03 1.48e-01  -6.6 1.22e-02    -  7.99e-01 8.13e-01h  1\n",
      "   2  1.0129277e-02 6.44e-04 5.18e-01  -3.0 4.64e-02    -  9.80e-01 6.61e-01h  1\n",
      "   3  1.1492591e-02 1.03e-03 2.22e-01  -3.1 1.02e-01    -  1.00e+00 1.00e+00h  1\n",
      "   4  1.1054056e-02 1.41e-04 5.96e-02  -4.2 2.55e-02    -  1.00e+00 1.00e+00h  1\n",
      "   5  1.0605979e-02 1.96e-04 1.89e-02  -4.6 4.19e-02    -  1.00e+00 1.00e+00h  1\n",
      "   6  1.0421004e-02 4.92e-05 8.09e-03  -5.1 2.08e-02    -  1.00e+00 1.00e+00h  1\n",
      "   7  1.0307066e-02 2.11e-05 2.57e-03  -5.8 1.51e-02    -  1.00e+00 1.00e+00h  1\n",
      "   8  1.0292450e-02 1.24e-06 4.31e-04  -6.4 2.94e-03    -  1.00e+00 1.00e+00h  1\n",
      "   9  1.0287895e-02 4.00e-07 1.04e-04  -7.9 1.73e-03    -  1.00e+00 1.00e+00h  1\n",
      "iter    objective    inf_pr   inf_du lg(mu)  ||d||  lg(rg) alpha_du alpha_pr  ls\n",
      "  10  1.0287632e-02 6.92e-08 4.77e-06  -9.1 5.75e-04    -  1.00e+00 1.00e+00h  1\n",
      "  11  1.0287601e-02 7.86e-09 9.35e-07 -11.0 1.99e-04    -  1.00e+00 1.00e+00h  1\n",
      "  12  1.0287599e-02 1.59e-09 8.02e-08 -11.0 2.14e-05    -  1.00e+00 1.00e+00h  1\n",
      "  13  1.0287598e-02 5.04e-12 1.26e-09 -11.0 1.15e-07    -  1.00e+00 1.00e+00h  1\n",
      "\n",
      "Number of Iterations....: 13\n",
      "\n",
      "                                   (scaled)                 (unscaled)\n",
      "Objective...............:   1.0287598447955805e-02    1.0287598447955805e-02\n",
      "Dual infeasibility......:   1.2630846704417865e-09    1.2630846704417865e-09\n",
      "Constraint violation....:   5.0356713156979316e-12    5.0356713156979316e-12\n",
      "Variable bound violation:   0.0000000000000000e+00    0.0000000000000000e+00\n",
      "Complementarity.........:   1.0000760695787924e-11    1.0000760695787924e-11\n",
      "Overall NLP error.......:   1.2630846704417865e-09    1.2630846704417865e-09\n",
      "\n",
      "\n",
      "Number of objective function evaluations             = 14\n",
      "Number of objective gradient evaluations             = 14\n",
      "Number of equality constraint evaluations            = 14\n",
      "Number of inequality constraint evaluations          = 14\n",
      "Number of equality constraint Jacobian evaluations   = 14\n",
      "Number of inequality constraint Jacobian evaluations = 14\n",
      "Number of Lagrangian Hessian evaluations             = 0\n",
      "Total seconds in IPOPT                               = 0.181\n",
      "\n",
      "EXIT: Optimal Solution Found.\n"
     ]
    },
    {
     "data": {
      "text/html": [
       "<pre style=\"white-space:pre;overflow-x:auto;line-height:normal;font-family:Menlo,'DejaVu Sans Mono',consolas,'Courier New',monospace\">   <span style=\"color: #008080; text-decoration-color: #008080; font-weight: bold\">11</span>                 <span style=\"color: #008080; text-decoration-color: #008080; font-weight: bold\">0</span>  <span style=\"color: #008080; text-decoration-color: #008080; font-weight: bold\">0.010287598447955805</span>    <span style=\"color: #008080; text-decoration-color: #008080; font-weight: bold\">0.0068928301198049385</span>    <span style=\"color: #008080; text-decoration-color: #008080; font-weight: bold\">0.00048828125</span>\n",
       "</pre>\n"
      ],
      "text/plain": [
       "   \u001b[1;36m11\u001b[0m                 \u001b[1;36m0\u001b[0m  \u001b[1;36m0.010287598447955805\u001b[0m    \u001b[1;36m0.0068928301198049385\u001b[0m    \u001b[1;36m0.00048828125\u001b[0m\n"
      ]
     },
     "metadata": {},
     "output_type": "display_data"
    },
    {
     "name": "stdout",
     "output_type": "stream",
     "text": [
      "This is Ipopt version 3.14.17, running with linear solver MUMPS 5.6.2.\n",
      "\n",
      "Number of nonzeros in equality constraint Jacobian...:      326\n",
      "Number of nonzeros in inequality constraint Jacobian.:       60\n",
      "Number of nonzeros in Lagrangian Hessian.............:        0\n",
      "\n",
      "Total number of variables............................:       77\n",
      "                     variables with only lower bounds:       41\n",
      "                variables with lower and upper bounds:        0\n",
      "                     variables with only upper bounds:        0\n",
      "Total number of equality constraints.................:       64\n",
      "Total number of inequality constraints...............:       24\n",
      "        inequality constraints with only lower bounds:       24\n",
      "   inequality constraints with lower and upper bounds:        0\n",
      "        inequality constraints with only upper bounds:        0\n",
      "\n",
      "iter    objective    inf_pr   inf_du lg(mu)  ||d||  lg(rg) alpha_du alpha_pr  ls\n",
      "   0  1.0287598e-02 2.89e-04 7.51e-01   0.0 0.00e+00    -  0.00e+00 0.00e+00   0\n",
      "   1  1.0162755e-02 1.85e-03 1.93e-01  -6.6 1.67e-02    -  7.54e-01 8.10e-01h  1\n",
      "   2  1.0483108e-02 4.74e-04 4.54e-01  -2.8 7.54e-02    -  9.69e-01 7.40e-01h  1\n",
      "   3  1.0918300e-02 5.48e-04 1.18e-01  -3.2 5.34e-02    -  1.00e+00 9.51e-01h  1\n",
      "   4  1.0872028e-02 2.85e-06 2.33e-03  -5.0 5.46e-03    -  1.00e+00 1.00e+00h  1\n",
      "   5  1.0763520e-02 3.66e-05 1.87e-02  -4.7 1.18e-02    -  9.97e-01 1.00e+00h  1\n",
      "   6  1.0640304e-02 1.74e-05 3.66e-03  -5.2 1.25e-02    -  1.00e+00 1.00e+00h  1\n",
      "   7  1.0572117e-02 8.06e-06 9.64e-04  -5.9 8.74e-03    -  1.00e+00 1.00e+00h  1\n",
      "   8  1.0556933e-02 1.04e-06 2.68e-04  -6.6 2.15e-03    -  1.00e+00 1.00e+00h  1\n",
      "   9  1.0553813e-02 1.23e-07 1.17e-05  -8.0 8.58e-04    -  1.00e+00 1.00e+00h  1\n",
      "iter    objective    inf_pr   inf_du lg(mu)  ||d||  lg(rg) alpha_du alpha_pr  ls\n",
      "  10  1.0553631e-02 5.03e-09 4.78e-07  -9.7 1.23e-04    -  1.00e+00 1.00e+00h  1\n",
      "  11  1.0553627e-02 2.67e-10 1.64e-08 -11.0 4.41e-06    -  1.00e+00 1.00e+00h  1\n",
      "  12  1.0553627e-02 2.22e-11 8.43e-10 -11.0 4.99e-08    -  1.00e+00 1.00e+00h  1\n",
      "\n",
      "Number of Iterations....: 12\n",
      "\n",
      "                                   (scaled)                 (unscaled)\n",
      "Objective...............:   1.0553626989158035e-02    1.0553626989158035e-02\n",
      "Dual infeasibility......:   8.4266351760849101e-10    8.4266351760849101e-10\n",
      "Constraint violation....:   2.2233865356463545e-11    2.2233865356463545e-11\n",
      "Variable bound violation:   0.0000000000000000e+00    0.0000000000000000e+00\n",
      "Complementarity.........:   1.0000000487960105e-11    1.0000000487960105e-11\n",
      "Overall NLP error.......:   8.4266351760849101e-10    8.4266351760849101e-10\n",
      "\n",
      "\n",
      "Number of objective function evaluations             = 13\n",
      "Number of objective gradient evaluations             = 13\n",
      "Number of equality constraint evaluations            = 13\n",
      "Number of inequality constraint evaluations          = 13\n",
      "Number of equality constraint Jacobian e"
     ]
    },
    {
     "data": {
      "text/html": [
       "<pre style=\"white-space:pre;overflow-x:auto;line-height:normal;font-family:Menlo,'DejaVu Sans Mono',consolas,'Courier New',monospace\">   <span style=\"color: #008080; text-decoration-color: #008080; font-weight: bold\">12</span>                 <span style=\"color: #008080; text-decoration-color: #008080; font-weight: bold\">0</span>  <span style=\"color: #008080; text-decoration-color: #008080; font-weight: bold\">0.010553626989158035</span>    <span style=\"color: #008080; text-decoration-color: #008080; font-weight: bold\">0.003485371202130709</span>    <span style=\"color: #008080; text-decoration-color: #008080; font-weight: bold\">0.000244140625</span>\n",
       "</pre>\n"
      ],
      "text/plain": [
       "   \u001b[1;36m12\u001b[0m                 \u001b[1;36m0\u001b[0m  \u001b[1;36m0.010553626989158035\u001b[0m    \u001b[1;36m0.003485371202130709\u001b[0m    \u001b[1;36m0.000244140625\u001b[0m\n"
      ]
     },
     "metadata": {},
     "output_type": "display_data"
    },
    {
     "name": "stdout",
     "output_type": "stream",
     "text": [
      "valuations   = 13\n",
      "Number of inequality constraint Jacobian evaluations = 13\n",
      "Number of Lagrangian Hessian evaluations             = 0\n",
      "Total seconds in IPOPT                               = 0.173\n",
      "\n",
      "EXIT: Optimal Solution Found.\n",
      "This is Ipopt version 3.14.17, running with linear solver MUMPS 5.6.2.\n",
      "\n",
      "Number of nonzeros in equality constraint Jacobian...:      326\n",
      "Number of nonzeros in inequality constraint Jacobian.:       60\n",
      "Number of nonzeros in Lagrangian Hessian.............:        0\n",
      "\n",
      "Total number of variables............................:       77\n",
      "                     variables with only lower bounds:       41\n",
      "                variables with lower and upper bounds:        0\n",
      "                     variables with only upper bounds:        0\n",
      "Total number of equality constraints.................:       64\n",
      "Total number of inequality constraints...............:       24\n",
      "        inequality constraints with only lower bounds:       24\n",
      "   inequality constraints with lower and upper bounds:        0\n",
      "        inequality constraints with only upper bounds:        0\n",
      "\n",
      "iter    objective    inf_pr   inf_du lg(mu)  ||d||  lg(rg) alpha_du alpha_pr  ls\n",
      "   0  1.0553627e-02 1.22e-04 7.51e-01   0.0 0.00e+00    -  0.00e+00 0.00e+00   0\n",
      "   1  1.0361118e-02 2.00e-03 2.11e-01  -6.6 2.06e-02    -  7.30e-01 7.86e-01h  1\n",
      "   2  1.0387422e-02 6.90e-04 4.92e-01  -2.9 4.91e-02    -  9.66e-01 6.78e-01h  1\n",
      "   3  1.0917988e-02 4.05e-04 9.25e-02  -3.4 4.72e-02    -  1.00e+00 9.71e-01h  1\n",
      "   4  1.0875818e-02 2.23e-06 1.51e-03  -5.1 5.99e-03    -  1.00e+00 1.00e+00h  1\n",
      "   5  1.0822918e-02 1.90e-05 7.92e-03  -4.8 8.42e-03    -  9.97e-01 1.00e+00h  1\n",
      "   6  1.0751761e-02 5.30e-06 1.03e-02  -5.3 7.19e-03    -  1.00e+00 9.49e-01h  1\n",
      "   7  1.0710571e-02 3.26e-06 1.15e-03  -5.9 6.42e-03    -  1.00e+00 1.00e+00h  1\n",
      "   8  1.0695634e-02 3.79e-07 1.94e-04  -6.5 1.32e-03    -  1.00e+00 1.00e+00h  1\n",
      "   9  1.0692072e-02 8.91e-08 1.25e-05  -7.6 7.32e-04    -  1.00e+00 1.00e+00h  1\n",
      "iter    objective    inf_pr   inf_du lg(mu)  ||d||  lg(rg) alpha_du alpha_pr  ls\n",
      "  10  1.0691713e-02 1.87e-08 7.79e-07  -9.5 5.68e-05    -  1.00e+00 1.00e+00h  1\n",
      "  11  1.0691709e-02 6.11e-10 1.67e-08 -11.0 3.37e-06    -  1.00e+00 1.00e+00h  1\n",
      "  12  1.0691709e-02 1.93e-11 8.01e-11 -11.0 4.71e-08    -  1.00e+00 1.00e+00h  1\n",
      "\n",
      "Number of Iterations....: 12\n",
      "\n",
      "                                   (scaled)                 (unscaled)\n",
      "Objective...............:   1.0691709155603234e-02    1.0691709155603234e-02\n",
      "Dual infeasibility......:   8.0078227523375928e-11    8.0078227523375928e-11\n",
      "Constraint violation....:   1.9252559182308948e-11    1.9252559182308948e-11\n",
      "Variable bound violation:   0.0000000000000000e+00    0.0000000000000000e+00\n",
      "Complementarity.........:   1.0000001470408953e-11    1.0000001470408953e-11\n",
      "Overall NLP error.......:   8.0078227523375928e-11    8.0078227523375928e-11\n",
      "\n",
      "\n",
      "Number of objective function evaluations             = 13\n",
      "Number of objective gradient evaluations             = 13\n",
      "Number of equality constraint evaluations            = 13\n",
      "Number of inequality constraint evaluations          = 13\n",
      "Number of equality constraint Jacobian evaluations   = 13\n",
      "Number of inequality constraint Jacobian evaluations = 13\n",
      "Number of Lagrangian Hessian evaluations             = 0\n",
      "Total seconds in IPOPT                               = 0.211\n",
      "\n",
      "EXIT: Optimal Solution Found.\n"
     ]
    },
    {
     "data": {
      "text/html": [
       "<pre style=\"white-space:pre;overflow-x:auto;line-height:normal;font-family:Menlo,'DejaVu Sans Mono',consolas,'Courier New',monospace\">   <span style=\"color: #008080; text-decoration-color: #008080; font-weight: bold\">13</span>                 <span style=\"color: #008080; text-decoration-color: #008080; font-weight: bold\">0</span>  <span style=\"color: #008080; text-decoration-color: #008080; font-weight: bold\">0.010691709155603234</span>    <span style=\"color: #008080; text-decoration-color: #008080; font-weight: bold\">0.0017527918695065398</span>   <span style=\"color: #008080; text-decoration-color: #008080; font-weight: bold\">0.0001220703125</span>\n",
       "</pre>\n"
      ],
      "text/plain": [
       "   \u001b[1;36m13\u001b[0m                 \u001b[1;36m0\u001b[0m  \u001b[1;36m0.010691709155603234\u001b[0m    \u001b[1;36m0.0017527918695065398\u001b[0m   \u001b[1;36m0.0001220703125\u001b[0m\n"
      ]
     },
     "metadata": {},
     "output_type": "display_data"
    },
    {
     "name": "stdout",
     "output_type": "stream",
     "text": [
      "This is Ipopt version 3.14.17, running with linear solver MUMPS 5.6.2.\n",
      "\n",
      "Number of nonzeros in equality constraint Jacobian...:      326\n",
      "Number of nonzeros in inequality constraint Jacobian.:       60\n",
      "Number of nonzeros in Lagrangian Hessian.............:        0\n",
      "\n",
      "Total number of variables............................:       77\n",
      "                     variables with only lower bounds:       41\n",
      "                variables with lower and upper bounds:        0\n",
      "                     variables with only upper bounds:        0\n",
      "Total number of equality constraints.................:       64\n",
      "Total number of inequality constraints...............:       24\n",
      "        inequality constraints with only lower bounds:       24\n",
      "   inequality constraints with lower and upper bounds:        0\n",
      "        inequality constraints with only upper bounds:        0\n",
      "\n",
      "iter    objective    inf_pr   inf_du lg(mu)  ||d||  lg(rg) alpha_du alpha_pr  ls\n",
      "   0  1.0691709e-02 6.10e-05 7.50e-01   0.0 0.00e+00    -  0.00e+00 0.00e+00   0\n",
      "   1  1.0464877e-02 2.15e-03 2.19e-01  -6.6 2.26e-02    -  7.17e-01 7.72e-01h  1\n",
      "   2  1.0378871e-02 8.07e-04 4.01e-01  -3.1 3.33e-02    -  9.64e-01 6.44e-01h  1\n",
      "   3  1.0876889e-02 2.27e-04 6.26e-02  -3.6 3.90e-02    -  1.00e+00 9.51e-01h  1\n",
      "   4  1.0847881e-02 3.22e-06 1.83e-03  -5.2 6.64e-03    -  1.00e+00 1.00e+00h  1\n",
      "   5  1.0835304e-02 8.15e-07 2.00e-03  -5.0 2.25e-03    -  9.99e-01 1.00e+00h  1\n",
      "   6  1.0790789e-02 7.45e-06 3.37e-02  -5.6 9.17e-03    -  1.00e+00 8.51e-01h  1\n",
      "   7  1.0773584e-02 7.64e-07 2.81e-04  -6.1 2.80e-03    -  1.00e+00 1.00e+00h  1\n",
      "   8  1.0764116e-02 2.54e-07 3.46e-04  -6.9 1.31e-03    -  1.00e+00 1.00e+00h  1\n",
      "   9  1.0762126e-02 5.99e-08 8.45e-06  -8.4 4.40e-04    -  1.00e+00 1.00e+00h  1\n",
      "iter    objective    inf_pr   inf_du lg(mu)  ||d||  lg(rg) alpha_du alpha_pr  ls\n",
      "  10  1.0762069e-02 1.51e-08 9.82e-07 -10.4 4.26e-05    -  1.00e+00 1.00e+00h  1\n",
      "  11  1.0762068e-02 2.99e-10 2.91e-09 -11.0 7.56e-07    -  1.00e+00 1.00e+00h  1\n",
      "\n",
      "Number of Iterations....: 11\n",
      "\n",
      "                                   (scaled)                 (unscaled)\n",
      "Objective...............:   1.0762067915807012e-02    1.0762067915807012e-02\n",
      "Dual infeasibility......:   2.9144836110467365e-09    2.9144836110467365e-09\n",
      "Constraint violation....:   2.9879992794260013e-10    2.9879992794260013e-10\n",
      "Variable bound violation:   0.0000000000000000e+00    0.0000000000000000e+00\n",
      "Complementarity.........:   1.0004590884518987e-11    1.0004590884518987e-11\n",
      "Overall NLP error.......:   2.9144836110467365e-09    2.9144836110467365e-09\n",
      "\n",
      "\n",
      "Number of objective function evaluations             = 12\n",
      "Number of objective gradient evaluations             = 12\n",
      "Number of equality constraint evaluations            = 12\n",
      "Number of inequality constraint evaluations          = 12\n",
      "Number of equality constraint Jacobian evaluations   = 12\n",
      "Number of inequality constraint Jacobian evaluations = 12\n",
      "Number of Lagrangian Hessian evaluations             = 0\n",
      "Total seconds in IPOPT                               = 0.159\n",
      "\n",
      "EXIT: Optimal Solution Found.\n"
     ]
    },
    {
     "data": {
      "text/html": [
       "<pre style=\"white-space:pre;overflow-x:auto;line-height:normal;font-family:Menlo,'DejaVu Sans Mono',consolas,'Courier New',monospace\">   <span style=\"color: #008080; text-decoration-color: #008080; font-weight: bold\">14</span>                 <span style=\"color: #008080; text-decoration-color: #008080; font-weight: bold\">0</span>  <span style=\"color: #008080; text-decoration-color: #008080; font-weight: bold\">0.010762067915807012</span>    <span style=\"color: #008080; text-decoration-color: #008080; font-weight: bold\">0.0008790201262138395</span>   <span style=\"color: #008080; text-decoration-color: #008080; font-weight: bold\">6.103515625e-05</span>\n",
       "</pre>\n"
      ],
      "text/plain": [
       "   \u001b[1;36m14\u001b[0m                 \u001b[1;36m0\u001b[0m  \u001b[1;36m0.010762067915807012\u001b[0m    \u001b[1;36m0.0008790201262138395\u001b[0m   \u001b[1;36m6.103515625e-05\u001b[0m\n"
      ]
     },
     "metadata": {},
     "output_type": "display_data"
    },
    {
     "name": "stdout",
     "output_type": "stream",
     "text": [
      "This is Ipopt version 3.14.17, running with linear solver MUMPS 5.6.2.\n",
      "\n",
      "Number of nonzeros in equality constraint Jacobian...:      326\n",
      "Number of nonzeros in inequality constraint Jacobian.:       60\n",
      "Number of nonzeros in Lagrangian Hessian.............:        0\n",
      "\n",
      "Total number of variables............................:       77\n",
      "                     variables with only lower bounds:       41\n",
      "                variables with lower and upper bounds:        0\n",
      "                     variables with only upper bounds:        0\n",
      "Total number of equality constraints.................:       64\n",
      "Total number of inequality constraints...............:       24\n",
      "        inequality constraints with only lower bounds:       24\n",
      "   inequality constraints with lower and upper bounds:        0\n",
      "        inequality constraints with only upper bounds:        0\n",
      "\n",
      "iter    objective    inf_pr   inf_du lg(mu)  ||d||  lg(rg) alpha_du alpha_pr  ls\n",
      "   0  1.0762068e-02 3.05e-05 7.50e-01   0.0 0.00e+00    -  0.00e+00 0.00e+00   0\n",
      "   1  1.0517736e-02 2.22e-03 2.23e-01  -6.6 2.35e-02    -  7.11e-01 7.66e-01h  1\n",
      "   2  1.0385656e-02 8.39e-04 4.04e-01  -3.0 3.57e-02    -  9.65e-01 6.39e-01h  1\n",
      "   3  1.0886338e-02 2.34e-04 1.08e-01  -3.5 3.98e-02    -  1.00e+00 9.22e-01h  1\n",
      "   4  1.0847244e-02 7.57e-06 5.85e-03  -5.2 9.11e-03    -  1.00e+00 1.00e+00h  1\n",
      "   5  1.0839880e-02 1.07e-06 2.27e-03  -5.3 1.98e-03    -  1.00e+00 1.00e+00h  1\n",
      "   6  1.0811482e-02 1.37e-05 7.58e-03  -5.8 7.39e-03    -  1.00e+00 9.70e-01h  1\n",
      "   7  1.0803711e-02 3.41e-07 6.62e-04  -6.4 1.50e-03    -  1.00e+00 1.00e+00h  1\n",
      "   8  1.0798632e-02 1.20e-07 1.59e-05  -7.2 7.19e-04    -  1.00e+00 1.00e+00h  1\n",
      "   9  1.0797610e-02 3.15e-08 4.72e-06  -8.9 2.43e-04    -  1.00e+00 1.00e+00h  1\n",
      "iter    objective    inf_pr   inf_du lg(mu)  ||d||  lg(rg) alpha_du alpha_pr  ls\n",
      "  10  1.0797584e-02 7.45e-09 1.09e-06 -11.0 2.17e-05    -  1.00e+00 1.00e+00h  1\n",
      "  11  1.0797584e-02 2.13e-09 1.17e-08 -11.0 5.12e-06    -  1.00e+00 1.00e+00h  1\n",
      "  12  1.0797584e-02 3.02e-12 3.56e-10 -11.0 1.30e-08    -  1.00e+00 1.00e+00h  1\n",
      "\n",
      "Number of Iterations....: 12\n",
      "\n",
      "                                   (scaled)                 (unscaled)\n",
      "Objective...............:   1.0797583744264112e-02    1.0797583744264112e-02\n",
      "Dual infeasibility......:   3.5644580353728222e-10    3.5644580353728222e-10\n",
      "Constraint violation....:   3.0183286425788936e-12    3.0183286425788936e-12\n",
      "Variable bound violation:   0.0000000000000000e+00    0.0000000000000000e+00\n",
      "Complementarity.........:   1.0000000001320706e-11    1.0000000001320706e-11\n",
      "Overall NLP error.......:   3.5644580353728222e-10    3.5644580353728222e-10\n",
      "\n",
      "\n",
      "Number of objective function evaluations             = 13\n",
      "Number of objective gradient evaluations             = 13\n",
      "Number of equality constraint evaluations            = 13\n",
      "Number of inequality constraint evaluations          = 13\n",
      "Number of equality constraint Jacobian evaluations   = 13\n",
      "Number of inequality constraint Jacobian evaluations = 13\n",
      "Number of Lagrangian Hessian evaluations             = 0\n",
      "Total seconds in IPOPT                               = 0.181\n",
      "\n",
      "EXIT: Optimal Solution Found.\n"
     ]
    },
    {
     "data": {
      "text/html": [
       "<pre style=\"white-space:pre;overflow-x:auto;line-height:normal;font-family:Menlo,'DejaVu Sans Mono',consolas,'Courier New',monospace\">   <span style=\"color: #008080; text-decoration-color: #008080; font-weight: bold\">15</span>                 <span style=\"color: #008080; text-decoration-color: #008080; font-weight: bold\">0</span>  <span style=\"color: #008080; text-decoration-color: #008080; font-weight: bold\">0.010797583744264112</span>    <span style=\"color: #008080; text-decoration-color: #008080; font-weight: bold\">0.0004402256650519515</span>   <span style=\"color: #008080; text-decoration-color: #008080; font-weight: bold\">3.0517578125e-05</span>\n",
       "</pre>\n"
      ],
      "text/plain": [
       "   \u001b[1;36m15\u001b[0m                 \u001b[1;36m0\u001b[0m  \u001b[1;36m0.010797583744264112\u001b[0m    \u001b[1;36m0.0004402256650519515\u001b[0m   \u001b[1;36m3.0517578125e-05\u001b[0m\n"
      ]
     },
     "metadata": {},
     "output_type": "display_data"
    },
    {
     "name": "stdout",
     "output_type": "stream",
     "text": [
      "This is Ipopt version 3.14.17, running with linear solver MUMPS 5.6.2.\n",
      "\n",
      "Number of nonzeros in equality constraint Jacobian...:      326\n",
      "Number of nonzeros in inequality constraint Jacobian.:       60\n",
      "Number of nonzeros in Lagrangian Hessian.............:        0\n",
      "\n",
      "Total number of variables............................:       77\n",
      "                     variables with only lower bounds:       41\n",
      "                variables with lower and upper bounds:        0\n",
      "                     variables with only upper bounds:        0\n",
      "Total number of equality constraints.................:       64\n",
      "Total number of inequality constraints...............:       24\n",
      "        inequality constraints with only lower bounds:       24\n",
      "   inequality constraints with lower and upper bounds:        0\n",
      "        inequality constraints with only upper bounds:        0\n",
      "\n",
      "iter    objective    inf_pr   inf_du lg(mu)  ||d||  lg(rg) alpha_du alpha_pr  ls\n",
      "   0  1.0797584e-02 1.53e-05 7.50e-01   0.0 0.00e+00    -  0.00e+00 0.00e+00   0\n",
      "   1  1.0544415e-02 2.26e-03 2.25e-01  -6.6 2.40e-02    -  7.08e-01 7.62e-01h  1\n",
      "   2  1.0389799e-02 8.54e-04 4.03e-01  -3.0 3.69e-02    -  9.64e-01 6.38e-01h  1\n",
      "   3  1.0892811e-02 2.40e-04 1.44e-01  -3.5 4.03e-02    -  1.00e+00 9.03e-01h  1\n",
      "   4  1.0846319e-02 1.11e-05 8.56e-03  -5.1 1.06e-02    -  1.00e+00 1.00e+00h  1\n",
      "   5  1.0839857e-02 1.41e-06 2.76e-03  -5.7 2.21e-03    -  1.00e+00 1.00e+00h  1\n",
      "   6  1.0823548e-02 1.75e-05 3.09e-03  -6.0 7.74e-03    -  1.00e+00 1.00e+00h  1\n",
      "   7  1.0819172e-02 1.65e-07 4.06e-05  -6.6 8.07e-04    -  1.00e+00 1.00e+00h  1\n",
      "   8  1.0816053e-02 6.42e-08 6.47e-06  -7.4 3.98e-04    -  1.00e+00 1.00e+00h  1\n",
      "   9  1.0815447e-02 1.81e-08 2.27e-06  -8.9 1.31e-04    -  1.00e+00 1.00e+00h  1\n",
      "iter    objective    inf_pr   inf_du lg(mu)  ||d||  lg(rg) alpha_du alpha_pr  ls\n",
      "  10  1.0815427e-02 1.40e-09 2.10e-07 -11.0 5.74e-06    -  1.00e+00 1.00e+00h  1\n",
      "  11  1.0815427e-02 7.59e-10 5.47e-09 -11.0 1.83e-06    -  1.00e+00 1.00e+00h  1\n",
      "\n",
      "Number of Iterations....: 11\n",
      "\n",
      "                                   (scaled)                 (unscaled)\n",
      "Objective...............:   1.0815426767517261e-02    1.0815426767517261e-02\n",
      "Dual infeasibility......:   5.4683901783928596e-09    5.4683901783928596e-09\n",
      "Constraint violation....:   7.5861080871958420e-10    7.5861080871958420e-10\n",
      "Variable bound violation:   0.0000000000000000e+00    0.0000000000000000e+00\n",
      "Complementarity.........:   1.0000548678146443e-11    1.0000548678146443e-11\n",
      "Overall NLP error.......:   5.4683901783928596e-09    5.4683901783928596e-09\n",
      "\n",
      "\n",
      "Number of objective function evaluations             = 12\n",
      "Number of objective gradient evaluations             = 12\n",
      "Number of equality constraint evaluations            = 12\n",
      "Number of inequality constraint evaluations          = 12\n",
      "Number of equality constraint Jacobian evaluations   = 12\n",
      "Number of inequality constraint Jacobian evaluations = 12\n",
      "Numbe"
     ]
    },
    {
     "data": {
      "text/html": [
       "<pre style=\"white-space:pre;overflow-x:auto;line-height:normal;font-family:Menlo,'DejaVu Sans Mono',consolas,'Courier New',monospace\">   <span style=\"color: #008080; text-decoration-color: #008080; font-weight: bold\">16</span>                 <span style=\"color: #008080; text-decoration-color: #008080; font-weight: bold\">0</span>  <span style=\"color: #008080; text-decoration-color: #008080; font-weight: bold\">0.010815426767517261</span>    <span style=\"color: #008080; text-decoration-color: #008080; font-weight: bold\">0.0002203462134263708</span>   <span style=\"color: #008080; text-decoration-color: #008080; font-weight: bold\">1.52587890625e-05</span>\n",
       "</pre>\n"
      ],
      "text/plain": [
       "   \u001b[1;36m16\u001b[0m                 \u001b[1;36m0\u001b[0m  \u001b[1;36m0.010815426767517261\u001b[0m    \u001b[1;36m0.0002203462134263708\u001b[0m   \u001b[1;36m1.52587890625e-05\u001b[0m\n"
      ]
     },
     "metadata": {},
     "output_type": "display_data"
    },
    {
     "name": "stdout",
     "output_type": "stream",
     "text": [
      "r of Lagrangian Hessian evaluations             = 0\n",
      "Total seconds in IPOPT                               = 0.162\n",
      "\n",
      "EXIT: Optimal Solution Found.\n"
     ]
    },
    {
     "data": {
      "text/html": [
       "<pre style=\"white-space:pre;overflow-x:auto;line-height:normal;font-family:Menlo,'DejaVu Sans Mono',consolas,'Courier New',monospace\">Intermediate result:  message: <span style=\"color: #008000; text-decoration-color: #008000\">b'Algorithm terminated successfully at a locally optimal point, satisfying the </span>\n",
       "<span style=\"color: #008000; text-decoration-color: #008000\">convergence tolerances (can be specified by options).'</span>\n",
       " success: <span style=\"color: #00ff00; text-decoration-color: #00ff00; font-style: italic\">True</span>\n",
       "  status: <span style=\"color: #008080; text-decoration-color: #008080; font-weight: bold\">0</span>\n",
       "     fun: <span style=\"color: #008080; text-decoration-color: #008080; font-weight: bold\">0.010815426767517261</span>\n",
       "       x: <span style=\"font-weight: bold\">[</span> <span style=\"color: #008080; text-decoration-color: #008080; font-weight: bold\">9.817e-01</span>  <span style=\"color: #008080; text-decoration-color: #008080; font-weight: bold\">8.968e-01</span> <span style=\"color: #808000; text-decoration-color: #808000\">...</span> <span style=\"color: #008080; text-decoration-color: #008080; font-weight: bold\">-1.825e+00</span>  <span style=\"color: #008080; text-decoration-color: #008080; font-weight: bold\">1.387e-02</span><span style=\"font-weight: bold\">]</span>\n",
       "     nit: <span style=\"color: #008080; text-decoration-color: #008080; font-weight: bold\">11</span>\n",
       "    info:     status: <span style=\"color: #008080; text-decoration-color: #008080; font-weight: bold\">0</span>\n",
       "                   x: <span style=\"font-weight: bold\">[</span> <span style=\"color: #008080; text-decoration-color: #008080; font-weight: bold\">9.817e-01</span>  <span style=\"color: #008080; text-decoration-color: #008080; font-weight: bold\">8.968e-01</span> <span style=\"color: #808000; text-decoration-color: #808000\">...</span> <span style=\"color: #008080; text-decoration-color: #008080; font-weight: bold\">-1.825e+00</span>  <span style=\"color: #008080; text-decoration-color: #008080; font-weight: bold\">1.387e-02</span><span style=\"font-weight: bold\">]</span>\n",
       "                   g: <span style=\"font-weight: bold\">[</span> <span style=\"color: #008080; text-decoration-color: #008080; font-weight: bold\">7.363e-05</span> <span style=\"color: #008080; text-decoration-color: #008080; font-weight: bold\">-9.208e-09</span> <span style=\"color: #808000; text-decoration-color: #808000\">...</span>  <span style=\"color: #008080; text-decoration-color: #008080; font-weight: bold\">2.195e-13</span>  <span style=\"color: #008080; text-decoration-color: #008080; font-weight: bold\">6.591e-14</span><span style=\"font-weight: bold\">]</span>\n",
       "             obj_val: <span style=\"color: #008080; text-decoration-color: #008080; font-weight: bold\">0.010815426767517261</span>\n",
       "              mult_g: <span style=\"font-weight: bold\">[</span><span style=\"color: #008080; text-decoration-color: #008080; font-weight: bold\">-1.356e-07</span> <span style=\"color: #008080; text-decoration-color: #008080; font-weight: bold\">-1.263e-02</span> <span style=\"color: #808000; text-decoration-color: #808000\">...</span> <span style=\"color: #008080; text-decoration-color: #008080; font-weight: bold\">-8.373e-03</span> <span style=\"color: #008080; text-decoration-color: #008080; font-weight: bold\">-1.708e-02</span><span style=\"font-weight: bold\">]</span>\n",
       "            mult_x_L: <span style=\"font-weight: bold\">[</span> <span style=\"color: #008080; text-decoration-color: #008080; font-weight: bold\">1.019e-11</span>  <span style=\"color: #008080; text-decoration-color: #008080; font-weight: bold\">1.115e-11</span> <span style=\"color: #808000; text-decoration-color: #808000\">...</span>  <span style=\"color: #008080; text-decoration-color: #008080; font-weight: bold\">0.000e+00</span>  <span style=\"color: #008080; text-decoration-color: #008080; font-weight: bold\">7.209e-10</span><span style=\"font-weight: bold\">]</span>\n",
       "            mult_x_U: <span style=\"font-weight: bold\">[</span> <span style=\"color: #008080; text-decoration-color: #008080; font-weight: bold\">0.000e+00</span>  <span style=\"color: #008080; text-decoration-color: #008080; font-weight: bold\">0.000e+00</span> <span style=\"color: #808000; text-decoration-color: #808000\">...</span>  <span style=\"color: #008080; text-decoration-color: #008080; font-weight: bold\">0.000e+00</span>  <span style=\"color: #008080; text-decoration-color: #008080; font-weight: bold\">0.000e+00</span><span style=\"font-weight: bold\">]</span>\n",
       "          status_msg: <span style=\"color: #008000; text-decoration-color: #008000\">b'Algorithm terminated successfully at a locally optimal point, satisfying the convergence </span>\n",
       "<span style=\"color: #008000; text-decoration-color: #008000\">tolerances (can be specified by options).'</span>\n",
       "    nfev: <span style=\"color: #008080; text-decoration-color: #008080; font-weight: bold\">12</span>\n",
       "    njev: <span style=\"color: #008080; text-decoration-color: #008080; font-weight: bold\">13</span>\n",
       "</pre>\n"
      ],
      "text/plain": [
       "Intermediate result:  message: \u001b[32mb'Algorithm terminated successfully at a locally optimal point, satisfying the \u001b[0m\n",
       "\u001b[32mconvergence tolerances \u001b[0m\u001b[32m(\u001b[0m\u001b[32mcan be specified by options\u001b[0m\u001b[32m)\u001b[0m\u001b[32m.'\u001b[0m\n",
       " success: \u001b[3;92mTrue\u001b[0m\n",
       "  status: \u001b[1;36m0\u001b[0m\n",
       "     fun: \u001b[1;36m0.010815426767517261\u001b[0m\n",
       "       x: \u001b[1m[\u001b[0m \u001b[1;36m9.817e-01\u001b[0m  \u001b[1;36m8.968e-01\u001b[0m \u001b[33m...\u001b[0m \u001b[1;36m-1.825e+00\u001b[0m  \u001b[1;36m1.387e-02\u001b[0m\u001b[1m]\u001b[0m\n",
       "     nit: \u001b[1;36m11\u001b[0m\n",
       "    info:     status: \u001b[1;36m0\u001b[0m\n",
       "                   x: \u001b[1m[\u001b[0m \u001b[1;36m9.817e-01\u001b[0m  \u001b[1;36m8.968e-01\u001b[0m \u001b[33m...\u001b[0m \u001b[1;36m-1.825e+00\u001b[0m  \u001b[1;36m1.387e-02\u001b[0m\u001b[1m]\u001b[0m\n",
       "                   g: \u001b[1m[\u001b[0m \u001b[1;36m7.363e-05\u001b[0m \u001b[1;36m-9.208e-09\u001b[0m \u001b[33m...\u001b[0m  \u001b[1;36m2.195e-13\u001b[0m  \u001b[1;36m6.591e-14\u001b[0m\u001b[1m]\u001b[0m\n",
       "             obj_val: \u001b[1;36m0.010815426767517261\u001b[0m\n",
       "              mult_g: \u001b[1m[\u001b[0m\u001b[1;36m-1.356e-07\u001b[0m \u001b[1;36m-1.263e-02\u001b[0m \u001b[33m...\u001b[0m \u001b[1;36m-8.373e-03\u001b[0m \u001b[1;36m-1.708e-02\u001b[0m\u001b[1m]\u001b[0m\n",
       "            mult_x_L: \u001b[1m[\u001b[0m \u001b[1;36m1.019e-11\u001b[0m  \u001b[1;36m1.115e-11\u001b[0m \u001b[33m...\u001b[0m  \u001b[1;36m0.000e+00\u001b[0m  \u001b[1;36m7.209e-10\u001b[0m\u001b[1m]\u001b[0m\n",
       "            mult_x_U: \u001b[1m[\u001b[0m \u001b[1;36m0.000e+00\u001b[0m  \u001b[1;36m0.000e+00\u001b[0m \u001b[33m...\u001b[0m  \u001b[1;36m0.000e+00\u001b[0m  \u001b[1;36m0.000e+00\u001b[0m\u001b[1m]\u001b[0m\n",
       "          status_msg: \u001b[32mb'Algorithm terminated successfully at a locally optimal point, satisfying the convergence \u001b[0m\n",
       "\u001b[32mtolerances \u001b[0m\u001b[32m(\u001b[0m\u001b[32mcan be specified by options\u001b[0m\u001b[32m)\u001b[0m\u001b[32m.'\u001b[0m\n",
       "    nfev: \u001b[1;36m12\u001b[0m\n",
       "    njev: \u001b[1;36m13\u001b[0m\n"
      ]
     },
     "metadata": {},
     "output_type": "display_data"
    },
    {
     "data": {
      "text/html": [
       "<pre style=\"white-space:pre;overflow-x:auto;line-height:normal;font-family:Menlo,'DejaVu Sans Mono',consolas,'Courier New',monospace\">Intermediate fn: <span style=\"color: #008080; text-decoration-color: #008080; font-weight: bold\">0.010815426767517261</span>\n",
       "</pre>\n"
      ],
      "text/plain": [
       "Intermediate fn: \u001b[1;36m0.010815426767517261\u001b[0m\n"
      ]
     },
     "metadata": {},
     "output_type": "display_data"
    },
    {
     "data": {
      "text/html": [
       "<pre style=\"white-space:pre;overflow-x:auto;line-height:normal;font-family:Menlo,'DejaVu Sans Mono',consolas,'Courier New',monospace\">complementarity: <span style=\"color: #008080; text-decoration-color: #008080; font-weight: bold\">0.00022034621342637082</span>\n",
       "</pre>\n"
      ],
      "text/plain": [
       "complementarity: \u001b[1;36m0.00022034621342637082\u001b[0m\n"
      ]
     },
     "metadata": {},
     "output_type": "display_data"
    },
    {
     "data": {
      "text/html": [
       "<pre style=\"white-space:pre;overflow-x:auto;line-height:normal;font-family:Menlo,'DejaVu Sans Mono',consolas,'Courier New',monospace\">* <span style=\"font-weight: bold\">(</span>STOPPED<span style=\"font-weight: bold\">)</span> Iteration <span style=\"color: #008080; text-decoration-color: #008080; font-weight: bold\">18</span>: Solving the NLP problem for t = <span style=\"color: #008080; text-decoration-color: #008080; font-weight: bold\">1e-05</span> with complementarity: <span style=\"color: #008080; text-decoration-color: #008080; font-weight: bold\">0.0002203462134263708</span>\n",
       "</pre>\n"
      ],
      "text/plain": [
       "* \u001b[1m(\u001b[0mSTOPPED\u001b[1m)\u001b[0m Iteration \u001b[1;36m18\u001b[0m: Solving the NLP problem for t = \u001b[1;36m1e-05\u001b[0m with complementarity: \u001b[1;36m0.0002203462134263708\u001b[0m\n"
      ]
     },
     "metadata": {},
     "output_type": "display_data"
    }
   ],
   "source": [
    "res_mpcc,x_opt_mpcc,fun_opt_mpcc = mpcc_model.solve(max_iter=100,tol=1e-4,print_level=5,verbose=True)"
   ]
  },
  {
   "cell_type": "code",
   "execution_count": 17,
   "metadata": {},
   "outputs": [],
   "source": [
    "u_mpcc, q_mpcc, r_mpcc, delta_mpcc, theta_mpcc, alpha_mpcc = mpcc_model.objective_func.parse_vars(x_opt_mpcc)"
   ]
  },
  {
   "cell_type": "code",
   "execution_count": 18,
   "metadata": {},
   "outputs": [
    {
     "data": {
      "image/png": "[encoded data removed]",
      "text/plain": [
       "<Figure size 1400x400 with 3 Axes>"
      ]
     },
     "metadata": {},
     "output_type": "display_data"
    }
   ],
   "source": [
    "u_mpcc = u_mpcc.reshape((scale,scale))\n",
    "plot_experiment(true,noisy,u_mpcc,alpha_mpcc)"
   ]
  },
  {
   "cell_type": "code",
   "execution_count": null,
   "metadata": {},
   "outputs": [],
   "source": []
  }
 ],
 "metadata": {
  "kernelspec": {
   "display_name": "Python 3",
   "language": "python",
   "name": "python3"
  },
  "language_info": {
   "codemirror_mode": {
    "name": "ipython",
    "version": 3
   },
   "file_extension": ".py",
   "mimetype": "text/x-python",
   "name": "python",
   "nbconvert_exporter": "python",
   "pygments_lexer": "ipython3",
   "version": "3.13.1"
  }
 },
 "nbformat": 4,
 "nbformat_minor": 2
}
