{
 "cells": [
  {
   "cell_type": "code",
   "execution_count": 1,
   "id": "8f9b010f",
   "metadata": {},
   "outputs": [],
   "source": [
    "import sys\n",
    "import os\n",
    "# Get the absolute path to the project root\n",
    "project_root = os.path.abspath(os.path.join(os.getcwd(), \"..\"))\n",
    "# Add it to sys.path\n",
    "sys.path.append(project_root)"
   ]
  },
  {
   "cell_type": "code",
   "execution_count": 2,
   "id": "945f42b2",
   "metadata": {},
   "outputs": [],
   "source": [
    "from bimpcc.dataset import get_blur_dataset\n",
    "from bimpcc.models.tvreconstruction_model import TVReconstructionMPCC\n",
    "import matplotlib.pyplot as plt\n",
    "from skimage.metrics import peak_signal_noise_ratio as psnr\n",
    "import scipy.sparse as sp\n",
    "import numpy as np\n"
   ]
  },
  {
   "cell_type": "code",
   "execution_count": 3,
   "id": "dce12ad7",
   "metadata": {},
   "outputs": [],
   "source": [
    "def plot_experiment(true,noisy,u, alpha):\n",
    "    \n",
    "    fig,ax = plt.subplots(1,3,figsize=(14,4))\n",
    "    ax[0].imshow(true,cmap='gray')\n",
    "    ax[0].set_title('True Image')\n",
    "    ax[0].axis('off')\n",
    "    ax[1].imshow(noisy,cmap='gray')\n",
    "    ax[1].set_title('Noisy Image\\nPSNR: {:.4f}'.format(psnr(true,noisy)))\n",
    "    ax[1].axis('off')\n",
    "    ax[2].imshow(u,cmap='gray')\n",
    "    ax[2].set_title(f'Reconstructed Image\\nPSNR: {psnr(true,u):.4f}\\n alpha = {alpha}')\n",
    "    # ax[2].set_xlabel('alpha = {}'.format(alpha))\n",
    "    ax[2].axis('off')\n",
    "\n",
    "    plt.show()"
   ]
  },
  {
   "cell_type": "code",
   "execution_count": 4,
   "id": "9ec650b1",
   "metadata": {},
   "outputs": [],
   "source": [
    "scale = 20"
   ]
  },
  {
   "cell_type": "code",
   "execution_count": 5,
   "id": "b74d7e63",
   "metadata": {},
   "outputs": [],
   "source": [
    "dataset = get_blur_dataset(\"cameraman\",scale=scale)\n",
    "true, blurred = dataset.get_training_data()"
   ]
  },
  {
   "cell_type": "code",
   "execution_count": 6,
   "id": "18cb670b",
   "metadata": {},
   "outputs": [
    {
     "data": {
      "text/plain": [
       "(np.float64(-0.5), np.float64(19.5), np.float64(19.5), np.float64(-0.5))"
      ]
     },
     "execution_count": 6,
     "metadata": {},
     "output_type": "execute_result"
    },
    {
     "data": {
      "image/png": "[encoded data removed]",
      "text/plain": [
       "<Figure size 1000x500 with 2 Axes>"
      ]
     },
     "metadata": {},
     "output_type": "display_data"
    }
   ],
   "source": [
    "fig,ax = plt.subplots(1,2,figsize=(10,5))\n",
    "ax[0].imshow(true,cmap='gray')\n",
    "ax[0].set_title('True Image')\n",
    "ax[0].axis('off')\n",
    "ax[1].imshow(blurred,cmap='gray')\n",
    "ax[1].set_title('Noisy Image')\n",
    "ax[1].axis('off')"
   ]
  },
  {
   "cell_type": "code",
   "execution_count": 7,
   "id": "f8489fc3",
   "metadata": {},
   "outputs": [],
   "source": [
    "from bimpcc.utils import gaussian_blur_sparse_matrix_symmetric\n",
    "forward_map = gaussian_blur_sparse_matrix_symmetric(true.shape)\n",
    "model = TVReconstructionMPCC(forward_map,true,blurred,epsilon=1e-3,t_init=1.0)"
   ]
  },
  {
   "cell_type": "code",
   "execution_count": 8,
   "id": "308b8747",
   "metadata": {},
   "outputs": [
    {
     "data": {
      "text/html": [
       "<pre style=\"white-space:pre;overflow-x:auto;line-height:normal;font-family:Menlo,'DejaVu Sans Mono',consolas,'Courier New',monospace\"> Iter   Termination_status            Objective      MPCC_compl               t\n",
       "\n",
       "</pre>\n"
      ],
      "text/plain": [
       " Iter   Termination_status            Objective      MPCC_compl               t\n",
       "\n"
      ]
     },
     "metadata": {},
     "output_type": "display_data"
    },
    {
     "name": "stdout",
     "output_type": "stream",
     "text": [
      "\n",
      "******************************************************************************\n",
      "This program contains Ipopt, a library for large-scale nonlinear optimization.\n",
      " Ipopt is released as open source code under the Eclipse Public License (EPL).\n",
      "         For more information visit https://github.com/coin-or/Ipopt\n",
      "******************************************************************************\n",
      "\n"
     ]
    },
    {
     "data": {
      "text/html": [
       "<pre style=\"white-space:pre;overflow-x:auto;line-height:normal;font-family:Menlo,'DejaVu Sans Mono',consolas,'Courier New',monospace\">    <span style=\"color: #008080; text-decoration-color: #008080; font-weight: bold\">0</span>                 <span style=\"color: #008080; text-decoration-color: #008080; font-weight: bold\">0</span>  <span style=\"color: #008080; text-decoration-color: #008080; font-weight: bold\">1.3216199267974045</span>      <span style=\"color: #008080; text-decoration-color: #008080; font-weight: bold\">5.908174211887961</span>                  <span style=\"color: #008080; text-decoration-color: #008080; font-weight: bold\">1.0</span>\n",
       "</pre>\n"
      ],
      "text/plain": [
       "    \u001b[1;36m0\u001b[0m                 \u001b[1;36m0\u001b[0m  \u001b[1;36m1.3216199267974045\u001b[0m      \u001b[1;36m5.908174211887961\u001b[0m                  \u001b[1;36m1.0\u001b[0m\n"
      ]
     },
     "metadata": {},
     "output_type": "display_data"
    },
    {
     "data": {
      "text/html": [
       "<pre style=\"white-space:pre;overflow-x:auto;line-height:normal;font-family:Menlo,'DejaVu Sans Mono',consolas,'Courier New',monospace\">    <span style=\"color: #008080; text-decoration-color: #008080; font-weight: bold\">1</span>                 <span style=\"color: #008080; text-decoration-color: #008080; font-weight: bold\">0</span>  <span style=\"color: #008080; text-decoration-color: #008080; font-weight: bold\">1.3177585712364004</span>      <span style=\"color: #008080; text-decoration-color: #008080; font-weight: bold\">3.804804276993296</span>                  <span style=\"color: #008080; text-decoration-color: #008080; font-weight: bold\">0.5</span>\n",
       "</pre>\n"
      ],
      "text/plain": [
       "    \u001b[1;36m1\u001b[0m                 \u001b[1;36m0\u001b[0m  \u001b[1;36m1.3177585712364004\u001b[0m      \u001b[1;36m3.804804276993296\u001b[0m                  \u001b[1;36m0.5\u001b[0m\n"
      ]
     },
     "metadata": {},
     "output_type": "display_data"
    },
    {
     "data": {
      "text/html": [
       "<pre style=\"white-space:pre;overflow-x:auto;line-height:normal;font-family:Menlo,'DejaVu Sans Mono',consolas,'Courier New',monospace\">    <span style=\"color: #008080; text-decoration-color: #008080; font-weight: bold\">2</span>                 <span style=\"color: #008080; text-decoration-color: #008080; font-weight: bold\">0</span>  <span style=\"color: #008080; text-decoration-color: #008080; font-weight: bold\">1.2771743462945475</span>      <span style=\"color: #008080; text-decoration-color: #008080; font-weight: bold\">2.5399093591610615</span>                <span style=\"color: #008080; text-decoration-color: #008080; font-weight: bold\">0.25</span>\n",
       "</pre>\n"
      ],
      "text/plain": [
       "    \u001b[1;36m2\u001b[0m                 \u001b[1;36m0\u001b[0m  \u001b[1;36m1.2771743462945475\u001b[0m      \u001b[1;36m2.5399093591610615\u001b[0m                \u001b[1;36m0.25\u001b[0m\n"
      ]
     },
     "metadata": {},
     "output_type": "display_data"
    },
    {
     "data": {
      "text/html": [
       "<pre style=\"white-space:pre;overflow-x:auto;line-height:normal;font-family:Menlo,'DejaVu Sans Mono',consolas,'Courier New',monospace\">    <span style=\"color: #008080; text-decoration-color: #008080; font-weight: bold\">3</span>                 <span style=\"color: #008080; text-decoration-color: #008080; font-weight: bold\">0</span>  <span style=\"color: #008080; text-decoration-color: #008080; font-weight: bold\">1.2954721413016688</span>      <span style=\"color: #008080; text-decoration-color: #008080; font-weight: bold\">1.5143231584310415</span>               <span style=\"color: #008080; text-decoration-color: #008080; font-weight: bold\">0.125</span>\n",
       "</pre>\n"
      ],
      "text/plain": [
       "    \u001b[1;36m3\u001b[0m                 \u001b[1;36m0\u001b[0m  \u001b[1;36m1.2954721413016688\u001b[0m      \u001b[1;36m1.5143231584310415\u001b[0m               \u001b[1;36m0.125\u001b[0m\n"
      ]
     },
     "metadata": {},
     "output_type": "display_data"
    },
    {
     "data": {
      "text/html": [
       "<pre style=\"white-space:pre;overflow-x:auto;line-height:normal;font-family:Menlo,'DejaVu Sans Mono',consolas,'Courier New',monospace\">    <span style=\"color: #008080; text-decoration-color: #008080; font-weight: bold\">4</span>                 <span style=\"color: #008080; text-decoration-color: #008080; font-weight: bold\">0</span>  <span style=\"color: #008080; text-decoration-color: #008080; font-weight: bold\">1.3376870938967178</span>      <span style=\"color: #008080; text-decoration-color: #008080; font-weight: bold\">0.961963967749638</span>               <span style=\"color: #008080; text-decoration-color: #008080; font-weight: bold\">0.0625</span>\n",
       "</pre>\n"
      ],
      "text/plain": [
       "    \u001b[1;36m4\u001b[0m                 \u001b[1;36m0\u001b[0m  \u001b[1;36m1.3376870938967178\u001b[0m      \u001b[1;36m0.961963967749638\u001b[0m               \u001b[1;36m0.0625\u001b[0m\n"
      ]
     },
     "metadata": {},
     "output_type": "display_data"
    },
    {
     "data": {
      "text/html": [
       "<pre style=\"white-space:pre;overflow-x:auto;line-height:normal;font-family:Menlo,'DejaVu Sans Mono',consolas,'Courier New',monospace\">    <span style=\"color: #008080; text-decoration-color: #008080; font-weight: bold\">5</span>                 <span style=\"color: #008080; text-decoration-color: #008080; font-weight: bold\">0</span>  <span style=\"color: #008080; text-decoration-color: #008080; font-weight: bold\">1.361108272130542</span>       <span style=\"color: #008080; text-decoration-color: #008080; font-weight: bold\">0.5136779194024875</span>             <span style=\"color: #008080; text-decoration-color: #008080; font-weight: bold\">0.03125</span>\n",
       "</pre>\n"
      ],
      "text/plain": [
       "    \u001b[1;36m5\u001b[0m                 \u001b[1;36m0\u001b[0m  \u001b[1;36m1.361108272130542\u001b[0m       \u001b[1;36m0.5136779194024875\u001b[0m             \u001b[1;36m0.03125\u001b[0m\n"
      ]
     },
     "metadata": {},
     "output_type": "display_data"
    },
    {
     "data": {
      "text/html": [
       "<pre style=\"white-space:pre;overflow-x:auto;line-height:normal;font-family:Menlo,'DejaVu Sans Mono',consolas,'Courier New',monospace\">    <span style=\"color: #008080; text-decoration-color: #008080; font-weight: bold\">6</span>                 <span style=\"color: #008080; text-decoration-color: #008080; font-weight: bold\">0</span>  <span style=\"color: #008080; text-decoration-color: #008080; font-weight: bold\">1.3801453196735751</span>      <span style=\"color: #008080; text-decoration-color: #008080; font-weight: bold\">0.26342096495516826</span>           <span style=\"color: #008080; text-decoration-color: #008080; font-weight: bold\">0.015625</span>\n",
       "</pre>\n"
      ],
      "text/plain": [
       "    \u001b[1;36m6\u001b[0m                 \u001b[1;36m0\u001b[0m  \u001b[1;36m1.3801453196735751\u001b[0m      \u001b[1;36m0.26342096495516826\u001b[0m           \u001b[1;36m0.015625\u001b[0m\n"
      ]
     },
     "metadata": {},
     "output_type": "display_data"
    },
    {
     "data": {
      "text/html": [
       "<pre style=\"white-space:pre;overflow-x:auto;line-height:normal;font-family:Menlo,'DejaVu Sans Mono',consolas,'Courier New',monospace\">    <span style=\"color: #008080; text-decoration-color: #008080; font-weight: bold\">7</span>                 <span style=\"color: #008080; text-decoration-color: #008080; font-weight: bold\">0</span>  <span style=\"color: #008080; text-decoration-color: #008080; font-weight: bold\">1.4163781794320238</span>      <span style=\"color: #008080; text-decoration-color: #008080; font-weight: bold\">0.1556174958784431</span>           <span style=\"color: #008080; text-decoration-color: #008080; font-weight: bold\">0.0078125</span>\n",
       "</pre>\n"
      ],
      "text/plain": [
       "    \u001b[1;36m7\u001b[0m                 \u001b[1;36m0\u001b[0m  \u001b[1;36m1.4163781794320238\u001b[0m      \u001b[1;36m0.1556174958784431\u001b[0m           \u001b[1;36m0.0078125\u001b[0m\n"
      ]
     },
     "metadata": {},
     "output_type": "display_data"
    },
    {
     "data": {
      "text/html": [
       "<pre style=\"white-space:pre;overflow-x:auto;line-height:normal;font-family:Menlo,'DejaVu Sans Mono',consolas,'Courier New',monospace\">    <span style=\"color: #008080; text-decoration-color: #008080; font-weight: bold\">8</span>                 <span style=\"color: #008080; text-decoration-color: #008080; font-weight: bold\">0</span>  <span style=\"color: #008080; text-decoration-color: #008080; font-weight: bold\">1.4467807844587763</span>      <span style=\"color: #008080; text-decoration-color: #008080; font-weight: bold\">0.07795664643024329</span>         <span style=\"color: #008080; text-decoration-color: #008080; font-weight: bold\">0.00390625</span>\n",
       "</pre>\n"
      ],
      "text/plain": [
       "    \u001b[1;36m8\u001b[0m                 \u001b[1;36m0\u001b[0m  \u001b[1;36m1.4467807844587763\u001b[0m      \u001b[1;36m0.07795664643024329\u001b[0m         \u001b[1;36m0.00390625\u001b[0m\n"
      ]
     },
     "metadata": {},
     "output_type": "display_data"
    },
    {
     "data": {
      "text/html": [
       "<pre style=\"white-space:pre;overflow-x:auto;line-height:normal;font-family:Menlo,'DejaVu Sans Mono',consolas,'Courier New',monospace\">    <span style=\"color: #008080; text-decoration-color: #008080; font-weight: bold\">9</span>                 <span style=\"color: #008080; text-decoration-color: #008080; font-weight: bold\">0</span>  <span style=\"color: #008080; text-decoration-color: #008080; font-weight: bold\">1.4659642067961043</span>      <span style=\"color: #008080; text-decoration-color: #008080; font-weight: bold\">0.04405282389739671</span>        <span style=\"color: #008080; text-decoration-color: #008080; font-weight: bold\">0.001953125</span>\n",
       "</pre>\n"
      ],
      "text/plain": [
       "    \u001b[1;36m9\u001b[0m                 \u001b[1;36m0\u001b[0m  \u001b[1;36m1.4659642067961043\u001b[0m      \u001b[1;36m0.04405282389739671\u001b[0m        \u001b[1;36m0.001953125\u001b[0m\n"
      ]
     },
     "metadata": {},
     "output_type": "display_data"
    },
    {
     "data": {
      "text/html": [
       "<pre style=\"white-space:pre;overflow-x:auto;line-height:normal;font-family:Menlo,'DejaVu Sans Mono',consolas,'Courier New',monospace\">   <span style=\"color: #008080; text-decoration-color: #008080; font-weight: bold\">10</span>                 <span style=\"color: #008080; text-decoration-color: #008080; font-weight: bold\">0</span>  <span style=\"color: #008080; text-decoration-color: #008080; font-weight: bold\">1.4820382467880913</span>      <span style=\"color: #008080; text-decoration-color: #008080; font-weight: bold\">0.027945142167489306</span>      <span style=\"color: #008080; text-decoration-color: #008080; font-weight: bold\">0.0009765625</span>\n",
       "</pre>\n"
      ],
      "text/plain": [
       "   \u001b[1;36m10\u001b[0m                 \u001b[1;36m0\u001b[0m  \u001b[1;36m1.4820382467880913\u001b[0m      \u001b[1;36m0.027945142167489306\u001b[0m      \u001b[1;36m0.0009765625\u001b[0m\n"
      ]
     },
     "metadata": {},
     "output_type": "display_data"
    },
    {
     "data": {
      "text/html": [
       "<pre style=\"white-space:pre;overflow-x:auto;line-height:normal;font-family:Menlo,'DejaVu Sans Mono',consolas,'Courier New',monospace\">   <span style=\"color: #008080; text-decoration-color: #008080; font-weight: bold\">11</span>                 <span style=\"color: #008080; text-decoration-color: #008080; font-weight: bold\">0</span>  <span style=\"color: #008080; text-decoration-color: #008080; font-weight: bold\">1.4982962163175542</span>      <span style=\"color: #008080; text-decoration-color: #008080; font-weight: bold\">0.014740590057180794</span>     <span style=\"color: #008080; text-decoration-color: #008080; font-weight: bold\">0.00048828125</span>\n",
       "</pre>\n"
      ],
      "text/plain": [
       "   \u001b[1;36m11\u001b[0m                 \u001b[1;36m0\u001b[0m  \u001b[1;36m1.4982962163175542\u001b[0m      \u001b[1;36m0.014740590057180794\u001b[0m     \u001b[1;36m0.00048828125\u001b[0m\n"
      ]
     },
     "metadata": {},
     "output_type": "display_data"
    },
    {
     "data": {
      "text/html": [
       "<pre style=\"white-space:pre;overflow-x:auto;line-height:normal;font-family:Menlo,'DejaVu Sans Mono',consolas,'Courier New',monospace\">   <span style=\"color: #008080; text-decoration-color: #008080; font-weight: bold\">12</span>*                <span style=\"color: #008080; text-decoration-color: #008080; font-weight: bold\">0</span>  <span style=\"color: #008080; text-decoration-color: #008080; font-weight: bold\">1.5098318305645346</span>      <span style=\"color: #008080; text-decoration-color: #008080; font-weight: bold\">0.00990770315713063</span>     <span style=\"color: #008080; text-decoration-color: #008080; font-weight: bold\">0.000244140625</span>\n",
       "</pre>\n"
      ],
      "text/plain": [
       "   \u001b[1;36m12\u001b[0m*                \u001b[1;36m0\u001b[0m  \u001b[1;36m1.5098318305645346\u001b[0m      \u001b[1;36m0.00990770315713063\u001b[0m     \u001b[1;36m0.000244140625\u001b[0m\n"
      ]
     },
     "metadata": {},
     "output_type": "display_data"
    }
   ],
   "source": [
    "res,x_opt,fun_opt = model.solve(max_iter=20,t_min=1e-9,tol=1e-2,print_level=0,verbose=True, nlp_max_iter=5000, nlp_tol=1e-6)"
   ]
  },
  {
   "cell_type": "code",
   "execution_count": 9,
   "id": "87781ba3",
   "metadata": {},
   "outputs": [
    {
     "data": {
      "image/png": "[encoded data removed]",
      "text/plain": [
       "<Figure size 1400x400 with 3 Axes>"
      ]
     },
     "metadata": {},
     "output_type": "display_data"
    }
   ],
   "source": [
    "u, q, r, delta, theta, alpha = model.parse_vars_fn(x_opt)\n",
    "u = u.reshape((scale,scale))\n",
    "plot_experiment(true,blurred,u,alpha)"
   ]
  },
  {
   "cell_type": "code",
   "execution_count": null,
   "id": "f8704d3f",
   "metadata": {},
   "outputs": [],
   "source": []
  }
 ],
 "metadata": {
  "kernelspec": {
   "display_name": "Python 3",
   "language": "python",
   "name": "python3"
  },
  "language_info": {
   "codemirror_mode": {
    "name": "ipython",
    "version": 3
   },
   "file_extension": ".py",
   "mimetype": "text/x-python",
   "name": "python",
   "nbconvert_exporter": "python",
   "pygments_lexer": "ipython3",
   "version": "3.13.1"
  }
 },
 "nbformat": 4,
 "nbformat_minor": 5
}
