{
 "cells": [
  {
   "cell_type": "code",
   "execution_count": 1,
   "id": "8f9b010f",
   "metadata": {},
   "outputs": [],
   "source": [
    "import sys\n",
    "import os\n",
    "# Get the absolute path to the project root\n",
    "project_root = os.path.abspath(os.path.join(os.getcwd(), \"..\"))\n",
    "# Add it to sys.path\n",
    "sys.path.append(project_root)"
   ]
  },
  {
   "cell_type": "code",
   "execution_count": 2,
   "id": "945f42b2",
   "metadata": {},
   "outputs": [],
   "source": [
    "from bimpcc.dataset import get_blur_dataset\n",
    "from bimpcc.models.tvreconstruction_model import TVReconstructionMPCC\n",
    "import matplotlib.pyplot as plt\n",
    "from skimage.metrics import peak_signal_noise_ratio as psnr\n",
    "import scipy.sparse as sp\n",
    "import numpy as np\n"
   ]
  },
  {
   "cell_type": "code",
   "execution_count": 3,
   "id": "dce12ad7",
   "metadata": {},
   "outputs": [],
   "source": [
    "def plot_experiment(true,noisy,u, alpha):\n",
    "    \n",
    "    fig,ax = plt.subplots(1,3,figsize=(14,4))\n",
    "    ax[0].imshow(true,cmap='gray')\n",
    "    ax[0].set_title('True Image')\n",
    "    ax[0].axis('off')\n",
    "    ax[1].imshow(noisy,cmap='gray')\n",
    "    ax[1].set_title('Noisy Image\\nPSNR: {:.4f}'.format(psnr(true,noisy)))\n",
    "    ax[1].axis('off')\n",
    "    ax[2].imshow(u,cmap='gray')\n",
    "    ax[2].set_title(f'Reconstructed Image\\nPSNR: {psnr(true,u):.4f}\\n alpha = {alpha}')\n",
    "    # ax[2].set_xlabel('alpha = {}'.format(alpha))\n",
    "    ax[2].axis('off')\n",
    "\n",
    "    plt.show()"
   ]
  },
  {
   "cell_type": "code",
   "execution_count": 21,
   "id": "9ec650b1",
   "metadata": {},
   "outputs": [],
   "source": [
    "scale = 40"
   ]
  },
  {
   "cell_type": "code",
   "execution_count": 22,
   "id": "b74d7e63",
   "metadata": {},
   "outputs": [],
   "source": [
    "dataset = get_blur_dataset(\"cameraman\",scale=scale)\n",
    "true, blurred = dataset.get_training_data()"
   ]
  },
  {
   "cell_type": "code",
   "execution_count": 23,
   "id": "18cb670b",
   "metadata": {},
   "outputs": [
    {
     "data": {
      "text/plain": [
       "(np.float64(-0.5), np.float64(39.5), np.float64(39.5), np.float64(-0.5))"
      ]
     },
     "execution_count": 23,
     "metadata": {},
     "output_type": "execute_result"
    },
    {
     "data": {
      "image/png": "[encoded data removed]",
      "text/plain": [
       "<Figure size 1000x500 with 2 Axes>"
      ]
     },
     "metadata": {},
     "output_type": "display_data"
    }
   ],
   "source": [
    "fig,ax = plt.subplots(1,2,figsize=(10,5))\n",
    "ax[0].imshow(true,cmap='gray')\n",
    "ax[0].set_title('True Image')\n",
    "ax[0].axis('off')\n",
    "ax[1].imshow(blurred,cmap='gray')\n",
    "ax[1].set_title('Noisy Image')\n",
    "ax[1].axis('off')"
   ]
  },
  {
   "cell_type": "code",
   "execution_count": 24,
   "id": "f8489fc3",
   "metadata": {},
   "outputs": [],
   "source": [
    "from bimpcc.utils import gaussian_blur_sparse_matrix_symmetric\n",
    "forward_map = gaussian_blur_sparse_matrix_symmetric(true.shape)\n",
    "model = TVReconstructionMPCC(forward_map,true,blurred,epsilon=1e-3,t_init=1.0)"
   ]
  },
  {
   "cell_type": "code",
   "execution_count": 25,
   "id": "308b8747",
   "metadata": {},
   "outputs": [
    {
     "data": {
      "text/html": [
       "<pre style=\"white-space:pre;overflow-x:auto;line-height:normal;font-family:Menlo,'DejaVu Sans Mono',consolas,'Courier New',monospace\"> Iter   Termination_status            Objective      MPCC_compl               t\n",
       "\n",
       "</pre>\n"
      ],
      "text/plain": [
       " Iter   Termination_status            Objective      MPCC_compl               t\n",
       "\n"
      ]
     },
     "metadata": {},
     "output_type": "display_data"
    },
    {
     "data": {
      "text/html": [
       "<pre style=\"white-space:pre;overflow-x:auto;line-height:normal;font-family:Menlo,'DejaVu Sans Mono',consolas,'Courier New',monospace\">    <span style=\"color: #008080; text-decoration-color: #008080; font-weight: bold\">0</span>                 <span style=\"color: #008080; text-decoration-color: #008080; font-weight: bold\">0</span>  <span style=\"color: #008080; text-decoration-color: #008080; font-weight: bold\">3.859410244853318</span>       <span style=\"color: #008080; text-decoration-color: #008080; font-weight: bold\">7.815701167411961</span>                  <span style=\"color: #008080; text-decoration-color: #008080; font-weight: bold\">1.0</span>\n",
       "</pre>\n"
      ],
      "text/plain": [
       "    \u001b[1;36m0\u001b[0m                 \u001b[1;36m0\u001b[0m  \u001b[1;36m3.859410244853318\u001b[0m       \u001b[1;36m7.815701167411961\u001b[0m                  \u001b[1;36m1.0\u001b[0m\n"
      ]
     },
     "metadata": {},
     "output_type": "display_data"
    },
    {
     "data": {
      "text/html": [
       "<pre style=\"white-space:pre;overflow-x:auto;line-height:normal;font-family:Menlo,'DejaVu Sans Mono',consolas,'Courier New',monospace\">    <span style=\"color: #008080; text-decoration-color: #008080; font-weight: bold\">1</span>                 <span style=\"color: #008080; text-decoration-color: #008080; font-weight: bold\">0</span>  <span style=\"color: #008080; text-decoration-color: #008080; font-weight: bold\">3.863569387589696</span>       <span style=\"color: #008080; text-decoration-color: #008080; font-weight: bold\">5.672030892553158</span>                  <span style=\"color: #008080; text-decoration-color: #008080; font-weight: bold\">0.5</span>\n",
       "</pre>\n"
      ],
      "text/plain": [
       "    \u001b[1;36m1\u001b[0m                 \u001b[1;36m0\u001b[0m  \u001b[1;36m3.863569387589696\u001b[0m       \u001b[1;36m5.672030892553158\u001b[0m                  \u001b[1;36m0.5\u001b[0m\n"
      ]
     },
     "metadata": {},
     "output_type": "display_data"
    },
    {
     "data": {
      "text/html": [
       "<pre style=\"white-space:pre;overflow-x:auto;line-height:normal;font-family:Menlo,'DejaVu Sans Mono',consolas,'Courier New',monospace\">    <span style=\"color: #008080; text-decoration-color: #008080; font-weight: bold\">2</span>                 <span style=\"color: #008080; text-decoration-color: #008080; font-weight: bold\">0</span>  <span style=\"color: #008080; text-decoration-color: #008080; font-weight: bold\">3.8289703541251323</span>      <span style=\"color: #008080; text-decoration-color: #008080; font-weight: bold\">3.7871512955397146</span>                <span style=\"color: #008080; text-decoration-color: #008080; font-weight: bold\">0.25</span>\n",
       "</pre>\n"
      ],
      "text/plain": [
       "    \u001b[1;36m2\u001b[0m                 \u001b[1;36m0\u001b[0m  \u001b[1;36m3.8289703541251323\u001b[0m      \u001b[1;36m3.7871512955397146\u001b[0m                \u001b[1;36m0.25\u001b[0m\n"
      ]
     },
     "metadata": {},
     "output_type": "display_data"
    },
    {
     "data": {
      "text/html": [
       "<pre style=\"white-space:pre;overflow-x:auto;line-height:normal;font-family:Menlo,'DejaVu Sans Mono',consolas,'Courier New',monospace\">    <span style=\"color: #008080; text-decoration-color: #008080; font-weight: bold\">3</span>                 <span style=\"color: #008080; text-decoration-color: #008080; font-weight: bold\">0</span>  <span style=\"color: #008080; text-decoration-color: #008080; font-weight: bold\">3.888171116463797</span>       <span style=\"color: #008080; text-decoration-color: #008080; font-weight: bold\">2.204253026168786</span>                <span style=\"color: #008080; text-decoration-color: #008080; font-weight: bold\">0.125</span>\n",
       "</pre>\n"
      ],
      "text/plain": [
       "    \u001b[1;36m3\u001b[0m                 \u001b[1;36m0\u001b[0m  \u001b[1;36m3.888171116463797\u001b[0m       \u001b[1;36m2.204253026168786\u001b[0m                \u001b[1;36m0.125\u001b[0m\n"
      ]
     },
     "metadata": {},
     "output_type": "display_data"
    },
    {
     "data": {
      "text/html": [
       "<pre style=\"white-space:pre;overflow-x:auto;line-height:normal;font-family:Menlo,'DejaVu Sans Mono',consolas,'Courier New',monospace\">    <span style=\"color: #008080; text-decoration-color: #008080; font-weight: bold\">4</span>                 <span style=\"color: #008080; text-decoration-color: #008080; font-weight: bold\">0</span>  <span style=\"color: #008080; text-decoration-color: #008080; font-weight: bold\">3.9359278058116134</span>      <span style=\"color: #008080; text-decoration-color: #008080; font-weight: bold\">1.5960703582101101</span>              <span style=\"color: #008080; text-decoration-color: #008080; font-weight: bold\">0.0625</span>\n",
       "</pre>\n"
      ],
      "text/plain": [
       "    \u001b[1;36m4\u001b[0m                 \u001b[1;36m0\u001b[0m  \u001b[1;36m3.9359278058116134\u001b[0m      \u001b[1;36m1.5960703582101101\u001b[0m              \u001b[1;36m0.0625\u001b[0m\n"
      ]
     },
     "metadata": {},
     "output_type": "display_data"
    },
    {
     "data": {
      "text/html": [
       "<pre style=\"white-space:pre;overflow-x:auto;line-height:normal;font-family:Menlo,'DejaVu Sans Mono',consolas,'Courier New',monospace\">    <span style=\"color: #008080; text-decoration-color: #008080; font-weight: bold\">5</span>                 <span style=\"color: #008080; text-decoration-color: #008080; font-weight: bold\">0</span>  <span style=\"color: #008080; text-decoration-color: #008080; font-weight: bold\">3.96881728789943</span>        <span style=\"color: #008080; text-decoration-color: #008080; font-weight: bold\">0.9301967414942136</span>             <span style=\"color: #008080; text-decoration-color: #008080; font-weight: bold\">0.03125</span>\n",
       "</pre>\n"
      ],
      "text/plain": [
       "    \u001b[1;36m5\u001b[0m                 \u001b[1;36m0\u001b[0m  \u001b[1;36m3.96881728789943\u001b[0m        \u001b[1;36m0.9301967414942136\u001b[0m             \u001b[1;36m0.03125\u001b[0m\n"
      ]
     },
     "metadata": {},
     "output_type": "display_data"
    },
    {
     "data": {
      "text/html": [
       "<pre style=\"white-space:pre;overflow-x:auto;line-height:normal;font-family:Menlo,'DejaVu Sans Mono',consolas,'Courier New',monospace\">    <span style=\"color: #008080; text-decoration-color: #008080; font-weight: bold\">6</span>                 <span style=\"color: #008080; text-decoration-color: #008080; font-weight: bold\">0</span>  <span style=\"color: #008080; text-decoration-color: #008080; font-weight: bold\">4.049012163548831</span>       <span style=\"color: #008080; text-decoration-color: #008080; font-weight: bold\">0.5369225587015622</span>            <span style=\"color: #008080; text-decoration-color: #008080; font-weight: bold\">0.015625</span>\n",
       "</pre>\n"
      ],
      "text/plain": [
       "    \u001b[1;36m6\u001b[0m                 \u001b[1;36m0\u001b[0m  \u001b[1;36m4.049012163548831\u001b[0m       \u001b[1;36m0.5369225587015622\u001b[0m            \u001b[1;36m0.015625\u001b[0m\n"
      ]
     },
     "metadata": {},
     "output_type": "display_data"
    },
    {
     "data": {
      "text/html": [
       "<pre style=\"white-space:pre;overflow-x:auto;line-height:normal;font-family:Menlo,'DejaVu Sans Mono',consolas,'Courier New',monospace\">    <span style=\"color: #008080; text-decoration-color: #008080; font-weight: bold\">7</span>                 <span style=\"color: #008080; text-decoration-color: #008080; font-weight: bold\">0</span>  <span style=\"color: #008080; text-decoration-color: #008080; font-weight: bold\">4.144544757908265</span>       <span style=\"color: #008080; text-decoration-color: #008080; font-weight: bold\">0.310716833141025</span>            <span style=\"color: #008080; text-decoration-color: #008080; font-weight: bold\">0.0078125</span>\n",
       "</pre>\n"
      ],
      "text/plain": [
       "    \u001b[1;36m7\u001b[0m                 \u001b[1;36m0\u001b[0m  \u001b[1;36m4.144544757908265\u001b[0m       \u001b[1;36m0.310716833141025\u001b[0m            \u001b[1;36m0.0078125\u001b[0m\n"
      ]
     },
     "metadata": {},
     "output_type": "display_data"
    },
    {
     "data": {
      "text/html": [
       "<pre style=\"white-space:pre;overflow-x:auto;line-height:normal;font-family:Menlo,'DejaVu Sans Mono',consolas,'Courier New',monospace\">    <span style=\"color: #008080; text-decoration-color: #008080; font-weight: bold\">8</span>                 <span style=\"color: #008080; text-decoration-color: #008080; font-weight: bold\">0</span>  <span style=\"color: #008080; text-decoration-color: #008080; font-weight: bold\">4.240916847172009</span>       <span style=\"color: #008080; text-decoration-color: #008080; font-weight: bold\">0.18123165834150384</span>         <span style=\"color: #008080; text-decoration-color: #008080; font-weight: bold\">0.00390625</span>\n",
       "</pre>\n"
      ],
      "text/plain": [
       "    \u001b[1;36m8\u001b[0m                 \u001b[1;36m0\u001b[0m  \u001b[1;36m4.240916847172009\u001b[0m       \u001b[1;36m0.18123165834150384\u001b[0m         \u001b[1;36m0.00390625\u001b[0m\n"
      ]
     },
     "metadata": {},
     "output_type": "display_data"
    },
    {
     "data": {
      "text/html": [
       "<pre style=\"white-space:pre;overflow-x:auto;line-height:normal;font-family:Menlo,'DejaVu Sans Mono',consolas,'Courier New',monospace\">    <span style=\"color: #008080; text-decoration-color: #008080; font-weight: bold\">9</span>                 <span style=\"color: #008080; text-decoration-color: #008080; font-weight: bold\">0</span>  <span style=\"color: #008080; text-decoration-color: #008080; font-weight: bold\">4.300978244192578</span>       <span style=\"color: #008080; text-decoration-color: #008080; font-weight: bold\">0.09693410808885379</span>        <span style=\"color: #008080; text-decoration-color: #008080; font-weight: bold\">0.001953125</span>\n",
       "</pre>\n"
      ],
      "text/plain": [
       "    \u001b[1;36m9\u001b[0m                 \u001b[1;36m0\u001b[0m  \u001b[1;36m4.300978244192578\u001b[0m       \u001b[1;36m0.09693410808885379\u001b[0m        \u001b[1;36m0.001953125\u001b[0m\n"
      ]
     },
     "metadata": {},
     "output_type": "display_data"
    },
    {
     "data": {
      "text/html": [
       "<pre style=\"white-space:pre;overflow-x:auto;line-height:normal;font-family:Menlo,'DejaVu Sans Mono',consolas,'Courier New',monospace\">   <span style=\"color: #008080; text-decoration-color: #008080; font-weight: bold\">10</span>                 <span style=\"color: #008080; text-decoration-color: #008080; font-weight: bold\">0</span>  <span style=\"color: #008080; text-decoration-color: #008080; font-weight: bold\">4.361059127752409</span>       <span style=\"color: #008080; text-decoration-color: #008080; font-weight: bold\">0.05655474790201512</span>       <span style=\"color: #008080; text-decoration-color: #008080; font-weight: bold\">0.0009765625</span>\n",
       "</pre>\n"
      ],
      "text/plain": [
       "   \u001b[1;36m10\u001b[0m                 \u001b[1;36m0\u001b[0m  \u001b[1;36m4.361059127752409\u001b[0m       \u001b[1;36m0.05655474790201512\u001b[0m       \u001b[1;36m0.0009765625\u001b[0m\n"
      ]
     },
     "metadata": {},
     "output_type": "display_data"
    },
    {
     "data": {
      "text/html": [
       "<pre style=\"white-space:pre;overflow-x:auto;line-height:normal;font-family:Menlo,'DejaVu Sans Mono',consolas,'Courier New',monospace\">   <span style=\"color: #008080; text-decoration-color: #008080; font-weight: bold\">11</span>                 <span style=\"color: #008080; text-decoration-color: #008080; font-weight: bold\">0</span>  <span style=\"color: #008080; text-decoration-color: #008080; font-weight: bold\">4.405410179877907</span>       <span style=\"color: #008080; text-decoration-color: #008080; font-weight: bold\">0.03393850094088502</span>      <span style=\"color: #008080; text-decoration-color: #008080; font-weight: bold\">0.00048828125</span>\n",
       "</pre>\n"
      ],
      "text/plain": [
       "   \u001b[1;36m11\u001b[0m                 \u001b[1;36m0\u001b[0m  \u001b[1;36m4.405410179877907\u001b[0m       \u001b[1;36m0.03393850094088502\u001b[0m      \u001b[1;36m0.00048828125\u001b[0m\n"
      ]
     },
     "metadata": {},
     "output_type": "display_data"
    },
    {
     "data": {
      "text/html": [
       "<pre style=\"white-space:pre;overflow-x:auto;line-height:normal;font-family:Menlo,'DejaVu Sans Mono',consolas,'Courier New',monospace\">   <span style=\"color: #008080; text-decoration-color: #008080; font-weight: bold\">12</span>                 <span style=\"color: #008080; text-decoration-color: #008080; font-weight: bold\">0</span>  <span style=\"color: #008080; text-decoration-color: #008080; font-weight: bold\">4.45141676988006</span>        <span style=\"color: #008080; text-decoration-color: #008080; font-weight: bold\">0.024348293050303452</span>    <span style=\"color: #008080; text-decoration-color: #008080; font-weight: bold\">0.000244140625</span>\n",
       "</pre>\n"
      ],
      "text/plain": [
       "   \u001b[1;36m12\u001b[0m                 \u001b[1;36m0\u001b[0m  \u001b[1;36m4.45141676988006\u001b[0m        \u001b[1;36m0.024348293050303452\u001b[0m    \u001b[1;36m0.000244140625\u001b[0m\n"
      ]
     },
     "metadata": {},
     "output_type": "display_data"
    },
    {
     "data": {
      "text/html": [
       "<pre style=\"white-space:pre;overflow-x:auto;line-height:normal;font-family:Menlo,'DejaVu Sans Mono',consolas,'Courier New',monospace\">   <span style=\"color: #008080; text-decoration-color: #008080; font-weight: bold\">13</span>                 <span style=\"color: #008080; text-decoration-color: #008080; font-weight: bold\">0</span>  <span style=\"color: #008080; text-decoration-color: #008080; font-weight: bold\">4.504604359475743</span>       <span style=\"color: #008080; text-decoration-color: #008080; font-weight: bold\">0.021436262878696613</span>    <span style=\"color: #008080; text-decoration-color: #008080; font-weight: bold\">0.0001220703125</span>\n",
       "</pre>\n"
      ],
      "text/plain": [
       "   \u001b[1;36m13\u001b[0m                 \u001b[1;36m0\u001b[0m  \u001b[1;36m4.504604359475743\u001b[0m       \u001b[1;36m0.021436262878696613\u001b[0m    \u001b[1;36m0.0001220703125\u001b[0m\n"
      ]
     },
     "metadata": {},
     "output_type": "display_data"
    },
    {
     "data": {
      "text/html": [
       "<pre style=\"white-space:pre;overflow-x:auto;line-height:normal;font-family:Menlo,'DejaVu Sans Mono',consolas,'Courier New',monospace\">   <span style=\"color: #008080; text-decoration-color: #008080; font-weight: bold\">14</span>                 <span style=\"color: #008080; text-decoration-color: #008080; font-weight: bold\">0</span>  <span style=\"color: #008080; text-decoration-color: #008080; font-weight: bold\">4.648650113684717</span>       <span style=\"color: #008080; text-decoration-color: #008080; font-weight: bold\">0.030880826316679565</span>    <span style=\"color: #008080; text-decoration-color: #008080; font-weight: bold\">6.103515625e-05</span>\n",
       "</pre>\n"
      ],
      "text/plain": [
       "   \u001b[1;36m14\u001b[0m                 \u001b[1;36m0\u001b[0m  \u001b[1;36m4.648650113684717\u001b[0m       \u001b[1;36m0.030880826316679565\u001b[0m    \u001b[1;36m6.103515625e-05\u001b[0m\n"
      ]
     },
     "metadata": {},
     "output_type": "display_data"
    },
    {
     "data": {
      "text/html": [
       "<pre style=\"white-space:pre;overflow-x:auto;line-height:normal;font-family:Menlo,'DejaVu Sans Mono',consolas,'Courier New',monospace\">   <span style=\"color: #008080; text-decoration-color: #008080; font-weight: bold\">15</span>                 <span style=\"color: #008080; text-decoration-color: #008080; font-weight: bold\">0</span>  <span style=\"color: #008080; text-decoration-color: #008080; font-weight: bold\">4.917682573585424</span>       <span style=\"color: #008080; text-decoration-color: #008080; font-weight: bold\">0.04808403232452367</span>     <span style=\"color: #008080; text-decoration-color: #008080; font-weight: bold\">3.0517578125e-05</span>\n",
       "</pre>\n"
      ],
      "text/plain": [
       "   \u001b[1;36m15\u001b[0m                 \u001b[1;36m0\u001b[0m  \u001b[1;36m4.917682573585424\u001b[0m       \u001b[1;36m0.04808403232452367\u001b[0m     \u001b[1;36m3.0517578125e-05\u001b[0m\n"
      ]
     },
     "metadata": {},
     "output_type": "display_data"
    },
    {
     "data": {
      "text/html": [
       "<pre style=\"white-space:pre;overflow-x:auto;line-height:normal;font-family:Menlo,'DejaVu Sans Mono',consolas,'Courier New',monospace\">   <span style=\"color: #008080; text-decoration-color: #008080; font-weight: bold\">16</span>                <span style=\"color: #008080; text-decoration-color: #008080; font-weight: bold\">-1</span>  <span style=\"color: #008080; text-decoration-color: #008080; font-weight: bold\">5.08534743028092</span>        <span style=\"color: #008080; text-decoration-color: #008080; font-weight: bold\">0.041300250388267644</span>    <span style=\"color: #008080; text-decoration-color: #008080; font-weight: bold\">1.52587890625e-05</span>\n",
       "</pre>\n"
      ],
      "text/plain": [
       "   \u001b[1;36m16\u001b[0m                \u001b[1;36m-1\u001b[0m  \u001b[1;36m5.08534743028092\u001b[0m        \u001b[1;36m0.041300250388267644\u001b[0m    \u001b[1;36m1.52587890625e-05\u001b[0m\n"
      ]
     },
     "metadata": {},
     "output_type": "display_data"
    },
    {
     "data": {
      "text/html": [
       "<pre style=\"white-space:pre;overflow-x:auto;line-height:normal;font-family:Menlo,'DejaVu Sans Mono',consolas,'Courier New',monospace\">   <span style=\"color: #008080; text-decoration-color: #008080; font-weight: bold\">17</span>                <span style=\"color: #008080; text-decoration-color: #008080; font-weight: bold\">-1</span>  <span style=\"color: #008080; text-decoration-color: #008080; font-weight: bold\">5.071016142830872</span>       <span style=\"color: #008080; text-decoration-color: #008080; font-weight: bold\">0.043226412457831584</span>    <span style=\"color: #008080; text-decoration-color: #008080; font-weight: bold\">1.678466796875e-05</span>\n",
       "</pre>\n"
      ],
      "text/plain": [
       "   \u001b[1;36m17\u001b[0m                \u001b[1;36m-1\u001b[0m  \u001b[1;36m5.071016142830872\u001b[0m       \u001b[1;36m0.043226412457831584\u001b[0m    \u001b[1;36m1.678466796875e-05\u001b[0m\n"
      ]
     },
     "metadata": {},
     "output_type": "display_data"
    },
    {
     "data": {
      "text/html": [
       "<pre style=\"white-space:pre;overflow-x:auto;line-height:normal;font-family:Menlo,'DejaVu Sans Mono',consolas,'Courier New',monospace\">   <span style=\"color: #008080; text-decoration-color: #008080; font-weight: bold\">18</span>                <span style=\"color: #008080; text-decoration-color: #008080; font-weight: bold\">-1</span>  <span style=\"color: #008080; text-decoration-color: #008080; font-weight: bold\">5.054990047680162</span>       <span style=\"color: #008080; text-decoration-color: #008080; font-weight: bold\">0.04562235440419648</span>     <span style=\"color: #008080; text-decoration-color: #008080; font-weight: bold\">1.8463134765625003e-05</span>\n",
       "</pre>\n"
      ],
      "text/plain": [
       "   \u001b[1;36m18\u001b[0m                \u001b[1;36m-1\u001b[0m  \u001b[1;36m5.054990047680162\u001b[0m       \u001b[1;36m0.04562235440419648\u001b[0m     \u001b[1;36m1.8463134765625003e-05\u001b[0m\n"
      ]
     },
     "metadata": {},
     "output_type": "display_data"
    },
    {
     "data": {
      "text/html": [
       "<pre style=\"white-space:pre;overflow-x:auto;line-height:normal;font-family:Menlo,'DejaVu Sans Mono',consolas,'Courier New',monospace\">   <span style=\"color: #008080; text-decoration-color: #008080; font-weight: bold\">19</span>                 <span style=\"color: #008080; text-decoration-color: #008080; font-weight: bold\">0</span>  <span style=\"color: #008080; text-decoration-color: #008080; font-weight: bold\">5.035580655427614</span>       <span style=\"color: #008080; text-decoration-color: #008080; font-weight: bold\">0.047897919954991756</span>    <span style=\"color: #008080; text-decoration-color: #008080; font-weight: bold\">2.0309448242187506e-05</span>\n",
       "</pre>\n"
      ],
      "text/plain": [
       "   \u001b[1;36m19\u001b[0m                 \u001b[1;36m0\u001b[0m  \u001b[1;36m5.035580655427614\u001b[0m       \u001b[1;36m0.047897919954991756\u001b[0m    \u001b[1;36m2.0309448242187506e-05\u001b[0m\n"
      ]
     },
     "metadata": {},
     "output_type": "display_data"
    },
    {
     "data": {
      "text/html": [
       "<pre style=\"white-space:pre;overflow-x:auto;line-height:normal;font-family:Menlo,'DejaVu Sans Mono',consolas,'Courier New',monospace\">* <span style=\"font-weight: bold\">(</span>STOPPED<span style=\"font-weight: bold\">)</span> Iteration <span style=\"color: #008080; text-decoration-color: #008080; font-weight: bold\">20</span>: Solving the NLP problem for t = <span style=\"color: #008080; text-decoration-color: #008080; font-weight: bold\">7.402793884277347e-06</span> with complementarity: \n",
       "<span style=\"color: #008080; text-decoration-color: #008080; font-weight: bold\">0.047897919954991756</span>\n",
       "</pre>\n"
      ],
      "text/plain": [
       "* \u001b[1m(\u001b[0mSTOPPED\u001b[1m)\u001b[0m Iteration \u001b[1;36m20\u001b[0m: Solving the NLP problem for t = \u001b[1;36m7.402793884277347e-06\u001b[0m with complementarity: \n",
       "\u001b[1;36m0.047897919954991756\u001b[0m\n"
      ]
     },
     "metadata": {},
     "output_type": "display_data"
    }
   ],
   "source": [
    "res,x_opt,fun_opt = model.solve(max_iter=20,t_min=1e-9,tol=1e-2,print_level=0,verbose=True, nlp_max_iter=5000, nlp_tol=1e-6)"
   ]
  },
  {
   "cell_type": "code",
   "execution_count": 17,
   "id": "87781ba3",
   "metadata": {},
   "outputs": [
    {
     "data": {
      "image/png": "[encoded data removed]",
      "text/plain": [
       "<Figure size 1400x400 with 3 Axes>"
      ]
     },
     "metadata": {},
     "output_type": "display_data"
    }
   ],
   "source": [
    "u, q, r, delta, theta, alpha = model.parse_vars_fn(x_opt)\n",
    "u = u.reshape((scale,scale))\n",
    "plot_experiment(true,blurred,u,alpha)"
   ]
  },
  {
   "cell_type": "code",
   "execution_count": null,
   "id": "f8704d3f",
   "metadata": {},
   "outputs": [],
   "source": []
  }
 ],
 "metadata": {
  "kernelspec": {
   "display_name": ".venv",
   "language": "python",
   "name": "python3"
  },
  "language_info": {
   "codemirror_mode": {
    "name": "ipython",
    "version": 3
   },
   "file_extension": ".py",
   "mimetype": "text/x-python",
   "name": "python",
   "nbconvert_exporter": "python",
   "pygments_lexer": "ipython3",
   "version": "3.12.7"
  }
 },
 "nbformat": 4,
 "nbformat_minor": 5
}
