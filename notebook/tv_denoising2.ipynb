{
 "cells": [
  {
   "cell_type": "code",
   "execution_count": 1,
   "metadata": {},
   "outputs": [],
   "source": [
    "import sys\n",
    "import os\n",
    "# Get the absolute path to the project root\n",
    "project_root = os.path.abspath(os.path.join(os.getcwd(), \"..\"))\n",
    "# Add it to sys.path\n",
    "sys.path.append(project_root)"
   ]
  },
  {
   "cell_type": "code",
   "execution_count": 2,
   "metadata": {},
   "outputs": [],
   "source": [
    "from bimpcc.dataset import get_dataset\n",
    "from bimpcc.models.tvdenoising_model import TVDenoisingMPCC\n",
    "import matplotlib.pyplot as plt\n",
    "from skimage.metrics import peak_signal_noise_ratio as psnr"
   ]
  },
  {
   "cell_type": "code",
   "execution_count": 3,
   "metadata": {},
   "outputs": [],
   "source": [
    "def plot_experiment(true,noisy,u, alpha):\n",
    "    \n",
    "    fig,ax = plt.subplots(1,3,figsize=(14,4))\n",
    "    ax[0].imshow(true,cmap='gray')\n",
    "    ax[0].set_title('True Image')\n",
    "    ax[0].axis('off')\n",
    "    ax[1].imshow(noisy,cmap='gray')\n",
    "    ax[1].set_title('Noisy Image\\nPSNR: {:.4f}'.format(psnr(true,noisy)))\n",
    "    ax[1].axis('off')\n",
    "    ax[2].imshow(u,cmap='gray')\n",
    "    ax[2].set_title(f'Reconstructed Image\\nPSNR: {psnr(true,u):.4f}\\n alpha = {alpha}')\n",
    "    # ax[2].set_xlabel('alpha = {}'.format(alpha))\n",
    "    ax[2].axis('off')\n",
    "\n",
    "    plt.show()"
   ]
  },
  {
   "cell_type": "code",
   "execution_count": 4,
   "metadata": {},
   "outputs": [],
   "source": [
    "scale = 16"
   ]
  },
  {
   "cell_type": "code",
   "execution_count": 5,
   "metadata": {},
   "outputs": [],
   "source": [
    "dataset = get_dataset(\"cameraman\",scale=scale)\n",
    "true, noisy = dataset.get_training_data()"
   ]
  },
  {
   "cell_type": "code",
   "execution_count": 6,
   "metadata": {},
   "outputs": [
    {
     "data": {
      "text/plain": [
       "(np.float64(-0.5), np.float64(15.5), np.float64(15.5), np.float64(-0.5))"
      ]
     },
     "execution_count": 6,
     "metadata": {},
     "output_type": "execute_result"
    },
    {
     "data": {
      "image/png": "[encoded data removed]",
      "text/plain": [
       "<Figure size 1000x500 with 2 Axes>"
      ]
     },
     "metadata": {},
     "output_type": "display_data"
    }
   ],
   "source": [
    "fig,ax = plt.subplots(1,2,figsize=(10,5))\n",
    "ax[0].imshow(true,cmap='gray')\n",
    "ax[0].set_title('True Image')\n",
    "ax[0].axis('off')\n",
    "ax[1].imshow(noisy,cmap='gray')\n",
    "ax[1].set_title('Noisy Image')\n",
    "ax[1].axis('off')"
   ]
  },
  {
   "cell_type": "code",
   "execution_count": 8,
   "metadata": {},
   "outputs": [],
   "source": [
    "model = TVDenoisingMPCC(true,noisy,t_init=1.0,epsilon=0.0)"
   ]
  },
  {
   "cell_type": "code",
   "execution_count": 9,
   "metadata": {},
   "outputs": [
    {
     "data": {
      "text/html": [
       "<pre style=\"white-space:pre;overflow-x:auto;line-height:normal;font-family:Menlo,'DejaVu Sans Mono',consolas,'Courier New',monospace\"> Iter   Termination_status            Objective      MPCC_compl               t\n",
       "\n",
       "</pre>\n"
      ],
      "text/plain": [
       " Iter   Termination_status            Objective      MPCC_compl               t\n",
       "\n"
      ]
     },
     "metadata": {},
     "output_type": "display_data"
    },
    {
     "name": "stdout",
     "output_type": "stream",
     "text": [
      "\n",
      "******************************************************************************\n",
      "This program contains Ipopt, a library for large-scale nonlinear optimization.\n",
      " Ipopt is released as open source code under the Eclipse Public License (EPL).\n",
      "         For more information visit https://github.com/coin-or/Ipopt\n",
      "******************************************************************************\n",
      "\n"
     ]
    },
    {
     "data": {
      "text/html": [
       "<pre style=\"white-space:pre;overflow-x:auto;line-height:normal;font-family:Menlo,'DejaVu Sans Mono',consolas,'Courier New',monospace\">    <span style=\"color: #008080; text-decoration-color: #008080; font-weight: bold\">0</span>                 <span style=\"color: #008080; text-decoration-color: #008080; font-weight: bold\">1</span>  <span style=\"color: #008080; text-decoration-color: #008080; font-weight: bold\">0.08697371010190037</span>     <span style=\"color: #008080; text-decoration-color: #008080; font-weight: bold\">3.43417480028054</span>                   <span style=\"color: #008080; text-decoration-color: #008080; font-weight: bold\">1.0</span>\n",
       "</pre>\n"
      ],
      "text/plain": [
       "    \u001b[1;36m0\u001b[0m                 \u001b[1;36m1\u001b[0m  \u001b[1;36m0.08697371010190037\u001b[0m     \u001b[1;36m3.43417480028054\u001b[0m                   \u001b[1;36m1.0\u001b[0m\n"
      ]
     },
     "metadata": {},
     "output_type": "display_data"
    },
    {
     "data": {
      "text/html": [
       "<pre style=\"white-space:pre;overflow-x:auto;line-height:normal;font-family:Menlo,'DejaVu Sans Mono',consolas,'Courier New',monospace\">    <span style=\"color: #008080; text-decoration-color: #008080; font-weight: bold\">1</span>                 <span style=\"color: #008080; text-decoration-color: #008080; font-weight: bold\">1</span>  <span style=\"color: #008080; text-decoration-color: #008080; font-weight: bold\">0.0684433633739667</span>      <span style=\"color: #008080; text-decoration-color: #008080; font-weight: bold\">3.4445724252998557</span>                 <span style=\"color: #008080; text-decoration-color: #008080; font-weight: bold\">1.1</span>\n",
       "</pre>\n"
      ],
      "text/plain": [
       "    \u001b[1;36m1\u001b[0m                 \u001b[1;36m1\u001b[0m  \u001b[1;36m0.0684433633739667\u001b[0m      \u001b[1;36m3.4445724252998557\u001b[0m                 \u001b[1;36m1.1\u001b[0m\n"
      ]
     },
     "metadata": {},
     "output_type": "display_data"
    },
    {
     "data": {
      "text/html": [
       "<pre style=\"white-space:pre;overflow-x:auto;line-height:normal;font-family:Menlo,'DejaVu Sans Mono',consolas,'Courier New',monospace\">    <span style=\"color: #008080; text-decoration-color: #008080; font-weight: bold\">2</span>                 <span style=\"color: #008080; text-decoration-color: #008080; font-weight: bold\">1</span>  <span style=\"color: #008080; text-decoration-color: #008080; font-weight: bold\">0.06929744934545996</span>     <span style=\"color: #008080; text-decoration-color: #008080; font-weight: bold\">3.44630922225136</span>        <span style=\"color: #008080; text-decoration-color: #008080; font-weight: bold\">1.2100000000000002</span>\n",
       "</pre>\n"
      ],
      "text/plain": [
       "    \u001b[1;36m2\u001b[0m                 \u001b[1;36m1\u001b[0m  \u001b[1;36m0.06929744934545996\u001b[0m     \u001b[1;36m3.44630922225136\u001b[0m        \u001b[1;36m1.2100000000000002\u001b[0m\n"
      ]
     },
     "metadata": {},
     "output_type": "display_data"
    },
    {
     "data": {
      "text/html": [
       "<pre style=\"white-space:pre;overflow-x:auto;line-height:normal;font-family:Menlo,'DejaVu Sans Mono',consolas,'Courier New',monospace\">    <span style=\"color: #008080; text-decoration-color: #008080; font-weight: bold\">3</span>                 <span style=\"color: #008080; text-decoration-color: #008080; font-weight: bold\">0</span>  <span style=\"color: #008080; text-decoration-color: #008080; font-weight: bold\">0.07431314426985297</span>     <span style=\"color: #008080; text-decoration-color: #008080; font-weight: bold\">3.4593095561861835</span>      <span style=\"color: #008080; text-decoration-color: #008080; font-weight: bold\">1.3310000000000004</span>\n",
       "</pre>\n"
      ],
      "text/plain": [
       "    \u001b[1;36m3\u001b[0m                 \u001b[1;36m0\u001b[0m  \u001b[1;36m0.07431314426985297\u001b[0m     \u001b[1;36m3.4593095561861835\u001b[0m      \u001b[1;36m1.3310000000000004\u001b[0m\n"
      ]
     },
     "metadata": {},
     "output_type": "display_data"
    },
    {
     "data": {
      "text/html": [
       "<pre style=\"white-space:pre;overflow-x:auto;line-height:normal;font-family:Menlo,'DejaVu Sans Mono',consolas,'Courier New',monospace\">    <span style=\"color: #008080; text-decoration-color: #008080; font-weight: bold\">4</span>                 <span style=\"color: #008080; text-decoration-color: #008080; font-weight: bold\">1</span>  <span style=\"color: #008080; text-decoration-color: #008080; font-weight: bold\">0.06903012026938918</span>     <span style=\"color: #008080; text-decoration-color: #008080; font-weight: bold\">3.074660957642704</span>       <span style=\"color: #008080; text-decoration-color: #008080; font-weight: bold\">0.48514950000000023</span>\n",
       "</pre>\n"
      ],
      "text/plain": [
       "    \u001b[1;36m4\u001b[0m                 \u001b[1;36m1\u001b[0m  \u001b[1;36m0.06903012026938918\u001b[0m     \u001b[1;36m3.074660957642704\u001b[0m       \u001b[1;36m0.48514950000000023\u001b[0m\n"
      ]
     },
     "metadata": {},
     "output_type": "display_data"
    },
    {
     "data": {
      "text/html": [
       "<pre style=\"white-space:pre;overflow-x:auto;line-height:normal;font-family:Menlo,'DejaVu Sans Mono',consolas,'Courier New',monospace\">    <span style=\"color: #008080; text-decoration-color: #008080; font-weight: bold\">5</span>                 <span style=\"color: #008080; text-decoration-color: #008080; font-weight: bold\">1</span>  <span style=\"color: #008080; text-decoration-color: #008080; font-weight: bold\">0.06824802827512816</span>     <span style=\"color: #008080; text-decoration-color: #008080; font-weight: bold\">3.164707131535484</span>       <span style=\"color: #008080; text-decoration-color: #008080; font-weight: bold\">0.5336644500000003</span>\n",
       "</pre>\n"
      ],
      "text/plain": [
       "    \u001b[1;36m5\u001b[0m                 \u001b[1;36m1\u001b[0m  \u001b[1;36m0.06824802827512816\u001b[0m     \u001b[1;36m3.164707131535484\u001b[0m       \u001b[1;36m0.5336644500000003\u001b[0m\n"
      ]
     },
     "metadata": {},
     "output_type": "display_data"
    },
    {
     "data": {
      "text/html": [
       "<pre style=\"white-space:pre;overflow-x:auto;line-height:normal;font-family:Menlo,'DejaVu Sans Mono',consolas,'Courier New',monospace\">    <span style=\"color: #008080; text-decoration-color: #008080; font-weight: bold\">6</span>                 <span style=\"color: #008080; text-decoration-color: #008080; font-weight: bold\">1</span>  <span style=\"color: #008080; text-decoration-color: #008080; font-weight: bold\">0.06865266370260982</span>     <span style=\"color: #008080; text-decoration-color: #008080; font-weight: bold\">3.2482786689444794</span>      <span style=\"color: #008080; text-decoration-color: #008080; font-weight: bold\">0.5870308950000004</span>\n",
       "</pre>\n"
      ],
      "text/plain": [
       "    \u001b[1;36m6\u001b[0m                 \u001b[1;36m1\u001b[0m  \u001b[1;36m0.06865266370260982\u001b[0m     \u001b[1;36m3.2482786689444794\u001b[0m      \u001b[1;36m0.5870308950000004\u001b[0m\n"
      ]
     },
     "metadata": {},
     "output_type": "display_data"
    },
    {
     "data": {
      "text/html": [
       "<pre style=\"white-space:pre;overflow-x:auto;line-height:normal;font-family:Menlo,'DejaVu Sans Mono',consolas,'Courier New',monospace\">    <span style=\"color: #008080; text-decoration-color: #008080; font-weight: bold\">7</span>                 <span style=\"color: #008080; text-decoration-color: #008080; font-weight: bold\">1</span>  <span style=\"color: #008080; text-decoration-color: #008080; font-weight: bold\">0.06805300973475129</span>     <span style=\"color: #008080; text-decoration-color: #008080; font-weight: bold\">3.325914046169539</span>       <span style=\"color: #008080; text-decoration-color: #008080; font-weight: bold\">0.6457339845000005</span>\n",
       "</pre>\n"
      ],
      "text/plain": [
       "    \u001b[1;36m7\u001b[0m                 \u001b[1;36m1\u001b[0m  \u001b[1;36m0.06805300973475129\u001b[0m     \u001b[1;36m3.325914046169539\u001b[0m       \u001b[1;36m0.6457339845000005\u001b[0m\n"
      ]
     },
     "metadata": {},
     "output_type": "display_data"
    },
    {
     "data": {
      "text/html": [
       "<pre style=\"white-space:pre;overflow-x:auto;line-height:normal;font-family:Menlo,'DejaVu Sans Mono',consolas,'Courier New',monospace\">    <span style=\"color: #008080; text-decoration-color: #008080; font-weight: bold\">8</span>                 <span style=\"color: #008080; text-decoration-color: #008080; font-weight: bold\">0</span>  <span style=\"color: #008080; text-decoration-color: #008080; font-weight: bold\">0.06810358079573182</span>     <span style=\"color: #008080; text-decoration-color: #008080; font-weight: bold\">3.3916616831926927</span>      <span style=\"color: #008080; text-decoration-color: #008080; font-weight: bold\">0.7103073829500006</span>\n",
       "</pre>\n"
      ],
      "text/plain": [
       "    \u001b[1;36m8\u001b[0m                 \u001b[1;36m0\u001b[0m  \u001b[1;36m0.06810358079573182\u001b[0m     \u001b[1;36m3.3916616831926927\u001b[0m      \u001b[1;36m0.7103073829500006\u001b[0m\n"
      ]
     },
     "metadata": {},
     "output_type": "display_data"
    },
    {
     "data": {
      "text/html": [
       "<pre style=\"white-space:pre;overflow-x:auto;line-height:normal;font-family:Menlo,'DejaVu Sans Mono',consolas,'Courier New',monospace\">    <span style=\"color: #008080; text-decoration-color: #008080; font-weight: bold\">9</span>                 <span style=\"color: #008080; text-decoration-color: #008080; font-weight: bold\">1</span>  <span style=\"color: #008080; text-decoration-color: #008080; font-weight: bold\">0.06804160693279288</span>     <span style=\"color: #008080; text-decoration-color: #008080; font-weight: bold\">2.0815533957365724</span>      <span style=\"color: #008080; text-decoration-color: #008080; font-weight: bold\">0.16986890965604912</span>\n",
       "</pre>\n"
      ],
      "text/plain": [
       "    \u001b[1;36m9\u001b[0m                 \u001b[1;36m1\u001b[0m  \u001b[1;36m0.06804160693279288\u001b[0m     \u001b[1;36m2.0815533957365724\u001b[0m      \u001b[1;36m0.16986890965604912\u001b[0m\n"
      ]
     },
     "metadata": {},
     "output_type": "display_data"
    },
    {
     "data": {
      "text/html": [
       "<pre style=\"white-space:pre;overflow-x:auto;line-height:normal;font-family:Menlo,'DejaVu Sans Mono',consolas,'Courier New',monospace\">   <span style=\"color: #008080; text-decoration-color: #008080; font-weight: bold\">10</span>                 <span style=\"color: #008080; text-decoration-color: #008080; font-weight: bold\">1</span>  <span style=\"color: #008080; text-decoration-color: #008080; font-weight: bold\">0.06804160682648042</span>     <span style=\"color: #008080; text-decoration-color: #008080; font-weight: bold\">2.100800085149035</span>       <span style=\"color: #008080; text-decoration-color: #008080; font-weight: bold\">0.18685580062165405</span>\n",
       "</pre>\n"
      ],
      "text/plain": [
       "   \u001b[1;36m10\u001b[0m                 \u001b[1;36m1\u001b[0m  \u001b[1;36m0.06804160682648042\u001b[0m     \u001b[1;36m2.100800085149035\u001b[0m       \u001b[1;36m0.18685580062165405\u001b[0m\n"
      ]
     },
     "metadata": {},
     "output_type": "display_data"
    },
    {
     "data": {
      "text/html": [
       "<pre style=\"white-space:pre;overflow-x:auto;line-height:normal;font-family:Menlo,'DejaVu Sans Mono',consolas,'Courier New',monospace\">   <span style=\"color: #008080; text-decoration-color: #008080; font-weight: bold\">11</span>                 <span style=\"color: #008080; text-decoration-color: #008080; font-weight: bold\">1</span>  <span style=\"color: #008080; text-decoration-color: #008080; font-weight: bold\">0.06825035399399189</span>     <span style=\"color: #008080; text-decoration-color: #008080; font-weight: bold\">2.1450829104633438</span>      <span style=\"color: #008080; text-decoration-color: #008080; font-weight: bold\">0.20554138068381947</span>\n",
       "</pre>\n"
      ],
      "text/plain": [
       "   \u001b[1;36m11\u001b[0m                 \u001b[1;36m1\u001b[0m  \u001b[1;36m0.06825035399399189\u001b[0m     \u001b[1;36m2.1450829104633438\u001b[0m      \u001b[1;36m0.20554138068381947\u001b[0m\n"
      ]
     },
     "metadata": {},
     "output_type": "display_data"
    },
    {
     "data": {
      "text/html": [
       "<pre style=\"white-space:pre;overflow-x:auto;line-height:normal;font-family:Menlo,'DejaVu Sans Mono',consolas,'Courier New',monospace\">   <span style=\"color: #008080; text-decoration-color: #008080; font-weight: bold\">12</span>                 <span style=\"color: #008080; text-decoration-color: #008080; font-weight: bold\">0</span>  <span style=\"color: #008080; text-decoration-color: #008080; font-weight: bold\">0.06799682175720416</span>     <span style=\"color: #008080; text-decoration-color: #008080; font-weight: bold\">2.5298593198753077</span>      <span style=\"color: #008080; text-decoration-color: #008080; font-weight: bold\">0.22609551875220144</span>\n",
       "</pre>\n"
      ],
      "text/plain": [
       "   \u001b[1;36m12\u001b[0m                 \u001b[1;36m0\u001b[0m  \u001b[1;36m0.06799682175720416\u001b[0m     \u001b[1;36m2.5298593198753077\u001b[0m      \u001b[1;36m0.22609551875220144\u001b[0m\n"
      ]
     },
     "metadata": {},
     "output_type": "display_data"
    },
    {
     "data": {
      "text/html": [
       "<pre style=\"white-space:pre;overflow-x:auto;line-height:normal;font-family:Menlo,'DejaVu Sans Mono',consolas,'Courier New',monospace\">   <span style=\"color: #008080; text-decoration-color: #008080; font-weight: bold\">13</span>                 <span style=\"color: #008080; text-decoration-color: #008080; font-weight: bold\">0</span>  <span style=\"color: #008080; text-decoration-color: #008080; font-weight: bold\">0.08019316198657099</span>     <span style=\"color: #008080; text-decoration-color: #008080; font-weight: bold\">0.7345939909140973</span>      <span style=\"color: #008080; text-decoration-color: #008080; font-weight: bold\">0.039417316396058964</span>\n",
       "</pre>\n"
      ],
      "text/plain": [
       "   \u001b[1;36m13\u001b[0m                 \u001b[1;36m0\u001b[0m  \u001b[1;36m0.08019316198657099\u001b[0m     \u001b[1;36m0.7345939909140973\u001b[0m      \u001b[1;36m0.039417316396058964\u001b[0m\n"
      ]
     },
     "metadata": {},
     "output_type": "display_data"
    },
    {
     "data": {
      "text/html": [
       "<pre style=\"white-space:pre;overflow-x:auto;line-height:normal;font-family:Menlo,'DejaVu Sans Mono',consolas,'Courier New',monospace\">   <span style=\"color: #008080; text-decoration-color: #008080; font-weight: bold\">14</span>                 <span style=\"color: #008080; text-decoration-color: #008080; font-weight: bold\">1</span>  <span style=\"color: #008080; text-decoration-color: #008080; font-weight: bold\">0.1335724789090421</span>      <span style=\"color: #008080; text-decoration-color: #008080; font-weight: bold\">0.23968799263245433</span>     <span style=\"color: #008080; text-decoration-color: #008080; font-weight: bold\">0.006871984196953</span>\n",
       "</pre>\n"
      ],
      "text/plain": [
       "   \u001b[1;36m14\u001b[0m                 \u001b[1;36m1\u001b[0m  \u001b[1;36m0.1335724789090421\u001b[0m      \u001b[1;36m0.23968799263245433\u001b[0m     \u001b[1;36m0.006871984196953\u001b[0m\n"
      ]
     },
     "metadata": {},
     "output_type": "display_data"
    },
    {
     "data": {
      "text/html": [
       "<pre style=\"white-space:pre;overflow-x:auto;line-height:normal;font-family:Menlo,'DejaVu Sans Mono',consolas,'Courier New',monospace\">   <span style=\"color: #008080; text-decoration-color: #008080; font-weight: bold\">15</span>                 <span style=\"color: #008080; text-decoration-color: #008080; font-weight: bold\">1</span>  <span style=\"color: #008080; text-decoration-color: #008080; font-weight: bold\">0.12858384070376935</span>     <span style=\"color: #008080; text-decoration-color: #008080; font-weight: bold\">0.2563709017056288</span>      <span style=\"color: #008080; text-decoration-color: #008080; font-weight: bold\">0.007559182616648301</span>\n",
       "</pre>\n"
      ],
      "text/plain": [
       "   \u001b[1;36m15\u001b[0m                 \u001b[1;36m1\u001b[0m  \u001b[1;36m0.12858384070376935\u001b[0m     \u001b[1;36m0.2563709017056288\u001b[0m      \u001b[1;36m0.007559182616648301\u001b[0m\n"
      ]
     },
     "metadata": {},
     "output_type": "display_data"
    },
    {
     "data": {
      "text/html": [
       "<pre style=\"white-space:pre;overflow-x:auto;line-height:normal;font-family:Menlo,'DejaVu Sans Mono',consolas,'Courier New',monospace\">   <span style=\"color: #008080; text-decoration-color: #008080; font-weight: bold\">16</span>                 <span style=\"color: #008080; text-decoration-color: #008080; font-weight: bold\">0</span>  <span style=\"color: #008080; text-decoration-color: #008080; font-weight: bold\">0.12535611102977146</span>     <span style=\"color: #008080; text-decoration-color: #008080; font-weight: bold\">0.26937100335236736</span>     <span style=\"color: #008080; text-decoration-color: #008080; font-weight: bold\">0.008315100878313131</span>\n",
       "</pre>\n"
      ],
      "text/plain": [
       "   \u001b[1;36m16\u001b[0m                 \u001b[1;36m0\u001b[0m  \u001b[1;36m0.12535611102977146\u001b[0m     \u001b[1;36m0.26937100335236736\u001b[0m     \u001b[1;36m0.008315100878313131\u001b[0m\n"
      ]
     },
     "metadata": {},
     "output_type": "display_data"
    },
    {
     "data": {
      "text/html": [
       "<pre style=\"white-space:pre;overflow-x:auto;line-height:normal;font-family:Menlo,'DejaVu Sans Mono',consolas,'Courier New',monospace\">   <span style=\"color: #008080; text-decoration-color: #008080; font-weight: bold\">17</span>                 <span style=\"color: #008080; text-decoration-color: #008080; font-weight: bold\">1</span>  <span style=\"color: #008080; text-decoration-color: #008080; font-weight: bold\">0.2151412131082905</span>      <span style=\"color: #008080; text-decoration-color: #008080; font-weight: bold\">0.06130355593949739</span>     <span style=\"color: #008080; text-decoration-color: #008080; font-weight: bold\">0.0011742150434273675</span>\n",
       "</pre>\n"
      ],
      "text/plain": [
       "   \u001b[1;36m17\u001b[0m                 \u001b[1;36m1\u001b[0m  \u001b[1;36m0.2151412131082905\u001b[0m      \u001b[1;36m0.06130355593949739\u001b[0m     \u001b[1;36m0.0011742150434273675\u001b[0m\n"
      ]
     },
     "metadata": {},
     "output_type": "display_data"
    },
    {
     "data": {
      "text/html": [
       "<pre style=\"white-space:pre;overflow-x:auto;line-height:normal;font-family:Menlo,'DejaVu Sans Mono',consolas,'Courier New',monospace\">   <span style=\"color: #008080; text-decoration-color: #008080; font-weight: bold\">18</span>                 <span style=\"color: #008080; text-decoration-color: #008080; font-weight: bold\">1</span>  <span style=\"color: #008080; text-decoration-color: #008080; font-weight: bold\">0.21052514955639764</span>     <span style=\"color: #008080; text-decoration-color: #008080; font-weight: bold\">0.06670066737100529</span>     <span style=\"color: #008080; text-decoration-color: #008080; font-weight: bold\">0.0012916365477701043</span>\n",
       "</pre>\n"
      ],
      "text/plain": [
       "   \u001b[1;36m18\u001b[0m                 \u001b[1;36m1\u001b[0m  \u001b[1;36m0.21052514955639764\u001b[0m     \u001b[1;36m0.06670066737100529\u001b[0m     \u001b[1;36m0.0012916365477701043\u001b[0m\n"
      ]
     },
     "metadata": {},
     "output_type": "display_data"
    },
    {
     "data": {
      "text/html": [
       "<pre style=\"white-space:pre;overflow-x:auto;line-height:normal;font-family:Menlo,'DejaVu Sans Mono',consolas,'Courier New',monospace\">   <span style=\"color: #008080; text-decoration-color: #008080; font-weight: bold\">19</span>                 <span style=\"color: #008080; text-decoration-color: #008080; font-weight: bold\">1</span>  <span style=\"color: #008080; text-decoration-color: #008080; font-weight: bold\">0.20654787743646089</span>     <span style=\"color: #008080; text-decoration-color: #008080; font-weight: bold\">0.07186420273315908</span>     <span style=\"color: #008080; text-decoration-color: #008080; font-weight: bold\">0.0014208002025471148</span>\n",
       "</pre>\n"
      ],
      "text/plain": [
       "   \u001b[1;36m19\u001b[0m                 \u001b[1;36m1\u001b[0m  \u001b[1;36m0.20654787743646089\u001b[0m     \u001b[1;36m0.07186420273315908\u001b[0m     \u001b[1;36m0.0014208002025471148\u001b[0m\n"
      ]
     },
     "metadata": {},
     "output_type": "display_data"
    },
    {
     "data": {
      "text/html": [
       "<pre style=\"white-space:pre;overflow-x:auto;line-height:normal;font-family:Menlo,'DejaVu Sans Mono',consolas,'Courier New',monospace\">   <span style=\"color: #008080; text-decoration-color: #008080; font-weight: bold\">20</span>                 <span style=\"color: #008080; text-decoration-color: #008080; font-weight: bold\">2</span>  <span style=\"color: #008080; text-decoration-color: #008080; font-weight: bold\">0.21244631357987967</span>     <span style=\"color: #008080; text-decoration-color: #008080; font-weight: bold\">0.06698415396933738</span>     <span style=\"color: #008080; text-decoration-color: #008080; font-weight: bold\">0.0015628802228018265</span>\n",
       "</pre>\n"
      ],
      "text/plain": [
       "   \u001b[1;36m20\u001b[0m                 \u001b[1;36m2\u001b[0m  \u001b[1;36m0.21244631357987967\u001b[0m     \u001b[1;36m0.06698415396933738\u001b[0m     \u001b[1;36m0.0015628802228018265\u001b[0m\n"
      ]
     },
     "metadata": {},
     "output_type": "display_data"
    },
    {
     "data": {
      "text/html": [
       "<pre style=\"white-space:pre;overflow-x:auto;line-height:normal;font-family:Menlo,'DejaVu Sans Mono',consolas,'Courier New',monospace\">   <span style=\"color: #008080; text-decoration-color: #008080; font-weight: bold\">21</span>                 <span style=\"color: #008080; text-decoration-color: #008080; font-weight: bold\">1</span>  <span style=\"color: #008080; text-decoration-color: #008080; font-weight: bold\">0.1984307832145847</span>      <span style=\"color: #008080; text-decoration-color: #008080; font-weight: bold\">0.0835205416771546</span>      <span style=\"color: #008080; text-decoration-color: #008080; font-weight: bold\">0.0017191682450820092</span>\n",
       "</pre>\n"
      ],
      "text/plain": [
       "   \u001b[1;36m21\u001b[0m                 \u001b[1;36m1\u001b[0m  \u001b[1;36m0.1984307832145847\u001b[0m      \u001b[1;36m0.0835205416771546\u001b[0m      \u001b[1;36m0.0017191682450820092\u001b[0m\n"
      ]
     },
     "metadata": {},
     "output_type": "display_data"
    },
    {
     "data": {
      "text/html": [
       "<pre style=\"white-space:pre;overflow-x:auto;line-height:normal;font-family:Menlo,'DejaVu Sans Mono',consolas,'Courier New',monospace\">   <span style=\"color: #008080; text-decoration-color: #008080; font-weight: bold\">22</span>                 <span style=\"color: #008080; text-decoration-color: #008080; font-weight: bold\">0</span>  <span style=\"color: #008080; text-decoration-color: #008080; font-weight: bold\">0.19405060546589054</span>     <span style=\"color: #008080; text-decoration-color: #008080; font-weight: bold\">0.09020530172133794</span>     <span style=\"color: #008080; text-decoration-color: #008080; font-weight: bold\">0.0018910850695902104</span>\n",
       "</pre>\n"
      ],
      "text/plain": [
       "   \u001b[1;36m22\u001b[0m                 \u001b[1;36m0\u001b[0m  \u001b[1;36m0.19405060546589054\u001b[0m     \u001b[1;36m0.09020530172133794\u001b[0m     \u001b[1;36m0.0018910850695902104\u001b[0m\n"
      ]
     },
     "metadata": {},
     "output_type": "display_data"
    },
    {
     "data": {
      "text/html": [
       "<pre style=\"white-space:pre;overflow-x:auto;line-height:normal;font-family:Menlo,'DejaVu Sans Mono',consolas,'Courier New',monospace\">   <span style=\"color: #008080; text-decoration-color: #008080; font-weight: bold\">23</span>                 <span style=\"color: #008080; text-decoration-color: #008080; font-weight: bold\">0</span>  <span style=\"color: #008080; text-decoration-color: #008080; font-weight: bold\">0.27714106050620585</span>     <span style=\"color: #008080; text-decoration-color: #008080; font-weight: bold\">0.010534209056338253</span>    <span style=\"color: #008080; text-decoration-color: #008080; font-weight: bold\">0.00015768984657541275</span>\n",
       "</pre>\n"
      ],
      "text/plain": [
       "   \u001b[1;36m23\u001b[0m                 \u001b[1;36m0\u001b[0m  \u001b[1;36m0.27714106050620585\u001b[0m     \u001b[1;36m0.010534209056338253\u001b[0m    \u001b[1;36m0.00015768984657541275\u001b[0m\n"
      ]
     },
     "metadata": {},
     "output_type": "display_data"
    },
    {
     "data": {
      "text/html": [
       "<pre style=\"white-space:pre;overflow-x:auto;line-height:normal;font-family:Menlo,'DejaVu Sans Mono',consolas,'Courier New',monospace\">   <span style=\"color: #008080; text-decoration-color: #008080; font-weight: bold\">24</span>*                <span style=\"color: #008080; text-decoration-color: #008080; font-weight: bold\">1</span>  <span style=\"color: #008080; text-decoration-color: #008080; font-weight: bold\">0.2975928424879832</span>      <span style=\"color: #008080; text-decoration-color: #008080; font-weight: bold\">0.0009536703340340644</span>   <span style=\"color: #008080; text-decoration-color: #008080; font-weight: bold\">1.3149111117653518e-05</span>\n",
       "</pre>\n"
      ],
      "text/plain": [
       "   \u001b[1;36m24\u001b[0m*                \u001b[1;36m1\u001b[0m  \u001b[1;36m0.2975928424879832\u001b[0m      \u001b[1;36m0.0009536703340340644\u001b[0m   \u001b[1;36m1.3149111117653518e-05\u001b[0m\n"
      ]
     },
     "metadata": {},
     "output_type": "display_data"
    }
   ],
   "source": [
    "res,x_opt,fun_opt = model.solve(max_iter=100,t_min=1e-9,tol=1e-2,print_level=0,verbose=True)"
   ]
  },
  {
   "cell_type": "code",
   "execution_count": 10,
   "metadata": {},
   "outputs": [
    {
     "data": {
      "image/png": "[encoded data removed]",
      "text/plain": [
       "<Figure size 1400x400 with 3 Axes>"
      ]
     },
     "metadata": {},
     "output_type": "display_data"
    }
   ],
   "source": [
    "u, q, r, delta, theta, alpha = model.parse_vars_fn(x_opt)\n",
    "u = u.reshape((scale,scale))\n",
    "plot_experiment(true,noisy,u,alpha)"
   ]
  },
  {
   "cell_type": "code",
   "execution_count": 10,
   "metadata": {},
   "outputs": [
    {
     "name": "stdout",
     "output_type": "stream",
     "text": [
      "[-9.85435774e-09 -9.73792426e-09 -9.85128514e-09 -9.93374368e-09\n",
      " -9.95941687e-09 -9.91925798e-09 -9.81329019e-09  1.86633909e-04\n",
      " -9.74947748e-09 -9.88921018e-09 -9.84593569e-09 -9.88488641e-09\n",
      " -9.78914873e-09 -9.83690126e-09 -9.04357235e-09 -9.87909591e-09\n",
      " -9.91413093e-09 -9.90485781e-09 -9.88755881e-09 -9.94000786e-09\n",
      " -9.94520779e-09 -9.75468537e-09 -9.74894104e-09 -4.05998765e-09\n",
      " -9.89944410e-09 -8.99478983e-09 -9.91714813e-09 -9.90277471e-09\n",
      " -9.91551677e-09 -9.89383211e-09 -9.87820126e-09 -9.87821167e-09\n",
      " -9.71643187e-09 -9.90210464e-09 -9.48680325e-09 -9.82157070e-09\n",
      " -9.71599854e-09 -8.97565108e-09  3.40629392e-05  9.12214235e-05\n",
      " -9.60397788e-09 -9.90958290e-09 -9.77494022e-09 -9.91617301e-09\n",
      " -9.90002853e-09 -9.85501805e-09 -9.74457557e-09 -9.92776068e-09\n",
      " -9.89733062e-09 -9.70490332e-09  2.08972398e-05 -9.32848771e-09\n",
      " -9.25923727e-09  1.79943380e-05 -9.69957960e-09  4.37550670e-05\n",
      "  1.86632997e-04 -9.86690540e-09  1.76735058e-04 -9.79097228e-09\n",
      " -9.53943521e-09 -9.57039742e-09 -5.79114427e-09 -9.87125339e-09\n",
      " -9.47092438e-09 -9.81759607e-09  5.68127981e-05 -9.88754711e-09\n",
      "  8.69745679e-05 -9.85964819e-09  1.01441232e-04 -9.36968787e-09\n",
      "  1.08571488e-04 -9.90424127e-09 -9.69323558e-09 -9.92565770e-09\n",
      " -9.72658601e-09 -9.90703020e-09  1.86634103e-04 -9.70718393e-09\n",
      "  1.27893356e-04  1.86633982e-04  2.04990278e-05  1.57131557e-04\n",
      "  4.62611287e-05 -9.93774793e-09 -9.92396874e-09  9.29448846e-05\n",
      " -9.28990809e-09 -9.76494378e-09 -9.87857335e-09 -9.89731185e-09\n",
      " -9.43859781e-09 -9.87038310e-09 -9.93697048e-09  1.86633615e-04\n",
      " -9.91629917e-09  5.94304577e-05 -9.88422653e-09  6.20611290e-05\n",
      " -9.75959749e-09 -9.91946020e-09 -9.88560799e-09  1.86631269e-04\n",
      "  8.62837614e-05 -9.95051790e-09 -9.90940389e-09  2.94604648e-05\n",
      " -9.92122017e-09 -9.84237226e-09 -9.90365590e-09 -9.79141924e-09\n",
      " -8.77542579e-09  4.72928897e-05 -9.82719775e-09 -9.71715053e-09\n",
      " -9.91435169e-09  1.86633833e-04  1.86633837e-04 -9.40512577e-09\n",
      " -8.79712096e-09 -9.84839320e-09  2.26325062e-05 -9.92483631e-09\n",
      " -9.76352344e-09  1.86633621e-04 -9.85457383e-09 -7.60589064e-09\n",
      "  7.65015535e-05 -9.54170967e-09 -9.66686811e-09  1.86627259e-04\n",
      " -9.89595927e-09 -9.53425091e-09 -9.63757020e-09 -9.69824416e-09\n",
      " -9.87852668e-09  7.34764829e-05 -9.83536649e-09 -9.56907132e-09\n",
      " -9.71261254e-09 -9.89808481e-09  1.59108408e-04 -9.60164551e-09\n",
      " -9.91977524e-09  5.69869502e-05  7.45763808e-05 -9.91601829e-09\n",
      " -7.00336627e-09 -9.70670062e-09 -9.69057066e-09 -9.92539055e-09\n",
      "  1.47109885e-04 -9.86848185e-09  3.98579278e-05  2.73586067e-05\n",
      " -9.44265492e-09 -9.92005476e-09 -9.24650476e-09  3.81828155e-05\n",
      "  8.26856124e-05 -9.92222086e-09  5.37153087e-05 -9.46441044e-09\n",
      "  1.08964067e-04 -8.49566118e-09  3.22672050e-05 -8.84810239e-09\n",
      "  1.86632853e-04  1.86634163e-04 -9.72563345e-09 -9.84312505e-09\n",
      " -9.91064099e-09 -9.86491369e-09  7.32933981e-05 -9.42324681e-09\n",
      " -9.70458519e-09 -9.70444409e-09 -9.91458491e-09 -9.86744416e-09\n",
      " -9.85470409e-09  2.80286053e-05 -9.91518144e-09 -9.94510567e-09\n",
      " -8.56527159e-09 -9.87384347e-09 -9.91320124e-09  1.86634151e-04\n",
      " -9.84895416e-09 -9.93216418e-09 -9.81577288e-09 -9.26382847e-09\n",
      " -9.90594993e-09 -9.87923846e-09 -9.64266203e-09 -9.55150778e-09\n",
      "  3.52580531e-05 -8.88650221e-09 -9.93319878e-09  3.98933165e-05\n",
      "  1.86633874e-04 -9.69397005e-09 -9.83187497e-09 -9.74207669e-09\n",
      " -9.91628372e-09 -9.91937052e-09  1.70020663e-04 -9.85103954e-09\n",
      " -9.88932747e-09 -9.24213982e-09 -9.88059210e-09  3.08092571e-05\n",
      "  1.80804435e-04 -9.73933610e-09 -8.63472283e-09  1.81359850e-04\n",
      " -9.80976136e-09  1.86627244e-04 -9.94309034e-09 -9.84441116e-09\n",
      " -9.93083463e-09 -9.89092452e-09 -9.94394594e-09 -9.91956072e-09\n",
      " -9.77739182e-09 -9.26267510e-09  3.61242888e-05  6.94129933e-05\n",
      " -8.72158828e-09  5.71893820e-05 -9.94655016e-09 -9.83479582e-09\n",
      " -9.89417724e-09 -9.89863551e-09 -9.92180734e-09 -9.87579323e-09\n",
      " -9.86796151e-09 -9.88584170e-09 -9.79574674e-09  1.81064375e-04]\n"
     ]
    }
   ],
   "source": [
    "print(alpha-delta)"
   ]
  },
  {
   "cell_type": "code",
   "execution_count": 11,
   "metadata": {},
   "outputs": [
    {
     "data": {
      "text/plain": [
       "array([0.04391893, 0.06477806, 0.08509695, 0.14581278, 0.24150661,\n",
       "       0.1339347 , 0.0433102 , 0.00706495, 0.04697105, 0.10038657,\n",
       "       0.03419642, 0.09505146, 0.06910312, 0.06841382, 0.03410578,\n",
       "       0.05481847, 0.11774533, 0.08186215, 0.06994563, 0.19369267,\n",
       "       0.21168172, 0.05033143, 0.46083711, 0.56752123, 0.18800952,\n",
       "       0.04718324, 0.11118852, 0.11461569, 0.1399638 , 0.10519852,\n",
       "       0.08347934, 0.11756256, 0.04841386, 0.12822362, 0.02232982,\n",
       "       0.46039807, 0.14598389, 0.4581212 , 0.39275895, 0.14763303,\n",
       "       0.37195165, 0.14402863, 0.0667227 , 0.13977807, 0.0871406 ,\n",
       "       0.10020995, 0.0137315 , 0.17610316, 0.10333125, 0.13720984,\n",
       "       0.63599951, 0.15998524, 0.72264859, 0.73657686, 0.2032853 ,\n",
       "       0.30647246, 0.04577671, 0.40797926, 0.07634617, 0.0678969 ,\n",
       "       0.01662365, 0.02148379, 0.02025647, 0.62235107, 0.10106358,\n",
       "       0.202908  , 0.23648159, 0.75662451, 0.15481238, 0.38336022,\n",
       "       0.13281239, 0.28706766, 0.12411952, 0.07625686, 0.02520709,\n",
       "       0.16201293, 0.1635674 , 0.67921091, 0.04196798, 0.06033036,\n",
       "       0.10541915, 0.07230499, 0.64808442, 0.08584962, 0.29000204,\n",
       "       0.16523541, 0.19056543, 0.1449064 , 0.21738011, 0.1065214 ,\n",
       "       0.09992745, 0.74549841, 0.17945661, 0.10724093, 0.15420845,\n",
       "       0.0456347 , 0.11301008, 0.22612885, 0.41187047, 0.21659918,\n",
       "       0.0738369 , 0.16501638, 0.05272209, 0.06150321, 0.1560464 ,\n",
       "       0.2024257 , 0.45126519, 0.4533751 , 0.08157473, 0.08426096,\n",
       "       0.11189105, 0.05213035, 0.1648847 , 0.28372312, 0.38575227,\n",
       "       0.02052941, 0.10085385, 0.05920805, 0.0550113 , 0.32449987,\n",
       "       0.44582997, 0.27582521, 0.58800424, 0.11491959, 0.0658273 ,\n",
       "       0.06252963, 0.29083786, 0.28315473, 0.17590596, 0.36280718,\n",
       "       0.40655902, 0.04375592, 0.01306131, 0.07153498, 0.26632929,\n",
       "       0.31384243, 0.56943455, 0.18311299, 0.18863078, 0.00528138,\n",
       "       0.39061957, 0.33002558, 0.08478524, 0.25894055, 0.29928126,\n",
       "       0.23576336, 0.18042478, 0.10278181, 0.05520818, 0.08856801,\n",
       "       0.08265193, 0.59629092, 0.0916836 , 0.0687059 , 0.33617037,\n",
       "       0.48775527, 0.43123109, 0.34067491, 0.25741046, 0.35078164,\n",
       "       0.16280704, 0.18229102, 0.25002682, 0.19472667, 0.12367377,\n",
       "       0.28587504, 0.41437337, 0.04679002, 0.0332313 , 0.02841018,\n",
       "       0.51268856, 0.21445991, 0.36470081, 0.12134583, 0.18356749,\n",
       "       0.26588258, 0.02246813, 0.17990027, 0.21417747, 0.07115074,\n",
       "       0.15472987, 0.47622395, 0.18974953, 0.2737453 , 0.25223977,\n",
       "       0.37529811, 0.24868059, 0.05586853, 0.11045888, 0.13224743,\n",
       "       0.11633585, 0.12882963, 0.156112  , 0.14056492, 0.14393032,\n",
       "       0.07100169, 0.37958404, 0.22042523, 0.28143661, 0.33587558,\n",
       "       0.05493392, 0.15484802, 0.16960348, 0.10442058, 0.15220851,\n",
       "       0.32217022, 0.07935518, 0.0628084 , 0.11165154, 0.05990213,\n",
       "       0.08617663, 0.43374096, 0.07463165, 0.24288955, 0.45637328,\n",
       "       0.07440347, 0.06042928, 0.05024953, 0.20525185, 0.1695388 ,\n",
       "       0.14900903, 0.126837  , 0.22368782, 0.10902067, 0.05694576,\n",
       "       0.03795319, 0.37056612, 0.19377598, 0.20480113, 0.2349335 ,\n",
       "       0.39565696, 0.10571079, 0.1135717 , 0.10233636, 0.14245363,\n",
       "       0.09253167, 0.0784204 , 0.11583622, 0.02312821, 0.01155726])"
      ]
     },
     "execution_count": 11,
     "metadata": {},
     "output_type": "execute_result"
    }
   ],
   "source": [
    "r"
   ]
  },
  {
   "cell_type": "code",
   "execution_count": 12,
   "metadata": {},
   "outputs": [
    {
     "data": {
      "text/plain": [
       "array([-1.77527616e-04,  1.71953062e-04,  1.76095665e-04,  1.42228829e-07,\n",
       "       -8.53499439e-05,  1.53776136e-04, -1.86634068e-04,  3.74131467e-09,\n",
       "        3.83167523e-05, -7.19968908e-05,  1.84231062e-04, -9.76253621e-05,\n",
       "       -1.55633009e-04, -4.22272557e-05, -1.69633773e-04, -1.81831498e-04,\n",
       "        8.98340148e-05, -8.51079454e-05, -1.83709592e-04,  1.73658906e-04,\n",
       "        3.03696825e-05, -1.36406017e-04,  1.48705700e-05, -4.24028314e-05,\n",
       "        4.80666466e-05, -1.65278691e-04,  1.16541516e-04, -4.74251321e-05,\n",
       "       -1.28464568e-04, -7.84487500e-06, -5.15437037e-05,  1.86052733e-04,\n",
       "        1.77185086e-04,  1.00507168e-04,  4.77919336e-05, -1.86180148e-04,\n",
       "       -1.66317981e-04,  1.66104460e-04,  2.89927037e-05, -3.89937237e-05,\n",
       "        7.82335797e-05, -1.85241066e-04, -9.14667661e-05, -9.54244735e-05,\n",
       "        1.82227524e-04,  1.86609869e-04, -1.68963536e-04,  1.05597737e-04,\n",
       "       -5.28759655e-05, -1.86249745e-04, -1.65726832e-04,  1.40886785e-04,\n",
       "        5.28852174e-05,  9.03776931e-05,  1.41237258e-05, -1.04288788e-05,\n",
       "        7.94771536e-09, -7.08653312e-06, -8.29256449e-06, -1.81292157e-04,\n",
       "       -8.64518950e-05, -3.99196602e-05, -3.98449163e-05, -1.85142339e-04,\n",
       "       -1.21423692e-04,  1.73434134e-04,  1.22807834e-04, -2.95688359e-05,\n",
       "        3.91147751e-06,  1.85715490e-04,  1.98577332e-06, -2.61718027e-05,\n",
       "       -1.36743903e-05, -5.68879121e-05, -5.33993675e-05,  1.65886253e-04,\n",
       "       -1.78198365e-04, -1.85412907e-04,  5.86219055e-09,  1.57621216e-04,\n",
       "        5.22410344e-05, -9.71509126e-09,  7.34540298e-05, -1.49422646e-05,\n",
       "        1.37793002e-04,  1.14632791e-04, -6.45171999e-05,  4.66083887e-06,\n",
       "       -5.76176621e-05, -1.50935901e-05,  1.74669844e-04, -1.84044471e-04,\n",
       "       -1.74190594e-04,  1.81440260e-04, -1.63004782e-04, -9.29355941e-09,\n",
       "        1.75648542e-04,  1.26290335e-04,  1.22093074e-04,  1.22908487e-04,\n",
       "       -1.45270459e-04,  1.38335632e-04, -1.13618018e-04,  1.95164582e-09,\n",
       "       -5.05435681e-05,  1.46251196e-04, -1.86336796e-04, -1.53850526e-04,\n",
       "        5.19678756e-05,  4.97065498e-05, -3.93589560e-05,  1.95553113e-05,\n",
       "        1.68413798e-04,  1.36760770e-04,  1.76564752e-04,  8.78739362e-05,\n",
       "       -9.00085607e-05,  5.65186359e-09,  7.88201444e-09,  4.75149770e-05,\n",
       "        1.39488701e-05, -1.83574237e-04, -1.63690199e-04, -7.71814742e-05,\n",
       "        1.78646898e-04, -8.29361688e-09,  1.84839273e-04,  1.84265310e-04,\n",
       "       -7.28407231e-05,  1.80478364e-04, -5.99570795e-05, -2.53011653e-09,\n",
       "        1.86576442e-04, -8.87602122e-05, -1.80316560e-06,  4.33158096e-05,\n",
       "       -1.84820965e-04, -1.10276026e-04, -7.05435060e-05,  1.44112537e-05,\n",
       "        1.83785318e-04,  1.84921352e-04,  1.73540172e-05, -1.70479906e-04,\n",
       "        1.35445975e-04,  2.71047084e-05,  6.18937315e-05, -1.80746564e-04,\n",
       "       -1.86631056e-04, -8.88318013e-05,  1.08808512e-04, -1.51409732e-04,\n",
       "       -2.31345181e-05, -1.23876796e-04,  3.41483891e-05,  1.22094382e-04,\n",
       "       -3.84294343e-05,  1.79572522e-04, -8.03429904e-05, -6.81886245e-05,\n",
       "        4.02476542e-05, -9.34875747e-06,  1.22064210e-04, -1.86628344e-04,\n",
       "       -7.62315481e-05, -1.85396493e-04, -1.49229644e-04,  1.86362064e-04,\n",
       "        6.06698821e-09, -7.58104377e-09,  1.86631482e-04, -1.67251842e-04,\n",
       "        1.78492452e-04, -1.78514098e-04, -1.12403625e-04,  1.12919436e-04,\n",
       "        1.86428686e-05,  9.09609498e-05, -1.18409002e-04,  1.75388342e-04,\n",
       "       -1.80023902e-04, -1.30594664e-04, -1.40804924e-04,  2.84104936e-05,\n",
       "        1.85824814e-04,  1.82516694e-04, -3.46563568e-05, -9.69723261e-09,\n",
       "       -2.40312570e-05, -2.27314258e-05, -1.51464472e-04,  1.77766804e-04,\n",
       "       -1.83060934e-04,  8.41136790e-05, -5.23156038e-05,  1.74322068e-05,\n",
       "       -1.51318153e-04, -1.78334503e-04, -2.55872100e-05,  1.42290172e-04,\n",
       "       -4.06658462e-09,  1.81507083e-04,  9.57595186e-05,  1.27969134e-04,\n",
       "        1.14554489e-04, -1.83059401e-04,  1.64360686e-05,  8.85335965e-05,\n",
       "       -1.77978984e-05,  8.16017111e-05,  1.38392569e-04, -1.37734106e-04,\n",
       "        3.89875571e-06, -1.42902471e-04,  1.74429211e-04,  2.07513658e-06,\n",
       "        1.74976839e-04,  1.41200633e-10,  3.85784700e-05, -6.29694633e-05,\n",
       "        5.56326555e-05,  9.00408374e-05, -1.86511237e-04,  1.85864685e-04,\n",
       "        9.16425525e-05, -9.20601744e-05, -1.50288230e-04,  1.01223445e-04,\n",
       "       -1.55884746e-04,  1.16454336e-04,  1.59355427e-04, -1.25008583e-04,\n",
       "       -1.80470286e-04, -4.97223756e-05,  1.56292265e-04, -1.61313188e-04,\n",
       "        9.68436125e-05, -8.70871149e-05,  1.54328666e-04,  5.18315020e-06,\n",
       "       -5.75867967e-05, -7.25561464e-05, -6.18272513e-05, -1.86634142e-04,\n",
       "       -1.65975058e-04,  1.05760191e-04, -5.30040203e-08, -8.89141477e-09,\n",
       "        1.82658372e-04, -1.72188136e-04, -2.98530803e-05, -1.59064747e-04,\n",
       "        1.03007940e-04,  1.81794241e-04, -7.78227094e-05,  4.20667231e-05,\n",
       "       -1.63591460e-04, -1.66099217e-04, -3.29103587e-05,  6.83733117e-05,\n",
       "        1.84146707e-04,  1.27379963e-04, -1.86040642e-04, -1.81747436e-04,\n",
       "       -1.80338315e-04,  8.66886794e-05, -1.45775142e-04,  1.80508084e-04,\n",
       "       -1.35385269e-04, -1.86469210e-04, -1.79375442e-04,  1.47201616e-05,\n",
       "       -5.86317944e-05,  1.57259723e-04, -1.80410885e-04,  1.30089933e-05,\n",
       "       -8.46792244e-05, -8.50956750e-05, -1.49781108e-04, -8.70700360e-05,\n",
       "       -1.69445292e-04, -2.27609648e-05,  1.62684033e-04, -1.60394783e-04,\n",
       "       -4.03167491e-05, -3.00839239e-06,  7.92690110e-05, -1.53887747e-04,\n",
       "        1.78987267e-04, -1.19695474e-05, -2.51096154e-07, -1.22405111e-04,\n",
       "       -1.78983868e-04, -1.42365459e-04,  1.86098781e-04,  1.42488054e-04,\n",
       "        3.62382945e-09, -1.86499542e-04, -5.38792594e-06, -4.43331001e-05,\n",
       "       -1.65403283e-04, -1.82314586e-04,  1.82327067e-04,  2.35502456e-05,\n",
       "       -1.41733685e-04,  6.89411416e-05, -4.20624793e-05, -1.84276938e-04,\n",
       "       -9.95728977e-05, -1.84946550e-05, -8.51598809e-05, -1.84789473e-04,\n",
       "        7.68456030e-05,  1.77752855e-04, -1.78831599e-04,  8.55223438e-05,\n",
       "        5.54760181e-05,  2.13158922e-05, -7.90373281e-09,  9.99389352e-05,\n",
       "        2.68364236e-05,  3.10600879e-10, -1.49003688e-04, -2.54273160e-05,\n",
       "        2.67375755e-05, -1.47280847e-04, -1.75128097e-04, -9.35633603e-05,\n",
       "       -1.77517007e-04,  1.86022697e-04,  6.57476103e-05, -3.09829353e-05,\n",
       "        6.70057861e-05,  4.37233512e-05,  9.08942537e-05, -1.04791304e-09,\n",
       "       -6.30864993e-05,  1.51332490e-05,  1.41158018e-04,  2.02355652e-05,\n",
       "       -1.17169757e-04,  1.25281965e-04,  1.48065023e-04,  6.72940675e-09,\n",
       "       -8.66808160e-05, -1.15943595e-04,  1.05315103e-05,  3.21010101e-05,\n",
       "       -1.79253057e-04, -1.79893157e-04, -1.82436796e-04,  1.85606734e-04,\n",
       "        8.04281249e-05, -2.66406318e-05,  6.04745553e-05, -1.64652403e-04,\n",
       "       -1.63495489e-04,  7.72356284e-09, -5.43507097e-09,  1.80483941e-04,\n",
       "        1.86111063e-04,  3.36569585e-05,  9.94056976e-06, -1.69927455e-04,\n",
       "       -5.40143085e-05, -4.33601410e-09,  2.58212451e-05, -2.96268434e-05,\n",
       "       -8.25907990e-05, -4.75366920e-05, -1.76740975e-04, -1.60599528e-09,\n",
       "       -4.64117849e-06, -1.64176121e-04,  1.86625189e-04,  1.81537808e-04,\n",
       "        2.59521353e-05, -2.53301836e-05, -1.72788600e-04,  1.86076607e-04,\n",
       "        3.24838060e-05, -2.52270410e-05, -2.13532282e-05, -7.59526223e-05,\n",
       "       -1.28400568e-04, -1.26772109e-04, -9.34017868e-05, -4.65080224e-05,\n",
       "        2.79558770e-07,  1.64137593e-04,  1.51634232e-04, -1.09121093e-04,\n",
       "       -3.20340457e-05,  1.39595266e-04, -1.42738378e-04, -1.02266862e-04,\n",
       "       -1.82634385e-04, -5.08529982e-05, -1.68454951e-04, -1.31852852e-04,\n",
       "        9.58298977e-05, -1.86399892e-04, -5.25843941e-05,  1.41751358e-06,\n",
       "        1.48275763e-05, -2.14459035e-05,  3.94539552e-05,  1.00547991e-05,\n",
       "       -6.08199793e-09, -6.36746671e-09, -9.67242744e-07,  8.28197478e-05,\n",
       "        5.45230140e-05, -5.44519439e-05,  1.44675439e-05,  1.48597892e-04,\n",
       "        1.85700515e-04,  1.62967307e-04,  1.44262345e-04, -6.38061741e-05,\n",
       "        4.92309678e-05,  8.99867548e-05,  1.22500161e-04,  1.84459132e-04,\n",
       "       -1.73479358e-05,  3.89866269e-05,  1.83388256e-04,  1.93367718e-09,\n",
       "        1.85080497e-04, -1.85244716e-04,  1.09044912e-04, -5.68422071e-05,\n",
       "       -3.63456620e-05,  1.66604897e-04,  1.79151590e-04,  1.85817918e-04,\n",
       "       -3.81389552e-06,  5.50339634e-05, -1.84871895e-04, -3.58256531e-05,\n",
       "        8.70951918e-09,  4.34443594e-05,  1.60194881e-04, -1.35853422e-04,\n",
       "       -1.47341731e-04,  3.63534540e-05, -2.35269169e-06,  1.64298797e-04,\n",
       "       -1.85783588e-04, -1.67848818e-04, -1.25219008e-04,  7.28534960e-05,\n",
       "        4.32089112e-06,  1.20046384e-04,  6.63798824e-05,  4.83816564e-06,\n",
       "       -6.49259790e-05,  2.97796905e-09, -1.82603473e-04,  1.75690457e-04,\n",
       "        1.78149740e-04, -1.63477689e-04,  6.77387678e-06,  1.69303533e-05,\n",
       "        1.62585077e-04, -1.62348381e-04, -7.98059154e-06,  5.90956491e-05,\n",
       "        1.02624639e-04, -5.64958042e-05,  9.71502744e-05,  1.38582612e-04,\n",
       "       -4.75687312e-05, -1.79888842e-04,  1.02005130e-04, -9.38635016e-05,\n",
       "       -1.59541886e-04,  1.65070105e-04,  1.04952058e-04, -2.01179198e-06])"
      ]
     },
     "execution_count": 12,
     "metadata": {},
     "output_type": "execute_result"
    }
   ],
   "source": [
    "q"
   ]
  },
  {
   "cell_type": "code",
   "execution_count": null,
   "metadata": {},
   "outputs": [],
   "source": []
  }
 ],
 "metadata": {
  "kernelspec": {
   "display_name": ".venv",
   "language": "python",
   "name": "python3"
  },
  "language_info": {
   "codemirror_mode": {
    "name": "ipython",
    "version": 3
   },
   "file_extension": ".py",
   "mimetype": "text/x-python",
   "name": "python",
   "nbconvert_exporter": "python",
   "pygments_lexer": "ipython3",
   "version": "3.12.7"
  }
 },
 "nbformat": 4,
 "nbformat_minor": 2
}
