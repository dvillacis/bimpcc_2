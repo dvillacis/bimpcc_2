{
 "cells": [
  {
   "cell_type": "code",
   "execution_count": 1,
   "metadata": {},
   "outputs": [],
   "source": [
    "import sys\n",
    "import os\n",
    "# Get the absolute path to the project root\n",
    "project_root = os.path.abspath(os.path.join(os.getcwd(), \"..\"))\n",
    "# Add it to sys.path\n",
    "sys.path.append(project_root)"
   ]
  },
  {
   "cell_type": "code",
   "execution_count": 2,
   "metadata": {},
   "outputs": [],
   "source": [
    "from bimpcc.dataset import get_blur_dataset\n",
    "from bimpcc.dataset import get_dataset\n",
    "import numpy as np\n",
    "import scipy.sparse as sp\n",
    "from bimpcc.models.recons_regularized import TVReconsRegularized\n",
    "from bimpcc.models.tvreconstruction_model import TVReconstructionMPCC\n",
    "import matplotlib.pyplot as plt\n",
    "from skimage.metrics import peak_signal_noise_ratio as psnr"
   ]
  },
  {
   "cell_type": "code",
   "execution_count": 3,
   "metadata": {},
   "outputs": [],
   "source": [
    "def plot_experiment(true,noisy,u, alpha):\n",
    "    \n",
    "    fig,ax = plt.subplots(1,3,figsize=(14,4))\n",
    "    ax[0].imshow(true,cmap='gray')\n",
    "    ax[0].set_title('True Image')\n",
    "    ax[0].axis('off')\n",
    "    ax[1].imshow(noisy,cmap='gray')\n",
    "    ax[1].set_title('Noisy Image\\nPSNR: {:.4f}'.format(psnr(true,noisy)))\n",
    "    ax[1].axis('off')\n",
    "    ax[2].imshow(u,cmap='gray')\n",
    "    ax[2].set_title(f'Reconstructed Image\\nPSNR: {psnr(true,u):.4f}\\n alpha = {alpha}')\n",
    "    # ax[2].set_xlabel('alpha = {}'.format(alpha))\n",
    "    ax[2].axis('off')\n",
    "\n",
    "    plt.show()"
   ]
  },
  {
   "cell_type": "code",
   "execution_count": 4,
   "metadata": {},
   "outputs": [],
   "source": [
    "scale = 10"
   ]
  },
  {
   "cell_type": "code",
   "execution_count": 5,
   "metadata": {},
   "outputs": [],
   "source": [
    "dataset = get_blur_dataset(\"cameraman\",scale=scale)\n",
    "# dataset = get_dataset(\"cameraman\",scale=scale)\n",
    "true, blurred = dataset.get_training_data()"
   ]
  },
  {
   "cell_type": "code",
   "execution_count": 6,
   "metadata": {},
   "outputs": [
    {
     "data": {
      "text/plain": [
       "(np.float64(-0.5), np.float64(9.5), np.float64(9.5), np.float64(-0.5))"
      ]
     },
     "execution_count": 6,
     "metadata": {},
     "output_type": "execute_result"
    },
    {
     "data": {
      "image/png": "[encoded data removed]",
      "text/plain": [
       "<Figure size 1000x500 with 2 Axes>"
      ]
     },
     "metadata": {},
     "output_type": "display_data"
    }
   ],
   "source": [
    "fig,ax = plt.subplots(1,2,figsize=(10,5))\n",
    "ax[0].imshow(true,cmap='gray')\n",
    "ax[0].set_title('True Image')\n",
    "ax[0].axis('off')\n",
    "ax[1].imshow(blurred,cmap='gray')\n",
    "ax[1].set_title('Blurred Image')\n",
    "ax[1].axis('off')"
   ]
  },
  {
   "cell_type": "code",
   "execution_count": 7,
   "metadata": {},
   "outputs": [],
   "source": [
    "from bimpcc.utils import gaussian_blur_sparse_matrix_symmetric\n",
    "forward_map = gaussian_blur_sparse_matrix_symmetric(true.shape)\n",
    "# forward_map = sp.eye(np.prod(true.shape))\n",
    "model = TVReconsRegularized(forward_map, true, blurred, epsilon=1e-3)"
   ]
  },
  {
   "cell_type": "code",
   "execution_count": 8,
   "metadata": {},
   "outputs": [
    {
     "name": "stdout",
     "output_type": "stream",
     "text": [
      "\n",
      "******************************************************************************\n",
      "This program contains Ipopt, a library for large-scale nonlinear optimization.\n",
      " Ipopt is released as open source code under the Eclipse Public License (EPL).\n",
      "         For more information visit https://github.com/coin-or/Ipopt\n",
      "******************************************************************************\n",
      "\n",
      "This is Ipopt version 3.14.17, running with linear solver MUMPS 5.6.2.\n",
      "\n",
      "Number of nonzeros in equality constraint Jacobian...:     3340\n",
      "Number of nonzeros in inequality constraint Jacobian.:        0\n",
      "Number of nonzeros in Lagrangian Hessian.............:        0\n",
      "\n",
      "Total number of variables............................:      281\n",
      "                     variables with only lower bounds:      101\n",
      "                variables with lower and upper bounds:        0\n",
      "                     variables with only upper bounds:        0\n",
      "Total number of equality constraints.................:      280\n",
      "Total number of inequality constraints...............:        0\n",
      "        inequality constraints with only lower bounds:        0\n",
      "   inequality constraints with lower and upper bounds:        0\n",
      "        inequality constraints with only upper bounds:        0\n",
      "\n",
      "iter    objective    inf_pr   inf_du lg(mu)  ||d||  lg(rg) alpha_du alpha_pr  ls\n",
      "   0  4.6696730e-01 1.02e-01 6.01e-02   0.0 0.00e+00    -  0.00e+00 0.00e+00   0\n",
      "   1  4.4014928e-01 9.22e-02 1.33e+00  -6.2 5.30e-01    -  2.49e-01 9.91e-02h  1\n",
      "   2  4.7323214e-01 7.07e-02 5.94e+01  -0.4 8.09e-01    -  2.43e-01 2.34e-01f  1\n",
      "   3  1.2041934e+00 2.32e-01 5.47e+02  -0.1 8.05e-01    -  8.02e-01 1.00e+00f  1\n",
      "   4  1.0103239e+00 1.87e-01 9.72e+01  -0.2 6.26e-01    -  6.58e-01 1.00e+00f  1\n",
      "   5  1.2202437e+00 3.50e-01 1.21e+01  -0.2 1.37e-01    -  9.04e-01 1.00e+00h  1\n",
      "   6  1.5915221e+00 4.64e-01 4.61e+01  -0.2 1.78e-01    -  1.00e+00 1.00e+00h  1\n",
      "   7  1.7345836e+00 5.61e-01 2.17e+01  -0.2 1.82e-01    -  1.00e+00 1.00e+00h  1\n",
      "   8  1.8455475e+00 6.05e-01 3.14e+01  -0.2 1.23e-01    -  1.00e+00 1.00e+00h  1\n",
      "   9  1.9287331e+00 5.72e-01 4.51e+01  -0.2 2.12e-01    -  1.00e+00 1.00e+00h  1\n",
      "iter    objective    inf_pr   inf_du lg(mu)  ||d||  lg(rg) alpha_du alpha_pr  ls\n",
      "  10  1.8558280e+00 6.35e-01 5.73e+00  -1.5 1.27e-01    -  1.00e+00 1.00e+00h  1\n",
      "  11  1.7621504e+00 1.48e-02 1.06e+00  -3.0 1.28e-01    -  1.00e+00 1.00e+00h  1\n",
      "  12  1.2481049e+00 6.98e-01 1.72e+01  -2.6 2.78e+00    -  1.00e+00 2.69e-01f  1\n",
      "  13  1.1945346e+00 6.88e-01 2.08e+02  -2.7 1.04e+01    -  6.50e-02 1.50e-02h  1\n",
      "  14  1.1927062e+00 6.87e-01 1.08e+04  -2.7 1.34e+02    -  5.50e-03 8.94e-04h  1\n",
      "  15  1.1927050e+00 6.87e-01 8.95e+03  -2.7 3.53e+03    -  1.73e-06 1.73e-06s  3\n",
      "  16  1.1927046e+00 6.87e-01 5.23e+03  -2.7 5.17e+03    -  1.94e-07 1.94e-07s  3\n",
      "  17r 1.1927046e+00 6.87e-01 9.99e+02  -0.2 0.00e+00    -  0.00e+00 0.00e+00R  1\n",
      "  18r 1.1642533e+00 6.74e-01 9.99e+02   1.8 1.89e+02    -  3.72e-02 1.04e-04f  5\n",
      "  19r 8.4416168e-01 4.56e-01 1.45e+03   1.7 1.19e+01    -  3.44e-01 2.17e-02f  1\n",
      "iter    objective    inf_pr   inf_du lg(mu)  ||d||  lg(rg) alpha_du alpha_pr  ls\n",
      "  20  7.4481478e-01 4.12e-01 4.53e+02  -2.7 8.31e+00    -  1.17e-01 1.10e-01h  1\n",
      "  21  7.4393910e-01 4.11e-01 4.54e+02  -2.7 1.59e+00    -  6.74e-02 9.59e-04h  1\n",
      "  22  5.4667212e-01 2.89e-01 4.95e+03  -2.7 2.71e+00    -  1.83e-01 3.03e-01h  1\n",
      "  23  5.4086031e-01 2.84e-01 4.84e+03  -2.7 8.11e-01    -  3.94e-02 1.83e-02h  1\n",
      "  24  5.4084777e-01 2.84e-01 4.84e+03  -2.7 7.39e-01    -  5.73e-02 4.07e-05h  1\n",
      "  25  4.5184605e-01 2.12e-01 6.86e+03  -2.7 7.92e-01    -  1.99e-03 3.44e-01f  1\n",
      "  26  4.4995396e-01 2.09e-01 6.77e+03  -2.7 2.56e-01    -  1.00e+00 1.10e-02h  1\n",
      "  27  4.4991659e-01 2.09e-01 6.77e+03  -2.7 2.43e-01    -  3.07e-04 2.27e-04h  1\n",
      "  28  3.2813495e-01 6.43e-02 1.28e+04  -2.7 2.42e-01    -  1.00e+00 1.00e+00f  1\n",
      "  29  3.2772055e-01 6.38e-02 1.27e+04  -2.7 8.69e-02    -  1.37e-01 1.83e-02h  1\n",
      "iter    objective    inf_pr   inf_du lg(mu)  ||d||  lg(rg) alpha_du alpha_pr  ls\n",
      "  30  3.1133073e-01 4.64e-02 2.54e+04  -0.7 9.93e-02    -  1.00e+00 1.00e+00f  1\n",
      "  31  3.1104635e-01 4.63e-02 5.30e+05  -0.4 6.94e-01    -  1.00e+00 2.10e-03h  1\n",
      "  32  3.0511733e-01 4.40e-02 2.33e+05   1.3 3.55e+00    -  1.00e+00 1.10e-02h  2\n",
      "  33  3.4980180e-01 7.14e-02 1.75e+07   2.8 2.51e+00    -  1.89e-02 1.16e-01F  1\n",
      "  34  3.4877597e-01 7.13e-02 1.74e+07   1.4 2.64e+00    -  1.15e-01 2.17e-03h  1\n",
      "  35  3.0854621e-01 6.43e-02 2.90e+07   1.4 3.66e+00    -  1.90e-01 7.12e-02h  1\n",
      "  36  3.0985154e-01 5.92e-02 1.05e+07   1.4 2.13e-01    -  3.24e-01 4.63e-01h  1\n",
      "  37  3.0991614e-01 5.92e-02 1.11e+07   1.4 4.14e-01    -  2.22e-01 2.19e-03h  1\n",
      "  38r 3.0991614e-01 5.92e-02 1.00e+03   1.4 0.00e+00    -  0.00e+00 3.41e-07R  7\n",
      "  39r 3.0701256e-01 3.21e-02 3.07e+03  -4.6 2.17e-01    -  1.88e-01 3.40e-01f  1\n",
      "iter    objective    inf_pr   inf_du lg(mu)  ||d||  lg(rg) alpha_du alpha_pr  ls\n",
      "  40  3.0697444e-01 3.21e-02 1.13e+01  -6.2 2.06e+00    -  1.38e-03 1.22e-04h  1\n",
      "  41  3.0508664e-01 5.37e-02 4.67e+04  -0.7 5.26e+00    -  1.09e-04 2.56e-03f  1\n",
      "  42  3.0525412e-01 5.34e-02 4.65e+04  -6.2 4.26e-01    -  1.69e-02 5.98e-03h  1\n",
      "  43  3.2932511e-01 5.90e-02 5.41e+04  -0.5 7.27e+00    -  4.71e-04 2.25e-02f  1\n",
      "  44  6.1564549e-01 1.24e-01 6.98e+04  -0.3 8.04e+00    -  2.13e-02 1.34e-01f  1\n",
      "  45  5.8865750e-01 1.81e-01 1.06e+05  -0.3 3.41e-01    -  1.00e+00 7.75e-02h  1\n",
      "  46  5.8129134e-01 1.76e-01 1.16e+05  -0.3 3.91e-01    -  4.11e-02 5.75e-02h  1\n",
      "  47  4.7553972e-01 1.04e-01 4.10e+04  -0.3 3.77e-01    -  1.00e+00 1.00e+00f  1\n",
      "  48  4.6620533e-01 8.80e-02 5.13e+04  -0.3 2.21e-01    -  4.48e-01 7.63e-01H  1\n",
      "  49  4.6357638e-01 8.75e-02 5.01e+04  -0.3 4.13e-01    -  9.14e-01 1.30e-02h  1\n",
      "iter    objective    inf_pr   inf_du lg(mu)  ||d||  lg(rg) alpha_du alpha_pr  ls\n",
      "  50  4.6354860e-01 8.75e-02 9.27e+06  -0.3 4.15e-01    -  1.00e+00 1.40e-04h  1\n",
      "  51  4.5025092e-01 8.58e-02 1.06e+07  -0.3 2.69e-01    -  7.56e-02 1.79e-01h  1\n",
      "  52  4.4977654e-01 8.58e-02 6.35e+06  -0.3 2.53e-01    -  1.12e-02 4.73e-03h  1\n",
      "  53  4.4861716e-01 8.56e-02 1.65e+07  -0.3 2.40e-01    -  9.01e-05 1.24e-02f  1\n",
      "  54  4.4705820e-01 8.54e-02 1.67e+07  -0.3 2.34e-01    -  7.67e-01 1.76e-02h  1\n",
      "  55  4.4705521e-01 8.54e-02 1.83e+07  -0.3 2.28e-01    -  1.21e-03 3.76e-05h  1\n",
      "  56  4.4705237e-01 8.54e-02 1.67e+07  -0.3 2.26e-01    -  4.08e-07 4.18e-05f  1\n",
      "  57  4.4125961e-01 8.42e-02 4.78e+07  -0.3 2.26e-01    -  9.51e-05 8.66e-02f  1\n",
      "  58  4.4118390e-01 8.42e-02 4.80e+07  -0.3 1.93e-01    -  4.25e-02 4.31e-03h  1\n",
      "  59  4.4118313e-01 8.42e-02 4.80e+07  -0.3 1.92e-01    -  4.74e-03 4.37e-05h  1\n",
      "iter    objective    inf_pr   inf_du lg(mu)  ||d||  lg(rg) alpha_du alpha_pr  ls\n",
      "  60  4.4118000e-01 8.42e-02 4.79e+07  -0.3 1.90e-01    -  4.71e-06 4.89e-04f  1\n",
      "  61  4.4124379e-01 8.43e-02 2.31e+08  -0.3 1.90e-01    -  8.02e-04 1.00e+00f  1\n",
      "  62  4.4037715e-01 8.41e-02 2.29e+08  -0.3 1.18e-01    -  1.79e-01 1.00e-02h  1\n",
      "  63  4.4036841e-01 8.41e-02 2.29e+08  -0.3 1.18e-01    -  4.12e-05 1.29e-04h  1\n",
      "  64  4.3729877e-01 8.91e-02 1.08e+07  -0.3 8.79e-02    -  4.30e-05 1.00e+00f  1\n",
      "  65  4.6248931e-01 1.01e-01 1.14e+08  -0.3 9.27e-02    -  4.84e-03 1.00e+00f  1\n",
      "  66  4.9776617e-01 1.01e-01 8.24e+06  -0.3 4.90e-02    -  7.30e-02 1.00e+00f  1\n",
      "  67  4.9107757e-01 4.02e-02 3.76e+06   1.8 2.52e-02    -  1.00e+00 1.00e+00f  1\n",
      "  68  4.9153775e-01 2.04e-02 4.95e+05   1.0 1.30e-02    -  1.00e+00 1.00e+00f  1\n",
      "  69  4.9092979e-01 1.67e-03 3.41e+05  -0.7 4.17e-03    -  1.00e+00 1.00e+00h  1\n",
      "iter    objective    inf_pr   inf_du lg(mu)  ||d||  lg(rg) alpha_du alpha_pr  ls\n",
      "  70  4.9080175e-01 1.08e-04 6.71e+04  -2.6 7.77e-04    -  1.00e+00 1.00e+00h  1\n",
      "  71  4.9080958e-01 7.74e-06 1.59e+04  -4.5 2.50e-04    -  1.00e+00 1.00e+00h  1\n",
      "  72  4.9081655e-01 1.81e-06 2.51e+03  -6.4 6.75e-05    -  1.00e+00 1.00e+00h  1\n",
      "  73  4.9081599e-01 1.66e-07 3.39e+02  -8.2 5.67e-06    -  1.00e+00 1.00e+00h  1\n",
      "  74  4.4826214e-01 3.85e-02 3.10e+00  -9.1 9.15e-02    -  1.00e+00 1.00e+00f  1\n",
      "  75  4.4471586e-01 3.76e-02 2.56e+00  -7.1 4.88e-01    -  1.00e+00 2.24e-02h  1\n",
      "  76  4.4470267e-01 3.76e-02 2.56e+00  -5.1 1.61e+00    -  1.00e+00 2.48e-05h  2\n",
      "  77  4.4895461e-01 2.24e-02 5.75e+00  -4.8 2.44e-02    -  1.00e+00 1.00e+00h  1\n",
      "  78  4.5165863e-01 6.27e-04 5.04e+00  -6.1 1.59e-02    -  1.00e+00 1.00e+00h  1\n",
      "  79  4.5114582e-01 7.08e-02 2.29e+02  -5.4 2.65e-03    -  1.00e+00 1.00e+00h  1\n",
      "iter    objective    inf_pr   inf_du lg(mu)  ||d||  lg(rg) alpha_du alpha_pr  ls\n",
      "  80  4.5068633e-01 1.09e-03 5.55e-01  -5.6 1.80e-03    -  1.00e+00 1.00e+00h  1\n",
      "  81  4.5080690e-01 2.12e-04 1.71e-01  -6.7 5.75e-04    -  1.00e+00 1.00e+00h  1\n",
      "  82  4.5083625e-01 2.97e-05 7.54e-02  -8.6 1.34e-04    -  1.00e+00 1.00e+00h  1\n",
      "  83  4.5081901e-01 1.77e-06 2.21e-02 -10.2 7.76e-05    -  1.00e+00 1.00e+00h  1\n",
      "  84  4.5081791e-01 7.67e-07 1.09e-03 -11.0 3.88e-06    -  1.00e+00 1.00e+00h  1\n",
      "  85  4.5081993e-01 2.64e-07 5.48e-04 -11.0 9.11e-06    -  1.00e+00 1.00e+00h  1\n",
      "  86  4.5081979e-01 5.08e-08 1.18e-06 -11.0 7.39e-07    -  1.00e+00 1.00e+00h  1\n",
      "\n",
      "Number of Iterations....: 86\n",
      "\n",
      "                                   (scaled)                 (unscaled)\n",
      "Objective...............:   4.5081979485675516e-01    4.5081979485675516e-01\n",
      "Dual infeasibility......:   1.1774976688319403e-06    1.1774976688319403e-06\n",
      "Constraint violation....:   5.0751907136083185e-08    5.0751907136083185e-08\n",
      "Variable bound violation:   9.9960862159449750e-09    9.9960862159449750e-09\n",
      "Complementarity.........:   9.9999999999999994e-12    9.9999999999999994e-12\n",
      "Overall NLP error.......:   1.1774976688319403e-06    1.1774976688319403e-06\n",
      "\n",
      "\n",
      "Number of objective function evaluations             = 109\n",
      "Number of objective gradient evaluations             = 86\n",
      "Number of equality constraint evaluations            = 109\n",
      "Number of inequality constraint evaluations          = 0\n",
      "Number of equality constraint Jacobian evaluations   = 89\n",
      "Number of inequality constraint Jacobian evaluations = 0\n",
      "Number of Lagrangian Hessian evaluations             = 0\n",
      "Total seconds in IPOPT                               = 0.538\n",
      "\n",
      "EXIT: Optimal Solution Found.\n"
     ]
    }
   ],
   "source": [
    "res,x_opt,fun_opt = model.solve(max_iter=3000,tol=1e-4,print_level=5)"
   ]
  },
  {
   "cell_type": "code",
   "execution_count": 9,
   "metadata": {},
   "outputs": [],
   "source": [
    "u, q, alpha = model.objective_func.parse_vars(x_opt)"
   ]
  },
  {
   "cell_type": "code",
   "execution_count": 10,
   "metadata": {},
   "outputs": [
    {
     "data": {
      "image/png": "[encoded data removed]",
      "text/plain": [
       "<Figure size 1400x400 with 3 Axes>"
      ]
     },
     "metadata": {},
     "output_type": "display_data"
    }
   ],
   "source": [
    "u = u.reshape((scale,scale))\n",
    "plot_experiment(true,blurred,u,alpha)"
   ]
  },
  {
   "cell_type": "code",
   "execution_count": 11,
   "metadata": {},
   "outputs": [],
   "source": [
    "m = q.flatten().size\n",
    "n = m // 2\n",
    "Ku = model.K @ u.flatten()\n",
    "V = Ku.reshape(2, -1).T\n",
    "normKu = np.apply_along_axis(np.linalg.norm, axis=1, arr=V)\n",
    "Q = q.reshape(2,-1).T\n",
    "normQ = np.apply_along_axis(np.linalg.norm, axis=1, arr=Q)\n",
    "r0 = normKu\n",
    "delta0 = normQ"
   ]
  },
  {
   "cell_type": "code",
   "execution_count": 12,
   "metadata": {},
   "outputs": [],
   "source": [
    "Kxu = Ku[:n]  # Primeras n componentes\n",
    "Kyu = Ku[n:]  # Últimas n componentes\n",
    "qx = q[:n]  # Primeras n componentes\n",
    "qy = q[n:]  # Últimas n componentes\n",
    "epsilon = 1e-10  \n",
    "\n",
    "# Condiciones para calcular theta según los casos dados\n",
    "theta0 = np.zeros(n)  # Inicializamos theta0\n",
    "\n",
    "# Caso 1: r_i ≠ 0\n",
    "mask_r_nonzero = r0 > epsilon\n",
    "theta0[mask_r_nonzero] = np.arccos(Kxu[mask_r_nonzero] / r0[mask_r_nonzero])\n",
    "theta0[mask_r_nonzero & (Kyu < 0)] *= -1  # Si Ky^i u < 0, negamos theta0\n",
    "\n",
    "# Caso 2: r_i = 0 y delta_i ≠ 0\n",
    "mask_r_zero_delta_nonzero = (r0 <= epsilon) & (delta0 > epsilon)\n",
    "theta0[mask_r_zero_delta_nonzero] = np.arccos(qx[mask_r_zero_delta_nonzero] / delta0[mask_r_zero_delta_nonzero])\n",
    "theta0[mask_r_zero_delta_nonzero & (qy < 0)] *= -1  # Si qy^i < 0, negamos theta0\n",
    "\n",
    "# Caso 3: r_i = 0 y delta_i = 0 (theta0 indefinido)\n",
    "mask_r_zero_delta_zero = (r0 <= epsilon) & (delta0 <= epsilon)\n",
    "theta0[mask_r_zero_delta_zero] = 0"
   ]
  },
  {
   "cell_type": "code",
   "execution_count": 13,
   "metadata": {},
   "outputs": [],
   "source": [
    "x0_mpcc = np.concatenate((u.flatten(),q.flatten(),r0,delta0,theta0,alpha))"
   ]
  },
  {
   "cell_type": "code",
   "execution_count": 8,
   "metadata": {},
   "outputs": [],
   "source": [
    "mpcc_model = TVReconstructionMPCC(forward_map, true, blurred, x0=None, epsilon=1e-3)"
   ]
  },
  {
   "cell_type": "code",
   "execution_count": 10,
   "metadata": {},
   "outputs": [
    {
     "data": {
      "text/html": [
       "<pre style=\"white-space:pre;overflow-x:auto;line-height:normal;font-family:Menlo,'DejaVu Sans Mono',consolas,'Courier New',monospace\"> Iter   Termination_status            Objective      MPCC_compl               t\n",
       "\n",
       "</pre>\n"
      ],
      "text/plain": [
       " Iter   Termination_status            Objective      MPCC_compl               t\n",
       "\n"
      ]
     },
     "metadata": {},
     "output_type": "display_data"
    },
    {
     "data": {
      "text/html": [
       "<pre style=\"white-space:pre;overflow-x:auto;line-height:normal;font-family:Menlo,'DejaVu Sans Mono',consolas,'Courier New',monospace\">    <span style=\"color: #008080; text-decoration-color: #008080; font-weight: bold\">0</span>                 <span style=\"color: #008080; text-decoration-color: #008080; font-weight: bold\">0</span>  <span style=\"color: #008080; text-decoration-color: #008080; font-weight: bold\">0.3644094131397604</span>      <span style=\"color: #008080; text-decoration-color: #008080; font-weight: bold\">2.5417259800437053</span>                 <span style=\"color: #008080; text-decoration-color: #008080; font-weight: bold\">1.0</span>\n",
       "</pre>\n"
      ],
      "text/plain": [
       "    \u001b[1;36m0\u001b[0m                 \u001b[1;36m0\u001b[0m  \u001b[1;36m0.3644094131397604\u001b[0m      \u001b[1;36m2.5417259800437053\u001b[0m                 \u001b[1;36m1.0\u001b[0m\n"
      ]
     },
     "metadata": {},
     "output_type": "display_data"
    },
    {
     "data": {
      "text/html": [
       "<pre style=\"white-space:pre;overflow-x:auto;line-height:normal;font-family:Menlo,'DejaVu Sans Mono',consolas,'Courier New',monospace\">    <span style=\"color: #008080; text-decoration-color: #008080; font-weight: bold\">1</span>                <span style=\"color: #008080; text-decoration-color: #008080; font-weight: bold\">-3</span>  <span style=\"color: #008080; text-decoration-color: #008080; font-weight: bold\">0.36792373783953136</span>     <span style=\"color: #008080; text-decoration-color: #008080; font-weight: bold\">2.2338905201749024</span>                 <span style=\"color: #008080; text-decoration-color: #008080; font-weight: bold\">0.5</span>\n",
       "</pre>\n"
      ],
      "text/plain": [
       "    \u001b[1;36m1\u001b[0m                \u001b[1;36m-3\u001b[0m  \u001b[1;36m0.36792373783953136\u001b[0m     \u001b[1;36m2.2338905201749024\u001b[0m                 \u001b[1;36m0.5\u001b[0m\n"
      ]
     },
     "metadata": {},
     "output_type": "display_data"
    },
    {
     "data": {
      "text/html": [
       "<pre style=\"white-space:pre;overflow-x:auto;line-height:normal;font-family:Menlo,'DejaVu Sans Mono',consolas,'Courier New',monospace\">    <span style=\"color: #008080; text-decoration-color: #008080; font-weight: bold\">2</span>                 <span style=\"color: #008080; text-decoration-color: #008080; font-weight: bold\">0</span>  <span style=\"color: #008080; text-decoration-color: #008080; font-weight: bold\">0.3673733839561898</span>      <span style=\"color: #008080; text-decoration-color: #008080; font-weight: bold\">2.2072737014938317</span>                <span style=\"color: #008080; text-decoration-color: #008080; font-weight: bold\">0.55</span>\n",
       "</pre>\n"
      ],
      "text/plain": [
       "    \u001b[1;36m2\u001b[0m                 \u001b[1;36m0\u001b[0m  \u001b[1;36m0.3673733839561898\u001b[0m      \u001b[1;36m2.2072737014938317\u001b[0m                \u001b[1;36m0.55\u001b[0m\n"
      ]
     },
     "metadata": {},
     "output_type": "display_data"
    },
    {
     "data": {
      "text/html": [
       "<pre style=\"white-space:pre;overflow-x:auto;line-height:normal;font-family:Menlo,'DejaVu Sans Mono',consolas,'Courier New',monospace\">    <span style=\"color: #008080; text-decoration-color: #008080; font-weight: bold\">3</span>                <span style=\"color: #008080; text-decoration-color: #008080; font-weight: bold\">-3</span>  <span style=\"color: #008080; text-decoration-color: #008080; font-weight: bold\">0.3773792682094266</span>      <span style=\"color: #008080; text-decoration-color: #008080; font-weight: bold\">1.5631173702682362</span>      <span style=\"color: #008080; text-decoration-color: #008080; font-weight: bold\">0.24750000000000003</span>\n",
       "</pre>\n"
      ],
      "text/plain": [
       "    \u001b[1;36m3\u001b[0m                \u001b[1;36m-3\u001b[0m  \u001b[1;36m0.3773792682094266\u001b[0m      \u001b[1;36m1.5631173702682362\u001b[0m      \u001b[1;36m0.24750000000000003\u001b[0m\n"
      ]
     },
     "metadata": {},
     "output_type": "display_data"
    },
    {
     "data": {
      "text/html": [
       "<pre style=\"white-space:pre;overflow-x:auto;line-height:normal;font-family:Menlo,'DejaVu Sans Mono',consolas,'Courier New',monospace\">    <span style=\"color: #008080; text-decoration-color: #008080; font-weight: bold\">4</span>                <span style=\"color: #008080; text-decoration-color: #008080; font-weight: bold\">-3</span>  <span style=\"color: #008080; text-decoration-color: #008080; font-weight: bold\">0.37552870858091547</span>     <span style=\"color: #008080; text-decoration-color: #008080; font-weight: bold\">1.6620644322330318</span>      <span style=\"color: #008080; text-decoration-color: #008080; font-weight: bold\">0.27225000000000005</span>\n",
       "</pre>\n"
      ],
      "text/plain": [
       "    \u001b[1;36m4\u001b[0m                \u001b[1;36m-3\u001b[0m  \u001b[1;36m0.37552870858091547\u001b[0m     \u001b[1;36m1.6620644322330318\u001b[0m      \u001b[1;36m0.27225000000000005\u001b[0m\n"
      ]
     },
     "metadata": {},
     "output_type": "display_data"
    },
    {
     "data": {
      "text/html": [
       "<pre style=\"white-space:pre;overflow-x:auto;line-height:normal;font-family:Menlo,'DejaVu Sans Mono',consolas,'Courier New',monospace\">    <span style=\"color: #008080; text-decoration-color: #008080; font-weight: bold\">5</span>                <span style=\"color: #008080; text-decoration-color: #008080; font-weight: bold\">-3</span>  <span style=\"color: #008080; text-decoration-color: #008080; font-weight: bold\">0.3737944583160891</span>      <span style=\"color: #008080; text-decoration-color: #008080; font-weight: bold\">1.7805065845670993</span>      <span style=\"color: #008080; text-decoration-color: #008080; font-weight: bold\">0.2994750000000001</span>\n",
       "</pre>\n"
      ],
      "text/plain": [
       "    \u001b[1;36m5\u001b[0m                \u001b[1;36m-3\u001b[0m  \u001b[1;36m0.3737944583160891\u001b[0m      \u001b[1;36m1.7805065845670993\u001b[0m      \u001b[1;36m0.2994750000000001\u001b[0m\n"
      ]
     },
     "metadata": {},
     "output_type": "display_data"
    },
    {
     "data": {
      "text/html": [
       "<pre style=\"white-space:pre;overflow-x:auto;line-height:normal;font-family:Menlo,'DejaVu Sans Mono',consolas,'Courier New',monospace\">    <span style=\"color: #008080; text-decoration-color: #008080; font-weight: bold\">6</span>                 <span style=\"color: #008080; text-decoration-color: #008080; font-weight: bold\">0</span>  <span style=\"color: #008080; text-decoration-color: #008080; font-weight: bold\">0.37210411074815414</span>     <span style=\"color: #008080; text-decoration-color: #008080; font-weight: bold\">1.887579365524741</span>       <span style=\"color: #008080; text-decoration-color: #008080; font-weight: bold\">0.3294225000000001</span>\n",
       "</pre>\n"
      ],
      "text/plain": [
       "    \u001b[1;36m6\u001b[0m                 \u001b[1;36m0\u001b[0m  \u001b[1;36m0.37210411074815414\u001b[0m     \u001b[1;36m1.887579365524741\u001b[0m       \u001b[1;36m0.3294225000000001\u001b[0m\n"
      ]
     },
     "metadata": {},
     "output_type": "display_data"
    },
    {
     "data": {
      "text/html": [
       "<pre style=\"white-space:pre;overflow-x:auto;line-height:normal;font-family:Menlo,'DejaVu Sans Mono',consolas,'Courier New',monospace\">    <span style=\"color: #008080; text-decoration-color: #008080; font-weight: bold\">7</span>                 <span style=\"color: #008080; text-decoration-color: #008080; font-weight: bold\">0</span>  <span style=\"color: #008080; text-decoration-color: #008080; font-weight: bold\">0.3901580141062698</span>      <span style=\"color: #008080; text-decoration-color: #008080; font-weight: bold\">0.7234871754046943</span>      <span style=\"color: #008080; text-decoration-color: #008080; font-weight: bold\">0.10806705112500006</span>\n",
       "</pre>\n"
      ],
      "text/plain": [
       "    \u001b[1;36m7\u001b[0m                 \u001b[1;36m0\u001b[0m  \u001b[1;36m0.3901580141062698\u001b[0m      \u001b[1;36m0.7234871754046943\u001b[0m      \u001b[1;36m0.10806705112500006\u001b[0m\n"
      ]
     },
     "metadata": {},
     "output_type": "display_data"
    },
    {
     "data": {
      "text/html": [
       "<pre style=\"white-space:pre;overflow-x:auto;line-height:normal;font-family:Menlo,'DejaVu Sans Mono',consolas,'Courier New',monospace\">    <span style=\"color: #008080; text-decoration-color: #008080; font-weight: bold\">8</span>                 <span style=\"color: #008080; text-decoration-color: #008080; font-weight: bold\">0</span>  <span style=\"color: #008080; text-decoration-color: #008080; font-weight: bold\">0.40506471910467323</span>     <span style=\"color: #008080; text-decoration-color: #008080; font-weight: bold\">0.27357184466249224</span>     <span style=\"color: #008080; text-decoration-color: #008080; font-weight: bold\">0.035451396121556275</span>\n",
       "</pre>\n"
      ],
      "text/plain": [
       "    \u001b[1;36m8\u001b[0m                 \u001b[1;36m0\u001b[0m  \u001b[1;36m0.40506471910467323\u001b[0m     \u001b[1;36m0.27357184466249224\u001b[0m     \u001b[1;36m0.035451396121556275\u001b[0m\n"
      ]
     },
     "metadata": {},
     "output_type": "display_data"
    },
    {
     "data": {
      "text/html": [
       "<pre style=\"white-space:pre;overflow-x:auto;line-height:normal;font-family:Menlo,'DejaVu Sans Mono',consolas,'Courier New',monospace\">    <span style=\"color: #008080; text-decoration-color: #008080; font-weight: bold\">9</span>                 <span style=\"color: #008080; text-decoration-color: #008080; font-weight: bold\">0</span>  <span style=\"color: #008080; text-decoration-color: #008080; font-weight: bold\">0.4272846712128437</span>      <span style=\"color: #008080; text-decoration-color: #008080; font-weight: bold\">0.11375035162874503</span>     <span style=\"color: #008080; text-decoration-color: #008080; font-weight: bold\">0.011629830497676538</span>\n",
       "</pre>\n"
      ],
      "text/plain": [
       "    \u001b[1;36m9\u001b[0m                 \u001b[1;36m0\u001b[0m  \u001b[1;36m0.4272846712128437\u001b[0m      \u001b[1;36m0.11375035162874503\u001b[0m     \u001b[1;36m0.011629830497676538\u001b[0m\n"
      ]
     },
     "metadata": {},
     "output_type": "display_data"
    },
    {
     "data": {
      "text/html": [
       "<pre style=\"white-space:pre;overflow-x:auto;line-height:normal;font-family:Menlo,'DejaVu Sans Mono',consolas,'Courier New',monospace\">   <span style=\"color: #008080; text-decoration-color: #008080; font-weight: bold\">10</span>                 <span style=\"color: #008080; text-decoration-color: #008080; font-weight: bold\">0</span>  <span style=\"color: #008080; text-decoration-color: #008080; font-weight: bold\">0.44391004977211124</span>     <span style=\"color: #008080; text-decoration-color: #008080; font-weight: bold\">0.04242307443059313</span>     <span style=\"color: #008080; text-decoration-color: #008080; font-weight: bold\">0.003815165894762789</span>\n",
       "</pre>\n"
      ],
      "text/plain": [
       "   \u001b[1;36m10\u001b[0m                 \u001b[1;36m0\u001b[0m  \u001b[1;36m0.44391004977211124\u001b[0m     \u001b[1;36m0.04242307443059313\u001b[0m     \u001b[1;36m0.003815165894762789\u001b[0m\n"
      ]
     },
     "metadata": {},
     "output_type": "display_data"
    },
    {
     "data": {
      "text/html": [
       "<pre style=\"white-space:pre;overflow-x:auto;line-height:normal;font-family:Menlo,'DejaVu Sans Mono',consolas,'Courier New',monospace\">   <span style=\"color: #008080; text-decoration-color: #008080; font-weight: bold\">11</span>                 <span style=\"color: #008080; text-decoration-color: #008080; font-weight: bold\">0</span>  <span style=\"color: #008080; text-decoration-color: #008080; font-weight: bold\">0.4490034194764709</span>      <span style=\"color: #008080; text-decoration-color: #008080; font-weight: bold\">0.01787463941247754</span>     <span style=\"color: #008080; text-decoration-color: #008080; font-weight: bold\">0.0012515651717769332</span>\n",
       "</pre>\n"
      ],
      "text/plain": [
       "   \u001b[1;36m11\u001b[0m                 \u001b[1;36m0\u001b[0m  \u001b[1;36m0.4490034194764709\u001b[0m      \u001b[1;36m0.01787463941247754\u001b[0m     \u001b[1;36m0.0012515651717769332\u001b[0m\n"
      ]
     },
     "metadata": {},
     "output_type": "display_data"
    },
    {
     "data": {
      "text/html": [
       "<pre style=\"white-space:pre;overflow-x:auto;line-height:normal;font-family:Menlo,'DejaVu Sans Mono',consolas,'Courier New',monospace\">   <span style=\"color: #008080; text-decoration-color: #008080; font-weight: bold\">12</span>                 <span style=\"color: #008080; text-decoration-color: #008080; font-weight: bold\">0</span>  <span style=\"color: #008080; text-decoration-color: #008080; font-weight: bold\">0.4553332898198729</span>      <span style=\"color: #008080; text-decoration-color: #008080; font-weight: bold\">0.007804866728085936</span>    <span style=\"color: #008080; text-decoration-color: #008080; font-weight: bold\">0.000410575954601423</span>\n",
       "</pre>\n"
      ],
      "text/plain": [
       "   \u001b[1;36m12\u001b[0m                 \u001b[1;36m0\u001b[0m  \u001b[1;36m0.4553332898198729\u001b[0m      \u001b[1;36m0.007804866728085936\u001b[0m    \u001b[1;36m0.000410575954601423\u001b[0m\n"
      ]
     },
     "metadata": {},
     "output_type": "display_data"
    },
    {
     "data": {
      "text/html": [
       "<pre style=\"white-space:pre;overflow-x:auto;line-height:normal;font-family:Menlo,'DejaVu Sans Mono',consolas,'Courier New',monospace\">   <span style=\"color: #008080; text-decoration-color: #008080; font-weight: bold\">13</span>                 <span style=\"color: #008080; text-decoration-color: #008080; font-weight: bold\">0</span>  <span style=\"color: #008080; text-decoration-color: #008080; font-weight: bold\">0.4600639795262567</span>      <span style=\"color: #008080; text-decoration-color: #008080; font-weight: bold\">0.0031653291034719083</span>   <span style=\"color: #008080; text-decoration-color: #008080; font-weight: bold\">0.00013468944190699685</span>\n",
       "</pre>\n"
      ],
      "text/plain": [
       "   \u001b[1;36m13\u001b[0m                 \u001b[1;36m0\u001b[0m  \u001b[1;36m0.4600639795262567\u001b[0m      \u001b[1;36m0.0031653291034719083\u001b[0m   \u001b[1;36m0.00013468944190699685\u001b[0m\n"
      ]
     },
     "metadata": {},
     "output_type": "display_data"
    },
    {
     "data": {
      "text/html": [
       "<pre style=\"white-space:pre;overflow-x:auto;line-height:normal;font-family:Menlo,'DejaVu Sans Mono',consolas,'Courier New',monospace\">   <span style=\"color: #008080; text-decoration-color: #008080; font-weight: bold\">14</span>                 <span style=\"color: #008080; text-decoration-color: #008080; font-weight: bold\">0</span>  <span style=\"color: #008080; text-decoration-color: #008080; font-weight: bold\">0.47088693070515</span>        <span style=\"color: #008080; text-decoration-color: #008080; font-weight: bold\">0.003435859720765578</span>    <span style=\"color: #008080; text-decoration-color: #008080; font-weight: bold\">4.4184871417590325e-05</span>\n",
       "</pre>\n"
      ],
      "text/plain": [
       "   \u001b[1;36m14\u001b[0m                 \u001b[1;36m0\u001b[0m  \u001b[1;36m0.47088693070515\u001b[0m        \u001b[1;36m0.003435859720765578\u001b[0m    \u001b[1;36m4.4184871417590325e-05\u001b[0m\n"
      ]
     },
     "metadata": {},
     "output_type": "display_data"
    },
    {
     "data": {
      "text/html": [
       "<pre style=\"white-space:pre;overflow-x:auto;line-height:normal;font-family:Menlo,'DejaVu Sans Mono',consolas,'Courier New',monospace\">   <span style=\"color: #008080; text-decoration-color: #008080; font-weight: bold\">15</span>                 <span style=\"color: #008080; text-decoration-color: #008080; font-weight: bold\">0</span>  <span style=\"color: #008080; text-decoration-color: #008080; font-weight: bold\">0.4889962754412885</span>      <span style=\"color: #008080; text-decoration-color: #008080; font-weight: bold\">0.005053339170923973</span>    <span style=\"color: #008080; text-decoration-color: #008080; font-weight: bold\">1.449484706854051e-05</span>\n",
       "</pre>\n"
      ],
      "text/plain": [
       "   \u001b[1;36m15\u001b[0m                 \u001b[1;36m0\u001b[0m  \u001b[1;36m0.4889962754412885\u001b[0m      \u001b[1;36m0.005053339170923973\u001b[0m    \u001b[1;36m1.449484706854051e-05\u001b[0m\n"
      ]
     },
     "metadata": {},
     "output_type": "display_data"
    },
    {
     "data": {
      "text/html": [
       "<pre style=\"white-space:pre;overflow-x:auto;line-height:normal;font-family:Menlo,'DejaVu Sans Mono',consolas,'Courier New',monospace\">Intermediate result:  message: <span style=\"color: #008000; text-decoration-color: #008000\">b'Algorithm terminated successfully at a locally optimal point, satisfying the </span>\n",
       "<span style=\"color: #008000; text-decoration-color: #008000\">convergence tolerances (can be specified by options).'</span>\n",
       " success: <span style=\"color: #00ff00; text-decoration-color: #00ff00; font-style: italic\">True</span>\n",
       "  status: <span style=\"color: #008080; text-decoration-color: #008080; font-weight: bold\">0</span>\n",
       "     fun: <span style=\"color: #008080; text-decoration-color: #008080; font-weight: bold\">0.4889962754412885</span>\n",
       "       x: <span style=\"font-weight: bold\">[</span> <span style=\"color: #008080; text-decoration-color: #008080; font-weight: bold\">8.957e-01</span>  <span style=\"color: #008080; text-decoration-color: #008080; font-weight: bold\">9.212e-01</span> <span style=\"color: #808000; text-decoration-color: #808000\">...</span> <span style=\"color: #008080; text-decoration-color: #008080; font-weight: bold\">-3.905e+00</span>  <span style=\"color: #008080; text-decoration-color: #008080; font-weight: bold\">3.492e-03</span><span style=\"font-weight: bold\">]</span>\n",
       "     nit: <span style=\"color: #008080; text-decoration-color: #008080; font-weight: bold\">580</span>\n",
       "    info:     status: <span style=\"color: #008080; text-decoration-color: #008080; font-weight: bold\">0</span>\n",
       "                   x: <span style=\"font-weight: bold\">[</span> <span style=\"color: #008080; text-decoration-color: #008080; font-weight: bold\">8.957e-01</span>  <span style=\"color: #008080; text-decoration-color: #008080; font-weight: bold\">9.212e-01</span> <span style=\"color: #808000; text-decoration-color: #808000\">...</span> <span style=\"color: #008080; text-decoration-color: #008080; font-weight: bold\">-3.905e+00</span>  <span style=\"color: #008080; text-decoration-color: #008080; font-weight: bold\">3.492e-03</span><span style=\"font-weight: bold\">]</span>\n",
       "                   g: <span style=\"font-weight: bold\">[</span> <span style=\"color: #008080; text-decoration-color: #008080; font-weight: bold\">5.673e-04</span> <span style=\"color: #008080; text-decoration-color: #008080; font-weight: bold\">-9.810e-09</span> <span style=\"color: #808000; text-decoration-color: #808000\">...</span> <span style=\"color: #008080; text-decoration-color: #008080; font-weight: bold\">-9.758e-19</span> <span style=\"color: #008080; text-decoration-color: #008080; font-weight: bold\">-2.602e-18</span><span style=\"font-weight: bold\">]</span>\n",
       "             obj_val: <span style=\"color: #008080; text-decoration-color: #008080; font-weight: bold\">0.4889962754412885</span>\n",
       "              mult_g: <span style=\"font-weight: bold\">[</span><span style=\"color: #008080; text-decoration-color: #008080; font-weight: bold\">-1.617e-08</span> <span style=\"color: #008080; text-decoration-color: #008080; font-weight: bold\">-5.255e-02</span> <span style=\"color: #808000; text-decoration-color: #808000\">...</span>  <span style=\"color: #008080; text-decoration-color: #008080; font-weight: bold\">2.440e-01</span>  <span style=\"color: #008080; text-decoration-color: #008080; font-weight: bold\">1.247e-01</span><span style=\"font-weight: bold\">]</span>\n",
       "            mult_x_L: <span style=\"font-weight: bold\">[</span> <span style=\"color: #008080; text-decoration-color: #008080; font-weight: bold\">1.116e-11</span>  <span style=\"color: #008080; text-decoration-color: #008080; font-weight: bold\">1.086e-11</span> <span style=\"color: #808000; text-decoration-color: #808000\">...</span>  <span style=\"color: #008080; text-decoration-color: #008080; font-weight: bold\">0.000e+00</span>  <span style=\"color: #008080; text-decoration-color: #008080; font-weight: bold\">2.864e-09</span><span style=\"font-weight: bold\">]</span>\n",
       "            mult_x_U: <span style=\"font-weight: bold\">[</span> <span style=\"color: #008080; text-decoration-color: #008080; font-weight: bold\">0.000e+00</span>  <span style=\"color: #008080; text-decoration-color: #008080; font-weight: bold\">0.000e+00</span> <span style=\"color: #808000; text-decoration-color: #808000\">...</span>  <span style=\"color: #008080; text-decoration-color: #008080; font-weight: bold\">0.000e+00</span>  <span style=\"color: #008080; text-decoration-color: #008080; font-weight: bold\">0.000e+00</span><span style=\"font-weight: bold\">]</span>\n",
       "          status_msg: <span style=\"color: #008000; text-decoration-color: #008000\">b'Algorithm terminated successfully at a locally optimal point, satisfying the convergence </span>\n",
       "<span style=\"color: #008000; text-decoration-color: #008000\">tolerances (can be specified by options).'</span>\n",
       "    nfev: <span style=\"color: #008080; text-decoration-color: #008080; font-weight: bold\">583</span>\n",
       "    njev: <span style=\"color: #008080; text-decoration-color: #008080; font-weight: bold\">582</span>\n",
       "</pre>\n"
      ],
      "text/plain": [
       "Intermediate result:  message: \u001b[32mb'Algorithm terminated successfully at a locally optimal point, satisfying the \u001b[0m\n",
       "\u001b[32mconvergence tolerances \u001b[0m\u001b[32m(\u001b[0m\u001b[32mcan be specified by options\u001b[0m\u001b[32m)\u001b[0m\u001b[32m.'\u001b[0m\n",
       " success: \u001b[3;92mTrue\u001b[0m\n",
       "  status: \u001b[1;36m0\u001b[0m\n",
       "     fun: \u001b[1;36m0.4889962754412885\u001b[0m\n",
       "       x: \u001b[1m[\u001b[0m \u001b[1;36m8.957e-01\u001b[0m  \u001b[1;36m9.212e-01\u001b[0m \u001b[33m...\u001b[0m \u001b[1;36m-3.905e+00\u001b[0m  \u001b[1;36m3.492e-03\u001b[0m\u001b[1m]\u001b[0m\n",
       "     nit: \u001b[1;36m580\u001b[0m\n",
       "    info:     status: \u001b[1;36m0\u001b[0m\n",
       "                   x: \u001b[1m[\u001b[0m \u001b[1;36m8.957e-01\u001b[0m  \u001b[1;36m9.212e-01\u001b[0m \u001b[33m...\u001b[0m \u001b[1;36m-3.905e+00\u001b[0m  \u001b[1;36m3.492e-03\u001b[0m\u001b[1m]\u001b[0m\n",
       "                   g: \u001b[1m[\u001b[0m \u001b[1;36m5.673e-04\u001b[0m \u001b[1;36m-9.810e-09\u001b[0m \u001b[33m...\u001b[0m \u001b[1;36m-9.758e-19\u001b[0m \u001b[1;36m-2.602e-18\u001b[0m\u001b[1m]\u001b[0m\n",
       "             obj_val: \u001b[1;36m0.4889962754412885\u001b[0m\n",
       "              mult_g: \u001b[1m[\u001b[0m\u001b[1;36m-1.617e-08\u001b[0m \u001b[1;36m-5.255e-02\u001b[0m \u001b[33m...\u001b[0m  \u001b[1;36m2.440e-01\u001b[0m  \u001b[1;36m1.247e-01\u001b[0m\u001b[1m]\u001b[0m\n",
       "            mult_x_L: \u001b[1m[\u001b[0m \u001b[1;36m1.116e-11\u001b[0m  \u001b[1;36m1.086e-11\u001b[0m \u001b[33m...\u001b[0m  \u001b[1;36m0.000e+00\u001b[0m  \u001b[1;36m2.864e-09\u001b[0m\u001b[1m]\u001b[0m\n",
       "            mult_x_U: \u001b[1m[\u001b[0m \u001b[1;36m0.000e+00\u001b[0m  \u001b[1;36m0.000e+00\u001b[0m \u001b[33m...\u001b[0m  \u001b[1;36m0.000e+00\u001b[0m  \u001b[1;36m0.000e+00\u001b[0m\u001b[1m]\u001b[0m\n",
       "          status_msg: \u001b[32mb'Algorithm terminated successfully at a locally optimal point, satisfying the convergence \u001b[0m\n",
       "\u001b[32mtolerances \u001b[0m\u001b[32m(\u001b[0m\u001b[32mcan be specified by options\u001b[0m\u001b[32m)\u001b[0m\u001b[32m.'\u001b[0m\n",
       "    nfev: \u001b[1;36m583\u001b[0m\n",
       "    njev: \u001b[1;36m582\u001b[0m\n"
      ]
     },
     "metadata": {},
     "output_type": "display_data"
    },
    {
     "data": {
      "text/html": [
       "<pre style=\"white-space:pre;overflow-x:auto;line-height:normal;font-family:Menlo,'DejaVu Sans Mono',consolas,'Courier New',monospace\">Intermediate fn: <span style=\"color: #008080; text-decoration-color: #008080; font-weight: bold\">0.4889962754412885</span>\n",
       "</pre>\n"
      ],
      "text/plain": [
       "Intermediate fn: \u001b[1;36m0.4889962754412885\u001b[0m\n"
      ]
     },
     "metadata": {},
     "output_type": "display_data"
    },
    {
     "data": {
      "text/html": [
       "<pre style=\"white-space:pre;overflow-x:auto;line-height:normal;font-family:Menlo,'DejaVu Sans Mono',consolas,'Courier New',monospace\">complementarity: <span style=\"color: #008080; text-decoration-color: #008080; font-weight: bold\">0.005053339170923973</span>\n",
       "</pre>\n"
      ],
      "text/plain": [
       "complementarity: \u001b[1;36m0.005053339170923973\u001b[0m\n"
      ]
     },
     "metadata": {},
     "output_type": "display_data"
    },
    {
     "data": {
      "text/html": [
       "<pre style=\"white-space:pre;overflow-x:auto;line-height:normal;font-family:Menlo,'DejaVu Sans Mono',consolas,'Courier New',monospace\">* <span style=\"font-weight: bold\">(</span>STOPPED<span style=\"font-weight: bold\">)</span> Iteration <span style=\"color: #008080; text-decoration-color: #008080; font-weight: bold\">17</span>: Solving the NLP problem for t = <span style=\"color: #008080; text-decoration-color: #008080; font-weight: bold\">1e-05</span> with complementarity: <span style=\"color: #008080; text-decoration-color: #008080; font-weight: bold\">0.005053339170923973</span>\n",
       "</pre>\n"
      ],
      "text/plain": [
       "* \u001b[1m(\u001b[0mSTOPPED\u001b[1m)\u001b[0m Iteration \u001b[1;36m17\u001b[0m: Solving the NLP problem for t = \u001b[1;36m1e-05\u001b[0m with complementarity: \u001b[1;36m0.005053339170923973\u001b[0m\n"
      ]
     },
     "metadata": {},
     "output_type": "display_data"
    }
   ],
   "source": [
    "res_mpcc,x_opt_mpcc,fun_opt_mpcc = mpcc_model.solve(max_iter=100,tol=1e-4,print_level=0,verbose=True)"
   ]
  },
  {
   "cell_type": "code",
   "execution_count": 11,
   "metadata": {},
   "outputs": [],
   "source": [
    "u_mpcc, q_mpcc, r_mpcc, delta_mpcc, theta_mpcc, alpha_mpcc = mpcc_model.objective_func.parse_vars(x_opt_mpcc)"
   ]
  },
  {
   "cell_type": "code",
   "execution_count": 12,
   "metadata": {},
   "outputs": [
    {
     "data": {
      "image/png": "[encoded data removed]",
      "text/plain": [
       "<Figure size 1400x400 with 3 Axes>"
      ]
     },
     "metadata": {},
     "output_type": "display_data"
    }
   ],
   "source": [
    "u_mpcc = u_mpcc.reshape((scale,scale))\n",
    "plot_experiment(true,blurred,u_mpcc,alpha_mpcc)"
   ]
  },
  {
   "cell_type": "code",
   "execution_count": null,
   "metadata": {},
   "outputs": [],
   "source": []
  }
 ],
 "metadata": {
  "kernelspec": {
   "display_name": ".venv",
   "language": "python",
   "name": "python3"
  },
  "language_info": {
   "codemirror_mode": {
    "name": "ipython",
    "version": 3
   },
   "file_extension": ".py",
   "mimetype": "text/x-python",
   "name": "python",
   "nbconvert_exporter": "python",
   "pygments_lexer": "ipython3",
   "version": "3.12.7"
  }
 },
 "nbformat": 4,
 "nbformat_minor": 2
}
