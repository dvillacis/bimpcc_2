{
 "cells": [
  {
   "cell_type": "code",
   "execution_count": 1,
   "metadata": {},
   "outputs": [],
   "source": [
    "import sys\n",
    "import os\n",
    "# Get the absolute path to the project root\n",
    "project_root = os.path.abspath(os.path.join(os.getcwd(), \"..\"))\n",
    "# Add it to sys.path\n",
    "sys.path.append(project_root)"
   ]
  },
  {
   "cell_type": "code",
   "execution_count": 2,
   "metadata": {},
   "outputs": [],
   "source": [
    "from bimpcc.dataset import get_blur_dataset\n",
    "import numpy as np\n",
    "from bimpcc.dataset import get_dataset\n",
    "from bimpcc.models.recons_regularized import TVReconsRegularized\n",
    "import matplotlib.pyplot as plt\n",
    "from skimage.metrics import peak_signal_noise_ratio as psnr"
   ]
  },
  {
   "cell_type": "code",
   "execution_count": 3,
   "metadata": {},
   "outputs": [],
   "source": [
    "def plot_experiment(true,noisy,u, alpha):\n",
    "    \n",
    "    fig,ax = plt.subplots(1,3,figsize=(14,4))\n",
    "    ax[0].imshow(true,cmap='gray')\n",
    "    ax[0].set_title('True Image')\n",
    "    ax[0].axis('off')\n",
    "    ax[1].imshow(noisy,cmap='gray')\n",
    "    ax[1].set_title('Noisy Image\\nPSNR: {:.4f}'.format(psnr(true,noisy)))\n",
    "    ax[1].axis('off')\n",
    "    ax[2].imshow(u,cmap='gray')\n",
    "    ax[2].set_title(f'Reconstructed Image\\nPSNR: {psnr(true,u):.4f}\\n alpha = {alpha}')\n",
    "    # ax[2].set_xlabel('alpha = {}'.format(alpha))\n",
    "    ax[2].axis('off')\n",
    "\n",
    "    plt.show()"
   ]
  },
  {
   "cell_type": "code",
   "execution_count": 4,
   "metadata": {},
   "outputs": [],
   "source": [
    "scale = 20"
   ]
  },
  {
   "cell_type": "code",
   "execution_count": 5,
   "metadata": {},
   "outputs": [],
   "source": [
    "dataset = get_blur_dataset(\"cameraman\",scale=scale)\n",
    "true, blurred = dataset.get_training_data()"
   ]
  },
  {
   "cell_type": "code",
   "execution_count": 6,
   "metadata": {},
   "outputs": [
    {
     "data": {
      "text/plain": [
       "(np.float64(-0.5), np.float64(19.5), np.float64(19.5), np.float64(-0.5))"
      ]
     },
     "execution_count": 6,
     "metadata": {},
     "output_type": "execute_result"
    },
    {
     "data": {
      "image/png": "[encoded data removed]",
      "text/plain": [
       "<Figure size 1000x500 with 2 Axes>"
      ]
     },
     "metadata": {},
     "output_type": "display_data"
    }
   ],
   "source": [
    "fig,ax = plt.subplots(1,2,figsize=(10,5))\n",
    "ax[0].imshow(true,cmap='gray')\n",
    "ax[0].set_title('True Image')\n",
    "ax[0].axis('off')\n",
    "ax[1].imshow(blurred,cmap='gray')\n",
    "ax[1].set_title('Blurred Image')\n",
    "ax[1].axis('off')"
   ]
  },
  {
   "cell_type": "code",
   "execution_count": 7,
   "metadata": {},
   "outputs": [],
   "source": [
    "from bimpcc.utils import gaussian_blur_sparse_matrix_symmetric\n",
    "forward_map = gaussian_blur_sparse_matrix_symmetric(true.shape)\n",
    "model = TVReconsRegularized(forward_map, true, blurred, epsilon=1e-3)"
   ]
  },
  {
   "cell_type": "code",
   "execution_count": 8,
   "metadata": {},
   "outputs": [
    {
     "name": "stdout",
     "output_type": "stream",
     "text": [
      "\n",
      "******************************************************************************\n",
      "This program contains Ipopt, a library for large-scale nonlinear optimization.\n",
      " Ipopt is released as open source code under the Eclipse Public License (EPL).\n",
      "         For more information visit https://github.com/coin-or/Ipopt\n",
      "******************************************************************************\n",
      "\n",
      "This is Ipopt version 3.14.17, running with linear solver MUMPS 5.6.2.\n",
      "\n",
      "Number of nonzeros in equality constraint Jacobian...:    14840\n",
      "Number of nonzeros in inequality constraint Jacobian.:        0\n",
      "Number of nonzeros in Lagrangian Hessian.............:        0\n",
      "\n",
      "Total number of variables............................:     1161\n",
      "                     variables with only lower bounds:      401\n",
      "                variables with lower and upper bounds:        0\n",
      "                     variables with only upper bounds:        0\n",
      "Total number of equality constraints.................:     1160\n",
      "Total number of inequality constraints...............:        0\n",
      "        inequality constraints with only lower bounds:        0\n",
      "   inequality constraints with lower and upper bounds:        0\n",
      "        inequality constraints with only upper bounds:        0\n",
      "\n",
      "iter    objective    inf_pr   inf_du lg(mu)  ||d||  lg(rg) alpha_du alpha_pr  ls\n",
      "   0  2.1894773e+00 5.51e-02 1.21e-01   0.0 0.00e+00    -  0.00e+00 0.00e+00   0\n",
      "   1  1.9678085e+00 2.49e-02 3.74e+01  -1.5 9.93e-02    -  8.98e-01 1.00e+00h  1\n",
      "   2  1.8088196e+00 2.45e-02 1.83e+02  -1.7 1.72e-01    -  1.00e+00 1.00e+00h  1\n",
      "   3  1.7603729e+00 2.03e-02 2.62e+00  -2.3 5.02e-02    -  1.00e+00 1.00e+00h  1\n",
      "   4  1.7306414e+00 1.76e-02 2.59e+00  -3.1 4.36e-02    -  1.00e+00 6.55e-01h  1\n",
      "   5  1.7302238e+00 1.68e-02 2.65e+01  -3.5 2.89e-02    -  1.00e+00 1.00e+00h  1\n",
      "   6  1.7309666e+00 1.63e-02 1.10e+01  -4.2 3.85e-02    -  1.00e+00 1.00e+00h  1\n",
      "   7  1.7298122e+00 1.46e-02 7.45e+00  -5.5 1.58e-02    -  1.00e+00 1.00e+00h  1\n",
      "   8  1.7266679e+00 1.60e-02 2.07e+00  -6.5 3.30e-02    -  1.00e+00 1.00e+00h  1\n",
      "   9  1.7256579e+00 1.13e-02 7.80e-01  -7.4 2.48e-03    -  1.00e+00 1.00e+00h  1\n",
      "iter    objective    inf_pr   inf_du lg(mu)  ||d||  lg(rg) alpha_du alpha_pr  ls\n",
      "  10  1.7253924e+00 8.38e-03 8.36e-01  -9.1 3.11e-03    -  1.00e+00 1.00e+00h  1\n",
      "  11  1.7255103e+00 1.04e-03 3.75e-01 -10.7 1.54e-03    -  1.00e+00 1.00e+00h  1\n",
      "  12  1.7254993e+00 1.72e-05 2.22e-01 -11.0 3.82e-05    -  1.00e+00 1.00e+00h  1\n",
      "  13  1.7254967e+00 3.07e-07 4.13e-03 -11.0 9.58e-06    -  1.00e+00 1.00e+00h  1\n",
      "  14  1.7254970e+00 3.16e-08 3.45e-06 -11.0 1.99e-06    -  1.00e+00 1.00e+00h  1\n",
      "\n",
      "Number of Iterations....: 14\n",
      "\n",
      "                                   (scaled)                 (unscaled)\n",
      "Objective...............:   1.7254970253019499e+00    1.7254970253019499e+00\n",
      "Dual infeasibility......:   3.4497608668164908e-06    3.4497608668164908e-06\n",
      "Constraint violation....:   3.1600244737757521e-08    3.1600244737757521e-08\n",
      "Variable bound violation:   9.9986895162274715e-09    9.9986895162274715e-09\n",
      "Complementarity.........:   1.0000000000000001e-11    1.0000000000000001e-11\n",
      "Overall NLP error.......:   3.4497608668164908e-06    3.4497608668164908e-06\n",
      "\n",
      "\n",
      "Number of objective function evaluations             = 15\n",
      "Number of objective gradient evaluations             = 15\n",
      "Number of equality constraint evaluations            = 15\n",
      "Number of inequality constraint evaluations          = 0\n",
      "Number of equality constraint Jacobian evaluations   = 15\n",
      "Number of inequality constraint Jacobian evaluations = 0\n",
      "Number of Lagrangian Hessian evaluations             = 0\n",
      "Total seconds in IPOPT                               = 0.384\n",
      "\n",
      "EXIT: Optimal Solution Found.\n"
     ]
    }
   ],
   "source": [
    "res,x_opt,fun_opt = model.solve(max_iter=3000,tol=1e-4,print_level=5)"
   ]
  },
  {
   "cell_type": "code",
   "execution_count": 9,
   "metadata": {},
   "outputs": [],
   "source": [
    "u, q, alpha = model.objective_func.parse_vars(x_opt)"
   ]
  },
  {
   "cell_type": "code",
   "execution_count": 10,
   "metadata": {},
   "outputs": [
    {
     "data": {
      "image/png": "[encoded data removed]",
      "text/plain": [
       "<Figure size 1400x400 with 3 Axes>"
      ]
     },
     "metadata": {},
     "output_type": "display_data"
    }
   ],
   "source": [
    "u = u.reshape((scale,scale))\n",
    "plot_experiment(true,blurred,u,alpha)"
   ]
  },
  {
   "cell_type": "code",
   "execution_count": null,
   "metadata": {},
   "outputs": [],
   "source": []
  }
 ],
 "metadata": {
  "kernelspec": {
   "display_name": "Python 3",
   "language": "python",
   "name": "python3"
  },
  "language_info": {
   "codemirror_mode": {
    "name": "ipython",
    "version": 3
   },
   "file_extension": ".py",
   "mimetype": "text/x-python",
   "name": "python",
   "nbconvert_exporter": "python",
   "pygments_lexer": "ipython3",
   "version": "3.13.1"
  }
 },
 "nbformat": 4,
 "nbformat_minor": 2
}
