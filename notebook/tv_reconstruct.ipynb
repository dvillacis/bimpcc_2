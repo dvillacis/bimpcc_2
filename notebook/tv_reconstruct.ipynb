{
 "cells": [
  {
   "cell_type": "code",
   "execution_count": 1,
   "metadata": {},
   "outputs": [],
   "source": [
    "import sys\n",
    "import os\n",
    "# Get the absolute path to the project root\n",
    "project_root = os.path.abspath(os.path.join(os.getcwd(), \"..\"))\n",
    "# Add it to sys.path\n",
    "sys.path.append(project_root)"
   ]
  },
  {
   "cell_type": "code",
   "execution_count": 2,
   "metadata": {},
   "outputs": [],
   "source": [
    "from bimpcc.dataset import get_blur_dataset\n",
    "from bimpcc.dataset import get_dataset\n",
    "import numpy as np\n",
    "import scipy.sparse as sp\n",
    "from bimpcc.models.recons_regularized import TVReconsRegularized\n",
    "from bimpcc.models.tvreconstruction_model import TVReconstructionMPCC\n",
    "import matplotlib.pyplot as plt\n",
    "from skimage.metrics import peak_signal_noise_ratio as psnr"
   ]
  },
  {
   "cell_type": "code",
   "execution_count": 3,
   "metadata": {},
   "outputs": [],
   "source": [
    "def plot_experiment(true,noisy,u, alpha):\n",
    "    \n",
    "    fig,ax = plt.subplots(1,3,figsize=(14,4))\n",
    "    ax[0].imshow(true,cmap='gray')\n",
    "    ax[0].set_title('True Image')\n",
    "    ax[0].axis('off')\n",
    "    ax[1].imshow(noisy,cmap='gray')\n",
    "    ax[1].set_title('Noisy Image\\nPSNR: {:.4f}'.format(psnr(true,noisy)))\n",
    "    ax[1].axis('off')\n",
    "    ax[2].imshow(u,cmap='gray')\n",
    "    ax[2].set_title(f'Reconstructed Image\\nPSNR: {psnr(true,u):.4f}\\n alpha = {alpha}')\n",
    "    # ax[2].set_xlabel('alpha = {}'.format(alpha))\n",
    "    ax[2].axis('off')\n",
    "\n",
    "    plt.show()"
   ]
  },
  {
   "cell_type": "code",
   "execution_count": 4,
   "metadata": {},
   "outputs": [],
   "source": [
    "scale = 20"
   ]
  },
  {
   "cell_type": "code",
   "execution_count": 5,
   "metadata": {},
   "outputs": [],
   "source": [
    "dataset = get_blur_dataset(\"cameraman\",scale=scale)\n",
    "# dataset = get_dataset(\"cameraman\",scale=scale)\n",
    "true, blurred = dataset.get_training_data()"
   ]
  },
  {
   "cell_type": "code",
   "execution_count": 6,
   "metadata": {},
   "outputs": [
    {
     "data": {
      "text/plain": [
       "(np.float64(-0.5), np.float64(19.5), np.float64(19.5), np.float64(-0.5))"
      ]
     },
     "execution_count": 6,
     "metadata": {},
     "output_type": "execute_result"
    },
    {
     "data": {
      "image/png": "[encoded data removed]",
      "text/plain": [
       "<Figure size 1000x500 with 2 Axes>"
      ]
     },
     "metadata": {},
     "output_type": "display_data"
    }
   ],
   "source": [
    "fig,ax = plt.subplots(1,2,figsize=(10,5))\n",
    "ax[0].imshow(true,cmap='gray')\n",
    "ax[0].set_title('True Image')\n",
    "ax[0].axis('off')\n",
    "ax[1].imshow(blurred,cmap='gray')\n",
    "ax[1].set_title('Blurred Image')\n",
    "ax[1].axis('off')"
   ]
  },
  {
   "cell_type": "code",
   "execution_count": 7,
   "metadata": {},
   "outputs": [],
   "source": [
    "from bimpcc.utils import gaussian_blur_sparse_matrix_symmetric\n",
    "forward_map = gaussian_blur_sparse_matrix_symmetric(true.shape)\n",
    "# forward_map = sp.eye(np.prod(true.shape))\n",
    "model = TVReconsRegularized(forward_map, true, blurred, epsilon=1e-3)"
   ]
  },
  {
   "cell_type": "code",
   "execution_count": 8,
   "metadata": {},
   "outputs": [
    {
     "name": "stdout",
     "output_type": "stream",
     "text": [
      "\n",
      "******************************************************************************\n",
      "This program contains Ipopt, a library for large-scale nonlinear optimization.\n",
      " Ipopt is released as open source code under the Eclipse Public License (EPL).\n",
      "         For more information visit https://github.com/coin-or/Ipopt\n",
      "******************************************************************************\n",
      "\n",
      "This is Ipopt version 3.14.17, running with linear solver MUMPS 5.6.2.\n",
      "\n",
      "Number of nonzeros in equality constraint Jacobian...:    14840\n",
      "Number of nonzeros in inequality constraint Jacobian.:        0\n",
      "Number of nonzeros in Lagrangian Hessian.............:        0\n",
      "\n",
      "Total number of variables............................:     1161\n",
      "                     variables with only lower bounds:      401\n",
      "                variables with lower and upper bounds:        0\n",
      "                     variables with only upper bounds:        0\n",
      "Total number of equality constraints.................:     1160\n",
      "Total number of inequality constraints...............:        0\n",
      "        inequality constraints with only lower bounds:        0\n",
      "   inequality constraints with lower and upper bounds:        0\n",
      "        inequality constraints with only upper bounds:        0\n",
      "\n",
      "iter    objective    inf_pr   inf_du lg(mu)  ||d||  lg(rg) alpha_du alpha_pr  ls\n",
      "   0  2.1896894e+00 5.51e-02 1.14e-01   0.0 0.00e+00    -  0.00e+00 0.00e+00   0\n",
      "   1  1.9464394e+00 2.42e-02 3.28e+01  -1.6 1.03e-01    -  8.91e-01 1.00e+00h  1\n",
      "   2  1.8082443e+00 2.43e-02 6.78e+01  -1.8 1.82e-01    -  1.00e+00 1.00e+00h  1\n",
      "   3  1.7526472e+00 1.83e-02 3.50e+00  -2.2 4.27e-02    -  1.00e+00 1.00e+00h  1\n",
      "   4  1.7183294e+00 1.56e-02 7.53e+00  -3.1 4.72e-02    -  1.00e+00 5.26e-01h  1\n",
      "   5  1.7138987e+00 1.66e-02 1.80e+01  -3.6 2.36e-02    -  6.00e-01 1.00e+00H  1\n",
      "   6  1.7282215e+00 1.66e-02 3.56e+01  -3.5 4.35e-02    -  1.00e+00 1.00e+00h  1\n",
      "   7  1.7193960e+00 1.60e-02 1.72e+01  -3.6 4.68e-02    -  1.00e+00 1.00e+00h  1\n",
      "   8  1.7189282e+00 1.54e-02 7.42e+00  -4.7 1.42e-02    -  1.00e+00 1.00e+00h  1\n",
      "   9  1.7186482e+00 1.35e-02 2.89e+00  -6.1 5.47e-03    -  1.00e+00 1.00e+00h  1\n",
      "iter    objective    inf_pr   inf_du lg(mu)  ||d||  lg(rg) alpha_du alpha_pr  ls\n",
      "  10  1.7185524e+00 1.40e-02 3.49e+00  -7.6 3.55e-03    -  1.00e+00 1.00e+00h  1\n",
      "  11  1.7195813e+00 1.51e-02 2.04e+01  -9.1 2.92e-03    -  1.00e+00 1.00e+00h  1\n",
      "  12  1.7194469e+00 7.46e-03 2.66e+01  -9.9 3.80e-03    -  1.00e+00 1.00e+00h  1\n",
      "  13  1.7194458e+00 9.17e-03 2.96e+01 -11.0 2.96e-03    -  1.00e+00 1.00e+00h  1\n",
      "  14  1.7195352e+00 2.54e-03 7.23e+01 -11.0 1.28e-03    -  1.00e+00 1.00e+00h  1\n",
      "  15  1.7194527e+00 1.15e-03 5.35e+00 -11.0 1.25e-03    -  1.00e+00 1.00e+00h  1\n",
      "  16  1.7194602e+00 2.41e-04 2.68e+00 -11.0 1.22e-03    -  1.00e+00 1.00e+00h  1\n",
      "  17  1.7170581e+00 1.61e-02 1.47e+02 -11.0 1.28e-04    -  1.00e+00 1.00e+00H  1\n",
      "  18  1.7184203e+00 7.93e-03 5.15e+02  -9.0 2.13e-03    -  2.90e-01 1.00e+00h  1\n",
      "  19  1.7190947e+00 1.26e-03 1.17e+02  -7.5 1.05e-03    -  1.08e-02 1.00e+00h  1\n",
      "iter    objective    inf_pr   inf_du lg(mu)  ||d||  lg(rg) alpha_du alpha_pr  ls\n",
      "  20  1.7194376e+00 1.09e-04 6.24e+01  -8.2 4.88e-04    -  1.00e+00 1.00e+00h  1\n",
      "  21  1.7194076e+00 1.09e-04 6.25e+01  -9.0 5.21e-02    -  1.00e+00 3.60e-04h  1\n",
      "  22  1.7194552e+00 8.89e-05 5.17e+01  -6.9 1.87e-04    -  1.00e+00 3.99e-01h  1\n",
      "  23  1.7154005e+00 1.50e-02 1.94e+01  -8.5 1.30e-04    -  9.93e-01 1.00e+00H  1\n",
      "  24  1.7164839e+00 7.26e-03 2.74e+00  -8.9 2.16e-03    -  1.00e+00 1.00e+00h  1\n",
      "  25  1.6927535e+00 1.57e-02 1.45e+01 -10.4 5.64e-04    -  6.84e-01 1.00e+00H  1\n",
      "  26  1.6813254e+00 1.86e-02 3.41e+01  -8.2 2.71e-02    -  5.39e-03 5.14e-02H  1\n",
      "  27  1.6813317e+00 1.86e-02 2.29e+02  -7.3 3.45e-02    -  1.00e+00 1.25e-04h  1\n",
      "  28  1.6813811e+00 1.86e-02 2.28e+02  -7.4 3.48e-02    -  7.13e-03 9.77e-04h 11\n",
      "  29  1.6734531e+00 2.11e-02 5.36e+02  -6.8 3.55e-02    -  7.22e-01 3.62e-01H  1\n",
      "iter    objective    inf_pr   inf_du lg(mu)  ||d||  lg(rg) alpha_du alpha_pr  ls\n",
      "  30  1.6731587e+00 2.11e-02 5.34e+02  -5.2 6.19e-02    -  3.68e-03 2.50e-03H  1\n",
      "  31  1.6731558e+00 2.11e-02 5.34e+02  -4.9 6.59e-02    -  3.13e-05 2.31e-05H  1\n",
      "  32  1.6731556e+00 2.11e-02 5.34e+02 -11.0 5.52e-02    -  6.51e-05 2.94e-06h  1\n",
      "  33  1.6731561e+00 2.11e-02 5.34e+02  -6.8 6.29e-02    -  4.15e-07 7.63e-06h 18\n",
      "  34r 1.6731561e+00 2.11e-02 9.99e+02  -1.7 0.00e+00    -  0.00e+00 4.05e-07R  6\n",
      "  35r 1.6731843e+00 2.10e-02 9.96e+02  -7.7 2.27e+01    -  3.73e-03 1.77e-06f  1\n",
      "  36r 1.7233898e+00 2.27e-02 9.85e+02  -1.9 1.86e+01    -  4.63e-01 2.29e-03f  1\n",
      "  37r 1.7250976e+00 2.20e-02 1.90e+01  -1.8 4.42e-02    -  9.77e-01 4.00e-02f  1\n",
      "  38r 1.7222380e+00 1.47e-02 1.48e+02  -2.5 1.52e-02    -  1.00e+00 9.77e-01f  1\n",
      "  39  1.7134863e+00 1.49e-02 1.21e-01  -6.8 4.22e-01    -  7.95e-01 1.27e-02h  1\n",
      "iter    objective    inf_pr   inf_du lg(mu)  ||d||  lg(rg) alpha_du alpha_pr  ls\n",
      "  40  1.7225186e+00 9.33e-03 1.40e+01  -6.8 8.15e-03    -  9.11e-01 1.00e+00h  1\n",
      "  41  1.7174186e+00 1.48e-02 2.83e+02  -6.8 1.11e-02    -  1.00e+00 9.14e-01h  1\n",
      "  42  1.7182655e+00 1.48e-02 2.94e+02  -6.8 2.10e-02    -  1.00e+00 5.00e-01h  2\n",
      "  43  1.7194307e+00 1.30e-02 1.01e+01  -6.8 1.02e-02    -  1.00e+00 1.00e+00h  1\n",
      "  44  1.7194998e+00 8.12e-03 4.01e+00  -6.8 2.02e-03    -  1.00e+00 1.00e+00h  1\n",
      "  45  1.7195134e+00 4.25e-03 3.20e+00  -6.8 1.08e-03    -  1.00e+00 1.00e+00h  1\n",
      "  46  1.7195050e+00 9.23e-04 8.17e-01  -6.8 3.94e-04    -  1.00e+00 1.00e+00h  1\n",
      "  47  1.7194104e+00 1.29e-03 1.08e-01  -6.8 6.64e-05    -  1.00e+00 1.00e+00H  1\n",
      "  48  1.7194658e+00 5.95e-04 2.61e-02  -6.8 1.54e-03    -  1.00e+00 1.00e+00h  1\n",
      "  49  1.7194874e+00 3.86e-04 1.69e-02  -6.8 6.72e-04    -  1.00e+00 1.00e+00h  1\n",
      "iter    objective    inf_pr   inf_du lg(mu)  ||d||  lg(rg) alpha_du alpha_pr  ls\n",
      "  50  1.7194988e+00 2.52e-04 1.35e-02  -6.8 2.65e-04    -  1.00e+00 1.00e+00h  1\n",
      "  51  1.7194763e+00 3.44e-04 6.68e-03  -8.7 1.25e-04    -  1.00e+00 1.00e+00H  1\n",
      "  52  1.7194936e+00 2.87e-04 1.14e-02  -8.8 4.91e-04    -  1.00e+00 1.00e+00h  1\n",
      "  53  1.7195018e+00 2.00e-04 1.98e-02  -8.8 2.04e-04    -  1.00e+00 1.00e+00h  1\n",
      "  54  1.7194143e+00 1.10e-03 8.97e-02 -10.6 7.80e-05    -  9.91e-01 1.00e+00H  1\n",
      "  55  1.7194665e+00 5.83e-04 2.43e-02 -10.5 1.47e-03    -  1.00e+00 1.00e+00h  1\n",
      "  56  1.7194879e+00 3.75e-04 1.35e-02 -10.5 5.62e-04    -  1.00e+00 1.00e+00h  1\n",
      "  57  1.7194990e+00 2.44e-04 1.44e-02 -10.5 2.56e-04    -  1.00e+00 1.00e+00h  1\n",
      "  58  1.7194674e+00 4.50e-04 1.09e-02 -11.0 1.21e-04    -  1.00e+00 1.00e+00H  1\n",
      "  59  1.7194893e+00 3.34e-04 8.73e-03 -11.0 6.20e-04    -  1.00e+00 1.00e+00h  1\n",
      "iter    objective    inf_pr   inf_du lg(mu)  ||d||  lg(rg) alpha_du alpha_pr  ls\n",
      "  60  1.7194999e+00 2.23e-04 1.41e-02 -11.0 2.63e-04    -  1.00e+00 1.00e+00h  1\n",
      "  61  1.7194481e+00 6.80e-04 2.47e-02 -11.0 1.10e-04    -  1.00e+00 1.00e+00H  1\n",
      "  62  1.7194799e+00 4.34e-04 1.10e-02 -11.0 9.04e-04    -  1.00e+00 1.00e+00h  1\n",
      "  63  1.7194954e+00 2.75e-04 8.26e-03 -11.0 3.81e-04    -  1.00e+00 1.00e+00h  1\n",
      "  64  1.7195026e+00 1.93e-04 2.52e-02 -11.0 1.76e-04    -  1.00e+00 1.00e+00h  1\n",
      "  65  1.7194112e+00 1.24e-03 1.04e-01 -11.0 6.41e-05    -  1.00e+00 1.00e+00H  1\n",
      "  66  1.7194659e+00 5.92e-04 2.57e-02 -11.0 1.52e-03    -  1.00e+00 1.00e+00h  1\n",
      "  67  1.7194874e+00 3.84e-04 1.61e-02 -11.0 6.46e-04    -  1.00e+00 1.00e+00h  1\n",
      "  68  1.7194987e+00 2.50e-04 1.37e-02 -11.0 2.63e-04    -  1.00e+00 1.00e+00h  1\n",
      "  69  1.7194742e+00 3.68e-04 7.56e-03 -11.0 1.24e-04    -  1.00e+00 1.00e+00H  1\n",
      "iter    objective    inf_pr   inf_du lg(mu)  ||d||  lg(rg) alpha_du alpha_pr  ls\n",
      "  70  1.7194926e+00 2.98e-04 1.06e-02 -11.0 5.21e-04    -  1.00e+00 1.00e+00h  1\n",
      "  71  1.7195014e+00 2.05e-04 1.81e-02 -11.0 2.18e-04    -  1.00e+00 1.00e+00h  1\n",
      "  72  1.7194196e+00 1.02e-03 7.24e-02 -11.0 8.55e-05    -  1.00e+00 1.00e+00H  1\n",
      "  73  1.7194681e+00 5.64e-04 2.20e-02 -11.0 1.37e-03    -  1.00e+00 1.00e+00h  1\n",
      "  74  1.7194889e+00 3.60e-04 1.01e-02 -11.0 5.18e-04    -  1.00e+00 1.00e+00h  1\n",
      "  75  1.7194996e+00 2.34e-04 1.55e-02 -11.0 2.47e-04    -  1.00e+00 1.00e+00h  1\n",
      "  76  1.7194548e+00 6.01e-04 1.90e-02 -11.0 1.13e-04    -  1.00e+00 1.00e+00H  1\n",
      "  77  1.7194831e+00 4.00e-04 9.04e-03 -11.0 8.05e-04    -  1.00e+00 1.00e+00h  1\n",
      "  78  1.7194969e+00 2.57e-04 9.78e-03 -11.0 3.42e-04    -  1.00e+00 1.00e+00h  1\n",
      "  79  1.7195032e+00 9.37e-05 3.89e-01 -11.0 1.54e-04    -  1.00e+00 1.00e+00h  1\n",
      "iter    objective    inf_pr   inf_du lg(mu)  ||d||  lg(rg) alpha_du alpha_pr  ls\n",
      "  80  1.7195032e+00 9.96e-07 1.39e-03 -11.0 2.82e-06    -  1.00e+00 1.00e+00h  1\n",
      "  81  1.7195032e+00 1.00e-09 7.45e-09 -11.0 3.23e-08    -  1.00e+00 1.00e+00h  1\n",
      "\n",
      "Number of Iterations....: 81\n",
      "\n",
      "                                   (scaled)                 (unscaled)\n",
      "Objective...............:   1.7195032289895167e+00    1.7195032289895167e+00\n",
      "Dual infeasibility......:   7.4535577284195747e-09    7.4535577284195747e-09\n",
      "Constraint violation....:   1.0006568212928002e-09    1.0006568212928002e-09\n",
      "Variable bound violation:   9.9987763809561903e-09    9.9987763809561903e-09\n",
      "Complementarity.........:   1.0000000000000001e-11    1.0000000000000001e-11\n",
      "Overall NLP error.......:   7.4535577284195747e-09    7.4535577284195747e-09\n",
      "\n",
      "\n",
      "Number of objective function evaluations             = 139\n",
      "Number of objective gradient evaluations             = 79\n",
      "Number of equality constraint evaluations            = 139\n",
      "Number of inequality constraint evaluations          = 0\n",
      "Number of equality constraint Jacobian evaluations   = 83\n",
      "Number of inequality constraint Jacobian evaluations = 0\n",
      "Number of Lagrangian Hessian evaluations             = 0\n",
      "Total seconds in IPOPT                               = 1.277\n",
      "\n",
      "EXIT: Optimal Solution Found.\n"
     ]
    }
   ],
   "source": [
    "res,x_opt,fun_opt = model.solve(max_iter=3000,tol=1e-4,print_level=5)"
   ]
  },
  {
   "cell_type": "code",
   "execution_count": 9,
   "metadata": {},
   "outputs": [],
   "source": [
    "u, q, alpha = model.objective_func.parse_vars(x_opt)"
   ]
  },
  {
   "cell_type": "code",
   "execution_count": 10,
   "metadata": {},
   "outputs": [
    {
     "data": {
      "image/png": "[encoded data removed]",
      "text/plain": [
       "<Figure size 1400x400 with 3 Axes>"
      ]
     },
     "metadata": {},
     "output_type": "display_data"
    }
   ],
   "source": [
    "u = u.reshape((scale,scale))\n",
    "plot_experiment(true,blurred,u,alpha)"
   ]
  },
  {
   "cell_type": "code",
   "execution_count": 11,
   "metadata": {},
   "outputs": [],
   "source": [
    "m = q.flatten().size\n",
    "n = m // 2\n",
    "Ku = model.K @ u.flatten()\n",
    "V = Ku.reshape(2, -1).T\n",
    "normKu = np.apply_along_axis(np.linalg.norm, axis=1, arr=V)\n",
    "Q = q.reshape(2,-1).T\n",
    "normQ = np.apply_along_axis(np.linalg.norm, axis=1, arr=Q)\n",
    "r0 = normKu\n",
    "delta0 = normQ"
   ]
  },
  {
   "cell_type": "code",
   "execution_count": 12,
   "metadata": {},
   "outputs": [],
   "source": [
    "Kxu = Ku[:n]  # Primeras n componentes\n",
    "Kyu = Ku[n:]  # Últimas n componentes\n",
    "qx = q[:n]  # Primeras n componentes\n",
    "qy = q[n:]  # Últimas n componentes\n",
    "epsilon = 1e-10  \n",
    "\n",
    "# Condiciones para calcular theta según los casos dados\n",
    "theta0 = np.zeros(n)  # Inicializamos theta0\n",
    "\n",
    "# Caso 1: r_i ≠ 0\n",
    "mask_r_nonzero = r0 > epsilon\n",
    "theta0[mask_r_nonzero] = np.arccos(Kxu[mask_r_nonzero] / r0[mask_r_nonzero])\n",
    "theta0[mask_r_nonzero & (Kyu < 0)] *= -1  # Si Ky^i u < 0, negamos theta0\n",
    "\n",
    "# Caso 2: r_i = 0 y delta_i ≠ 0\n",
    "mask_r_zero_delta_nonzero = (r0 <= epsilon) & (delta0 > epsilon)\n",
    "theta0[mask_r_zero_delta_nonzero] = np.arccos(qx[mask_r_zero_delta_nonzero] / delta0[mask_r_zero_delta_nonzero])\n",
    "theta0[mask_r_zero_delta_nonzero & (qy < 0)] *= -1  # Si qy^i < 0, negamos theta0\n",
    "\n",
    "# Caso 3: r_i = 0 y delta_i = 0 (theta0 indefinido)\n",
    "mask_r_zero_delta_zero = (r0 <= epsilon) & (delta0 <= epsilon)\n",
    "theta0[mask_r_zero_delta_zero] = 0"
   ]
  },
  {
   "cell_type": "code",
   "execution_count": 13,
   "metadata": {},
   "outputs": [],
   "source": [
    "x0_mpcc = np.concatenate((u.flatten(),q.flatten(),r0,delta0,theta0,alpha))"
   ]
  },
  {
   "cell_type": "code",
   "execution_count": 14,
   "metadata": {},
   "outputs": [],
   "source": [
    "mpcc_model = TVReconstructionMPCC(forward_map, true, blurred, x0=x0_mpcc, epsilon=1e-3)"
   ]
  },
  {
   "cell_type": "code",
   "execution_count": 17,
   "metadata": {},
   "outputs": [
    {
     "data": {
      "text/html": [
       "<pre style=\"white-space:pre;overflow-x:auto;line-height:normal;font-family:Menlo,'DejaVu Sans Mono',consolas,'Courier New',monospace\"> Iter   Termination_status            Objective      MPCC_compl               t\n",
       "\n",
       "</pre>\n"
      ],
      "text/plain": [
       " Iter   Termination_status            Objective      MPCC_compl               t\n",
       "\n"
      ]
     },
     "metadata": {},
     "output_type": "display_data"
    },
    {
     "data": {
      "text/html": [
       "<pre style=\"white-space:pre;overflow-x:auto;line-height:normal;font-family:Menlo,'DejaVu Sans Mono',consolas,'Courier New',monospace\">    <span style=\"color: #008080; text-decoration-color: #008080; font-weight: bold\">0</span>                 <span style=\"color: #008080; text-decoration-color: #008080; font-weight: bold\">0</span>  <span style=\"color: #008080; text-decoration-color: #008080; font-weight: bold\">1.2702922284200433</span>      <span style=\"color: #008080; text-decoration-color: #008080; font-weight: bold\">4.598914802447306</span>                  <span style=\"color: #008080; text-decoration-color: #008080; font-weight: bold\">1.0</span>\n",
       "</pre>\n"
      ],
      "text/plain": [
       "    \u001b[1;36m0\u001b[0m                 \u001b[1;36m0\u001b[0m  \u001b[1;36m1.2702922284200433\u001b[0m      \u001b[1;36m4.598914802447306\u001b[0m                  \u001b[1;36m1.0\u001b[0m\n"
      ]
     },
     "metadata": {},
     "output_type": "display_data"
    },
    {
     "data": {
      "text/html": [
       "<pre style=\"white-space:pre;overflow-x:auto;line-height:normal;font-family:Menlo,'DejaVu Sans Mono',consolas,'Courier New',monospace\">    <span style=\"color: #008080; text-decoration-color: #008080; font-weight: bold\">1</span>                 <span style=\"color: #008080; text-decoration-color: #008080; font-weight: bold\">0</span>  <span style=\"color: #008080; text-decoration-color: #008080; font-weight: bold\">1.2695225320526164</span>      <span style=\"color: #008080; text-decoration-color: #008080; font-weight: bold\">4.295817465089423</span>                  <span style=\"color: #008080; text-decoration-color: #008080; font-weight: bold\">0.9</span>\n",
       "</pre>\n"
      ],
      "text/plain": [
       "    \u001b[1;36m1\u001b[0m                 \u001b[1;36m0\u001b[0m  \u001b[1;36m1.2695225320526164\u001b[0m      \u001b[1;36m4.295817465089423\u001b[0m                  \u001b[1;36m0.9\u001b[0m\n"
      ]
     },
     "metadata": {},
     "output_type": "display_data"
    },
    {
     "data": {
      "text/html": [
       "<pre style=\"white-space:pre;overflow-x:auto;line-height:normal;font-family:Menlo,'DejaVu Sans Mono',consolas,'Courier New',monospace\">    <span style=\"color: #008080; text-decoration-color: #008080; font-weight: bold\">2</span>                 <span style=\"color: #008080; text-decoration-color: #008080; font-weight: bold\">0</span>  <span style=\"color: #008080; text-decoration-color: #008080; font-weight: bold\">1.2696715796076214</span>      <span style=\"color: #008080; text-decoration-color: #008080; font-weight: bold\">3.9892242449723634</span>                <span style=\"color: #008080; text-decoration-color: #008080; font-weight: bold\">0.81</span>\n",
       "</pre>\n"
      ],
      "text/plain": [
       "    \u001b[1;36m2\u001b[0m                 \u001b[1;36m0\u001b[0m  \u001b[1;36m1.2696715796076214\u001b[0m      \u001b[1;36m3.9892242449723634\u001b[0m                \u001b[1;36m0.81\u001b[0m\n"
      ]
     },
     "metadata": {},
     "output_type": "display_data"
    },
    {
     "data": {
      "text/html": [
       "<pre style=\"white-space:pre;overflow-x:auto;line-height:normal;font-family:Menlo,'DejaVu Sans Mono',consolas,'Courier New',monospace\">    <span style=\"color: #008080; text-decoration-color: #008080; font-weight: bold\">3</span>                 <span style=\"color: #008080; text-decoration-color: #008080; font-weight: bold\">0</span>  <span style=\"color: #008080; text-decoration-color: #008080; font-weight: bold\">1.2694652404265334</span>      <span style=\"color: #008080; text-decoration-color: #008080; font-weight: bold\">3.702324968650296</span>       <span style=\"color: #008080; text-decoration-color: #008080; font-weight: bold\">0.7290000000000001</span>\n",
       "</pre>\n"
      ],
      "text/plain": [
       "    \u001b[1;36m3\u001b[0m                 \u001b[1;36m0\u001b[0m  \u001b[1;36m1.2694652404265334\u001b[0m      \u001b[1;36m3.702324968650296\u001b[0m       \u001b[1;36m0.7290000000000001\u001b[0m\n"
      ]
     },
     "metadata": {},
     "output_type": "display_data"
    },
    {
     "data": {
      "text/html": [
       "<pre style=\"white-space:pre;overflow-x:auto;line-height:normal;font-family:Menlo,'DejaVu Sans Mono',consolas,'Courier New',monospace\">    <span style=\"color: #008080; text-decoration-color: #008080; font-weight: bold\">4</span>                 <span style=\"color: #008080; text-decoration-color: #008080; font-weight: bold\">0</span>  <span style=\"color: #008080; text-decoration-color: #008080; font-weight: bold\">1.269205153163652</span>       <span style=\"color: #008080; text-decoration-color: #008080; font-weight: bold\">3.4117911969885046</span>      <span style=\"color: #008080; text-decoration-color: #008080; font-weight: bold\">0.6561000000000001</span>\n",
       "</pre>\n"
      ],
      "text/plain": [
       "    \u001b[1;36m4\u001b[0m                 \u001b[1;36m0\u001b[0m  \u001b[1;36m1.269205153163652\u001b[0m       \u001b[1;36m3.4117911969885046\u001b[0m      \u001b[1;36m0.6561000000000001\u001b[0m\n"
      ]
     },
     "metadata": {},
     "output_type": "display_data"
    },
    {
     "data": {
      "text/html": [
       "<pre style=\"white-space:pre;overflow-x:auto;line-height:normal;font-family:Menlo,'DejaVu Sans Mono',consolas,'Courier New',monospace\">    <span style=\"color: #008080; text-decoration-color: #008080; font-weight: bold\">5</span>                 <span style=\"color: #008080; text-decoration-color: #008080; font-weight: bold\">0</span>  <span style=\"color: #008080; text-decoration-color: #008080; font-weight: bold\">1.2693240276900253</span>      <span style=\"color: #008080; text-decoration-color: #008080; font-weight: bold\">3.1467392294122027</span>      <span style=\"color: #008080; text-decoration-color: #008080; font-weight: bold\">0.5904900000000002</span>\n",
       "</pre>\n"
      ],
      "text/plain": [
       "    \u001b[1;36m5\u001b[0m                 \u001b[1;36m0\u001b[0m  \u001b[1;36m1.2693240276900253\u001b[0m      \u001b[1;36m3.1467392294122027\u001b[0m      \u001b[1;36m0.5904900000000002\u001b[0m\n"
      ]
     },
     "metadata": {},
     "output_type": "display_data"
    },
    {
     "data": {
      "text/html": [
       "<pre style=\"white-space:pre;overflow-x:auto;line-height:normal;font-family:Menlo,'DejaVu Sans Mono',consolas,'Courier New',monospace\">    <span style=\"color: #008080; text-decoration-color: #008080; font-weight: bold\">6</span>                 <span style=\"color: #008080; text-decoration-color: #008080; font-weight: bold\">0</span>  <span style=\"color: #008080; text-decoration-color: #008080; font-weight: bold\">1.2697050837042803</span>      <span style=\"color: #008080; text-decoration-color: #008080; font-weight: bold\">2.8982053026219714</span>      <span style=\"color: #008080; text-decoration-color: #008080; font-weight: bold\">0.5314410000000002</span>\n",
       "</pre>\n"
      ],
      "text/plain": [
       "    \u001b[1;36m6\u001b[0m                 \u001b[1;36m0\u001b[0m  \u001b[1;36m1.2697050837042803\u001b[0m      \u001b[1;36m2.8982053026219714\u001b[0m      \u001b[1;36m0.5314410000000002\u001b[0m\n"
      ]
     },
     "metadata": {},
     "output_type": "display_data"
    },
    {
     "data": {
      "text/html": [
       "<pre style=\"white-space:pre;overflow-x:auto;line-height:normal;font-family:Menlo,'DejaVu Sans Mono',consolas,'Courier New',monospace\">    <span style=\"color: #008080; text-decoration-color: #008080; font-weight: bold\">7</span>                 <span style=\"color: #008080; text-decoration-color: #008080; font-weight: bold\">0</span>  <span style=\"color: #008080; text-decoration-color: #008080; font-weight: bold\">1.2702876943045602</span>      <span style=\"color: #008080; text-decoration-color: #008080; font-weight: bold\">2.6766152306497224</span>      <span style=\"color: #008080; text-decoration-color: #008080; font-weight: bold\">0.47829690000000014</span>\n",
       "</pre>\n"
      ],
      "text/plain": [
       "    \u001b[1;36m7\u001b[0m                 \u001b[1;36m0\u001b[0m  \u001b[1;36m1.2702876943045602\u001b[0m      \u001b[1;36m2.6766152306497224\u001b[0m      \u001b[1;36m0.47829690000000014\u001b[0m\n"
      ]
     },
     "metadata": {},
     "output_type": "display_data"
    },
    {
     "data": {
      "text/html": [
       "<pre style=\"white-space:pre;overflow-x:auto;line-height:normal;font-family:Menlo,'DejaVu Sans Mono',consolas,'Courier New',monospace\">    <span style=\"color: #008080; text-decoration-color: #008080; font-weight: bold\">8</span>                 <span style=\"color: #008080; text-decoration-color: #008080; font-weight: bold\">0</span>  <span style=\"color: #008080; text-decoration-color: #008080; font-weight: bold\">1.268093964178934</span>       <span style=\"color: #008080; text-decoration-color: #008080; font-weight: bold\">2.4638547994876108</span>      <span style=\"color: #008080; text-decoration-color: #008080; font-weight: bold\">0.43046721000000016</span>\n",
       "</pre>\n"
      ],
      "text/plain": [
       "    \u001b[1;36m8\u001b[0m                 \u001b[1;36m0\u001b[0m  \u001b[1;36m1.268093964178934\u001b[0m       \u001b[1;36m2.4638547994876108\u001b[0m      \u001b[1;36m0.43046721000000016\u001b[0m\n"
      ]
     },
     "metadata": {},
     "output_type": "display_data"
    },
    {
     "data": {
      "text/html": [
       "<pre style=\"white-space:pre;overflow-x:auto;line-height:normal;font-family:Menlo,'DejaVu Sans Mono',consolas,'Courier New',monospace\">    <span style=\"color: #008080; text-decoration-color: #008080; font-weight: bold\">9</span>                 <span style=\"color: #008080; text-decoration-color: #008080; font-weight: bold\">0</span>  <span style=\"color: #008080; text-decoration-color: #008080; font-weight: bold\">1.2691428215920135</span>      <span style=\"color: #008080; text-decoration-color: #008080; font-weight: bold\">2.4278922071836955</span>      <span style=\"color: #008080; text-decoration-color: #008080; font-weight: bold\">0.38742048900000015</span>\n",
       "</pre>\n"
      ],
      "text/plain": [
       "    \u001b[1;36m9\u001b[0m                 \u001b[1;36m0\u001b[0m  \u001b[1;36m1.2691428215920135\u001b[0m      \u001b[1;36m2.4278922071836955\u001b[0m      \u001b[1;36m0.38742048900000015\u001b[0m\n"
      ]
     },
     "metadata": {},
     "output_type": "display_data"
    },
    {
     "data": {
      "text/html": [
       "<pre style=\"white-space:pre;overflow-x:auto;line-height:normal;font-family:Menlo,'DejaVu Sans Mono',consolas,'Courier New',monospace\">   <span style=\"color: #008080; text-decoration-color: #008080; font-weight: bold\">10</span>                 <span style=\"color: #008080; text-decoration-color: #008080; font-weight: bold\">0</span>  <span style=\"color: #008080; text-decoration-color: #008080; font-weight: bold\">1.2693213529117733</span>      <span style=\"color: #008080; text-decoration-color: #008080; font-weight: bold\">2.089819979130993</span>       <span style=\"color: #008080; text-decoration-color: #008080; font-weight: bold\">0.34867844010000015</span>\n",
       "</pre>\n"
      ],
      "text/plain": [
       "   \u001b[1;36m10\u001b[0m                 \u001b[1;36m0\u001b[0m  \u001b[1;36m1.2693213529117733\u001b[0m      \u001b[1;36m2.089819979130993\u001b[0m       \u001b[1;36m0.34867844010000015\u001b[0m\n"
      ]
     },
     "metadata": {},
     "output_type": "display_data"
    },
    {
     "data": {
      "text/html": [
       "<pre style=\"white-space:pre;overflow-x:auto;line-height:normal;font-family:Menlo,'DejaVu Sans Mono',consolas,'Courier New',monospace\">   <span style=\"color: #008080; text-decoration-color: #008080; font-weight: bold\">11</span>                 <span style=\"color: #008080; text-decoration-color: #008080; font-weight: bold\">0</span>  <span style=\"color: #008080; text-decoration-color: #008080; font-weight: bold\">1.2703520716518217</span>      <span style=\"color: #008080; text-decoration-color: #008080; font-weight: bold\">2.118026128261727</span>       <span style=\"color: #008080; text-decoration-color: #008080; font-weight: bold\">0.31381059609000017</span>\n",
       "</pre>\n"
      ],
      "text/plain": [
       "   \u001b[1;36m11\u001b[0m                 \u001b[1;36m0\u001b[0m  \u001b[1;36m1.2703520716518217\u001b[0m      \u001b[1;36m2.118026128261727\u001b[0m       \u001b[1;36m0.31381059609000017\u001b[0m\n"
      ]
     },
     "metadata": {},
     "output_type": "display_data"
    },
    {
     "data": {
      "text/html": [
       "<pre style=\"white-space:pre;overflow-x:auto;line-height:normal;font-family:Menlo,'DejaVu Sans Mono',consolas,'Courier New',monospace\">   <span style=\"color: #008080; text-decoration-color: #008080; font-weight: bold\">12</span>                 <span style=\"color: #008080; text-decoration-color: #008080; font-weight: bold\">0</span>  <span style=\"color: #008080; text-decoration-color: #008080; font-weight: bold\">1.2713708938302513</span>      <span style=\"color: #008080; text-decoration-color: #008080; font-weight: bold\">2.0469850058835504</span>      <span style=\"color: #008080; text-decoration-color: #008080; font-weight: bold\">0.28242953648100017</span>\n",
       "</pre>\n"
      ],
      "text/plain": [
       "   \u001b[1;36m12\u001b[0m                 \u001b[1;36m0\u001b[0m  \u001b[1;36m1.2713708938302513\u001b[0m      \u001b[1;36m2.0469850058835504\u001b[0m      \u001b[1;36m0.28242953648100017\u001b[0m\n"
      ]
     },
     "metadata": {},
     "output_type": "display_data"
    },
    {
     "data": {
      "text/html": [
       "<pre style=\"white-space:pre;overflow-x:auto;line-height:normal;font-family:Menlo,'DejaVu Sans Mono',consolas,'Courier New',monospace\">   <span style=\"color: #008080; text-decoration-color: #008080; font-weight: bold\">13</span>                 <span style=\"color: #008080; text-decoration-color: #008080; font-weight: bold\">0</span>  <span style=\"color: #008080; text-decoration-color: #008080; font-weight: bold\">1.2724792766800357</span>      <span style=\"color: #008080; text-decoration-color: #008080; font-weight: bold\">1.9221936752866124</span>      <span style=\"color: #008080; text-decoration-color: #008080; font-weight: bold\">0.25418658283290013</span>\n",
       "</pre>\n"
      ],
      "text/plain": [
       "   \u001b[1;36m13\u001b[0m                 \u001b[1;36m0\u001b[0m  \u001b[1;36m1.2724792766800357\u001b[0m      \u001b[1;36m1.9221936752866124\u001b[0m      \u001b[1;36m0.25418658283290013\u001b[0m\n"
      ]
     },
     "metadata": {},
     "output_type": "display_data"
    },
    {
     "data": {
      "text/html": [
       "<pre style=\"white-space:pre;overflow-x:auto;line-height:normal;font-family:Menlo,'DejaVu Sans Mono',consolas,'Courier New',monospace\">   <span style=\"color: #008080; text-decoration-color: #008080; font-weight: bold\">14</span>                 <span style=\"color: #008080; text-decoration-color: #008080; font-weight: bold\">0</span>  <span style=\"color: #008080; text-decoration-color: #008080; font-weight: bold\">1.2737180384519937</span>      <span style=\"color: #008080; text-decoration-color: #008080; font-weight: bold\">1.8147355732276194</span>      <span style=\"color: #008080; text-decoration-color: #008080; font-weight: bold\">0.22876792454961012</span>\n",
       "</pre>\n"
      ],
      "text/plain": [
       "   \u001b[1;36m14\u001b[0m                 \u001b[1;36m0\u001b[0m  \u001b[1;36m1.2737180384519937\u001b[0m      \u001b[1;36m1.8147355732276194\u001b[0m      \u001b[1;36m0.22876792454961012\u001b[0m\n"
      ]
     },
     "metadata": {},
     "output_type": "display_data"
    },
    {
     "data": {
      "text/html": [
       "<pre style=\"white-space:pre;overflow-x:auto;line-height:normal;font-family:Menlo,'DejaVu Sans Mono',consolas,'Courier New',monospace\">   <span style=\"color: #008080; text-decoration-color: #008080; font-weight: bold\">15</span>                 <span style=\"color: #008080; text-decoration-color: #008080; font-weight: bold\">0</span>  <span style=\"color: #008080; text-decoration-color: #008080; font-weight: bold\">1.2754273440884503</span>      <span style=\"color: #008080; text-decoration-color: #008080; font-weight: bold\">1.700063912620098</span>       <span style=\"color: #008080; text-decoration-color: #008080; font-weight: bold\">0.2058911320946491</span>\n",
       "</pre>\n"
      ],
      "text/plain": [
       "   \u001b[1;36m15\u001b[0m                 \u001b[1;36m0\u001b[0m  \u001b[1;36m1.2754273440884503\u001b[0m      \u001b[1;36m1.700063912620098\u001b[0m       \u001b[1;36m0.2058911320946491\u001b[0m\n"
      ]
     },
     "metadata": {},
     "output_type": "display_data"
    },
    {
     "data": {
      "text/html": [
       "<pre style=\"white-space:pre;overflow-x:auto;line-height:normal;font-family:Menlo,'DejaVu Sans Mono',consolas,'Courier New',monospace\">   <span style=\"color: #008080; text-decoration-color: #008080; font-weight: bold\">16</span>                 <span style=\"color: #008080; text-decoration-color: #008080; font-weight: bold\">0</span>  <span style=\"color: #008080; text-decoration-color: #008080; font-weight: bold\">1.2803885633814938</span>      <span style=\"color: #008080; text-decoration-color: #008080; font-weight: bold\">1.76900187038381</span>        <span style=\"color: #008080; text-decoration-color: #008080; font-weight: bold\">0.1853020188851842</span>\n",
       "</pre>\n"
      ],
      "text/plain": [
       "   \u001b[1;36m16\u001b[0m                 \u001b[1;36m0\u001b[0m  \u001b[1;36m1.2803885633814938\u001b[0m      \u001b[1;36m1.76900187038381\u001b[0m        \u001b[1;36m0.1853020188851842\u001b[0m\n"
      ]
     },
     "metadata": {},
     "output_type": "display_data"
    },
    {
     "data": {
      "text/html": [
       "<pre style=\"white-space:pre;overflow-x:auto;line-height:normal;font-family:Menlo,'DejaVu Sans Mono',consolas,'Courier New',monospace\">   <span style=\"color: #008080; text-decoration-color: #008080; font-weight: bold\">17</span>                 <span style=\"color: #008080; text-decoration-color: #008080; font-weight: bold\">0</span>  <span style=\"color: #008080; text-decoration-color: #008080; font-weight: bold\">1.2825472914475906</span>      <span style=\"color: #008080; text-decoration-color: #008080; font-weight: bold\">1.7183055691885478</span>      <span style=\"color: #008080; text-decoration-color: #008080; font-weight: bold\">0.16677181699666577</span>\n",
       "</pre>\n"
      ],
      "text/plain": [
       "   \u001b[1;36m17\u001b[0m                 \u001b[1;36m0\u001b[0m  \u001b[1;36m1.2825472914475906\u001b[0m      \u001b[1;36m1.7183055691885478\u001b[0m      \u001b[1;36m0.16677181699666577\u001b[0m\n"
      ]
     },
     "metadata": {},
     "output_type": "display_data"
    },
    {
     "data": {
      "text/html": [
       "<pre style=\"white-space:pre;overflow-x:auto;line-height:normal;font-family:Menlo,'DejaVu Sans Mono',consolas,'Courier New',monospace\">   <span style=\"color: #008080; text-decoration-color: #008080; font-weight: bold\">18</span>                 <span style=\"color: #008080; text-decoration-color: #008080; font-weight: bold\">0</span>  <span style=\"color: #008080; text-decoration-color: #008080; font-weight: bold\">1.2850588259786242</span>      <span style=\"color: #008080; text-decoration-color: #008080; font-weight: bold\">1.632213733123528</span>       <span style=\"color: #008080; text-decoration-color: #008080; font-weight: bold\">0.1500946352969992</span>\n",
       "</pre>\n"
      ],
      "text/plain": [
       "   \u001b[1;36m18\u001b[0m                 \u001b[1;36m0\u001b[0m  \u001b[1;36m1.2850588259786242\u001b[0m      \u001b[1;36m1.632213733123528\u001b[0m       \u001b[1;36m0.1500946352969992\u001b[0m\n"
      ]
     },
     "metadata": {},
     "output_type": "display_data"
    },
    {
     "data": {
      "text/html": [
       "<pre style=\"white-space:pre;overflow-x:auto;line-height:normal;font-family:Menlo,'DejaVu Sans Mono',consolas,'Courier New',monospace\">   <span style=\"color: #008080; text-decoration-color: #008080; font-weight: bold\">19</span>                 <span style=\"color: #008080; text-decoration-color: #008080; font-weight: bold\">0</span>  <span style=\"color: #008080; text-decoration-color: #008080; font-weight: bold\">1.2880564762046371</span>      <span style=\"color: #008080; text-decoration-color: #008080; font-weight: bold\">1.5442922899262113</span>      <span style=\"color: #008080; text-decoration-color: #008080; font-weight: bold\">0.13508517176729928</span>\n",
       "</pre>\n"
      ],
      "text/plain": [
       "   \u001b[1;36m19\u001b[0m                 \u001b[1;36m0\u001b[0m  \u001b[1;36m1.2880564762046371\u001b[0m      \u001b[1;36m1.5442922899262113\u001b[0m      \u001b[1;36m0.13508517176729928\u001b[0m\n"
      ]
     },
     "metadata": {},
     "output_type": "display_data"
    },
    {
     "data": {
      "text/html": [
       "<pre style=\"white-space:pre;overflow-x:auto;line-height:normal;font-family:Menlo,'DejaVu Sans Mono',consolas,'Courier New',monospace\">   <span style=\"color: #008080; text-decoration-color: #008080; font-weight: bold\">20</span>                 <span style=\"color: #008080; text-decoration-color: #008080; font-weight: bold\">0</span>  <span style=\"color: #008080; text-decoration-color: #008080; font-weight: bold\">1.2901198111715324</span>      <span style=\"color: #008080; text-decoration-color: #008080; font-weight: bold\">1.3928132485463365</span>      <span style=\"color: #008080; text-decoration-color: #008080; font-weight: bold\">0.12157665459056936</span>\n",
       "</pre>\n"
      ],
      "text/plain": [
       "   \u001b[1;36m20\u001b[0m                 \u001b[1;36m0\u001b[0m  \u001b[1;36m1.2901198111715324\u001b[0m      \u001b[1;36m1.3928132485463365\u001b[0m      \u001b[1;36m0.12157665459056936\u001b[0m\n"
      ]
     },
     "metadata": {},
     "output_type": "display_data"
    },
    {
     "data": {
      "text/html": [
       "<pre style=\"white-space:pre;overflow-x:auto;line-height:normal;font-family:Menlo,'DejaVu Sans Mono',consolas,'Courier New',monospace\">   <span style=\"color: #008080; text-decoration-color: #008080; font-weight: bold\">21</span>                 <span style=\"color: #008080; text-decoration-color: #008080; font-weight: bold\">0</span>  <span style=\"color: #008080; text-decoration-color: #008080; font-weight: bold\">1.2884135288768588</span>      <span style=\"color: #008080; text-decoration-color: #008080; font-weight: bold\">1.2300879251803662</span>      <span style=\"color: #008080; text-decoration-color: #008080; font-weight: bold\">0.10941898913151243</span>\n",
       "</pre>\n"
      ],
      "text/plain": [
       "   \u001b[1;36m21\u001b[0m                 \u001b[1;36m0\u001b[0m  \u001b[1;36m1.2884135288768588\u001b[0m      \u001b[1;36m1.2300879251803662\u001b[0m      \u001b[1;36m0.10941898913151243\u001b[0m\n"
      ]
     },
     "metadata": {},
     "output_type": "display_data"
    },
    {
     "data": {
      "text/html": [
       "<pre style=\"white-space:pre;overflow-x:auto;line-height:normal;font-family:Menlo,'DejaVu Sans Mono',consolas,'Courier New',monospace\">   <span style=\"color: #008080; text-decoration-color: #008080; font-weight: bold\">22</span>                 <span style=\"color: #008080; text-decoration-color: #008080; font-weight: bold\">0</span>  <span style=\"color: #008080; text-decoration-color: #008080; font-weight: bold\">1.2880737307954067</span>      <span style=\"color: #008080; text-decoration-color: #008080; font-weight: bold\">1.1133071123380232</span>      <span style=\"color: #008080; text-decoration-color: #008080; font-weight: bold\">0.0984770902183612</span>\n",
       "</pre>\n"
      ],
      "text/plain": [
       "   \u001b[1;36m22\u001b[0m                 \u001b[1;36m0\u001b[0m  \u001b[1;36m1.2880737307954067\u001b[0m      \u001b[1;36m1.1133071123380232\u001b[0m      \u001b[1;36m0.0984770902183612\u001b[0m\n"
      ]
     },
     "metadata": {},
     "output_type": "display_data"
    },
    {
     "data": {
      "text/html": [
       "<pre style=\"white-space:pre;overflow-x:auto;line-height:normal;font-family:Menlo,'DejaVu Sans Mono',consolas,'Courier New',monospace\">   <span style=\"color: #008080; text-decoration-color: #008080; font-weight: bold\">23</span>                 <span style=\"color: #008080; text-decoration-color: #008080; font-weight: bold\">0</span>  <span style=\"color: #008080; text-decoration-color: #008080; font-weight: bold\">1.292349083462578</span>       <span style=\"color: #008080; text-decoration-color: #008080; font-weight: bold\">1.032566557437383</span>       <span style=\"color: #008080; text-decoration-color: #008080; font-weight: bold\">0.08862938119652508</span>\n",
       "</pre>\n"
      ],
      "text/plain": [
       "   \u001b[1;36m23\u001b[0m                 \u001b[1;36m0\u001b[0m  \u001b[1;36m1.292349083462578\u001b[0m       \u001b[1;36m1.032566557437383\u001b[0m       \u001b[1;36m0.08862938119652508\u001b[0m\n"
      ]
     },
     "metadata": {},
     "output_type": "display_data"
    },
    {
     "data": {
      "text/html": [
       "<pre style=\"white-space:pre;overflow-x:auto;line-height:normal;font-family:Menlo,'DejaVu Sans Mono',consolas,'Courier New',monospace\">   <span style=\"color: #008080; text-decoration-color: #008080; font-weight: bold\">24</span>                 <span style=\"color: #008080; text-decoration-color: #008080; font-weight: bold\">0</span>  <span style=\"color: #008080; text-decoration-color: #008080; font-weight: bold\">1.297228978177143</span>       <span style=\"color: #008080; text-decoration-color: #008080; font-weight: bold\">0.9748805394881489</span>      <span style=\"color: #008080; text-decoration-color: #008080; font-weight: bold\">0.07976644307687257</span>\n",
       "</pre>\n"
      ],
      "text/plain": [
       "   \u001b[1;36m24\u001b[0m                 \u001b[1;36m0\u001b[0m  \u001b[1;36m1.297228978177143\u001b[0m       \u001b[1;36m0.9748805394881489\u001b[0m      \u001b[1;36m0.07976644307687257\u001b[0m\n"
      ]
     },
     "metadata": {},
     "output_type": "display_data"
    },
    {
     "data": {
      "text/html": [
       "<pre style=\"white-space:pre;overflow-x:auto;line-height:normal;font-family:Menlo,'DejaVu Sans Mono',consolas,'Courier New',monospace\">   <span style=\"color: #008080; text-decoration-color: #008080; font-weight: bold\">25</span>                 <span style=\"color: #008080; text-decoration-color: #008080; font-weight: bold\">0</span>  <span style=\"color: #008080; text-decoration-color: #008080; font-weight: bold\">1.3005577950852567</span>      <span style=\"color: #008080; text-decoration-color: #008080; font-weight: bold\">0.8901135084736083</span>      <span style=\"color: #008080; text-decoration-color: #008080; font-weight: bold\">0.07178979876918531</span>\n",
       "</pre>\n"
      ],
      "text/plain": [
       "   \u001b[1;36m25\u001b[0m                 \u001b[1;36m0\u001b[0m  \u001b[1;36m1.3005577950852567\u001b[0m      \u001b[1;36m0.8901135084736083\u001b[0m      \u001b[1;36m0.07178979876918531\u001b[0m\n"
      ]
     },
     "metadata": {},
     "output_type": "display_data"
    },
    {
     "data": {
      "text/html": [
       "<pre style=\"white-space:pre;overflow-x:auto;line-height:normal;font-family:Menlo,'DejaVu Sans Mono',consolas,'Courier New',monospace\">   <span style=\"color: #008080; text-decoration-color: #008080; font-weight: bold\">26</span>                 <span style=\"color: #008080; text-decoration-color: #008080; font-weight: bold\">0</span>  <span style=\"color: #008080; text-decoration-color: #008080; font-weight: bold\">1.303707307080428</span>       <span style=\"color: #008080; text-decoration-color: #008080; font-weight: bold\">0.8261341909849602</span>      <span style=\"color: #008080; text-decoration-color: #008080; font-weight: bold\">0.06461081889226679</span>\n",
       "</pre>\n"
      ],
      "text/plain": [
       "   \u001b[1;36m26\u001b[0m                 \u001b[1;36m0\u001b[0m  \u001b[1;36m1.303707307080428\u001b[0m       \u001b[1;36m0.8261341909849602\u001b[0m      \u001b[1;36m0.06461081889226679\u001b[0m\n"
      ]
     },
     "metadata": {},
     "output_type": "display_data"
    },
    {
     "data": {
      "text/html": [
       "<pre style=\"white-space:pre;overflow-x:auto;line-height:normal;font-family:Menlo,'DejaVu Sans Mono',consolas,'Courier New',monospace\">   <span style=\"color: #008080; text-decoration-color: #008080; font-weight: bold\">27</span>                 <span style=\"color: #008080; text-decoration-color: #008080; font-weight: bold\">0</span>  <span style=\"color: #008080; text-decoration-color: #008080; font-weight: bold\">1.308896869197989</span>       <span style=\"color: #008080; text-decoration-color: #008080; font-weight: bold\">0.7599139126584412</span>      <span style=\"color: #008080; text-decoration-color: #008080; font-weight: bold\">0.05814973700304011</span>\n",
       "</pre>\n"
      ],
      "text/plain": [
       "   \u001b[1;36m27\u001b[0m                 \u001b[1;36m0\u001b[0m  \u001b[1;36m1.308896869197989\u001b[0m       \u001b[1;36m0.7599139126584412\u001b[0m      \u001b[1;36m0.05814973700304011\u001b[0m\n"
      ]
     },
     "metadata": {},
     "output_type": "display_data"
    },
    {
     "data": {
      "text/html": [
       "<pre style=\"white-space:pre;overflow-x:auto;line-height:normal;font-family:Menlo,'DejaVu Sans Mono',consolas,'Courier New',monospace\">   <span style=\"color: #008080; text-decoration-color: #008080; font-weight: bold\">28</span>                 <span style=\"color: #008080; text-decoration-color: #008080; font-weight: bold\">0</span>  <span style=\"color: #008080; text-decoration-color: #008080; font-weight: bold\">1.3136625401805198</span>      <span style=\"color: #008080; text-decoration-color: #008080; font-weight: bold\">0.7057363898309726</span>      <span style=\"color: #008080; text-decoration-color: #008080; font-weight: bold\">0.0523347633027361</span>\n",
       "</pre>\n"
      ],
      "text/plain": [
       "   \u001b[1;36m28\u001b[0m                 \u001b[1;36m0\u001b[0m  \u001b[1;36m1.3136625401805198\u001b[0m      \u001b[1;36m0.7057363898309726\u001b[0m      \u001b[1;36m0.0523347633027361\u001b[0m\n"
      ]
     },
     "metadata": {},
     "output_type": "display_data"
    },
    {
     "data": {
      "text/html": [
       "<pre style=\"white-space:pre;overflow-x:auto;line-height:normal;font-family:Menlo,'DejaVu Sans Mono',consolas,'Courier New',monospace\">   <span style=\"color: #008080; text-decoration-color: #008080; font-weight: bold\">29</span>                 <span style=\"color: #008080; text-decoration-color: #008080; font-weight: bold\">0</span>  <span style=\"color: #008080; text-decoration-color: #008080; font-weight: bold\">1.3185996481807332</span>      <span style=\"color: #008080; text-decoration-color: #008080; font-weight: bold\">0.6524483843463604</span>      <span style=\"color: #008080; text-decoration-color: #008080; font-weight: bold\">0.04710128697246249</span>\n",
       "</pre>\n"
      ],
      "text/plain": [
       "   \u001b[1;36m29\u001b[0m                 \u001b[1;36m0\u001b[0m  \u001b[1;36m1.3185996481807332\u001b[0m      \u001b[1;36m0.6524483843463604\u001b[0m      \u001b[1;36m0.04710128697246249\u001b[0m\n"
      ]
     },
     "metadata": {},
     "output_type": "display_data"
    },
    {
     "data": {
      "text/html": [
       "<pre style=\"white-space:pre;overflow-x:auto;line-height:normal;font-family:Menlo,'DejaVu Sans Mono',consolas,'Courier New',monospace\">   <span style=\"color: #008080; text-decoration-color: #008080; font-weight: bold\">30</span>                 <span style=\"color: #008080; text-decoration-color: #008080; font-weight: bold\">0</span>  <span style=\"color: #008080; text-decoration-color: #008080; font-weight: bold\">1.3223172434858494</span>      <span style=\"color: #008080; text-decoration-color: #008080; font-weight: bold\">0.5791495492042477</span>      <span style=\"color: #008080; text-decoration-color: #008080; font-weight: bold\">0.042391158275216244</span>\n",
       "</pre>\n"
      ],
      "text/plain": [
       "   \u001b[1;36m30\u001b[0m                 \u001b[1;36m0\u001b[0m  \u001b[1;36m1.3223172434858494\u001b[0m      \u001b[1;36m0.5791495492042477\u001b[0m      \u001b[1;36m0.042391158275216244\u001b[0m\n"
      ]
     },
     "metadata": {},
     "output_type": "display_data"
    },
    {
     "data": {
      "text/html": [
       "<pre style=\"white-space:pre;overflow-x:auto;line-height:normal;font-family:Menlo,'DejaVu Sans Mono',consolas,'Courier New',monospace\">   <span style=\"color: #008080; text-decoration-color: #008080; font-weight: bold\">31</span>                 <span style=\"color: #008080; text-decoration-color: #008080; font-weight: bold\">0</span>  <span style=\"color: #008080; text-decoration-color: #008080; font-weight: bold\">1.3261517118819997</span>      <span style=\"color: #008080; text-decoration-color: #008080; font-weight: bold\">0.519956649552076</span>       <span style=\"color: #008080; text-decoration-color: #008080; font-weight: bold\">0.03815204244769462</span>\n",
       "</pre>\n"
      ],
      "text/plain": [
       "   \u001b[1;36m31\u001b[0m                 \u001b[1;36m0\u001b[0m  \u001b[1;36m1.3261517118819997\u001b[0m      \u001b[1;36m0.519956649552076\u001b[0m       \u001b[1;36m0.03815204244769462\u001b[0m\n"
      ]
     },
     "metadata": {},
     "output_type": "display_data"
    },
    {
     "data": {
      "text/html": [
       "<pre style=\"white-space:pre;overflow-x:auto;line-height:normal;font-family:Menlo,'DejaVu Sans Mono',consolas,'Courier New',monospace\">   <span style=\"color: #008080; text-decoration-color: #008080; font-weight: bold\">32</span>                 <span style=\"color: #008080; text-decoration-color: #008080; font-weight: bold\">0</span>  <span style=\"color: #008080; text-decoration-color: #008080; font-weight: bold\">1.329670534973581</span>       <span style=\"color: #008080; text-decoration-color: #008080; font-weight: bold\">0.47920021962024484</span>     <span style=\"color: #008080; text-decoration-color: #008080; font-weight: bold\">0.03433683820292516</span>\n",
       "</pre>\n"
      ],
      "text/plain": [
       "   \u001b[1;36m32\u001b[0m                 \u001b[1;36m0\u001b[0m  \u001b[1;36m1.329670534973581\u001b[0m       \u001b[1;36m0.47920021962024484\u001b[0m     \u001b[1;36m0.03433683820292516\u001b[0m\n"
      ]
     },
     "metadata": {},
     "output_type": "display_data"
    },
    {
     "data": {
      "text/html": [
       "<pre style=\"white-space:pre;overflow-x:auto;line-height:normal;font-family:Menlo,'DejaVu Sans Mono',consolas,'Courier New',monospace\">   <span style=\"color: #008080; text-decoration-color: #008080; font-weight: bold\">33</span>                 <span style=\"color: #008080; text-decoration-color: #008080; font-weight: bold\">0</span>  <span style=\"color: #008080; text-decoration-color: #008080; font-weight: bold\">1.3353157930844453</span>      <span style=\"color: #008080; text-decoration-color: #008080; font-weight: bold\">0.44124113479959604</span>     <span style=\"color: #008080; text-decoration-color: #008080; font-weight: bold\">0.030903154382632643</span>\n",
       "</pre>\n"
      ],
      "text/plain": [
       "   \u001b[1;36m33\u001b[0m                 \u001b[1;36m0\u001b[0m  \u001b[1;36m1.3353157930844453\u001b[0m      \u001b[1;36m0.44124113479959604\u001b[0m     \u001b[1;36m0.030903154382632643\u001b[0m\n"
      ]
     },
     "metadata": {},
     "output_type": "display_data"
    },
    {
     "data": {
      "text/html": [
       "<pre style=\"white-space:pre;overflow-x:auto;line-height:normal;font-family:Menlo,'DejaVu Sans Mono',consolas,'Courier New',monospace\">   <span style=\"color: #008080; text-decoration-color: #008080; font-weight: bold\">34</span>                 <span style=\"color: #008080; text-decoration-color: #008080; font-weight: bold\">0</span>  <span style=\"color: #008080; text-decoration-color: #008080; font-weight: bold\">1.3379823110786466</span>      <span style=\"color: #008080; text-decoration-color: #008080; font-weight: bold\">0.4041174650466936</span>      <span style=\"color: #008080; text-decoration-color: #008080; font-weight: bold\">0.02781283894436938</span>\n",
       "</pre>\n"
      ],
      "text/plain": [
       "   \u001b[1;36m34\u001b[0m                 \u001b[1;36m0\u001b[0m  \u001b[1;36m1.3379823110786466\u001b[0m      \u001b[1;36m0.4041174650466936\u001b[0m      \u001b[1;36m0.02781283894436938\u001b[0m\n"
      ]
     },
     "metadata": {},
     "output_type": "display_data"
    },
    {
     "data": {
      "text/html": [
       "<pre style=\"white-space:pre;overflow-x:auto;line-height:normal;font-family:Menlo,'DejaVu Sans Mono',consolas,'Courier New',monospace\">   <span style=\"color: #008080; text-decoration-color: #008080; font-weight: bold\">35</span>                <span style=\"color: #008080; text-decoration-color: #008080; font-weight: bold\">-3</span>  <span style=\"color: #008080; text-decoration-color: #008080; font-weight: bold\">1.3439684472047149</span>      <span style=\"color: #008080; text-decoration-color: #008080; font-weight: bold\">0.37330789928047914</span>     <span style=\"color: #008080; text-decoration-color: #008080; font-weight: bold\">0.025031555049932444</span>\n",
       "</pre>\n"
      ],
      "text/plain": [
       "   \u001b[1;36m35\u001b[0m                \u001b[1;36m-3\u001b[0m  \u001b[1;36m1.3439684472047149\u001b[0m      \u001b[1;36m0.37330789928047914\u001b[0m     \u001b[1;36m0.025031555049932444\u001b[0m\n"
      ]
     },
     "metadata": {},
     "output_type": "display_data"
    },
    {
     "data": {
      "text/html": [
       "<pre style=\"white-space:pre;overflow-x:auto;line-height:normal;font-family:Menlo,'DejaVu Sans Mono',consolas,'Courier New',monospace\">   <span style=\"color: #008080; text-decoration-color: #008080; font-weight: bold\">36</span>                 <span style=\"color: #008080; text-decoration-color: #008080; font-weight: bold\">0</span>  <span style=\"color: #008080; text-decoration-color: #008080; font-weight: bold\">1.338503678435058</span>       <span style=\"color: #008080; text-decoration-color: #008080; font-weight: bold\">0.4025757234628309</span>      <span style=\"color: #008080; text-decoration-color: #008080; font-weight: bold\">0.02753471055492569</span>\n",
       "</pre>\n"
      ],
      "text/plain": [
       "   \u001b[1;36m36\u001b[0m                 \u001b[1;36m0\u001b[0m  \u001b[1;36m1.338503678435058\u001b[0m       \u001b[1;36m0.4025757234628309\u001b[0m      \u001b[1;36m0.02753471055492569\u001b[0m\n"
      ]
     },
     "metadata": {},
     "output_type": "display_data"
    },
    {
     "data": {
      "text/html": [
       "<pre style=\"white-space:pre;overflow-x:auto;line-height:normal;font-family:Menlo,'DejaVu Sans Mono',consolas,'Courier New',monospace\">   <span style=\"color: #008080; text-decoration-color: #008080; font-weight: bold\">37</span>                 <span style=\"color: #008080; text-decoration-color: #008080; font-weight: bold\">0</span>  <span style=\"color: #008080; text-decoration-color: #008080; font-weight: bold\">1.3504873234507495</span>      <span style=\"color: #008080; text-decoration-color: #008080; font-weight: bold\">0.34052870937278984</span>     <span style=\"color: #008080; text-decoration-color: #008080; font-weight: bold\">0.02230311554948981</span>\n",
       "</pre>\n"
      ],
      "text/plain": [
       "   \u001b[1;36m37\u001b[0m                 \u001b[1;36m0\u001b[0m  \u001b[1;36m1.3504873234507495\u001b[0m      \u001b[1;36m0.34052870937278984\u001b[0m     \u001b[1;36m0.02230311554948981\u001b[0m\n"
      ]
     },
     "metadata": {},
     "output_type": "display_data"
    },
    {
     "data": {
      "text/html": [
       "<pre style=\"white-space:pre;overflow-x:auto;line-height:normal;font-family:Menlo,'DejaVu Sans Mono',consolas,'Courier New',monospace\">   <span style=\"color: #008080; text-decoration-color: #008080; font-weight: bold\">38</span>                 <span style=\"color: #008080; text-decoration-color: #008080; font-weight: bold\">0</span>  <span style=\"color: #008080; text-decoration-color: #008080; font-weight: bold\">1.3555409931607034</span>      <span style=\"color: #008080; text-decoration-color: #008080; font-weight: bold\">0.2759468327425896</span>      <span style=\"color: #008080; text-decoration-color: #008080; font-weight: bold\">0.018065523595086747</span>\n",
       "</pre>\n"
      ],
      "text/plain": [
       "   \u001b[1;36m38\u001b[0m                 \u001b[1;36m0\u001b[0m  \u001b[1;36m1.3555409931607034\u001b[0m      \u001b[1;36m0.2759468327425896\u001b[0m      \u001b[1;36m0.018065523595086747\u001b[0m\n"
      ]
     },
     "metadata": {},
     "output_type": "display_data"
    },
    {
     "data": {
      "text/html": [
       "<pre style=\"white-space:pre;overflow-x:auto;line-height:normal;font-family:Menlo,'DejaVu Sans Mono',consolas,'Courier New',monospace\">   <span style=\"color: #008080; text-decoration-color: #008080; font-weight: bold\">39</span>                 <span style=\"color: #008080; text-decoration-color: #008080; font-weight: bold\">0</span>  <span style=\"color: #008080; text-decoration-color: #008080; font-weight: bold\">1.363972759774509</span>       <span style=\"color: #008080; text-decoration-color: #008080; font-weight: bold\">0.23047522246378813</span>     <span style=\"color: #008080; text-decoration-color: #008080; font-weight: bold\">0.014633074112020266</span>\n",
       "</pre>\n"
      ],
      "text/plain": [
       "   \u001b[1;36m39\u001b[0m                 \u001b[1;36m0\u001b[0m  \u001b[1;36m1.363972759774509\u001b[0m       \u001b[1;36m0.23047522246378813\u001b[0m     \u001b[1;36m0.014633074112020266\u001b[0m\n"
      ]
     },
     "metadata": {},
     "output_type": "display_data"
    },
    {
     "data": {
      "text/html": [
       "<pre style=\"white-space:pre;overflow-x:auto;line-height:normal;font-family:Menlo,'DejaVu Sans Mono',consolas,'Courier New',monospace\">   <span style=\"color: #008080; text-decoration-color: #008080; font-weight: bold\">40</span>                 <span style=\"color: #008080; text-decoration-color: #008080; font-weight: bold\">0</span>  <span style=\"color: #008080; text-decoration-color: #008080; font-weight: bold\">1.3762210220006887</span>      <span style=\"color: #008080; text-decoration-color: #008080; font-weight: bold\">0.21184566652280457</span>     <span style=\"color: #008080; text-decoration-color: #008080; font-weight: bold\">0.011852790030736415</span>\n",
       "</pre>\n"
      ],
      "text/plain": [
       "   \u001b[1;36m40\u001b[0m                 \u001b[1;36m0\u001b[0m  \u001b[1;36m1.3762210220006887\u001b[0m      \u001b[1;36m0.21184566652280457\u001b[0m     \u001b[1;36m0.011852790030736415\u001b[0m\n"
      ]
     },
     "metadata": {},
     "output_type": "display_data"
    },
    {
     "data": {
      "text/html": [
       "<pre style=\"white-space:pre;overflow-x:auto;line-height:normal;font-family:Menlo,'DejaVu Sans Mono',consolas,'Courier New',monospace\">   <span style=\"color: #008080; text-decoration-color: #008080; font-weight: bold\">41</span>                 <span style=\"color: #008080; text-decoration-color: #008080; font-weight: bold\">0</span>  <span style=\"color: #008080; text-decoration-color: #008080; font-weight: bold\">1.3875944867271872</span>      <span style=\"color: #008080; text-decoration-color: #008080; font-weight: bold\">0.188797511101487</span>       <span style=\"color: #008080; text-decoration-color: #008080; font-weight: bold\">0.009600759924896497</span>\n",
       "</pre>\n"
      ],
      "text/plain": [
       "   \u001b[1;36m41\u001b[0m                 \u001b[1;36m0\u001b[0m  \u001b[1;36m1.3875944867271872\u001b[0m      \u001b[1;36m0.188797511101487\u001b[0m       \u001b[1;36m0.009600759924896497\u001b[0m\n"
      ]
     },
     "metadata": {},
     "output_type": "display_data"
    },
    {
     "data": {
      "text/html": [
       "<pre style=\"white-space:pre;overflow-x:auto;line-height:normal;font-family:Menlo,'DejaVu Sans Mono',consolas,'Courier New',monospace\">   <span style=\"color: #008080; text-decoration-color: #008080; font-weight: bold\">42</span>                 <span style=\"color: #008080; text-decoration-color: #008080; font-weight: bold\">0</span>  <span style=\"color: #008080; text-decoration-color: #008080; font-weight: bold\">1.4002234815530263</span>      <span style=\"color: #008080; text-decoration-color: #008080; font-weight: bold\">0.1587703507737798</span>      <span style=\"color: #008080; text-decoration-color: #008080; font-weight: bold\">0.007776615539166163</span>\n",
       "</pre>\n"
      ],
      "text/plain": [
       "   \u001b[1;36m42\u001b[0m                 \u001b[1;36m0\u001b[0m  \u001b[1;36m1.4002234815530263\u001b[0m      \u001b[1;36m0.1587703507737798\u001b[0m      \u001b[1;36m0.007776615539166163\u001b[0m\n"
      ]
     },
     "metadata": {},
     "output_type": "display_data"
    },
    {
     "data": {
      "text/html": [
       "<pre style=\"white-space:pre;overflow-x:auto;line-height:normal;font-family:Menlo,'DejaVu Sans Mono',consolas,'Courier New',monospace\">   <span style=\"color: #008080; text-decoration-color: #008080; font-weight: bold\">43</span>                 <span style=\"color: #008080; text-decoration-color: #008080; font-weight: bold\">0</span>  <span style=\"color: #008080; text-decoration-color: #008080; font-weight: bold\">1.4081750548792735</span>      <span style=\"color: #008080; text-decoration-color: #008080; font-weight: bold\">0.13407487754564146</span>     <span style=\"color: #008080; text-decoration-color: #008080; font-weight: bold\">0.006299058586724592</span>\n",
       "</pre>\n"
      ],
      "text/plain": [
       "   \u001b[1;36m43\u001b[0m                 \u001b[1;36m0\u001b[0m  \u001b[1;36m1.4081750548792735\u001b[0m      \u001b[1;36m0.13407487754564146\u001b[0m     \u001b[1;36m0.006299058586724592\u001b[0m\n"
      ]
     },
     "metadata": {},
     "output_type": "display_data"
    },
    {
     "data": {
      "text/html": [
       "<pre style=\"white-space:pre;overflow-x:auto;line-height:normal;font-family:Menlo,'DejaVu Sans Mono',consolas,'Courier New',monospace\">   <span style=\"color: #008080; text-decoration-color: #008080; font-weight: bold\">44</span>                 <span style=\"color: #008080; text-decoration-color: #008080; font-weight: bold\">0</span>  <span style=\"color: #008080; text-decoration-color: #008080; font-weight: bold\">1.4188354847067568</span>      <span style=\"color: #008080; text-decoration-color: #008080; font-weight: bold\">0.11120024489235182</span>     <span style=\"color: #008080; text-decoration-color: #008080; font-weight: bold\">0.00510223745524692</span>\n",
       "</pre>\n"
      ],
      "text/plain": [
       "   \u001b[1;36m44\u001b[0m                 \u001b[1;36m0\u001b[0m  \u001b[1;36m1.4188354847067568\u001b[0m      \u001b[1;36m0.11120024489235182\u001b[0m     \u001b[1;36m0.00510223745524692\u001b[0m\n"
      ]
     },
     "metadata": {},
     "output_type": "display_data"
    },
    {
     "data": {
      "text/html": [
       "<pre style=\"white-space:pre;overflow-x:auto;line-height:normal;font-family:Menlo,'DejaVu Sans Mono',consolas,'Courier New',monospace\">   <span style=\"color: #008080; text-decoration-color: #008080; font-weight: bold\">45</span>                 <span style=\"color: #008080; text-decoration-color: #008080; font-weight: bold\">0</span>  <span style=\"color: #008080; text-decoration-color: #008080; font-weight: bold\">1.429089396176401</span>       <span style=\"color: #008080; text-decoration-color: #008080; font-weight: bold\">0.0928255412951379</span>      <span style=\"color: #008080; text-decoration-color: #008080; font-weight: bold\">0.004132812338750005</span>\n",
       "</pre>\n"
      ],
      "text/plain": [
       "   \u001b[1;36m45\u001b[0m                 \u001b[1;36m0\u001b[0m  \u001b[1;36m1.429089396176401\u001b[0m       \u001b[1;36m0.0928255412951379\u001b[0m      \u001b[1;36m0.004132812338750005\u001b[0m\n"
      ]
     },
     "metadata": {},
     "output_type": "display_data"
    },
    {
     "data": {
      "text/html": [
       "<pre style=\"white-space:pre;overflow-x:auto;line-height:normal;font-family:Menlo,'DejaVu Sans Mono',consolas,'Courier New',monospace\">   <span style=\"color: #008080; text-decoration-color: #008080; font-weight: bold\">46</span>                 <span style=\"color: #008080; text-decoration-color: #008080; font-weight: bold\">0</span>  <span style=\"color: #008080; text-decoration-color: #008080; font-weight: bold\">1.440073902001028</span>       <span style=\"color: #008080; text-decoration-color: #008080; font-weight: bold\">0.08176079621656421</span>     <span style=\"color: #008080; text-decoration-color: #008080; font-weight: bold\">0.003347577994387504</span>\n",
       "</pre>\n"
      ],
      "text/plain": [
       "   \u001b[1;36m46\u001b[0m                 \u001b[1;36m0\u001b[0m  \u001b[1;36m1.440073902001028\u001b[0m       \u001b[1;36m0.08176079621656421\u001b[0m     \u001b[1;36m0.003347577994387504\u001b[0m\n"
      ]
     },
     "metadata": {},
     "output_type": "display_data"
    },
    {
     "data": {
      "text/html": [
       "<pre style=\"white-space:pre;overflow-x:auto;line-height:normal;font-family:Menlo,'DejaVu Sans Mono',consolas,'Courier New',monospace\">   <span style=\"color: #008080; text-decoration-color: #008080; font-weight: bold\">47</span>                 <span style=\"color: #008080; text-decoration-color: #008080; font-weight: bold\">0</span>  <span style=\"color: #008080; text-decoration-color: #008080; font-weight: bold\">1.4466682676972942</span>      <span style=\"color: #008080; text-decoration-color: #008080; font-weight: bold\">0.06460327940906091</span>     <span style=\"color: #008080; text-decoration-color: #008080; font-weight: bold\">0.0027115381754538787</span>\n",
       "</pre>\n"
      ],
      "text/plain": [
       "   \u001b[1;36m47\u001b[0m                 \u001b[1;36m0\u001b[0m  \u001b[1;36m1.4466682676972942\u001b[0m      \u001b[1;36m0.06460327940906091\u001b[0m     \u001b[1;36m0.0027115381754538787\u001b[0m\n"
      ]
     },
     "metadata": {},
     "output_type": "display_data"
    },
    {
     "data": {
      "text/html": [
       "<pre style=\"white-space:pre;overflow-x:auto;line-height:normal;font-family:Menlo,'DejaVu Sans Mono',consolas,'Courier New',monospace\">   <span style=\"color: #008080; text-decoration-color: #008080; font-weight: bold\">48</span>                 <span style=\"color: #008080; text-decoration-color: #008080; font-weight: bold\">0</span>  <span style=\"color: #008080; text-decoration-color: #008080; font-weight: bold\">1.453337734101212</span>       <span style=\"color: #008080; text-decoration-color: #008080; font-weight: bold\">0.054691993676097325</span>    <span style=\"color: #008080; text-decoration-color: #008080; font-weight: bold\">0.002196345922117642</span>\n",
       "</pre>\n"
      ],
      "text/plain": [
       "   \u001b[1;36m48\u001b[0m                 \u001b[1;36m0\u001b[0m  \u001b[1;36m1.453337734101212\u001b[0m       \u001b[1;36m0.054691993676097325\u001b[0m    \u001b[1;36m0.002196345922117642\u001b[0m\n"
      ]
     },
     "metadata": {},
     "output_type": "display_data"
    },
    {
     "data": {
      "text/html": [
       "<pre style=\"white-space:pre;overflow-x:auto;line-height:normal;font-family:Menlo,'DejaVu Sans Mono',consolas,'Courier New',monospace\">   <span style=\"color: #008080; text-decoration-color: #008080; font-weight: bold\">49</span>                 <span style=\"color: #008080; text-decoration-color: #008080; font-weight: bold\">0</span>  <span style=\"color: #008080; text-decoration-color: #008080; font-weight: bold\">1.4611106244278995</span>      <span style=\"color: #008080; text-decoration-color: #008080; font-weight: bold\">0.04426634717975942</span>     <span style=\"color: #008080; text-decoration-color: #008080; font-weight: bold\">0.00177904019691529</span>\n",
       "</pre>\n"
      ],
      "text/plain": [
       "   \u001b[1;36m49\u001b[0m                 \u001b[1;36m0\u001b[0m  \u001b[1;36m1.4611106244278995\u001b[0m      \u001b[1;36m0.04426634717975942\u001b[0m     \u001b[1;36m0.00177904019691529\u001b[0m\n"
      ]
     },
     "metadata": {},
     "output_type": "display_data"
    },
    {
     "data": {
      "text/html": [
       "<pre style=\"white-space:pre;overflow-x:auto;line-height:normal;font-family:Menlo,'DejaVu Sans Mono',consolas,'Courier New',monospace\">   <span style=\"color: #008080; text-decoration-color: #008080; font-weight: bold\">50</span>                 <span style=\"color: #008080; text-decoration-color: #008080; font-weight: bold\">0</span>  <span style=\"color: #008080; text-decoration-color: #008080; font-weight: bold\">1.466737791750261</span>       <span style=\"color: #008080; text-decoration-color: #008080; font-weight: bold\">0.03757398027518919</span>     <span style=\"color: #008080; text-decoration-color: #008080; font-weight: bold\">0.001441022559501385</span>\n",
       "</pre>\n"
      ],
      "text/plain": [
       "   \u001b[1;36m50\u001b[0m                 \u001b[1;36m0\u001b[0m  \u001b[1;36m1.466737791750261\u001b[0m       \u001b[1;36m0.03757398027518919\u001b[0m     \u001b[1;36m0.001441022559501385\u001b[0m\n"
      ]
     },
     "metadata": {},
     "output_type": "display_data"
    },
    {
     "data": {
      "text/html": [
       "<pre style=\"white-space:pre;overflow-x:auto;line-height:normal;font-family:Menlo,'DejaVu Sans Mono',consolas,'Courier New',monospace\">   <span style=\"color: #008080; text-decoration-color: #008080; font-weight: bold\">51</span>                 <span style=\"color: #008080; text-decoration-color: #008080; font-weight: bold\">0</span>  <span style=\"color: #008080; text-decoration-color: #008080; font-weight: bold\">1.472247518739313</span>       <span style=\"color: #008080; text-decoration-color: #008080; font-weight: bold\">0.03144379270012776</span>     <span style=\"color: #008080; text-decoration-color: #008080; font-weight: bold\">0.001167228273196122</span>\n",
       "</pre>\n"
      ],
      "text/plain": [
       "   \u001b[1;36m51\u001b[0m                 \u001b[1;36m0\u001b[0m  \u001b[1;36m1.472247518739313\u001b[0m       \u001b[1;36m0.03144379270012776\u001b[0m     \u001b[1;36m0.001167228273196122\u001b[0m\n"
      ]
     },
     "metadata": {},
     "output_type": "display_data"
    },
    {
     "data": {
      "text/html": [
       "<pre style=\"white-space:pre;overflow-x:auto;line-height:normal;font-family:Menlo,'DejaVu Sans Mono',consolas,'Courier New',monospace\">   <span style=\"color: #008080; text-decoration-color: #008080; font-weight: bold\">52</span>                 <span style=\"color: #008080; text-decoration-color: #008080; font-weight: bold\">0</span>  <span style=\"color: #008080; text-decoration-color: #008080; font-weight: bold\">1.4786124463075898</span>      <span style=\"color: #008080; text-decoration-color: #008080; font-weight: bold\">0.025622330488491486</span>    <span style=\"color: #008080; text-decoration-color: #008080; font-weight: bold\">0.0009454549012888588</span>\n",
       "</pre>\n"
      ],
      "text/plain": [
       "   \u001b[1;36m52\u001b[0m                 \u001b[1;36m0\u001b[0m  \u001b[1;36m1.4786124463075898\u001b[0m      \u001b[1;36m0.025622330488491486\u001b[0m    \u001b[1;36m0.0009454549012888588\u001b[0m\n"
      ]
     },
     "metadata": {},
     "output_type": "display_data"
    },
    {
     "data": {
      "text/html": [
       "<pre style=\"white-space:pre;overflow-x:auto;line-height:normal;font-family:Menlo,'DejaVu Sans Mono',consolas,'Courier New',monospace\">   <span style=\"color: #008080; text-decoration-color: #008080; font-weight: bold\">53</span>                 <span style=\"color: #008080; text-decoration-color: #008080; font-weight: bold\">0</span>  <span style=\"color: #008080; text-decoration-color: #008080; font-weight: bold\">1.4837447994213686</span>      <span style=\"color: #008080; text-decoration-color: #008080; font-weight: bold\">0.021760570646369257</span>    <span style=\"color: #008080; text-decoration-color: #008080; font-weight: bold\">0.0007658184700439757</span>\n",
       "</pre>\n"
      ],
      "text/plain": [
       "   \u001b[1;36m53\u001b[0m                 \u001b[1;36m0\u001b[0m  \u001b[1;36m1.4837447994213686\u001b[0m      \u001b[1;36m0.021760570646369257\u001b[0m    \u001b[1;36m0.0007658184700439757\u001b[0m\n"
      ]
     },
     "metadata": {},
     "output_type": "display_data"
    },
    {
     "data": {
      "text/html": [
       "<pre style=\"white-space:pre;overflow-x:auto;line-height:normal;font-family:Menlo,'DejaVu Sans Mono',consolas,'Courier New',monospace\">   <span style=\"color: #008080; text-decoration-color: #008080; font-weight: bold\">54</span>                 <span style=\"color: #008080; text-decoration-color: #008080; font-weight: bold\">0</span>  <span style=\"color: #008080; text-decoration-color: #008080; font-weight: bold\">1.4890493313275353</span>      <span style=\"color: #008080; text-decoration-color: #008080; font-weight: bold\">0.019336867385799605</span>    <span style=\"color: #008080; text-decoration-color: #008080; font-weight: bold\">0.0006203129607356203</span>\n",
       "</pre>\n"
      ],
      "text/plain": [
       "   \u001b[1;36m54\u001b[0m                 \u001b[1;36m0\u001b[0m  \u001b[1;36m1.4890493313275353\u001b[0m      \u001b[1;36m0.019336867385799605\u001b[0m    \u001b[1;36m0.0006203129607356203\u001b[0m\n"
      ]
     },
     "metadata": {},
     "output_type": "display_data"
    },
    {
     "data": {
      "text/html": [
       "<pre style=\"white-space:pre;overflow-x:auto;line-height:normal;font-family:Menlo,'DejaVu Sans Mono',consolas,'Courier New',monospace\">   <span style=\"color: #008080; text-decoration-color: #008080; font-weight: bold\">55</span>                 <span style=\"color: #008080; text-decoration-color: #008080; font-weight: bold\">0</span>  <span style=\"color: #008080; text-decoration-color: #008080; font-weight: bold\">1.4941552964245026</span>      <span style=\"color: #008080; text-decoration-color: #008080; font-weight: bold\">0.01717345280672881</span>     <span style=\"color: #008080; text-decoration-color: #008080; font-weight: bold\">0.0005024534981958524</span>\n",
       "</pre>\n"
      ],
      "text/plain": [
       "   \u001b[1;36m55\u001b[0m                 \u001b[1;36m0\u001b[0m  \u001b[1;36m1.4941552964245026\u001b[0m      \u001b[1;36m0.01717345280672881\u001b[0m     \u001b[1;36m0.0005024534981958524\u001b[0m\n"
      ]
     },
     "metadata": {},
     "output_type": "display_data"
    },
    {
     "data": {
      "text/html": [
       "<pre style=\"white-space:pre;overflow-x:auto;line-height:normal;font-family:Menlo,'DejaVu Sans Mono',consolas,'Courier New',monospace\">   <span style=\"color: #008080; text-decoration-color: #008080; font-weight: bold\">56</span>                 <span style=\"color: #008080; text-decoration-color: #008080; font-weight: bold\">0</span>  <span style=\"color: #008080; text-decoration-color: #008080; font-weight: bold\">1.4983984929618328</span>      <span style=\"color: #008080; text-decoration-color: #008080; font-weight: bold\">0.014609808960086101</span>    <span style=\"color: #008080; text-decoration-color: #008080; font-weight: bold\">0.0004069873335386405</span>\n",
       "</pre>\n"
      ],
      "text/plain": [
       "   \u001b[1;36m56\u001b[0m                 \u001b[1;36m0\u001b[0m  \u001b[1;36m1.4983984929618328\u001b[0m      \u001b[1;36m0.014609808960086101\u001b[0m    \u001b[1;36m0.0004069873335386405\u001b[0m\n"
      ]
     },
     "metadata": {},
     "output_type": "display_data"
    },
    {
     "data": {
      "text/html": [
       "<pre style=\"white-space:pre;overflow-x:auto;line-height:normal;font-family:Menlo,'DejaVu Sans Mono',consolas,'Courier New',monospace\">   <span style=\"color: #008080; text-decoration-color: #008080; font-weight: bold\">57</span>                 <span style=\"color: #008080; text-decoration-color: #008080; font-weight: bold\">0</span>  <span style=\"color: #008080; text-decoration-color: #008080; font-weight: bold\">1.5025668246880604</span>      <span style=\"color: #008080; text-decoration-color: #008080; font-weight: bold\">0.012578131070515109</span>    <span style=\"color: #008080; text-decoration-color: #008080; font-weight: bold\">0.0003296597401662988</span>\n",
       "</pre>\n"
      ],
      "text/plain": [
       "   \u001b[1;36m57\u001b[0m                 \u001b[1;36m0\u001b[0m  \u001b[1;36m1.5025668246880604\u001b[0m      \u001b[1;36m0.012578131070515109\u001b[0m    \u001b[1;36m0.0003296597401662988\u001b[0m\n"
      ]
     },
     "metadata": {},
     "output_type": "display_data"
    },
    {
     "data": {
      "text/html": [
       "<pre style=\"white-space:pre;overflow-x:auto;line-height:normal;font-family:Menlo,'DejaVu Sans Mono',consolas,'Courier New',monospace\">   <span style=\"color: #008080; text-decoration-color: #008080; font-weight: bold\">58</span>                 <span style=\"color: #008080; text-decoration-color: #008080; font-weight: bold\">0</span>  <span style=\"color: #008080; text-decoration-color: #008080; font-weight: bold\">1.5067848845853664</span>      <span style=\"color: #008080; text-decoration-color: #008080; font-weight: bold\">0.010971760527258477</span>    <span style=\"color: #008080; text-decoration-color: #008080; font-weight: bold\">0.00026702438953470206</span>\n",
       "</pre>\n"
      ],
      "text/plain": [
       "   \u001b[1;36m58\u001b[0m                 \u001b[1;36m0\u001b[0m  \u001b[1;36m1.5067848845853664\u001b[0m      \u001b[1;36m0.010971760527258477\u001b[0m    \u001b[1;36m0.00026702438953470206\u001b[0m\n"
      ]
     },
     "metadata": {},
     "output_type": "display_data"
    },
    {
     "data": {
      "text/html": [
       "<pre style=\"white-space:pre;overflow-x:auto;line-height:normal;font-family:Menlo,'DejaVu Sans Mono',consolas,'Courier New',monospace\">   <span style=\"color: #008080; text-decoration-color: #008080; font-weight: bold\">59</span>                 <span style=\"color: #008080; text-decoration-color: #008080; font-weight: bold\">0</span>  <span style=\"color: #008080; text-decoration-color: #008080; font-weight: bold\">1.5105536505219284</span>      <span style=\"color: #008080; text-decoration-color: #008080; font-weight: bold\">0.009703796766271883</span>    <span style=\"color: #008080; text-decoration-color: #008080; font-weight: bold\">0.0002162897555231087</span>\n",
       "</pre>\n"
      ],
      "text/plain": [
       "   \u001b[1;36m59\u001b[0m                 \u001b[1;36m0\u001b[0m  \u001b[1;36m1.5105536505219284\u001b[0m      \u001b[1;36m0.009703796766271883\u001b[0m    \u001b[1;36m0.0002162897555231087\u001b[0m\n"
      ]
     },
     "metadata": {},
     "output_type": "display_data"
    },
    {
     "data": {
      "text/html": [
       "<pre style=\"white-space:pre;overflow-x:auto;line-height:normal;font-family:Menlo,'DejaVu Sans Mono',consolas,'Courier New',monospace\">   <span style=\"color: #008080; text-decoration-color: #008080; font-weight: bold\">60</span>                 <span style=\"color: #008080; text-decoration-color: #008080; font-weight: bold\">0</span>  <span style=\"color: #008080; text-decoration-color: #008080; font-weight: bold\">1.5144034028714404</span>      <span style=\"color: #008080; text-decoration-color: #008080; font-weight: bold\">0.00818693729297217</span>     <span style=\"color: #008080; text-decoration-color: #008080; font-weight: bold\">0.00017519470197371805</span>\n",
       "</pre>\n"
      ],
      "text/plain": [
       "   \u001b[1;36m60\u001b[0m                 \u001b[1;36m0\u001b[0m  \u001b[1;36m1.5144034028714404\u001b[0m      \u001b[1;36m0.00818693729297217\u001b[0m     \u001b[1;36m0.00017519470197371805\u001b[0m\n"
      ]
     },
     "metadata": {},
     "output_type": "display_data"
    },
    {
     "data": {
      "text/html": [
       "<pre style=\"white-space:pre;overflow-x:auto;line-height:normal;font-family:Menlo,'DejaVu Sans Mono',consolas,'Courier New',monospace\">   <span style=\"color: #008080; text-decoration-color: #008080; font-weight: bold\">61</span>                 <span style=\"color: #008080; text-decoration-color: #008080; font-weight: bold\">0</span>  <span style=\"color: #008080; text-decoration-color: #008080; font-weight: bold\">1.517727721710285</span>       <span style=\"color: #008080; text-decoration-color: #008080; font-weight: bold\">0.007648918348904331</span>    <span style=\"color: #008080; text-decoration-color: #008080; font-weight: bold\">0.00014190770859871162</span>\n",
       "</pre>\n"
      ],
      "text/plain": [
       "   \u001b[1;36m61\u001b[0m                 \u001b[1;36m0\u001b[0m  \u001b[1;36m1.517727721710285\u001b[0m       \u001b[1;36m0.007648918348904331\u001b[0m    \u001b[1;36m0.00014190770859871162\u001b[0m\n"
      ]
     },
     "metadata": {},
     "output_type": "display_data"
    },
    {
     "data": {
      "text/html": [
       "<pre style=\"white-space:pre;overflow-x:auto;line-height:normal;font-family:Menlo,'DejaVu Sans Mono',consolas,'Courier New',monospace\">   <span style=\"color: #008080; text-decoration-color: #008080; font-weight: bold\">62</span>                 <span style=\"color: #008080; text-decoration-color: #008080; font-weight: bold\">0</span>  <span style=\"color: #008080; text-decoration-color: #008080; font-weight: bold\">1.5206434022707924</span>      <span style=\"color: #008080; text-decoration-color: #008080; font-weight: bold\">0.0069070682532424345</span>   <span style=\"color: #008080; text-decoration-color: #008080; font-weight: bold\">0.00011494524396495642</span>\n",
       "</pre>\n"
      ],
      "text/plain": [
       "   \u001b[1;36m62\u001b[0m                 \u001b[1;36m0\u001b[0m  \u001b[1;36m1.5206434022707924\u001b[0m      \u001b[1;36m0.0069070682532424345\u001b[0m   \u001b[1;36m0.00011494524396495642\u001b[0m\n"
      ]
     },
     "metadata": {},
     "output_type": "display_data"
    },
    {
     "data": {
      "text/html": [
       "<pre style=\"white-space:pre;overflow-x:auto;line-height:normal;font-family:Menlo,'DejaVu Sans Mono',consolas,'Courier New',monospace\">   <span style=\"color: #008080; text-decoration-color: #008080; font-weight: bold\">63</span>                 <span style=\"color: #008080; text-decoration-color: #008080; font-weight: bold\">0</span>  <span style=\"color: #008080; text-decoration-color: #008080; font-weight: bold\">1.5239640912404997</span>      <span style=\"color: #008080; text-decoration-color: #008080; font-weight: bold\">0.006532851166338733</span>    <span style=\"color: #008080; text-decoration-color: #008080; font-weight: bold\">9.310564761161471e-05</span>\n",
       "</pre>\n"
      ],
      "text/plain": [
       "   \u001b[1;36m63\u001b[0m                 \u001b[1;36m0\u001b[0m  \u001b[1;36m1.5239640912404997\u001b[0m      \u001b[1;36m0.006532851166338733\u001b[0m    \u001b[1;36m9.310564761161471e-05\u001b[0m\n"
      ]
     },
     "metadata": {},
     "output_type": "display_data"
    },
    {
     "data": {
      "text/html": [
       "<pre style=\"white-space:pre;overflow-x:auto;line-height:normal;font-family:Menlo,'DejaVu Sans Mono',consolas,'Courier New',monospace\">   <span style=\"color: #008080; text-decoration-color: #008080; font-weight: bold\">64</span>                 <span style=\"color: #008080; text-decoration-color: #008080; font-weight: bold\">0</span>  <span style=\"color: #008080; text-decoration-color: #008080; font-weight: bold\">1.5262472568331973</span>      <span style=\"color: #008080; text-decoration-color: #008080; font-weight: bold\">0.00553198748630544</span>     <span style=\"color: #008080; text-decoration-color: #008080; font-weight: bold\">7.541557456540792e-05</span>\n",
       "</pre>\n"
      ],
      "text/plain": [
       "   \u001b[1;36m64\u001b[0m                 \u001b[1;36m0\u001b[0m  \u001b[1;36m1.5262472568331973\u001b[0m      \u001b[1;36m0.00553198748630544\u001b[0m     \u001b[1;36m7.541557456540792e-05\u001b[0m\n"
      ]
     },
     "metadata": {},
     "output_type": "display_data"
    },
    {
     "data": {
      "text/html": [
       "<pre style=\"white-space:pre;overflow-x:auto;line-height:normal;font-family:Menlo,'DejaVu Sans Mono',consolas,'Courier New',monospace\">   <span style=\"color: #008080; text-decoration-color: #008080; font-weight: bold\">65</span>                 <span style=\"color: #008080; text-decoration-color: #008080; font-weight: bold\">0</span>  <span style=\"color: #008080; text-decoration-color: #008080; font-weight: bold\">1.5293117912532073</span>      <span style=\"color: #008080; text-decoration-color: #008080; font-weight: bold\">0.005232183344651206</span>    <span style=\"color: #008080; text-decoration-color: #008080; font-weight: bold\">6.108661539798041e-05</span>\n",
       "</pre>\n"
      ],
      "text/plain": [
       "   \u001b[1;36m65\u001b[0m                 \u001b[1;36m0\u001b[0m  \u001b[1;36m1.5293117912532073\u001b[0m      \u001b[1;36m0.005232183344651206\u001b[0m    \u001b[1;36m6.108661539798041e-05\u001b[0m\n"
      ]
     },
     "metadata": {},
     "output_type": "display_data"
    },
    {
     "data": {
      "text/html": [
       "<pre style=\"white-space:pre;overflow-x:auto;line-height:normal;font-family:Menlo,'DejaVu Sans Mono',consolas,'Courier New',monospace\">   <span style=\"color: #008080; text-decoration-color: #008080; font-weight: bold\">66</span>                 <span style=\"color: #008080; text-decoration-color: #008080; font-weight: bold\">0</span>  <span style=\"color: #008080; text-decoration-color: #008080; font-weight: bold\">1.5374864451625185</span>      <span style=\"color: #008080; text-decoration-color: #008080; font-weight: bold\">0.006359168865905551</span>    <span style=\"color: #008080; text-decoration-color: #008080; font-weight: bold\">4.948015847236413e-05</span>\n",
       "</pre>\n"
      ],
      "text/plain": [
       "   \u001b[1;36m66\u001b[0m                 \u001b[1;36m0\u001b[0m  \u001b[1;36m1.5374864451625185\u001b[0m      \u001b[1;36m0.006359168865905551\u001b[0m    \u001b[1;36m4.948015847236413e-05\u001b[0m\n"
      ]
     },
     "metadata": {},
     "output_type": "display_data"
    },
    {
     "data": {
      "text/html": [
       "<pre style=\"white-space:pre;overflow-x:auto;line-height:normal;font-family:Menlo,'DejaVu Sans Mono',consolas,'Courier New',monospace\">   <span style=\"color: #008080; text-decoration-color: #008080; font-weight: bold\">67</span>                 <span style=\"color: #008080; text-decoration-color: #008080; font-weight: bold\">0</span>  <span style=\"color: #008080; text-decoration-color: #008080; font-weight: bold\">1.5379437591760439</span>      <span style=\"color: #008080; text-decoration-color: #008080; font-weight: bold\">0.005215199068348151</span>    <span style=\"color: #008080; text-decoration-color: #008080; font-weight: bold\">4.007892836261495e-05</span>\n",
       "</pre>\n"
      ],
      "text/plain": [
       "   \u001b[1;36m67\u001b[0m                 \u001b[1;36m0\u001b[0m  \u001b[1;36m1.5379437591760439\u001b[0m      \u001b[1;36m0.005215199068348151\u001b[0m    \u001b[1;36m4.007892836261495e-05\u001b[0m\n"
      ]
     },
     "metadata": {},
     "output_type": "display_data"
    },
    {
     "data": {
      "text/html": [
       "<pre style=\"white-space:pre;overflow-x:auto;line-height:normal;font-family:Menlo,'DejaVu Sans Mono',consolas,'Courier New',monospace\">   <span style=\"color: #008080; text-decoration-color: #008080; font-weight: bold\">68</span>                <span style=\"color: #008080; text-decoration-color: #008080; font-weight: bold\">-1</span>  <span style=\"color: #008080; text-decoration-color: #008080; font-weight: bold\">1.5379398464147038</span>      <span style=\"color: #008080; text-decoration-color: #008080; font-weight: bold\">0.004373216849845599</span>    <span style=\"color: #008080; text-decoration-color: #008080; font-weight: bold\">3.246393197371811e-05</span>\n",
       "</pre>\n"
      ],
      "text/plain": [
       "   \u001b[1;36m68\u001b[0m                \u001b[1;36m-1\u001b[0m  \u001b[1;36m1.5379398464147038\u001b[0m      \u001b[1;36m0.004373216849845599\u001b[0m    \u001b[1;36m3.246393197371811e-05\u001b[0m\n"
      ]
     },
     "metadata": {},
     "output_type": "display_data"
    },
    {
     "data": {
      "text/html": [
       "<pre style=\"white-space:pre;overflow-x:auto;line-height:normal;font-family:Menlo,'DejaVu Sans Mono',consolas,'Courier New',monospace\">   <span style=\"color: #008080; text-decoration-color: #008080; font-weight: bold\">69</span>                <span style=\"color: #008080; text-decoration-color: #008080; font-weight: bold\">-1</span>  <span style=\"color: #008080; text-decoration-color: #008080; font-weight: bold\">1.5368687037830866</span>      <span style=\"color: #008080; text-decoration-color: #008080; font-weight: bold\">0.004536357273361862</span>    <span style=\"color: #008080; text-decoration-color: #008080; font-weight: bold\">3.5710325171089926e-05</span>\n",
       "</pre>\n"
      ],
      "text/plain": [
       "   \u001b[1;36m69\u001b[0m                \u001b[1;36m-1\u001b[0m  \u001b[1;36m1.5368687037830866\u001b[0m      \u001b[1;36m0.004536357273361862\u001b[0m    \u001b[1;36m3.5710325171089926e-05\u001b[0m\n"
      ]
     },
     "metadata": {},
     "output_type": "display_data"
    },
    {
     "data": {
      "text/html": [
       "<pre style=\"white-space:pre;overflow-x:auto;line-height:normal;font-family:Menlo,'DejaVu Sans Mono',consolas,'Courier New',monospace\">   <span style=\"color: #008080; text-decoration-color: #008080; font-weight: bold\">70</span>                 <span style=\"color: #008080; text-decoration-color: #008080; font-weight: bold\">0</span>  <span style=\"color: #008080; text-decoration-color: #008080; font-weight: bold\">1.5350931264131393</span>      <span style=\"color: #008080; text-decoration-color: #008080; font-weight: bold\">0.004839005348810077</span>    <span style=\"color: #008080; text-decoration-color: #008080; font-weight: bold\">3.9281357688198924e-05</span>\n",
       "</pre>\n"
      ],
      "text/plain": [
       "   \u001b[1;36m70\u001b[0m                 \u001b[1;36m0\u001b[0m  \u001b[1;36m1.5350931264131393\u001b[0m      \u001b[1;36m0.004839005348810077\u001b[0m    \u001b[1;36m3.9281357688198924e-05\u001b[0m\n"
      ]
     },
     "metadata": {},
     "output_type": "display_data"
    },
    {
     "data": {
      "text/html": [
       "<pre style=\"white-space:pre;overflow-x:auto;line-height:normal;font-family:Menlo,'DejaVu Sans Mono',consolas,'Courier New',monospace\">   <span style=\"color: #008080; text-decoration-color: #008080; font-weight: bold\">71</span>                <span style=\"color: #008080; text-decoration-color: #008080; font-weight: bold\">-1</span>  <span style=\"color: #008080; text-decoration-color: #008080; font-weight: bold\">1.5457370067670053</span>      <span style=\"color: #008080; text-decoration-color: #008080; font-weight: bold\">0.005431081610688741</span>    <span style=\"color: #008080; text-decoration-color: #008080; font-weight: bold\">2.5772498779227318e-05</span>\n",
       "</pre>\n"
      ],
      "text/plain": [
       "   \u001b[1;36m71\u001b[0m                \u001b[1;36m-1\u001b[0m  \u001b[1;36m1.5457370067670053\u001b[0m      \u001b[1;36m0.005431081610688741\u001b[0m    \u001b[1;36m2.5772498779227318e-05\u001b[0m\n"
      ]
     },
     "metadata": {},
     "output_type": "display_data"
    },
    {
     "data": {
      "text/html": [
       "<pre style=\"white-space:pre;overflow-x:auto;line-height:normal;font-family:Menlo,'DejaVu Sans Mono',consolas,'Courier New',monospace\">   <span style=\"color: #008080; text-decoration-color: #008080; font-weight: bold\">72</span>                 <span style=\"color: #008080; text-decoration-color: #008080; font-weight: bold\">0</span>  <span style=\"color: #008080; text-decoration-color: #008080; font-weight: bold\">1.5435873990672908</span>      <span style=\"color: #008080; text-decoration-color: #008080; font-weight: bold\">0.005222240672457094</span>    <span style=\"color: #008080; text-decoration-color: #008080; font-weight: bold\">2.8349748657150053e-05</span>\n",
       "</pre>\n"
      ],
      "text/plain": [
       "   \u001b[1;36m72\u001b[0m                 \u001b[1;36m0\u001b[0m  \u001b[1;36m1.5435873990672908\u001b[0m      \u001b[1;36m0.005222240672457094\u001b[0m    \u001b[1;36m2.8349748657150053e-05\u001b[0m\n"
      ]
     },
     "metadata": {},
     "output_type": "display_data"
    },
    {
     "data": {
      "text/html": [
       "<pre style=\"white-space:pre;overflow-x:auto;line-height:normal;font-family:Menlo,'DejaVu Sans Mono',consolas,'Courier New',monospace\">   <span style=\"color: #008080; text-decoration-color: #008080; font-weight: bold\">73</span>                 <span style=\"color: #008080; text-decoration-color: #008080; font-weight: bold\">0</span>  <span style=\"color: #008080; text-decoration-color: #008080; font-weight: bold\">1.5608646159804218</span>      <span style=\"color: #008080; text-decoration-color: #008080; font-weight: bold\">0.005555687513256774</span>    <span style=\"color: #008080; text-decoration-color: #008080; font-weight: bold\">1.674024308456054e-05</span>\n",
       "</pre>\n"
      ],
      "text/plain": [
       "   \u001b[1;36m73\u001b[0m                 \u001b[1;36m0\u001b[0m  \u001b[1;36m1.5608646159804218\u001b[0m      \u001b[1;36m0.005555687513256774\u001b[0m    \u001b[1;36m1.674024308456054e-05\u001b[0m\n"
      ]
     },
     "metadata": {},
     "output_type": "display_data"
    },
    {
     "data": {
      "text/html": [
       "<pre style=\"white-space:pre;overflow-x:auto;line-height:normal;font-family:Menlo,'DejaVu Sans Mono',consolas,'Courier New',monospace\">Intermediate result:  message: <span style=\"color: #008000; text-decoration-color: #008000\">b'Algorithm terminated successfully at a locally optimal point, satisfying the </span>\n",
       "<span style=\"color: #008000; text-decoration-color: #008000\">convergence tolerances (can be specified by options).'</span>\n",
       " success: <span style=\"color: #00ff00; text-decoration-color: #00ff00; font-style: italic\">True</span>\n",
       "  status: <span style=\"color: #008080; text-decoration-color: #008080; font-weight: bold\">0</span>\n",
       "     fun: <span style=\"color: #008080; text-decoration-color: #008080; font-weight: bold\">1.5608646159804218</span>\n",
       "       x: <span style=\"font-weight: bold\">[</span> <span style=\"color: #008080; text-decoration-color: #008080; font-weight: bold\">8.513e-01</span>  <span style=\"color: #008080; text-decoration-color: #008080; font-weight: bold\">8.729e-01</span> <span style=\"color: #808000; text-decoration-color: #808000\">...</span> <span style=\"color: #008080; text-decoration-color: #008080; font-weight: bold\">-1.100e-01</span>  <span style=\"color: #008080; text-decoration-color: #008080; font-weight: bold\">1.926e-03</span><span style=\"font-weight: bold\">]</span>\n",
       "     nit: <span style=\"color: #008080; text-decoration-color: #008080; font-weight: bold\">2906</span>\n",
       "    info:     status: <span style=\"color: #008080; text-decoration-color: #008080; font-weight: bold\">0</span>\n",
       "                   x: <span style=\"font-weight: bold\">[</span> <span style=\"color: #008080; text-decoration-color: #008080; font-weight: bold\">8.513e-01</span>  <span style=\"color: #008080; text-decoration-color: #008080; font-weight: bold\">8.729e-01</span> <span style=\"color: #808000; text-decoration-color: #808000\">...</span> <span style=\"color: #008080; text-decoration-color: #008080; font-weight: bold\">-1.100e-01</span>  <span style=\"color: #008080; text-decoration-color: #008080; font-weight: bold\">1.926e-03</span><span style=\"font-weight: bold\">]</span>\n",
       "                   g: <span style=\"font-weight: bold\">[</span><span style=\"color: #008080; text-decoration-color: #008080; font-weight: bold\">-9.571e-09</span> <span style=\"color: #008080; text-decoration-color: #008080; font-weight: bold\">-9.740e-09</span> <span style=\"color: #808000; text-decoration-color: #808000\">...</span>  <span style=\"color: #008080; text-decoration-color: #008080; font-weight: bold\">2.168e-18</span>  <span style=\"color: #008080; text-decoration-color: #008080; font-weight: bold\">7.562e-18</span><span style=\"font-weight: bold\">]</span>\n",
       "             obj_val: <span style=\"color: #008080; text-decoration-color: #008080; font-weight: bold\">1.5608646159804218</span>\n",
       "              mult_g: <span style=\"font-weight: bold\">[</span><span style=\"color: #008080; text-decoration-color: #008080; font-weight: bold\">-2.330e-02</span> <span style=\"color: #008080; text-decoration-color: #008080; font-weight: bold\">-3.846e-02</span> <span style=\"color: #808000; text-decoration-color: #808000\">...</span>  <span style=\"color: #008080; text-decoration-color: #008080; font-weight: bold\">1.455e-08</span> <span style=\"color: #008080; text-decoration-color: #008080; font-weight: bold\">-2.268e-02</span><span style=\"font-weight: bold\">]</span>\n",
       "            mult_x_L: <span style=\"font-weight: bold\">[</span> <span style=\"color: #008080; text-decoration-color: #008080; font-weight: bold\">1.175e-11</span>  <span style=\"color: #008080; text-decoration-color: #008080; font-weight: bold\">1.146e-11</span> <span style=\"color: #808000; text-decoration-color: #808000\">...</span>  <span style=\"color: #008080; text-decoration-color: #008080; font-weight: bold\">0.000e+00</span>  <span style=\"color: #008080; text-decoration-color: #008080; font-weight: bold\">5.191e-09</span><span style=\"font-weight: bold\">]</span>\n",
       "            mult_x_U: <span style=\"font-weight: bold\">[</span> <span style=\"color: #008080; text-decoration-color: #008080; font-weight: bold\">0.000e+00</span>  <span style=\"color: #008080; text-decoration-color: #008080; font-weight: bold\">0.000e+00</span> <span style=\"color: #808000; text-decoration-color: #808000\">...</span>  <span style=\"color: #008080; text-decoration-color: #008080; font-weight: bold\">0.000e+00</span>  <span style=\"color: #008080; text-decoration-color: #008080; font-weight: bold\">0.000e+00</span><span style=\"font-weight: bold\">]</span>\n",
       "          status_msg: <span style=\"color: #008000; text-decoration-color: #008000\">b'Algorithm terminated successfully at a locally optimal point, satisfying the convergence </span>\n",
       "<span style=\"color: #008000; text-decoration-color: #008000\">tolerances (can be specified by options).'</span>\n",
       "    nfev: <span style=\"color: #008080; text-decoration-color: #008080; font-weight: bold\">2990</span>\n",
       "    njev: <span style=\"color: #008080; text-decoration-color: #008080; font-weight: bold\">2908</span>\n",
       "</pre>\n"
      ],
      "text/plain": [
       "Intermediate result:  message: \u001b[32mb'Algorithm terminated successfully at a locally optimal point, satisfying the \u001b[0m\n",
       "\u001b[32mconvergence tolerances \u001b[0m\u001b[32m(\u001b[0m\u001b[32mcan be specified by options\u001b[0m\u001b[32m)\u001b[0m\u001b[32m.'\u001b[0m\n",
       " success: \u001b[3;92mTrue\u001b[0m\n",
       "  status: \u001b[1;36m0\u001b[0m\n",
       "     fun: \u001b[1;36m1.5608646159804218\u001b[0m\n",
       "       x: \u001b[1m[\u001b[0m \u001b[1;36m8.513e-01\u001b[0m  \u001b[1;36m8.729e-01\u001b[0m \u001b[33m...\u001b[0m \u001b[1;36m-1.100e-01\u001b[0m  \u001b[1;36m1.926e-03\u001b[0m\u001b[1m]\u001b[0m\n",
       "     nit: \u001b[1;36m2906\u001b[0m\n",
       "    info:     status: \u001b[1;36m0\u001b[0m\n",
       "                   x: \u001b[1m[\u001b[0m \u001b[1;36m8.513e-01\u001b[0m  \u001b[1;36m8.729e-01\u001b[0m \u001b[33m...\u001b[0m \u001b[1;36m-1.100e-01\u001b[0m  \u001b[1;36m1.926e-03\u001b[0m\u001b[1m]\u001b[0m\n",
       "                   g: \u001b[1m[\u001b[0m\u001b[1;36m-9.571e-09\u001b[0m \u001b[1;36m-9.740e-09\u001b[0m \u001b[33m...\u001b[0m  \u001b[1;36m2.168e-18\u001b[0m  \u001b[1;36m7.562e-18\u001b[0m\u001b[1m]\u001b[0m\n",
       "             obj_val: \u001b[1;36m1.5608646159804218\u001b[0m\n",
       "              mult_g: \u001b[1m[\u001b[0m\u001b[1;36m-2.330e-02\u001b[0m \u001b[1;36m-3.846e-02\u001b[0m \u001b[33m...\u001b[0m  \u001b[1;36m1.455e-08\u001b[0m \u001b[1;36m-2.268e-02\u001b[0m\u001b[1m]\u001b[0m\n",
       "            mult_x_L: \u001b[1m[\u001b[0m \u001b[1;36m1.175e-11\u001b[0m  \u001b[1;36m1.146e-11\u001b[0m \u001b[33m...\u001b[0m  \u001b[1;36m0.000e+00\u001b[0m  \u001b[1;36m5.191e-09\u001b[0m\u001b[1m]\u001b[0m\n",
       "            mult_x_U: \u001b[1m[\u001b[0m \u001b[1;36m0.000e+00\u001b[0m  \u001b[1;36m0.000e+00\u001b[0m \u001b[33m...\u001b[0m  \u001b[1;36m0.000e+00\u001b[0m  \u001b[1;36m0.000e+00\u001b[0m\u001b[1m]\u001b[0m\n",
       "          status_msg: \u001b[32mb'Algorithm terminated successfully at a locally optimal point, satisfying the convergence \u001b[0m\n",
       "\u001b[32mtolerances \u001b[0m\u001b[32m(\u001b[0m\u001b[32mcan be specified by options\u001b[0m\u001b[32m)\u001b[0m\u001b[32m.'\u001b[0m\n",
       "    nfev: \u001b[1;36m2990\u001b[0m\n",
       "    njev: \u001b[1;36m2908\u001b[0m\n"
      ]
     },
     "metadata": {},
     "output_type": "display_data"
    },
    {
     "data": {
      "text/html": [
       "<pre style=\"white-space:pre;overflow-x:auto;line-height:normal;font-family:Menlo,'DejaVu Sans Mono',consolas,'Courier New',monospace\">Intermediate fn: <span style=\"color: #008080; text-decoration-color: #008080; font-weight: bold\">1.5608646159804218</span>\n",
       "</pre>\n"
      ],
      "text/plain": [
       "Intermediate fn: \u001b[1;36m1.5608646159804218\u001b[0m\n"
      ]
     },
     "metadata": {},
     "output_type": "display_data"
    },
    {
     "data": {
      "text/html": [
       "<pre style=\"white-space:pre;overflow-x:auto;line-height:normal;font-family:Menlo,'DejaVu Sans Mono',consolas,'Courier New',monospace\">complementarity: <span style=\"color: #008080; text-decoration-color: #008080; font-weight: bold\">0.005555687513256774</span>\n",
       "</pre>\n"
      ],
      "text/plain": [
       "complementarity: \u001b[1;36m0.005555687513256774\u001b[0m\n"
      ]
     },
     "metadata": {},
     "output_type": "display_data"
    },
    {
     "data": {
      "text/html": [
       "<pre style=\"white-space:pre;overflow-x:auto;line-height:normal;font-family:Menlo,'DejaVu Sans Mono',consolas,'Courier New',monospace\">* <span style=\"font-weight: bold\">(</span>STOPPED<span style=\"font-weight: bold\">)</span> Iteration <span style=\"color: #008080; text-decoration-color: #008080; font-weight: bold\">75</span>: Solving the NLP problem for t = <span style=\"color: #008080; text-decoration-color: #008080; font-weight: bold\">1e-05</span> with complementarity: <span style=\"color: #008080; text-decoration-color: #008080; font-weight: bold\">0.005555687513256774</span>\n",
       "</pre>\n"
      ],
      "text/plain": [
       "* \u001b[1m(\u001b[0mSTOPPED\u001b[1m)\u001b[0m Iteration \u001b[1;36m75\u001b[0m: Solving the NLP problem for t = \u001b[1;36m1e-05\u001b[0m with complementarity: \u001b[1;36m0.005555687513256774\u001b[0m\n"
      ]
     },
     "metadata": {},
     "output_type": "display_data"
    }
   ],
   "source": [
    "res_mpcc,x_opt_mpcc,fun_opt_mpcc = mpcc_model.solve(max_iter=100,tol=1e-3,print_level=0,verbose=True,beta=0.9)"
   ]
  },
  {
   "cell_type": "code",
   "execution_count": 18,
   "metadata": {},
   "outputs": [],
   "source": [
    "u_mpcc, q_mpcc, r_mpcc, delta_mpcc, theta_mpcc, alpha_mpcc = mpcc_model.objective_func.parse_vars(x_opt_mpcc)"
   ]
  },
  {
   "cell_type": "code",
   "execution_count": 19,
   "metadata": {},
   "outputs": [
    {
     "data": {
      "image/png": "[encoded data removed]",
      "text/plain": [
       "<Figure size 1400x400 with 3 Axes>"
      ]
     },
     "metadata": {},
     "output_type": "display_data"
    }
   ],
   "source": [
    "u_mpcc = u_mpcc.reshape((scale,scale))\n",
    "plot_experiment(true,blurred,u_mpcc,alpha_mpcc)"
   ]
  },
  {
   "cell_type": "code",
   "execution_count": null,
   "metadata": {},
   "outputs": [],
   "source": []
  }
 ],
 "metadata": {
  "kernelspec": {
   "display_name": ".venv",
   "language": "python",
   "name": "python3"
  },
  "language_info": {
   "codemirror_mode": {
    "name": "ipython",
    "version": 3
   },
   "file_extension": ".py",
   "mimetype": "text/x-python",
   "name": "python",
   "nbconvert_exporter": "python",
   "pygments_lexer": "ipython3",
   "version": "3.12.7"
  }
 },
 "nbformat": 4,
 "nbformat_minor": 2
}
