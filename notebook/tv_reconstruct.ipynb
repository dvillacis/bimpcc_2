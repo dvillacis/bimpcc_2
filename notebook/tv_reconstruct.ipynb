{
 "cells": [
  {
   "cell_type": "code",
   "execution_count": 1,
   "metadata": {},
   "outputs": [],
   "source": [
    "import sys\n",
    "import os\n",
    "# Get the absolute path to the project root\n",
    "project_root = os.path.abspath(os.path.join(os.getcwd(), \"..\"))\n",
    "# Add it to sys.path\n",
    "sys.path.append(project_root)\n",
    "os.chdir(project_root)"
   ]
  },
  {
   "cell_type": "code",
   "execution_count": 2,
   "metadata": {},
   "outputs": [],
   "source": [
    "from bimpcc.dataset import get_blur_dataset\n",
    "from bimpcc.dataset import get_dataset\n",
    "import numpy as np\n",
    "import scipy.sparse as sp\n",
    "from bimpcc.models.recons_regularized import TVDeblurRegularized, TVReconsRegularized\n",
    "from bimpcc.models.tvreconstruction_model import TVReconstructionMPCC, TVDeblurringMPCC\n",
    "import matplotlib.pyplot as plt\n",
    "from skimage.metrics import peak_signal_noise_ratio as psnr"
   ]
  },
  {
   "cell_type": "code",
   "execution_count": 3,
   "metadata": {},
   "outputs": [],
   "source": [
    "def plot_experiment(true,noisy,u, alpha):\n",
    "    \n",
    "    fig,ax = plt.subplots(1,3,figsize=(14,4))\n",
    "    ax[0].imshow(true,cmap='gray')\n",
    "    ax[0].set_title('True Image')\n",
    "    ax[0].axis('off')\n",
    "    ax[1].imshow(noisy,cmap='gray')\n",
    "    ax[1].set_title('Noisy Image\\nPSNR: {:.4f}'.format(psnr(true,noisy)))\n",
    "    ax[1].axis('off')\n",
    "    ax[2].imshow(u,cmap='gray')\n",
    "    ax[2].set_title(f'Reconstructed Image\\nPSNR: {psnr(true,u):.4f}\\n alpha = {alpha}')\n",
    "    # ax[2].set_xlabel('alpha = {}'.format(alpha))\n",
    "    ax[2].axis('off')\n",
    "\n",
    "    plt.show()"
   ]
  },
  {
   "cell_type": "code",
   "execution_count": 4,
   "metadata": {},
   "outputs": [],
   "source": [
    "scale = 8"
   ]
  },
  {
   "cell_type": "code",
   "execution_count": 5,
   "metadata": {},
   "outputs": [],
   "source": [
    "dataset = get_blur_dataset(\"cameraman\",scale=scale,random_state=1)\n",
    "# dataset = get_dataset(\"cameraman\",scale=scale)\n",
    "true, blurred = dataset.get_training_data()"
   ]
  },
  {
   "cell_type": "code",
   "execution_count": 6,
   "metadata": {},
   "outputs": [
    {
     "data": {
      "text/plain": [
       "(np.float64(-0.5), np.float64(7.5), np.float64(7.5), np.float64(-0.5))"
      ]
     },
     "execution_count": 6,
     "metadata": {},
     "output_type": "execute_result"
    },
    {
     "data": {
      "image/png": "[encoded data removed]",
      "text/plain": [
       "<Figure size 1000x500 with 2 Axes>"
      ]
     },
     "metadata": {},
     "output_type": "display_data"
    }
   ],
   "source": [
    "fig,ax = plt.subplots(1,2,figsize=(10,5))\n",
    "ax[0].imshow(true,cmap='gray')\n",
    "ax[0].set_title('True Image')\n",
    "ax[0].axis('off')\n",
    "ax[1].imshow(blurred,cmap='gray')\n",
    "ax[1].set_title('Blurred Image')\n",
    "ax[1].axis('off')"
   ]
  },
  {
   "cell_type": "code",
   "execution_count": 7,
   "metadata": {},
   "outputs": [],
   "source": [
    "# from bimpcc.utils import gaussian_blur_sparse_matrix_symmetric\n",
    "# forward_map = gaussian_blur_sparse_matrix_symmetric(true.shape)\n",
    "# # forward_map = sp.eye(np.prod(true.shape))\n",
    "# model = TVReconsRegularized(forward_map, true, blurred, epsilon=0.0)\n",
    "model = TVDeblurRegularized(true, blurred)"
   ]
  },
  {
   "cell_type": "code",
   "execution_count": null,
   "metadata": {},
   "outputs": [
    {
     "name": "stdout",
     "output_type": "stream",
     "text": [
      "\n",
      "******************************************************************************\n",
      "This program contains Ipopt, a library for large-scale nonlinear optimization.\n",
      " Ipopt is released as open source code under the Eclipse Public License (EPL).\n",
      "         For more information visit https://github.com/coin-or/Ipopt\n",
      "******************************************************************************\n",
      "\n",
      "This is Ipopt version 3.14.17, running with linear solver MUMPS 5.6.2.\n",
      "\n",
      "Number of nonzeros in equality constraint Jacobian...:     2024\n",
      "Number of nonzeros in inequality constraint Jacobian.:        0\n",
      "Number of nonzeros in Lagrangian Hessian.............:        0\n",
      "\n",
      "Total number of variables............................:      177\n",
      "                     variables with only lower bounds:       65\n",
      "                variables with lower and upper bounds:        0\n",
      "                     variables with only upper bounds:        0\n",
      "Total number of equality constraints.................:      176\n",
      "Total number of inequality constraints...............:        0\n",
      "        inequality constraints with only lower bounds:        0\n",
      "   inequality constraints with lower and upper bounds:        0\n",
      "        inequality constraints with only upper bounds:        0\n",
      "\n",
      "iter    objective    inf_pr   inf_du lg(mu)  ||d||  lg(rg) alpha_du alpha_pr  ls\n",
      "   0  8.2239507e-01 7.67e-02 3.85e-01   0.0 0.00e+00    -  0.00e+00 0.00e+00   0\n",
      "   1  6.7916794e-01 1.26e-02 3.04e+00  -1.9 1.54e-01    -  9.09e-01 1.00e+00h  1\n",
      "   2  5.7230939e-01 8.58e-03 3.90e+01  -1.9 1.35e-01    -  9.98e-01 1.00e+00h  1\n",
      "   3  5.1697544e-01 2.81e-03 3.21e+00  -2.2 1.61e-01    -  1.00e+00 1.00e+00h  1\n",
      "   4  5.1015229e-01 1.49e-03 6.10e+01  -2.3 1.51e-01    -  1.00e+00 5.04e-01h  1\n",
      "   5  5.0676148e-01 1.30e-04 7.34e+04  -2.1 2.03e-01    -  1.00e+00 9.11e-01h  1\n",
      "   6  5.0638731e-01 4.78e-06 2.38e+03  -2.7 2.64e-02    -  1.00e+00 1.00e+00h  1\n",
      "   7  5.0642899e-01 6.49e-07 3.24e+03  -3.7 1.75e-02    -  1.00e+00 8.33e-01h  1\n",
      "   8  5.0643264e-01 5.37e-07 4.36e+04  -4.6 2.60e-02    -  1.00e+00 1.86e-01h  1\n",
      "   9  5.0643673e-01 6.85e-08 1.66e+05  -4.6 1.51e-02    -  1.00e+00 8.62e-01h  1\n",
      "iter    objective    inf_pr   inf_du lg(mu)  ||d||  lg(rg) alpha_du alpha_pr  ls\n",
      "  10  5.0643741e-01 3.12e-09 6.19e-04  -4.0 2.01e-03    -  1.00e+00 1.00e+00f  1\n",
      "  11  5.0643730e-01 3.05e-09 2.94e-04  -6.1 6.11e-04    -  1.00e+00 1.00e+00h  1\n",
      "  12  5.0643756e-01 6.16e-09 1.23e-04  -5.4 9.58e-04    -  1.00e+00 1.00e+00h  1\n",
      "  13  5.0643756e-01 6.00e-09 3.19e-04  -5.5 1.29e-03    -  1.00e+00 1.00e+00H  1\n",
      "  14  5.0643757e-01 1.97e-09 6.06e-04  -5.5 3.50e-04    -  1.00e+00 5.30e-01h  1\n",
      "  15  5.0643717e-01 6.11e-09 2.15e-03  -7.1 1.13e-03    -  1.00e+00 1.00e+00f  1\n",
      "\n",
      "Number of Iterations....: 15\n",
      "\n",
      "                                   (scaled)                 (unscaled)\n",
      "Objective...............:   5.0643717436821389e-01    5.0643717436821389e-01\n",
      "Dual infeasibility......:   2.1461745121363158e-03    2.1461745121363158e-03\n",
      "Constraint violation....:   6.1115103013854711e-09    6.1115103013854711e-09\n",
      "Variable bound violation:   9.9926409404463578e-09    9.9926409404463578e-09\n",
      "Complementarity.........:   4.1665178409637798e-07    4.1665178409637798e-07\n",
      "Overall NLP error.......:   8.2300523398488119e-05    2.1461745121363158e-03\n",
      "\n",
      "\n",
      "Number of objective function evaluations             = 17\n",
      "Number of objective gradient evaluations             = 16\n",
      "Number of equality constraint evaluations            = 17\n",
      "Number of inequality constraint evaluations          = 0\n",
      "Number of equality constraint Jacobian evaluations   = 16\n",
      "Number of inequality constraint Jacobian evaluations = 0\n",
      "Number of Lagrangian Hessian evaluations             = 0\n",
      "Total seconds in IPOPT                               = 0.166\n",
      "\n",
      "EXIT: Optimal Solution Found.\n"
     ]
    }
   ],
   "source": [
    "res,x_opt,fun_opt = model.solve(max_iter=3000,tol=1e-1,print_level=5)"
   ]
  },
  {
   "cell_type": "code",
   "execution_count": 9,
   "metadata": {},
   "outputs": [],
   "source": [
    "u, q, alpha = model.objective_func.parse_vars(x_opt)"
   ]
  },
  {
   "cell_type": "code",
   "execution_count": 10,
   "metadata": {},
   "outputs": [
    {
     "data": {
      "image/png": "[encoded data removed]",
      "text/plain": [
       "<Figure size 1400x400 with 3 Axes>"
      ]
     },
     "metadata": {},
     "output_type": "display_data"
    }
   ],
   "source": [
    "u = u.reshape((scale,scale))\n",
    "plot_experiment(true,blurred,u,alpha)"
   ]
  },
  {
   "cell_type": "code",
   "execution_count": 11,
   "metadata": {},
   "outputs": [],
   "source": [
    "m = q.flatten().size\n",
    "n = m // 2\n",
    "Ku = model.K @ u.flatten()\n",
    "V = Ku.reshape(2, -1).T\n",
    "normKu = np.apply_along_axis(np.linalg.norm, axis=1, arr=V)\n",
    "Q = q.reshape(2,-1).T\n",
    "normQ = np.apply_along_axis(np.linalg.norm, axis=1, arr=Q)\n",
    "r0 = normKu\n",
    "delta0 = normQ"
   ]
  },
  {
   "cell_type": "code",
   "execution_count": 12,
   "metadata": {},
   "outputs": [],
   "source": [
    "Kxu = Ku[:n]  # Primeras n componentes\n",
    "Kyu = Ku[n:]  # Últimas n componentes\n",
    "qx = q[:n]  # Primeras n componentes\n",
    "qy = q[n:]  # Últimas n componentes\n",
    "epsilon = 1e-10  \n",
    "\n",
    "# Condiciones para calcular theta según los casos dados\n",
    "theta0 = np.zeros(n)  # Inicializamos theta0\n",
    "\n",
    "# Caso 1: r_i ≠ 0\n",
    "mask_r_nonzero = r0 > epsilon\n",
    "theta0[mask_r_nonzero] = np.arccos(Kxu[mask_r_nonzero] / r0[mask_r_nonzero])\n",
    "theta0[mask_r_nonzero & (Kyu < 0)] *= -1  # Si Ky^i u < 0, negamos theta0\n",
    "\n",
    "# Caso 2: r_i = 0 y delta_i ≠ 0\n",
    "mask_r_zero_delta_nonzero = (r0 <= epsilon) & (delta0 > epsilon)\n",
    "theta0[mask_r_zero_delta_nonzero] = np.arccos(qx[mask_r_zero_delta_nonzero] / delta0[mask_r_zero_delta_nonzero])\n",
    "theta0[mask_r_zero_delta_nonzero & (qy < 0)] *= -1  # Si qy^i < 0, negamos theta0\n",
    "\n",
    "# Caso 3: r_i = 0 y delta_i = 0 (theta0 indefinido)\n",
    "mask_r_zero_delta_zero = (r0 <= epsilon) & (delta0 <= epsilon)\n",
    "theta0[mask_r_zero_delta_zero] = 0"
   ]
  },
  {
   "cell_type": "code",
   "execution_count": 13,
   "metadata": {},
   "outputs": [],
   "source": [
    "x0_mpcc = np.concatenate((u.flatten(),q.flatten(),r0,delta0,theta0,alpha))"
   ]
  },
  {
   "cell_type": "code",
   "execution_count": 14,
   "metadata": {},
   "outputs": [],
   "source": [
    "# mpcc_model = TVReconstructionMPCC(forward_map, true, blurred, x0=x0_mpcc, epsilon=1e-3)\n",
    "mpcc_model = TVDeblurringMPCC(true, blurred, x0=x0_mpcc, epsilon=0.0)"
   ]
  },
  {
   "cell_type": "code",
   "execution_count": 15,
   "metadata": {},
   "outputs": [
    {
     "data": {
      "text/html": [
       "<pre style=\"white-space:pre;overflow-x:auto;line-height:normal;font-family:Menlo,'DejaVu Sans Mono',consolas,'Courier New',monospace\"> Iter   Termination_status            Objective      MPCC_compl               t\n",
       "\n",
       "</pre>\n"
      ],
      "text/plain": [
       " Iter   Termination_status            Objective      MPCC_compl               t\n",
       "\n"
      ]
     },
     "metadata": {},
     "output_type": "display_data"
    },
    {
     "data": {
      "text/html": [
       "<pre style=\"white-space:pre;overflow-x:auto;line-height:normal;font-family:Menlo,'DejaVu Sans Mono',consolas,'Courier New',monospace\">    <span style=\"color: #008080; text-decoration-color: #008080; font-weight: bold\">0</span>                 <span style=\"color: #008080; text-decoration-color: #008080; font-weight: bold\">0</span>  <span style=\"color: #008080; text-decoration-color: #008080; font-weight: bold\">0.4541201619912844</span>      <span style=\"color: #008080; text-decoration-color: #008080; font-weight: bold\">3.017936065783</span>             <span style=\"color: #008080; text-decoration-color: #008080; font-weight: bold\">1.0</span>\n",
       "</pre>\n"
      ],
      "text/plain": [
       "    \u001b[1;36m0\u001b[0m                 \u001b[1;36m0\u001b[0m  \u001b[1;36m0.4541201619912844\u001b[0m      \u001b[1;36m3.017936065783\u001b[0m             \u001b[1;36m1.0\u001b[0m\n"
      ]
     },
     "metadata": {},
     "output_type": "display_data"
    },
    {
     "data": {
      "text/html": [
       "<pre style=\"white-space:pre;overflow-x:auto;line-height:normal;font-family:Menlo,'DejaVu Sans Mono',consolas,'Courier New',monospace\">    <span style=\"color: #008080; text-decoration-color: #008080; font-weight: bold\">1</span>                 <span style=\"color: #008080; text-decoration-color: #008080; font-weight: bold\">0</span>  <span style=\"color: #008080; text-decoration-color: #008080; font-weight: bold\">0.4444447326132723</span>      <span style=\"color: #008080; text-decoration-color: #008080; font-weight: bold\">2.070693211587483</span>                  <span style=\"color: #008080; text-decoration-color: #008080; font-weight: bold\">0.5</span>\n",
       "</pre>\n"
      ],
      "text/plain": [
       "    \u001b[1;36m1\u001b[0m                 \u001b[1;36m0\u001b[0m  \u001b[1;36m0.4444447326132723\u001b[0m      \u001b[1;36m2.070693211587483\u001b[0m                  \u001b[1;36m0.5\u001b[0m\n"
      ]
     },
     "metadata": {},
     "output_type": "display_data"
    },
    {
     "data": {
      "text/html": [
       "<pre style=\"white-space:pre;overflow-x:auto;line-height:normal;font-family:Menlo,'DejaVu Sans Mono',consolas,'Courier New',monospace\">    <span style=\"color: #008080; text-decoration-color: #008080; font-weight: bold\">2</span>                 <span style=\"color: #008080; text-decoration-color: #008080; font-weight: bold\">0</span>  <span style=\"color: #008080; text-decoration-color: #008080; font-weight: bold\">0.4399754411900406</span>      <span style=\"color: #008080; text-decoration-color: #008080; font-weight: bold\">1.2003005248168843</span>                <span style=\"color: #008080; text-decoration-color: #008080; font-weight: bold\">0.25</span>\n",
       "</pre>\n"
      ],
      "text/plain": [
       "    \u001b[1;36m2\u001b[0m                 \u001b[1;36m0\u001b[0m  \u001b[1;36m0.4399754411900406\u001b[0m      \u001b[1;36m1.2003005248168843\u001b[0m                \u001b[1;36m0.25\u001b[0m\n"
      ]
     },
     "metadata": {},
     "output_type": "display_data"
    },
    {
     "data": {
      "text/html": [
       "<pre style=\"white-space:pre;overflow-x:auto;line-height:normal;font-family:Menlo,'DejaVu Sans Mono',consolas,'Courier New',monospace\">    <span style=\"color: #008080; text-decoration-color: #008080; font-weight: bold\">3</span>                 <span style=\"color: #008080; text-decoration-color: #008080; font-weight: bold\">0</span>  <span style=\"color: #008080; text-decoration-color: #008080; font-weight: bold\">0.4409019748404173</span>      <span style=\"color: #008080; text-decoration-color: #008080; font-weight: bold\">0.6576839737262894</span>               <span style=\"color: #008080; text-decoration-color: #008080; font-weight: bold\">0.125</span>\n",
       "</pre>\n"
      ],
      "text/plain": [
       "    \u001b[1;36m3\u001b[0m                 \u001b[1;36m0\u001b[0m  \u001b[1;36m0.4409019748404173\u001b[0m      \u001b[1;36m0.6576839737262894\u001b[0m               \u001b[1;36m0.125\u001b[0m\n"
      ]
     },
     "metadata": {},
     "output_type": "display_data"
    },
    {
     "data": {
      "text/html": [
       "<pre style=\"white-space:pre;overflow-x:auto;line-height:normal;font-family:Menlo,'DejaVu Sans Mono',consolas,'Courier New',monospace\">    <span style=\"color: #008080; text-decoration-color: #008080; font-weight: bold\">4</span>                 <span style=\"color: #008080; text-decoration-color: #008080; font-weight: bold\">0</span>  <span style=\"color: #008080; text-decoration-color: #008080; font-weight: bold\">0.4501370094308271</span>      <span style=\"color: #008080; text-decoration-color: #008080; font-weight: bold\">0.3685339504895879</span>              <span style=\"color: #008080; text-decoration-color: #008080; font-weight: bold\">0.0625</span>\n",
       "</pre>\n"
      ],
      "text/plain": [
       "    \u001b[1;36m4\u001b[0m                 \u001b[1;36m0\u001b[0m  \u001b[1;36m0.4501370094308271\u001b[0m      \u001b[1;36m0.3685339504895879\u001b[0m              \u001b[1;36m0.0625\u001b[0m\n"
      ]
     },
     "metadata": {},
     "output_type": "display_data"
    },
    {
     "data": {
      "text/html": [
       "<pre style=\"white-space:pre;overflow-x:auto;line-height:normal;font-family:Menlo,'DejaVu Sans Mono',consolas,'Courier New',monospace\">    <span style=\"color: #008080; text-decoration-color: #008080; font-weight: bold\">5</span>                 <span style=\"color: #008080; text-decoration-color: #008080; font-weight: bold\">0</span>  <span style=\"color: #008080; text-decoration-color: #008080; font-weight: bold\">0.45826706413842927</span>     <span style=\"color: #008080; text-decoration-color: #008080; font-weight: bold\">0.19363383154115993</span>            <span style=\"color: #008080; text-decoration-color: #008080; font-weight: bold\">0.03125</span>\n",
       "</pre>\n"
      ],
      "text/plain": [
       "    \u001b[1;36m5\u001b[0m                 \u001b[1;36m0\u001b[0m  \u001b[1;36m0.45826706413842927\u001b[0m     \u001b[1;36m0.19363383154115993\u001b[0m            \u001b[1;36m0.03125\u001b[0m\n"
      ]
     },
     "metadata": {},
     "output_type": "display_data"
    },
    {
     "data": {
      "text/html": [
       "<pre style=\"white-space:pre;overflow-x:auto;line-height:normal;font-family:Menlo,'DejaVu Sans Mono',consolas,'Courier New',monospace\">    <span style=\"color: #008080; text-decoration-color: #008080; font-weight: bold\">6</span>                 <span style=\"color: #008080; text-decoration-color: #008080; font-weight: bold\">0</span>  <span style=\"color: #008080; text-decoration-color: #008080; font-weight: bold\">0.47190444031887735</span>     <span style=\"color: #008080; text-decoration-color: #008080; font-weight: bold\">0.1258191820162976</span>            <span style=\"color: #008080; text-decoration-color: #008080; font-weight: bold\">0.015625</span>\n",
       "</pre>\n"
      ],
      "text/plain": [
       "    \u001b[1;36m6\u001b[0m                 \u001b[1;36m0\u001b[0m  \u001b[1;36m0.47190444031887735\u001b[0m     \u001b[1;36m0.1258191820162976\u001b[0m            \u001b[1;36m0.015625\u001b[0m\n"
      ]
     },
     "metadata": {},
     "output_type": "display_data"
    },
    {
     "data": {
      "text/html": [
       "<pre style=\"white-space:pre;overflow-x:auto;line-height:normal;font-family:Menlo,'DejaVu Sans Mono',consolas,'Courier New',monospace\">    <span style=\"color: #008080; text-decoration-color: #008080; font-weight: bold\">7</span>*                <span style=\"color: #008080; text-decoration-color: #008080; font-weight: bold\">0</span>  <span style=\"color: #008080; text-decoration-color: #008080; font-weight: bold\">0.48087849366357144</span>     <span style=\"color: #008080; text-decoration-color: #008080; font-weight: bold\">0.05484672582971716</span>          <span style=\"color: #008080; text-decoration-color: #008080; font-weight: bold\">0.0078125</span>\n",
       "</pre>\n"
      ],
      "text/plain": [
       "    \u001b[1;36m7\u001b[0m*                \u001b[1;36m0\u001b[0m  \u001b[1;36m0.48087849366357144\u001b[0m     \u001b[1;36m0.05484672582971716\u001b[0m          \u001b[1;36m0.0078125\u001b[0m\n"
      ]
     },
     "metadata": {},
     "output_type": "display_data"
    }
   ],
   "source": [
    "res_mpcc,x_opt_mpcc,fun_opt_mpcc = mpcc_model.solve(max_iter=100,tol=1e-1,print_level=0,verbose=True,beta=0.5)"
   ]
  },
  {
   "cell_type": "code",
   "execution_count": 16,
   "metadata": {},
   "outputs": [],
   "source": [
    "u_mpcc, q_mpcc, r_mpcc, delta_mpcc, theta_mpcc, alpha_mpcc = mpcc_model.objective_func.parse_vars(x_opt_mpcc)"
   ]
  },
  {
   "cell_type": "code",
   "execution_count": 17,
   "metadata": {},
   "outputs": [
    {
     "data": {
      "image/png": "[encoded data removed]",
      "text/plain": [
       "<Figure size 1400x400 with 3 Axes>"
      ]
     },
     "metadata": {},
     "output_type": "display_data"
    }
   ],
   "source": [
    "u_mpcc = u_mpcc.reshape((scale,scale))\n",
    "plot_experiment(true,blurred,u_mpcc,alpha_mpcc)"
   ]
  },
  {
   "cell_type": "code",
   "execution_count": null,
   "metadata": {},
   "outputs": [],
   "source": []
  }
 ],
 "metadata": {
  "kernelspec": {
   "display_name": ".venv",
   "language": "python",
   "name": "python3"
  },
  "language_info": {
   "codemirror_mode": {
    "name": "ipython",
    "version": 3
   },
   "file_extension": ".py",
   "mimetype": "text/x-python",
   "name": "python",
   "nbconvert_exporter": "python",
   "pygments_lexer": "ipython3",
   "version": "3.12.7"
  }
 },
 "nbformat": 4,
 "nbformat_minor": 2
}
