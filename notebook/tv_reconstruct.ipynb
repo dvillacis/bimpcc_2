{
 "cells": [
  {
   "cell_type": "code",
   "execution_count": 1,
   "metadata": {},
   "outputs": [],
   "source": [
    "import sys\n",
    "import os\n",
    "# Get the absolute path to the project root\n",
    "project_root = os.path.abspath(os.path.join(os.getcwd(), \"..\"))\n",
    "# Add it to sys.path\n",
    "sys.path.append(project_root)"
   ]
  },
  {
   "cell_type": "code",
   "execution_count": null,
   "metadata": {},
   "outputs": [
    {
     "ename": "ModuleNotFoundError",
     "evalue": "No module named 'models'",
     "output_type": "error",
     "traceback": [
      "\u001b[31m---------------------------------------------------------------------------\u001b[39m",
      "\u001b[31mModuleNotFoundError\u001b[39m                       Traceback (most recent call last)",
      "\u001b[36mCell\u001b[39m\u001b[36m \u001b[39m\u001b[32mIn[2]\u001b[39m\u001b[32m, line 2\u001b[39m\n\u001b[32m      1\u001b[39m \u001b[38;5;28;01mfrom\u001b[39;00m\u001b[38;5;250m \u001b[39m\u001b[34;01mbimpcc\u001b[39;00m\u001b[34;01m.\u001b[39;00m\u001b[34;01mdataset\u001b[39;00m\u001b[38;5;250m \u001b[39m\u001b[38;5;28;01mimport\u001b[39;00m get_dataset\n\u001b[32m----> \u001b[39m\u001b[32m2\u001b[39m \u001b[38;5;28;01mfrom\u001b[39;00m\u001b[38;5;250m \u001b[39m\u001b[34;01mbimpcc\u001b[39;00m\u001b[34;01m.\u001b[39;00m\u001b[34;01mtv_reconstruct\u001b[39;00m\u001b[38;5;250m \u001b[39m\u001b[38;5;28;01mimport\u001b[39;00m TVReconstruct\n\u001b[32m      3\u001b[39m \u001b[38;5;28;01mfrom\u001b[39;00m\u001b[38;5;250m \u001b[39m\u001b[34;01mbimpcc\u001b[39;00m\u001b[34;01m.\u001b[39;00m\u001b[34;01mutils_recons\u001b[39;00m\u001b[38;5;250m \u001b[39m\u001b[38;5;28;01mimport\u001b[39;00m apply_blur\n\u001b[32m      4\u001b[39m \u001b[38;5;28;01mimport\u001b[39;00m\u001b[38;5;250m \u001b[39m\u001b[34;01mmatplotlib\u001b[39;00m\u001b[34;01m.\u001b[39;00m\u001b[34;01mpyplot\u001b[39;00m\u001b[38;5;250m \u001b[39m\u001b[38;5;28;01mas\u001b[39;00m\u001b[38;5;250m \u001b[39m\u001b[34;01mplt\u001b[39;00m\n",
      "\u001b[36mFile \u001b[39m\u001b[32m~/Documents/REPOSITORIOS GITHUB/bimpcc_2/bimpcc/tv_reconstruct.py:3\u001b[39m\n\u001b[32m      1\u001b[39m \u001b[38;5;28;01mimport\u001b[39;00m\u001b[38;5;250m \u001b[39m\u001b[34;01mnumpy\u001b[39;00m\u001b[38;5;250m \u001b[39m\u001b[38;5;28;01mas\u001b[39;00m\u001b[38;5;250m \u001b[39m\u001b[34;01mnp\u001b[39;00m\n\u001b[32m      2\u001b[39m \u001b[38;5;28;01mimport\u001b[39;00m\u001b[38;5;250m \u001b[39m\u001b[34;01mscipy\u001b[39;00m\u001b[34;01m.\u001b[39;00m\u001b[34;01msparse\u001b[39;00m\u001b[38;5;250m \u001b[39m\u001b[38;5;28;01mas\u001b[39;00m\u001b[38;5;250m \u001b[39m\u001b[34;01msp\u001b[39;00m\n\u001b[32m----> \u001b[39m\u001b[32m3\u001b[39m \u001b[38;5;28;01mfrom\u001b[39;00m\u001b[38;5;250m \u001b[39m\u001b[34;01mmodels\u001b[39;00m\u001b[34;01m.\u001b[39;00m\u001b[34;01mmodel\u001b[39;00m\u001b[38;5;250m \u001b[39m\u001b[38;5;28;01mimport\u001b[39;00m MPCCModel, MPCCPenalizedModel\n\u001b[32m      4\u001b[39m \u001b[38;5;28;01mfrom\u001b[39;00m\u001b[38;5;250m \u001b[39m\u001b[34;01mbimpcc\u001b[39;00m\u001b[34;01m.\u001b[39;00m\u001b[34;01mutils_recons\u001b[39;00m\u001b[38;5;250m \u001b[39m\u001b[38;5;28;01mimport\u001b[39;00m apply_blur, gradient_f, hessian_f\n\u001b[32m      5\u001b[39m \u001b[38;5;28;01mfrom\u001b[39;00m\u001b[38;5;250m \u001b[39m\u001b[34;01mbimpcc\u001b[39;00m\u001b[34;01m.\u001b[39;00m\u001b[34;01mutils\u001b[39;00m\u001b[38;5;250m \u001b[39m\u001b[38;5;28;01mimport\u001b[39;00m generate_2D_gradient_matrices\n",
      "\u001b[31mModuleNotFoundError\u001b[39m: No module named 'models'"
     ]
    }
   ],
   "source": [
    "import numpy as np\n",
    "from bimpcc.dataset import get_dataset\n",
    "from bimpcc.tv_reconstruct import TVReconstruct\n",
    "from bimpcc.utils_recons import apply_blur\n",
    "import matplotlib.pyplot as plt\n",
    "from skimage.metrics import peak_signal_noise_ratio as psnr"
   ]
  },
  {
   "cell_type": "code",
   "execution_count": 3,
   "metadata": {},
   "outputs": [],
   "source": [
    "def plot_experiment(true,blur,u, alpha):\n",
    "    \n",
    "    fig,ax = plt.subplots(1,3,figsize=(14,4))\n",
    "    ax[0].imshow(true,cmap='gray')\n",
    "    ax[0].set_title('True Image')\n",
    "    ax[0].axis('off')\n",
    "    ax[1].imshow(blur,cmap='gray')\n",
    "    ax[1].set_title('Noisy Image\\nPSNR: {:.4f}'.format(psnr(true,blur)))\n",
    "    ax[1].axis('off')\n",
    "    ax[2].imshow(u,cmap='gray')\n",
    "    ax[2].set_title(f'Reconstructed Image\\nPSNR: {psnr(true,u):.4f}\\n alpha = {alpha}')\n",
    "    # ax[2].set_xlabel('alpha = {}'.format(alpha))\n",
    "    ax[2].axis('off')\n",
    "\n",
    "    plt.show()"
   ]
  },
  {
   "cell_type": "code",
   "execution_count": 4,
   "metadata": {},
   "outputs": [],
   "source": [
    "scale = 10"
   ]
  },
  {
   "cell_type": "code",
   "execution_count": 5,
   "metadata": {},
   "outputs": [],
   "source": [
    "dataset = get_dataset(\"cameraman\",scale=scale)\n",
    "true, _= dataset.get_training_data()\n",
    "psf_0 = np.ones((5, 5)) / 25\n",
    "blur_img = apply_blur(true, psf_0)"
   ]
  },
  {
   "cell_type": "code",
   "execution_count": 6,
   "metadata": {},
   "outputs": [
    {
     "data": {
      "text/plain": [
       "(np.float64(-0.5), np.float64(9.5), np.float64(9.5), np.float64(-0.5))"
      ]
     },
     "execution_count": 6,
     "metadata": {},
     "output_type": "execute_result"
    },
    {
     "data": {
      "image/png": "[encoded data removed]",
      "text/plain": [
       "<Figure size 1000x500 with 2 Axes>"
      ]
     },
     "metadata": {},
     "output_type": "display_data"
    }
   ],
   "source": [
    "fig,ax = plt.subplots(1,2,figsize=(10,5))\n",
    "ax[0].imshow(true,cmap='gray')\n",
    "ax[0].set_title('True Image')\n",
    "ax[0].axis('off')\n",
    "ax[1].imshow(blur_img,cmap='gray')\n",
    "ax[1].set_title('Blurred Image')\n",
    "ax[1].axis('off')"
   ]
  },
  {
   "cell_type": "code",
   "execution_count": 7,
   "metadata": {},
   "outputs": [
    {
     "ename": "AttributeError",
     "evalue": "'DeblurringStateConstraintFn' object has no attribute 'u'",
     "output_type": "error",
     "traceback": [
      "\u001b[31m---------------------------------------------------------------------------\u001b[39m",
      "\u001b[31mAttributeError\u001b[39m                            Traceback (most recent call last)",
      "\u001b[36mCell\u001b[39m\u001b[36m \u001b[39m\u001b[32mIn[7]\u001b[39m\u001b[32m, line 1\u001b[39m\n\u001b[32m----> \u001b[39m\u001b[32m1\u001b[39m model = \u001b[43mTVReconstruct\u001b[49m\u001b[43m(\u001b[49m\u001b[43mtrue\u001b[49m\u001b[43m,\u001b[49m\u001b[43m \u001b[49m\u001b[43mblur_img\u001b[49m\u001b[43m,\u001b[49m\u001b[43m \u001b[49m\u001b[43mepsilon\u001b[49m\u001b[43m=\u001b[49m\u001b[32;43m1e-3\u001b[39;49m\u001b[43m)\u001b[49m\n",
      "\u001b[36mFile \u001b[39m\u001b[32m~/Documents/REPOSITORIOS GITHUB/bimpcc_2/bimpcc/tv_reconstruct.py:413\u001b[39m, in \u001b[36mTVReconstruct.__init__\u001b[39m\u001b[34m(self, true_img, blur_img, epsilon)\u001b[39m\n\u001b[32m    408\u001b[39m \u001b[38;5;28mself\u001b[39m.M, \u001b[38;5;28mself\u001b[39m.N = \u001b[38;5;28mself\u001b[39m.K.shape\n\u001b[32m    409\u001b[39m \u001b[38;5;28mself\u001b[39m.R = \u001b[38;5;28mself\u001b[39m.M // \u001b[32m2\u001b[39m\n\u001b[32m    410\u001b[39m \u001b[38;5;28mself\u001b[39m.nlp = OptimizationProblem(\n\u001b[32m    411\u001b[39m     TVDeblurringObjectiveFn(\u001b[38;5;28mself\u001b[39m.true_img, \u001b[38;5;28mself\u001b[39m.K, epsilon),\n\u001b[32m    412\u001b[39m     eq_constraint_funcs=[\n\u001b[32m--> \u001b[39m\u001b[32m413\u001b[39m         \u001b[43mDeblurringStateConstraintFn\u001b[49m\u001b[43m(\u001b[49m\u001b[38;5;28;43mself\u001b[39;49m\u001b[43m.\u001b[49m\u001b[43mK\u001b[49m\u001b[43m)\u001b[49m,\n\u001b[32m    414\u001b[39m         PrimalConstraintFn(\u001b[38;5;28mself\u001b[39m.K),\n\u001b[32m    415\u001b[39m         DualConstraintFn(\u001b[38;5;28mself\u001b[39m.K, \u001b[38;5;28mself\u001b[39m.Kx, \u001b[38;5;28mself\u001b[39m.Ky),\n\u001b[32m    416\u001b[39m     ],\n\u001b[32m    417\u001b[39m     ineq_constraint_funcs=[\n\u001b[32m    418\u001b[39m         BoundConstraintFn(\u001b[38;5;28mself\u001b[39m.M, \u001b[38;5;28mself\u001b[39m.N),\n\u001b[32m    419\u001b[39m         ComplementarityConstraintFn(\u001b[38;5;28mself\u001b[39m.M, \u001b[38;5;28mself\u001b[39m.N, t=\u001b[32m1.0\u001b[39m),\n\u001b[32m    420\u001b[39m     ],\n\u001b[32m    421\u001b[39m )\n",
      "\u001b[36mFile \u001b[39m\u001b[32m~/Documents/REPOSITORIOS GITHUB/bimpcc_2/bimpcc/tv_reconstruct.py:130\u001b[39m, in \u001b[36mDeblurringStateConstraintFn.__init__\u001b[39m\u001b[34m(self, gradient_op, parameter_size)\u001b[39m\n\u001b[32m    128\u001b[39m \u001b[38;5;28mself\u001b[39m.Z_P = sp.coo_matrix((\u001b[38;5;28mself\u001b[39m.N, \u001b[38;5;28mself\u001b[39m.parameter_size))\n\u001b[32m    129\u001b[39m \u001b[38;5;28mself\u001b[39m.psf = np.ones((\u001b[32m5\u001b[39m, \u001b[32m5\u001b[39m)) / \u001b[32m25\u001b[39m\n\u001b[32m--> \u001b[39m\u001b[32m130\u001b[39m \u001b[38;5;28mself\u001b[39m.u_matriz = \u001b[38;5;28;43mself\u001b[39;49m\u001b[43m.\u001b[49m\u001b[43mu\u001b[49m.reshape(\u001b[38;5;28mself\u001b[39m.N, \u001b[38;5;28mself\u001b[39m.N)\n\u001b[32m    131\u001b[39m \u001b[38;5;28mself\u001b[39m.blur_img = apply_blur(\u001b[38;5;28mself\u001b[39m.u_matriz, \u001b[38;5;28mself\u001b[39m.psf)\n",
      "\u001b[31mAttributeError\u001b[39m: 'DeblurringStateConstraintFn' object has no attribute 'u'"
     ]
    }
   ],
   "source": [
    "model = TVReconstruct(true, blur_img, epsilon=1e-3)"
   ]
  },
  {
   "cell_type": "code",
   "execution_count": null,
   "metadata": {},
   "outputs": [],
   "source": []
  }
 ],
 "metadata": {
  "kernelspec": {
   "display_name": "Python 3",
   "language": "python",
   "name": "python3"
  },
  "language_info": {
   "codemirror_mode": {
    "name": "ipython",
    "version": 3
   },
   "file_extension": ".py",
   "mimetype": "text/x-python",
   "name": "python",
   "nbconvert_exporter": "python",
   "pygments_lexer": "ipython3",
   "version": "3.13.1"
  }
 },
 "nbformat": 4,
 "nbformat_minor": 2
}
