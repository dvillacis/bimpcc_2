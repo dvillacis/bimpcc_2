{
 "cells": [
  {
   "cell_type": "code",
   "execution_count": 1,
   "metadata": {},
   "outputs": [],
   "source": [
    "import sys\n",
    "import os\n",
    "# Get the absolute path to the project root\n",
    "project_root = os.path.abspath(os.path.join(os.getcwd(), \"..\"))\n",
    "# Add it to sys.path\n",
    "sys.path.append(project_root)"
   ]
  },
  {
   "cell_type": "code",
   "execution_count": 2,
   "metadata": {},
   "outputs": [],
   "source": [
    "from bimpcc.dataset import get_dataset\n",
    "from bimpcc.models.tvdenoising_model import PenalizedTVDenoisingMPCC\n",
    "import matplotlib.pyplot as plt\n",
    "from skimage.metrics import peak_signal_noise_ratio as psnr"
   ]
  },
  {
   "cell_type": "code",
   "execution_count": 3,
   "metadata": {},
   "outputs": [],
   "source": [
    "def plot_experiment(true,noisy,u, alpha):\n",
    "    \n",
    "    fig,ax = plt.subplots(1,3,figsize=(14,4))\n",
    "    ax[0].imshow(true,cmap='gray')\n",
    "    ax[0].set_title('True Image')\n",
    "    ax[0].axis('off')\n",
    "    ax[1].imshow(noisy,cmap='gray')\n",
    "    ax[1].set_title('Noisy Image\\nPSNR: {:.4f}'.format(psnr(true,noisy)))\n",
    "    ax[1].axis('off')\n",
    "    ax[2].imshow(u,cmap='gray')\n",
    "    ax[2].set_title(f'Reconstructed Image\\nPSNR: {psnr(true,u):.4f}\\n alpha = {alpha}')\n",
    "    # ax[2].set_xlabel('alpha = {}'.format(alpha))\n",
    "    ax[2].axis('off')\n",
    "\n",
    "    plt.show()"
   ]
  },
  {
   "cell_type": "code",
   "execution_count": 4,
   "metadata": {},
   "outputs": [],
   "source": [
    "scale = 16"
   ]
  },
  {
   "cell_type": "code",
   "execution_count": 5,
   "metadata": {},
   "outputs": [],
   "source": [
    "dataset = get_dataset(\"cameraman\",scale=scale)\n",
    "true, noisy = dataset.get_training_data()"
   ]
  },
  {
   "cell_type": "code",
   "execution_count": 6,
   "metadata": {},
   "outputs": [
    {
     "data": {
      "text/plain": [
       "(np.float64(-0.5), np.float64(15.5), np.float64(15.5), np.float64(-0.5))"
      ]
     },
     "execution_count": 6,
     "metadata": {},
     "output_type": "execute_result"
    },
    {
     "data": {
      "image/png": "[encoded data removed]",
      "text/plain": [
       "<Figure size 1000x500 with 2 Axes>"
      ]
     },
     "metadata": {},
     "output_type": "display_data"
    }
   ],
   "source": [
    "fig,ax = plt.subplots(1,2,figsize=(10,5))\n",
    "ax[0].imshow(true,cmap='gray')\n",
    "ax[0].set_title('True Image')\n",
    "ax[0].axis('off')\n",
    "ax[1].imshow(noisy,cmap='gray')\n",
    "ax[1].set_title('Noisy Image')\n",
    "ax[1].axis('off')"
   ]
  },
  {
   "cell_type": "code",
   "execution_count": null,
   "metadata": {},
   "outputs": [],
   "source": [
    "model = PenalizedTVDenoisingMPCC(true,noisy, epsilon=10, pi_init=100)"
   ]
  },
  {
   "cell_type": "code",
   "execution_count": null,
   "metadata": {},
   "outputs": [
    {
     "data": {
      "text/html": [
       "<pre style=\"white-space:pre;overflow-x:auto;line-height:normal;font-family:Menlo,'DejaVu Sans Mono',consolas,'Courier New',monospace\"> Iter   Termination_status            Objective      MPCC_compl          <span style=\"color: #800080; text-decoration-color: #800080; font-weight: bold\">lg</span><span style=\"font-weight: bold\">(</span>mu<span style=\"font-weight: bold\">)</span>               π\n",
       "\n",
       "</pre>\n"
      ],
      "text/plain": [
       " Iter   Termination_status            Objective      MPCC_compl          \u001b[1;35mlg\u001b[0m\u001b[1m(\u001b[0mmu\u001b[1m)\u001b[0m               π\n",
       "\n"
      ]
     },
     "metadata": {},
     "output_type": "display_data"
    },
    {
     "data": {
      "text/html": [
       "<pre style=\"white-space:pre;overflow-x:auto;line-height:normal;font-family:Menlo,'DejaVu Sans Mono',consolas,'Courier New',monospace\">    <span style=\"color: #008080; text-decoration-color: #008080; font-weight: bold\">0</span>                 <span style=\"color: #008080; text-decoration-color: #008080; font-weight: bold\">0</span>  <span style=\"color: #008080; text-decoration-color: #008080; font-weight: bold\">31.29786872661678</span>       <span style=\"color: #008080; text-decoration-color: #008080; font-weight: bold\">0.576278316394723</span>                 <span style=\"color: #008080; text-decoration-color: #008080; font-weight: bold\">-1.0</span>             <span style=\"color: #008080; text-decoration-color: #008080; font-weight: bold\">1.0</span>\n",
       "</pre>\n"
      ],
      "text/plain": [
       "    \u001b[1;36m0\u001b[0m                 \u001b[1;36m0\u001b[0m  \u001b[1;36m31.29786872661678\u001b[0m       \u001b[1;36m0.576278316394723\u001b[0m                 \u001b[1;36m-1.0\u001b[0m             \u001b[1;36m1.0\u001b[0m\n"
      ]
     },
     "metadata": {},
     "output_type": "display_data"
    },
    {
     "data": {
      "text/html": [
       "<pre style=\"white-space:pre;overflow-x:auto;line-height:normal;font-family:Menlo,'DejaVu Sans Mono',consolas,'Courier New',monospace\">    <span style=\"color: #008080; text-decoration-color: #008080; font-weight: bold\">1</span>                 <span style=\"color: #008080; text-decoration-color: #008080; font-weight: bold\">0</span>  <span style=\"color: #008080; text-decoration-color: #008080; font-weight: bold\">40.01719454615504</span>       <span style=\"color: #008080; text-decoration-color: #008080; font-weight: bold\">0.18068055797566102</span>               <span style=\"color: #008080; text-decoration-color: #008080; font-weight: bold\">-1.0</span>            <span style=\"color: #008080; text-decoration-color: #008080; font-weight: bold\">10.0</span>\n",
       "</pre>\n"
      ],
      "text/plain": [
       "    \u001b[1;36m1\u001b[0m                 \u001b[1;36m0\u001b[0m  \u001b[1;36m40.01719454615504\u001b[0m       \u001b[1;36m0.18068055797566102\u001b[0m               \u001b[1;36m-1.0\u001b[0m            \u001b[1;36m10.0\u001b[0m\n"
      ]
     },
     "metadata": {},
     "output_type": "display_data"
    },
    {
     "data": {
      "text/html": [
       "<pre style=\"white-space:pre;overflow-x:auto;line-height:normal;font-family:Menlo,'DejaVu Sans Mono',consolas,'Courier New',monospace\">    <span style=\"color: #008080; text-decoration-color: #008080; font-weight: bold\">2</span>                 <span style=\"color: #008080; text-decoration-color: #008080; font-weight: bold\">0</span>  <span style=\"color: #008080; text-decoration-color: #008080; font-weight: bold\">18.606066087756798</span>      <span style=\"color: #008080; text-decoration-color: #008080; font-weight: bold\">0.20776510820905011</span>    <span style=\"color: #008080; text-decoration-color: #008080; font-weight: bold\">-1.6989700043360187</span>                <span style=\"color: #008080; text-decoration-color: #008080; font-weight: bold\">10.0</span>\n",
       "</pre>\n"
      ],
      "text/plain": [
       "    \u001b[1;36m2\u001b[0m                 \u001b[1;36m0\u001b[0m  \u001b[1;36m18.606066087756798\u001b[0m      \u001b[1;36m0.20776510820905011\u001b[0m    \u001b[1;36m-1.6989700043360187\u001b[0m                \u001b[1;36m10.0\u001b[0m\n"
      ]
     },
     "metadata": {},
     "output_type": "display_data"
    },
    {
     "data": {
      "text/html": [
       "<pre style=\"white-space:pre;overflow-x:auto;line-height:normal;font-family:Menlo,'DejaVu Sans Mono',consolas,'Courier New',monospace\">    <span style=\"color: #008080; text-decoration-color: #008080; font-weight: bold\">3</span>                 <span style=\"color: #008080; text-decoration-color: #008080; font-weight: bold\">0</span>  <span style=\"color: #008080; text-decoration-color: #008080; font-weight: bold\">13.145516071002401</span>      <span style=\"color: #008080; text-decoration-color: #008080; font-weight: bold\">0.1683681626644354</span>     <span style=\"color: #008080; text-decoration-color: #008080; font-weight: bold\">-2.3979400086720375</span>                <span style=\"color: #008080; text-decoration-color: #008080; font-weight: bold\">10.0</span>\n",
       "</pre>\n"
      ],
      "text/plain": [
       "    \u001b[1;36m3\u001b[0m                 \u001b[1;36m0\u001b[0m  \u001b[1;36m13.145516071002401\u001b[0m      \u001b[1;36m0.1683681626644354\u001b[0m     \u001b[1;36m-2.3979400086720375\u001b[0m                \u001b[1;36m10.0\u001b[0m\n"
      ]
     },
     "metadata": {},
     "output_type": "display_data"
    },
    {
     "data": {
      "text/html": [
       "<pre style=\"white-space:pre;overflow-x:auto;line-height:normal;font-family:Menlo,'DejaVu Sans Mono',consolas,'Courier New',monospace\">    <span style=\"color: #008080; text-decoration-color: #008080; font-weight: bold\">4</span>                 <span style=\"color: #008080; text-decoration-color: #008080; font-weight: bold\">0</span>  <span style=\"color: #008080; text-decoration-color: #008080; font-weight: bold\">15.588766487161058</span>      <span style=\"color: #008080; text-decoration-color: #008080; font-weight: bold\">0.043193750324951395</span>   <span style=\"color: #008080; text-decoration-color: #008080; font-weight: bold\">-2.3979400086720375</span>               <span style=\"color: #008080; text-decoration-color: #008080; font-weight: bold\">100.0</span>\n",
       "</pre>\n"
      ],
      "text/plain": [
       "    \u001b[1;36m4\u001b[0m                 \u001b[1;36m0\u001b[0m  \u001b[1;36m15.588766487161058\u001b[0m      \u001b[1;36m0.043193750324951395\u001b[0m   \u001b[1;36m-2.3979400086720375\u001b[0m               \u001b[1;36m100.0\u001b[0m\n"
      ]
     },
     "metadata": {},
     "output_type": "display_data"
    },
    {
     "data": {
      "text/html": [
       "<pre style=\"white-space:pre;overflow-x:auto;line-height:normal;font-family:Menlo,'DejaVu Sans Mono',consolas,'Courier New',monospace\">    <span style=\"color: #008080; text-decoration-color: #008080; font-weight: bold\">5</span>                 <span style=\"color: #008080; text-decoration-color: #008080; font-weight: bold\">0</span>  <span style=\"color: #008080; text-decoration-color: #008080; font-weight: bold\">14.603572583663198</span>      <span style=\"color: #008080; text-decoration-color: #008080; font-weight: bold\">0.014644480219447031</span>   <span style=\"color: #008080; text-decoration-color: #008080; font-weight: bold\">-3.0969100130080562</span>               <span style=\"color: #008080; text-decoration-color: #008080; font-weight: bold\">100.0</span>\n",
       "</pre>\n"
      ],
      "text/plain": [
       "    \u001b[1;36m5\u001b[0m                 \u001b[1;36m0\u001b[0m  \u001b[1;36m14.603572583663198\u001b[0m      \u001b[1;36m0.014644480219447031\u001b[0m   \u001b[1;36m-3.0969100130080562\u001b[0m               \u001b[1;36m100.0\u001b[0m\n"
      ]
     },
     "metadata": {},
     "output_type": "display_data"
    },
    {
     "data": {
      "text/html": [
       "<pre style=\"white-space:pre;overflow-x:auto;line-height:normal;font-family:Menlo,'DejaVu Sans Mono',consolas,'Courier New',monospace\">    <span style=\"color: #008080; text-decoration-color: #008080; font-weight: bold\">6</span>                <span style=\"color: #008080; text-decoration-color: #008080; font-weight: bold\">-3</span>  <span style=\"color: #008080; text-decoration-color: #008080; font-weight: bold\">14.40413829001983</span>       <span style=\"color: #008080; text-decoration-color: #008080; font-weight: bold\">0.006615359995506948</span>   <span style=\"color: #008080; text-decoration-color: #008080; font-weight: bold\">-3.795880017344075</span>                <span style=\"color: #008080; text-decoration-color: #008080; font-weight: bold\">100.0</span>\n",
       "</pre>\n"
      ],
      "text/plain": [
       "    \u001b[1;36m6\u001b[0m                \u001b[1;36m-3\u001b[0m  \u001b[1;36m14.40413829001983\u001b[0m       \u001b[1;36m0.006615359995506948\u001b[0m   \u001b[1;36m-3.795880017344075\u001b[0m                \u001b[1;36m100.0\u001b[0m\n"
      ]
     },
     "metadata": {},
     "output_type": "display_data"
    },
    {
     "data": {
      "text/html": [
       "<pre style=\"white-space:pre;overflow-x:auto;line-height:normal;font-family:Menlo,'DejaVu Sans Mono',consolas,'Courier New',monospace\">    <span style=\"color: #008080; text-decoration-color: #008080; font-weight: bold\">7</span>                 <span style=\"color: #008080; text-decoration-color: #008080; font-weight: bold\">0</span>  <span style=\"color: #008080; text-decoration-color: #008080; font-weight: bold\">14.748684435353407</span>      <span style=\"color: #008080; text-decoration-color: #008080; font-weight: bold\">0.001124979961912869</span>   <span style=\"color: #008080; text-decoration-color: #008080; font-weight: bold\">-3.795880017344075</span>               <span style=\"color: #008080; text-decoration-color: #008080; font-weight: bold\">1000.0</span>\n",
       "</pre>\n"
      ],
      "text/plain": [
       "    \u001b[1;36m7\u001b[0m                 \u001b[1;36m0\u001b[0m  \u001b[1;36m14.748684435353407\u001b[0m      \u001b[1;36m0.001124979961912869\u001b[0m   \u001b[1;36m-3.795880017344075\u001b[0m               \u001b[1;36m1000.0\u001b[0m\n"
      ]
     },
     "metadata": {},
     "output_type": "display_data"
    },
    {
     "data": {
      "text/html": [
       "<pre style=\"white-space:pre;overflow-x:auto;line-height:normal;font-family:Menlo,'DejaVu Sans Mono',consolas,'Courier New',monospace\">    <span style=\"color: #008080; text-decoration-color: #008080; font-weight: bold\">8</span>                <span style=\"color: #008080; text-decoration-color: #008080; font-weight: bold\">-3</span>  <span style=\"color: #008080; text-decoration-color: #008080; font-weight: bold\">14.783819010642736</span>      <span style=\"color: #008080; text-decoration-color: #008080; font-weight: bold\">0.002000980503709979</span>   <span style=\"color: #008080; text-decoration-color: #008080; font-weight: bold\">-4.494850021680094</span>               <span style=\"color: #008080; text-decoration-color: #008080; font-weight: bold\">1000.0</span>\n",
       "</pre>\n"
      ],
      "text/plain": [
       "    \u001b[1;36m8\u001b[0m                \u001b[1;36m-3\u001b[0m  \u001b[1;36m14.783819010642736\u001b[0m      \u001b[1;36m0.002000980503709979\u001b[0m   \u001b[1;36m-4.494850021680094\u001b[0m               \u001b[1;36m1000.0\u001b[0m\n"
      ]
     },
     "metadata": {},
     "output_type": "display_data"
    },
    {
     "data": {
      "text/html": [
       "<pre style=\"white-space:pre;overflow-x:auto;line-height:normal;font-family:Menlo,'DejaVu Sans Mono',consolas,'Courier New',monospace\">    <span style=\"color: #008080; text-decoration-color: #008080; font-weight: bold\">9</span>                 <span style=\"color: #008080; text-decoration-color: #008080; font-weight: bold\">1</span>  <span style=\"color: #008080; text-decoration-color: #008080; font-weight: bold\">20.529472532883183</span>      <span style=\"color: #008080; text-decoration-color: #008080; font-weight: bold\">0.01471827105956004</span>    <span style=\"color: #008080; text-decoration-color: #008080; font-weight: bold\">-4.494850021680094</span>              <span style=\"color: #008080; text-decoration-color: #008080; font-weight: bold\">10000.0</span>\n",
       "</pre>\n"
      ],
      "text/plain": [
       "    \u001b[1;36m9\u001b[0m                 \u001b[1;36m1\u001b[0m  \u001b[1;36m20.529472532883183\u001b[0m      \u001b[1;36m0.01471827105956004\u001b[0m    \u001b[1;36m-4.494850021680094\u001b[0m              \u001b[1;36m10000.0\u001b[0m\n"
      ]
     },
     "metadata": {},
     "output_type": "display_data"
    },
    {
     "data": {
      "text/html": [
       "<pre style=\"white-space:pre;overflow-x:auto;line-height:normal;font-family:Menlo,'DejaVu Sans Mono',consolas,'Courier New',monospace\">   <span style=\"color: #008080; text-decoration-color: #008080; font-weight: bold\">10</span>                 <span style=\"color: #008080; text-decoration-color: #008080; font-weight: bold\">1</span>  <span style=\"color: #008080; text-decoration-color: #008080; font-weight: bold\">14.763738314578141</span>      <span style=\"color: #008080; text-decoration-color: #008080; font-weight: bold\">8.4693628552083e-05</span>    <span style=\"color: #008080; text-decoration-color: #008080; font-weight: bold\">-4.494850021680094</span>             <span style=\"color: #008080; text-decoration-color: #008080; font-weight: bold\">100000.0</span>\n",
       "</pre>\n"
      ],
      "text/plain": [
       "   \u001b[1;36m10\u001b[0m                 \u001b[1;36m1\u001b[0m  \u001b[1;36m14.763738314578141\u001b[0m      \u001b[1;36m8.4693628552083e-05\u001b[0m    \u001b[1;36m-4.494850021680094\u001b[0m             \u001b[1;36m100000.0\u001b[0m\n"
      ]
     },
     "metadata": {},
     "output_type": "display_data"
    },
    {
     "data": {
      "text/html": [
       "<pre style=\"white-space:pre;overflow-x:auto;line-height:normal;font-family:Menlo,'DejaVu Sans Mono',consolas,'Courier New',monospace\">   <span style=\"color: #008080; text-decoration-color: #008080; font-weight: bold\">11</span>                 <span style=\"color: #008080; text-decoration-color: #008080; font-weight: bold\">1</span>  <span style=\"color: #008080; text-decoration-color: #008080; font-weight: bold\">14.519511697944804</span>      <span style=\"color: #008080; text-decoration-color: #008080; font-weight: bold\">4.7580109993422805e-05</span> <span style=\"color: #008080; text-decoration-color: #008080; font-weight: bold\">-4.494850021680094</span>            <span style=\"color: #008080; text-decoration-color: #008080; font-weight: bold\">1000000.0</span>\n",
       "</pre>\n"
      ],
      "text/plain": [
       "   \u001b[1;36m11\u001b[0m                 \u001b[1;36m1\u001b[0m  \u001b[1;36m14.519511697944804\u001b[0m      \u001b[1;36m4.7580109993422805e-05\u001b[0m \u001b[1;36m-4.494850021680094\u001b[0m            \u001b[1;36m1000000.0\u001b[0m\n"
      ]
     },
     "metadata": {},
     "output_type": "display_data"
    },
    {
     "data": {
      "text/html": [
       "<pre style=\"white-space:pre;overflow-x:auto;line-height:normal;font-family:Menlo,'DejaVu Sans Mono',consolas,'Courier New',monospace\">   <span style=\"color: #008080; text-decoration-color: #008080; font-weight: bold\">12</span>                <span style=\"color: #008080; text-decoration-color: #008080; font-weight: bold\">-3</span>  <span style=\"color: #008080; text-decoration-color: #008080; font-weight: bold\">18157.55544851902</span>       <span style=\"color: #008080; text-decoration-color: #008080; font-weight: bold\">0.005496496020926602</span>   <span style=\"color: #008080; text-decoration-color: #008080; font-weight: bold\">-4.494850021680094</span>           <span style=\"color: #008080; text-decoration-color: #008080; font-weight: bold\">10000000.0</span>\n",
       "</pre>\n"
      ],
      "text/plain": [
       "   \u001b[1;36m12\u001b[0m                \u001b[1;36m-3\u001b[0m  \u001b[1;36m18157.55544851902\u001b[0m       \u001b[1;36m0.005496496020926602\u001b[0m   \u001b[1;36m-4.494850021680094\u001b[0m           \u001b[1;36m10000000.0\u001b[0m\n"
      ]
     },
     "metadata": {},
     "output_type": "display_data"
    },
    {
     "data": {
      "text/html": [
       "<pre style=\"white-space:pre;overflow-x:auto;line-height:normal;font-family:Menlo,'DejaVu Sans Mono',consolas,'Courier New',monospace\">   <span style=\"color: #008080; text-decoration-color: #008080; font-weight: bold\">13</span>                <span style=\"color: #008080; text-decoration-color: #008080; font-weight: bold\">-2</span>  <span style=\"color: #008080; text-decoration-color: #008080; font-weight: bold\">40085024.34774629</span>       <span style=\"color: #008080; text-decoration-color: #008080; font-weight: bold\">0.12125606176044294</span>    <span style=\"color: #008080; text-decoration-color: #008080; font-weight: bold\">-4.494850021680094</span>          <span style=\"color: #008080; text-decoration-color: #008080; font-weight: bold\">100000000.0</span>\n",
       "</pre>\n"
      ],
      "text/plain": [
       "   \u001b[1;36m13\u001b[0m                \u001b[1;36m-2\u001b[0m  \u001b[1;36m40085024.34774629\u001b[0m       \u001b[1;36m0.12125606176044294\u001b[0m    \u001b[1;36m-4.494850021680094\u001b[0m          \u001b[1;36m100000000.0\u001b[0m\n"
      ]
     },
     "metadata": {},
     "output_type": "display_data"
    },
    {
     "data": {
      "text/html": [
       "<pre style=\"white-space:pre;overflow-x:auto;line-height:normal;font-family:Menlo,'DejaVu Sans Mono',consolas,'Courier New',monospace\">   <span style=\"color: #008080; text-decoration-color: #008080; font-weight: bold\">14</span>                <span style=\"color: #008080; text-decoration-color: #008080; font-weight: bold\">-2</span>  <span style=\"color: #008080; text-decoration-color: #008080; font-weight: bold\">402142363.3354269</span>       <span style=\"color: #008080; text-decoration-color: #008080; font-weight: bold\">0.12141704577728103</span>    <span style=\"color: #008080; text-decoration-color: #008080; font-weight: bold\">-4.494850021680094</span>         <span style=\"color: #008080; text-decoration-color: #008080; font-weight: bold\">1000000000.0</span>\n",
       "</pre>\n"
      ],
      "text/plain": [
       "   \u001b[1;36m14\u001b[0m                \u001b[1;36m-2\u001b[0m  \u001b[1;36m402142363.3354269\u001b[0m       \u001b[1;36m0.12141704577728103\u001b[0m    \u001b[1;36m-4.494850021680094\u001b[0m         \u001b[1;36m1000000000.0\u001b[0m\n"
      ]
     },
     "metadata": {},
     "output_type": "display_data"
    },
    {
     "data": {
      "text/html": [
       "<pre style=\"white-space:pre;overflow-x:auto;line-height:normal;font-family:Menlo,'DejaVu Sans Mono',consolas,'Courier New',monospace\">   <span style=\"color: #008080; text-decoration-color: #008080; font-weight: bold\">15</span>                <span style=\"color: #008080; text-decoration-color: #008080; font-weight: bold\">-2</span>  <span style=\"color: #008080; text-decoration-color: #008080; font-weight: bold\">3986412782.5331235</span>      <span style=\"color: #008080; text-decoration-color: #008080; font-weight: bold\">0.12121023368348609</span>    <span style=\"color: #008080; text-decoration-color: #008080; font-weight: bold\">-4.494850021680094</span>        <span style=\"color: #008080; text-decoration-color: #008080; font-weight: bold\">10000000000.0</span>\n",
       "</pre>\n"
      ],
      "text/plain": [
       "   \u001b[1;36m15\u001b[0m                \u001b[1;36m-2\u001b[0m  \u001b[1;36m3986412782.5331235\u001b[0m      \u001b[1;36m0.12121023368348609\u001b[0m    \u001b[1;36m-4.494850021680094\u001b[0m        \u001b[1;36m10000000000.0\u001b[0m\n"
      ]
     },
     "metadata": {},
     "output_type": "display_data"
    },
    {
     "data": {
      "text/html": [
       "<pre style=\"white-space:pre;overflow-x:auto;line-height:normal;font-family:Menlo,'DejaVu Sans Mono',consolas,'Courier New',monospace\">The problem is unbounded\n",
       "</pre>\n"
      ],
      "text/plain": [
       "The problem is unbounded\n"
      ]
     },
     "metadata": {},
     "output_type": "display_data"
    }
   ],
   "source": [
    "res,x_opt,fun_opt = model.solve(max_iter=1, mu_init=0.01,tol=1e-3,print_level=0,verbose=True)"
   ]
  },
  {
   "cell_type": "code",
   "execution_count": 9,
   "metadata": {},
   "outputs": [
    {
     "data": {
      "image/png": "[encoded data removed]",
      "text/plain": [
       "<Figure size 1400x400 with 3 Axes>"
      ]
     },
     "metadata": {},
     "output_type": "display_data"
    }
   ],
   "source": [
    "u, q, r, delta, theta, alpha = model.parse_vars_fn(x_opt)\n",
    "u = u.reshape((scale,scale))\n",
    "plot_experiment(true,noisy,u,alpha)"
   ]
  },
  {
   "cell_type": "code",
   "execution_count": 12,
   "metadata": {},
   "outputs": [
    {
     "name": "stdout",
     "output_type": "stream",
     "text": [
      "[0.74088498 0.73483748 0.96153554 1.02967801 1.05335245 1.06108778\n",
      " 1.06266369 1.06309814 1.06320471 1.06321507 1.0632175  1.00868871\n",
      " 0.57147433 0.49769252 0.61262473 0.30184236 0.60408677 0.84597261\n",
      " 0.78791926 0.64398382 0.97295618 1.03388277 1.05204688 1.06321076\n",
      " 1.0632204  1.06322475 1.02765598 0.60170519 0.45620636 0.21597347\n",
      " 0.42534872 0.29129771 1.02357846 1.02065561 1.02864021 1.03953738\n",
      " 1.06321924 1.06323175 1.06323564 1.06323575 1.06323493 1.0631445\n",
      " 0.84258266 0.57004032 0.16009159 0.17085509 0.38558504 0.56432642\n",
      " 1.06323553 1.06323563 1.06323593 1.06323552 1.06323517 1.063237\n",
      " 1.06323651 1.06323577 1.06323486 1.06323431 1.06322278 0.63645304\n",
      " 0.45641816 0.55496669 0.78174017 0.9697205  1.06323737 1.06323724\n",
      " 1.06323724 1.06323739 1.06323743 1.06323669 1.06323621 1.06323657\n",
      " 1.0632352  1.0632339  1.06322747 0.58982579 0.75695237 1.06323006\n",
      " 0.99537997 0.73239837 0.93500561 1.06313988 1.06323675 1.06323681\n",
      " 1.06323679 1.06323647 1.06323628 1.06323196 1.06322796 1.0048374\n",
      " 1.06320244 1.06323632 1.06323197 1.03655874 0.775841   0.66895291\n",
      " 1.06323641 1.06323675 1.06323664 1.06323607 1.06323348 1.06323347\n",
      " 1.0632248  1.0632045  1.00996613 1.06321239 1.06323564 1.06323135\n",
      " 1.06322483 1.06322328 1.06323173 1.06323561 1.0632367  1.06323666\n",
      " 1.06323458 1.06323355 1.06323385 1.06323193 0.34993844 0.09493576\n",
      " 0.66040076 1.06323398 1.06322944 1.0632236  1.06323341 1.06323571\n",
      " 1.06323611 1.06323658 1.06323562 1.06323576 1.06323302 1.06319324\n",
      " 0.81279148 0.95133104 0.09137971 0.61633765 1.0631999  0.91961384\n",
      " 1.06323286 1.06323518 1.063236   1.06323629 1.06323664 1.06323616\n",
      " 1.0632312  1.06321345 0.82865541 0.61975911 0.51074752 0.8938656\n",
      " 0.34161358 0.20499446 0.63673152 1.0632323  1.06323419 1.06323573\n",
      " 1.06323612 1.06323655 1.0632351  1.06323476 0.47726404 0.49638972\n",
      " 0.72852699 0.53230514 0.26177094 0.91000641 0.16406049 0.11899045\n",
      " 0.71041434 1.06322476 1.06323492 1.06323568 1.06323633 1.06323155\n",
      " 1.06322968 1.06322965 0.54905384 0.10236108 0.22322663 0.23201978\n",
      " 0.5390368  0.65394767 0.16132773 0.39872336 1.06321801 1.06323468\n",
      " 1.06323556 1.06323627 1.06321692 1.06320446 1.06320013 1.06320027\n",
      " 0.53552595 0.23997754 0.40860771 0.34811604 0.3642278  0.37219013\n",
      " 0.39864924 1.0632181  1.06323461 1.06323558 1.06323628 1.06321249\n",
      " 1.063178   1.06307687 1.06309194 1.06304556 0.24188233 0.34328406\n",
      " 0.49857801 0.30496449 0.26531972 0.54739567 1.06321835 1.06323477\n",
      " 1.06323578 1.06323609 1.06321611 1.06315976 1.06250163 1.06304528\n",
      " 1.06248878 1.06236481 0.15062957 0.38559712 0.59569849 0.2912128\n",
      " 0.5930293  1.06321535 1.06323556 1.06323558 1.06323584 1.06321777\n",
      " 1.06317565 1.05894995 1.0630422  1.06190886 1.06147065 1.05322677]\n"
     ]
    }
   ],
   "source": [
    "print(delta)"
   ]
  },
  {
   "cell_type": "code",
   "execution_count": null,
   "metadata": {},
   "outputs": [],
   "source": []
  }
 ],
 "metadata": {
  "kernelspec": {
   "display_name": ".venv",
   "language": "python",
   "name": "python3"
  },
  "language_info": {
   "codemirror_mode": {
    "name": "ipython",
    "version": 3
   },
   "file_extension": ".py",
   "mimetype": "text/x-python",
   "name": "python",
   "nbconvert_exporter": "python",
   "pygments_lexer": "ipython3",
   "version": "3.12.7"
  }
 },
 "nbformat": 4,
 "nbformat_minor": 2
}
