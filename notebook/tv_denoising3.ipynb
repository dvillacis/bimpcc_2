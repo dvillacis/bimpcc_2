{
 "cells": [
  {
   "cell_type": "code",
   "execution_count": 1,
   "metadata": {},
   "outputs": [],
   "source": [
    "import sys\n",
    "import os\n",
    "# Get the absolute path to the project root\n",
    "project_root = os.path.abspath(os.path.join(os.getcwd(), \"..\"))\n",
    "# Add it to sys.path\n",
    "sys.path.append(project_root)"
   ]
  },
  {
   "cell_type": "code",
   "execution_count": 2,
   "metadata": {},
   "outputs": [],
   "source": [
    "from bimpcc.dataset import get_dataset\n",
    "from bimpcc.models.tvdenoising_model import PenalizedTVDenoisingMPCC\n",
    "import matplotlib.pyplot as plt\n",
    "from skimage.metrics import peak_signal_noise_ratio as psnr"
   ]
  },
  {
   "cell_type": "code",
   "execution_count": 3,
   "metadata": {},
   "outputs": [],
   "source": [
    "def plot_experiment(true,noisy,u, alpha):\n",
    "    \n",
    "    fig,ax = plt.subplots(1,3,figsize=(14,4))\n",
    "    ax[0].imshow(true,cmap='gray')\n",
    "    ax[0].set_title('True Image')\n",
    "    ax[0].axis('off')\n",
    "    ax[1].imshow(noisy,cmap='gray')\n",
    "    ax[1].set_title('Noisy Image\\nPSNR: {:.4f}'.format(psnr(true,noisy)))\n",
    "    ax[1].axis('off')\n",
    "    ax[2].imshow(u,cmap='gray')\n",
    "    ax[2].set_title(f'Reconstructed Image\\nPSNR: {psnr(true,u):.4f}\\n alpha = {alpha}')\n",
    "    # ax[2].set_xlabel('alpha = {}'.format(alpha))\n",
    "    ax[2].axis('off')\n",
    "\n",
    "    plt.show()"
   ]
  },
  {
   "cell_type": "code",
   "execution_count": 4,
   "metadata": {},
   "outputs": [],
   "source": [
    "scale = 16"
   ]
  },
  {
   "cell_type": "code",
   "execution_count": 5,
   "metadata": {},
   "outputs": [],
   "source": [
    "dataset = get_dataset(\"cameraman\",scale=scale)\n",
    "true, noisy = dataset.get_training_data()"
   ]
  },
  {
   "cell_type": "code",
   "execution_count": 6,
   "metadata": {},
   "outputs": [
    {
     "data": {
      "text/plain": [
       "(np.float64(-0.5), np.float64(15.5), np.float64(15.5), np.float64(-0.5))"
      ]
     },
     "execution_count": 6,
     "metadata": {},
     "output_type": "execute_result"
    },
    {
     "data": {
      "image/png": "[encoded data removed]",
      "text/plain": [
       "<Figure size 1000x500 with 2 Axes>"
      ]
     },
     "metadata": {},
     "output_type": "display_data"
    }
   ],
   "source": [
    "fig,ax = plt.subplots(1,2,figsize=(10,5))\n",
    "ax[0].imshow(true,cmap='gray')\n",
    "ax[0].set_title('True Image')\n",
    "ax[0].axis('off')\n",
    "ax[1].imshow(noisy,cmap='gray')\n",
    "ax[1].set_title('Noisy Image')\n",
    "ax[1].axis('off')"
   ]
  },
  {
   "cell_type": "code",
   "execution_count": null,
   "metadata": {},
   "outputs": [],
   "source": [
    "model = PenalizedTVDenoisingMPCC(true,noisy, epsilon=10, pi_init=1000)"
   ]
  },
  {
   "cell_type": "code",
   "execution_count": 16,
   "metadata": {},
   "outputs": [
    {
     "data": {
      "text/html": [
       "<pre style=\"white-space:pre;overflow-x:auto;line-height:normal;font-family:Menlo,'DejaVu Sans Mono',consolas,'Courier New',monospace\"> Iter   Termination_status            Objective      MPCC_compl          <span style=\"color: #800080; text-decoration-color: #800080; font-weight: bold\">lg</span><span style=\"font-weight: bold\">(</span>mu<span style=\"font-weight: bold\">)</span>               π\n",
       "\n",
       "</pre>\n"
      ],
      "text/plain": [
       " Iter   Termination_status            Objective      MPCC_compl          \u001b[1;35mlg\u001b[0m\u001b[1m(\u001b[0mmu\u001b[1m)\u001b[0m               π\n",
       "\n"
      ]
     },
     "metadata": {},
     "output_type": "display_data"
    },
    {
     "name": "stdout",
     "output_type": "stream",
     "text": [
      "This is Ipopt version 3.14.17, running with linear solver MUMPS 5.6.2.\n",
      "\n",
      "Number of nonzeros in equality constraint Jacobian...:     4576\n",
      "Number of nonzeros in inequality constraint Jacobian.:      480\n",
      "Number of nonzeros in Lagrangian Hessian.............:        0\n",
      "\n",
      "Total number of variables............................:     1457\n",
      "                     variables with only lower bounds:      737\n",
      "                variables with lower and upper bounds:        0\n",
      "                     variables with only upper bounds:        0\n",
      "Total number of equality constraints.................:     1216\n",
      "Total number of inequality constraints...............:      240\n",
      "        inequality constraints with only lower bounds:      240\n",
      "   inequality constraints with lower and upper bounds:        0\n",
      "        inequality constraints with only upper bounds:        0\n",
      "\n",
      "iter    objective    inf_pr   inf_du lg(mu)  ||d||  lg(rg) alpha_du alpha_pr  ls\n",
      "   0  3.4809415e-01 8.35e-01 1.45e+00  -4.0 0.00e+00    -  0.00e+00 0.00e+00   0\n",
      "   1  3.4906792e-01 7.00e-01 2.06e+00  -4.0 3.08e+00    -  6.39e-02 1.62e-01h  1\n",
      "   2  3.6877727e-01 6.38e-01 2.51e+00  -4.0 3.03e+00    -  9.65e-02 8.80e-02h  1\n",
      "   3  4.1008001e-01 5.84e-01 3.44e+00  -4.0 4.33e+00    -  5.56e-02 8.53e-02h  1\n",
      "   4  4.3625128e-01 5.64e-01 4.07e+00  -4.0 6.84e+00    -  2.58e-02 3.35e-02h  1\n",
      "   5  4.8527917e-01 5.33e-01 5.20e+00  -4.0 1.17e+01    -  3.82e-02 5.58e-02h  1\n",
      "   6  5.2442093e-01 5.15e-01 5.63e+00  -4.0 1.28e+01    -  2.05e-02 3.34e-02h  1\n",
      "   7  5.6590662e-01 5.04e-01 8.13e+00  -4.0 1.84e+01    -  2.47e-02 2.28e-02h  1\n",
      "   8  6.3387498e-01 4.89e-01 2.09e+01  -4.0 1.97e+01    -  1.96e-02 2.87e-02h  1\n",
      "   9  6.9037488e-01 4.79e-01 3.21e+01  -4.0 2.25e+01    -  9.30e-03 2.01e-02h  1\n",
      "iter    objective    inf_pr   inf_du lg(mu)  ||d||  lg(rg) alpha_du alpha_pr  ls\n",
      "  10  7.0995246e-01 4.76e-01 3.48e+01  -4.0 2.03e+01    -  7.10e-03 6.19e-03h  1\n",
      "  11  7.8902193e-01 4.65e-01 4.43e+01  -4.0 1.69e+01    -  2.51e-02 2.45e-02h  1\n",
      "  12  7.9212790e-01 4.64e-01 4.46e+01  -4.0 1.39e+01    -  1.51e-03 7.32e-04h  1\n",
      "  13  9.7786470e-01 4.43e-01 5.44e+01  -4.0 1.45e+01    -  1.83e-02 4.80e-02h  1\n",
      "  14  9.7802939e-01 4.43e-01 5.45e+01  -4.0 1.05e+01    -  1.25e-02 3.71e-05h  1\n",
      "  15  9.7824903e-01 4.43e-01 5.44e+01  -4.0 1.01e+01    -  4.05e-04 5.70e-05h  1\n",
      "  16  1.0418799e+00 4.29e-01 5.15e+01  -4.0 8.81e+00    -  3.06e-02 3.08e-02h  1\n",
      "  17  1.1134026e+00 4.14e-01 4.91e+01  -4.0 1.20e+01    -  3.08e-02 3.57e-02h  1\n",
      "  18  1.1476871e+00 4.07e-01 4.76e+01  -4.0 1.28e+01    -  4.32e-02 1.65e-02h  1\n",
      "  19  1.2936862e+00 3.80e-01 4.14e+01  -4.0 1.29e+01    -  3.03e-02 6.54e-02h  1\n",
      "iter    objective    inf_pr   inf_du lg(mu)  ||d||  lg(rg) alpha_du alpha_pr  ls\n",
      "  20  1.3098804e+00 3.78e-01 4.15e+01  -4.0 9.77e+00    -  5.74e-02 6.24e-03h  1\n",
      "  21  1.6990936e+00 3.27e-01 5.25e+01  -4.0 9.63e+00    -  4.17e-02 1.33e-01h  1\n",
      "  22  1.8427970e+00 3.12e-01 5.16e+01  -4.0 6.63e+00    -  1.54e-02 4.52e-02h  1\n",
      "  23  1.9864699e+00 2.99e-01 4.97e+01  -4.0 9.76e+00    -  5.49e-03 4.43e-02h  1\n",
      "  24  2.2122048e+00 2.77e-01 4.75e+01  -4.0 1.03e+01    -  4.10e-02 7.30e-02h  1\n",
      "  25  2.3725218e+00 2.62e-01 4.48e+01  -4.0 8.39e+00    -  5.82e-02 5.33e-02h  1\n",
      "  26  2.4454302e+00 2.55e-01 4.25e+01  -4.0 5.46e+00    -  4.76e-02 2.50e-02h  1\n",
      "  27  2.7208831e+00 2.32e-01 3.98e+01  -4.0 3.94e+00    -  3.65e-02 9.18e-02h  1\n",
      "  28  3.0629106e+00 1.99e-01 3.81e+01  -4.0 8.07e+00    -  1.89e-02 1.42e-01h  1\n",
      "  29  3.1920648e+00 1.90e-01 3.58e+01  -4.0 5.46e+00    -  5.30e-02 4.77e-02h  1\n",
      "iter    objective    inf_pr   inf_du lg(mu)  ||d||  lg(rg) alpha_du alpha_pr  ls\n",
      "  30  3.2584125e+00 1.84e-01 3.33e+01  -4.0 6.61e+00    -  1.20e-01 2.83e-02h  1\n",
      "  31  3.6841995e+00 1.50e-01 3.25e+01  -4.0 6.39e+00    -  4.52e-02 1.88e-01h  1\n",
      "  32  3.7276383e+00 1.46e-01 3.08e+01  -4.0 6.61e+00    -  8.10e-02 2.23e-02h  1\n",
      "  33  3.8629754e+00 1.37e-01 2.83e+01  -4.0 6.77e+00    -  5.55e-02 6.26e-02h  1\n",
      "  34  3.9242184e+00 1.29e-01 2.69e+01  -4.0 7.46e-01    -  5.24e-02 5.89e-02h  1\n",
      "  35  3.9949082e+00 1.22e-01 2.52e+01  -4.0 1.20e+00    -  7.83e-02 5.74e-02h  1\n",
      "  36  4.1183369e+00 1.09e-01 2.37e+01  -4.0 1.26e+00    -  4.27e-02 1.04e-01h  1\n",
      "  37  4.2403034e+00 9.78e-02 2.22e+01  -4.0 1.82e+00    -  4.01e-02 1.03e-01h  1\n",
      "  38  4.3591957e+00 8.84e-02 2.10e+01  -4.0 1.15e+00    -  2.62e-02 9.63e-02h  1\n",
      "  39  4.4455807e+00 8.26e-02 1.97e+01  -4.0 9.57e-01    -  5.68e-02 6.52e-02h  1\n",
      "iter    objective    inf_pr   inf_du lg(mu)  ||d||  lg(rg) alpha_du alpha_pr  ls\n",
      "  40  4.4998941e+00 7.96e-02 1.87e+01  -4.0 7.50e-01    -  8.07e-02 3.61e-02h  1\n",
      "  41  4.5701134e+00 7.63e-02 1.80e+01  -4.0 7.10e-01    -  3.85e-02 4.19e-02h  1\n",
      "  42  4.7352643e+00 6.92e-02 1.65e+01  -4.0 2.52e+00    -  6.55e-02 9.22e-02h  1\n",
      "  43  5.0626419e+00 5.68e-02 1.37e+01  -4.0 2.20e+00    -  1.37e-01 1.80e-01h  1\n",
      "  44  5.3141957e+00 4.41e-02 1.79e+01  -4.0 2.28e+00    -  7.36e-02 2.24e-01h  1\n",
      "  45  5.3338438e+00 4.14e-02 1.72e+01  -4.0 3.05e+00    -  1.49e-01 6.03e-02h  1\n",
      "  46  5.3372189e+00 4.04e-02 1.67e+01  -4.0 5.27e+00    -  1.07e-01 2.46e-02h  1\n",
      "  47  5.3675759e+00 3.46e-02 1.78e+01  -4.0 4.24e+00    -  1.06e-01 1.43e-01h  1\n",
      "  48  5.4547747e+00 2.96e-02 1.91e+01  -4.0 4.83e+00    -  1.11e-01 1.84e-01h  1\n",
      "  49  5.4495875e+00 3.12e-02 2.13e+01  -4.0 4.84e+00    -  1.26e-01 1.03e-01h  1\n",
      "iter    objective    inf_pr   inf_du lg(mu)  ||d||  lg(rg) alpha_du alpha_pr  ls\n",
      "  50  5.4424305e+00 3.03e-02 2.00e+01  -4.0 2.92e+00    -  1.37e-01 3.68e-02h  1\n",
      "  51  5.4318631e+00 2.82e-02 1.93e+01  -4.0 2.77e+00    -  1.01e-01 6.42e-02h  1\n",
      "  52  5.4023941e+00 2.67e-02 1.73e+01  -4.0 2.48e+00    -  1.89e-01 7.82e-02h  1\n",
      "  53  5.2775539e+00 6.61e-02 1.58e+01  -4.0 4.01e+00    -  8.26e-02 1.84e-01h  1\n",
      "  54  5.1023073e+00 5.96e-02 1.52e+01  -4.0 1.31e+01    -  3.69e-02 4.76e-02h  1\n",
      "  55  5.0635622e+00 6.75e-02 1.39e+01  -4.0 4.86e+00    -  1.41e-01 6.03e-02h  1\n",
      "  56  4.9809800e+00 8.15e-02 1.30e+01  -4.0 7.82e+00    -  1.11e-01 5.79e-02h  1\n",
      "  57  4.7788075e+00 3.87e-02 1.16e+01  -4.0 5.66e+00    -  1.08e-01 1.29e-01h  1\n",
      "  58  4.7389864e+00 3.74e-02 1.09e+01  -4.0 1.88e+00    -  7.67e-02 8.59e-02h  1\n",
      "  59  4.6086683e+00 3.45e-02 9.76e+00  -4.0 1.67e+00    -  9.41e-02 1.14e-01h  1\n",
      "iter    objective    inf_pr   inf_du lg(mu)  ||d||  lg(rg) alpha_du alpha_pr  ls\n",
      "  60  4.5085015e+00 3.23e-02 9.14e+00  -4.0 2.88e+00    -  9.11e-02 6.38e-02h  1\n",
      "  61  4.3680515e+00 2.85e-02 8.14e+00  -4.0 1.95e+00    -  5.11e-02 1.12e-01h  1\n",
      "  62  4.2550089e+00 2.51e-02 7.19e+00  -4.0 1.67e+00    -  1.29e-01 1.15e-01h  1\n",
      "  63  4.1305980e+00 2.32e-02 6.64e+00  -4.0 1.47e+00    -  9.52e-02 7.76e-02h  1\n",
      "  64  3.9650394e+00 2.05e-02 6.25e+00  -4.0 1.59e+00    -  5.19e-02 1.15e-01h  1\n",
      "  65  3.7728874e+00 1.80e-02 7.51e+00  -4.0 1.77e+00    -  1.03e-01 1.45e-01h  1\n",
      "  66  3.7016330e+00 1.73e-02 6.45e+00  -4.0 3.16e+00    -  7.36e-02 3.05e-02h  1\n",
      "  67  3.5993499e+00 1.53e-02 5.06e+00  -4.0 1.23e+00    -  1.46e-01 1.13e-01h  1\n",
      "  68  3.5137643e+00 1.34e-02 4.12e+00  -4.0 1.55e+00    -  9.49e-02 9.66e-02h  1\n",
      "  69  3.4544986e+00 1.23e-02 4.00e+00  -4.0 1.51e+00    -  1.99e-02 9.08e-02h  1\n",
      "iter    objective    inf_pr   inf_du lg(mu)  ||d||  lg(rg) alpha_du alpha_pr  ls\n",
      "  70  3.4482083e+00 1.16e-02 3.50e+00  -4.0 8.49e-01    -  1.43e-01 5.30e-02h  1\n",
      "  71  3.3950187e+00 1.16e-02 4.46e+00  -4.0 1.23e+00    -  1.60e-01 2.01e-01f  1\n",
      "  72  3.3584366e+00 9.73e-03 5.00e+00  -4.0 8.46e-01    -  1.02e-01 1.45e-01h  1\n",
      "  73  3.3592497e+00 1.22e-02 6.89e+00  -4.0 1.11e+00    -  1.47e-01 1.59e-01h  1\n",
      "  74  3.3486715e+00 1.09e-02 8.35e+00  -4.0 1.22e+00    -  1.21e-01 1.08e-01h  1\n",
      "  75  3.3353000e+00 9.97e-03 9.92e+00  -4.0 2.13e+00    -  1.54e-01 8.81e-02f  1\n",
      "  76  3.3216998e+00 1.12e-02 1.60e+01  -4.0 1.80e+00    -  6.17e-02 1.17e-01h  1\n",
      "  77  3.3119314e+00 1.06e-02 1.44e+01  -4.0 9.15e-01    -  1.55e-01 7.36e-02h  1\n",
      "  78  3.3622839e+00 1.46e-02 1.98e+01  -4.0 1.03e+00    -  2.14e-01 2.58e-01h  1\n",
      "  79  3.3665468e+00 1.28e-02 1.94e+01  -4.0 8.94e-01    -  1.60e-01 2.15e-01h  1\n",
      "iter    objective    inf_pr   inf_du lg(mu)  ||d||  lg(rg) alpha_du alpha_pr  ls\n",
      "  80  3.3297429e+00 9.90e-03 1.68e+01  -4.0 6.38e-01    -  3.07e-01 2.27e-01h  1\n",
      "  81  3.3686595e+00 7.16e-03 1.33e+01  -4.0 3.59e-01    -  3.94e-01 2.78e-01h  1\n",
      "  82  3.3871411e+00 2.40e-03 6.84e+00  -4.0 2.06e-01    -  3.65e-01 6.80e-01h  1\n",
      "  83  3.3830035e+00 3.50e-03 4.06e+00  -4.0 3.01e-01    -  5.93e-01 8.08e-01f  1\n",
      "  84  3.4252668e+00 1.15e-03 3.12e+00  -4.0 7.57e-02    -  1.00e+00 1.00e+00h  1\n",
      "  85  3.4184366e+00 1.27e-04 1.81e+00  -4.0 3.99e-02    -  1.00e+00 1.00e+00h  1\n",
      "  86  3.4049058e+00 7.33e-04 6.43e-01  -4.0 1.24e-01    -  6.89e-01 1.00e+00h  1\n",
      "  87  3.4125395e+00 7.09e-04 8.92e-01  -4.0 3.55e-01    -  2.96e-01 3.58e-02h  4\n",
      "  88  3.3895217e+00 2.11e-03 8.39e-01  -4.0 1.87e-01    -  1.68e-01 1.00e+00h  1\n",
      "  89  3.3957357e+00 2.18e-03 7.95e-01  -4.0 7.02e-01    -  2.46e-01 5.03e-02h  4\n",
      "iter    objective    inf_pr   inf_du lg(mu)  ||d||  lg(rg) alpha_du alpha_pr  ls\n",
      "  90  3.3982907e+00 2.21e-03 7.91e-01  -4.0 5.92e-01    -  5.60e-01 6.81e-02h  4\n",
      "  91  3.3811750e+00 1.64e-02 5.78e-01  -4.0 1.15e+00    -  1.79e-01 3.44e-01h  1\n",
      "  92  3.3870039e+00 1.54e-02 4.00e-01  -4.0 1.84e-01    -  9.69e-01 6.25e-02h  5\n",
      "  93  3.3877317e+00 1.52e-02 3.93e-01  -4.0 1.34e-01    -  1.00e+00 1.56e-02h  7\n",
      "  94  3.3881840e+00 1.42e-02 3.66e-01  -4.0 1.59e-01    -  6.72e-01 6.25e-02h  5\n",
      "  95  3.3883094e+00 1.42e-02 3.48e-01  -4.0 2.61e-01    -  1.00e+00 1.95e-03h 10\n",
      "  96  3.3636032e+00 9.12e-03 5.03e-02  -4.0 3.28e-01    -  7.55e-01 1.00e+00h  1\n",
      "  97  3.3806026e+00 6.82e-03 1.13e-01  -4.0 7.88e-02    -  1.00e+00 2.50e-01h  3\n",
      "  98  3.3905826e+00 5.14e-03 6.30e-02  -4.0 1.02e-01    -  1.00e+00 2.50e-01h  3\n",
      "  99  3.3932527e+00 2.70e-04 1.58e-02  -4.0 7.56e-02    -  1.00e+00 1.00e+00h  1\n",
      "iter    objective    inf_pr   inf_du lg(mu)  ||d||  lg(rg) alpha_du alpha_pr  ls\n",
      " 100  3.4197666e+00 1.55e-04 2.36e-02  -4.0 2.86e-02    -  1.00e+00 1.00e+00h  1\n",
      " 101  3.4071260e+00 6.74e-05 6.13e-03  -4.0 1.39e-02    -  1.00e+00 1.00e+00h  1\n",
      " 102  3.4015986e+00 2.76e-06 3.46e-03  -4.0 3.34e-03    -  1.00e+00 1.00e+00h  1\n",
      " 103  3.3988363e+00 1.69e-05 4.80e-03  -4.0 1.25e-02    -  1.00e+00 1.00e+00h  1\n",
      " 104  3.3567138e+00 2.43e-03 8.46e-02  -4.0 1.80e-01    -  1.00e+00 1.00e+00h  1\n",
      " 105  3.3953484e+00 2.22e-04 7.49e-02  -4.0 3.89e-02    -  1.00e+00 1.00e+00h  1\n",
      " 106  3.3975636e+00 1.12e-04 3.54e-02  -4.0 1.91e-02    -  1.00e+00 5.00e-01h  2\n",
      " 107  3.3984308e+00 8.43e-05 3.24e-02  -4.0 1.52e-02    -  1.00e+00 2.50e-01h  3\n",
      " 108  3.4003891e+00 1.50e-05 9.63e-03  -4.0 7.26e-02    -  1.00e+00 1.00e+00H  1\n",
      " 109  3.4197753e+00 4.94e-06 2.84e-02  -4.0 1.55e-01    -  1.00e+00 1.00e+00H  1\n",
      "iter    objective    inf_pr   inf_du lg(mu)  ||d||  lg(rg) alpha_du alpha_pr  ls\n",
      " 110  3.4049370e+00 4.60e-07 2.00e-02  -4.0 3.24e-02    -  1.00e+00 1.00e+00H  1\n",
      " 111  3.3911763e+00 2.21e-04 7.36e-03  -4.0 5.04e-02    -  1.00e+00 1.00e+00h  1\n",
      " 112  3.3960404e+00 1.20e-04 9.72e-03  -4.0 6.26e-02    -  1.00e+00 5.00e-01h  2\n",
      " 113  3.4180492e+00 1.14e-07 1.73e-02  -4.0 1.33e-01    -  1.00e+00 1.00e+00H  1\n",
      " 114  3.3874538e+00 7.29e-04 5.54e-02  -4.0 2.05e-01    -  1.00e+00 1.00e+00h  1\n",
      " 115  3.3893031e+00 9.63e-04 3.70e-02  -4.0 5.70e-02    -  1.00e+00 1.00e+00h  1\n",
      " 116  3.3912706e+00 8.45e-04 2.90e-02  -4.0 5.38e-02    -  1.00e+00 1.25e-01h  4\n",
      " 117  3.3912751e+00 8.45e-04 3.45e-02  -4.0 4.57e-02    -  1.00e+00 4.88e-04h 12\n",
      " 118  3.3999892e+00 2.65e-06 3.00e-02  -4.0 1.92e-01    -  1.00e+00 1.00e+00H  1\n",
      " 119  3.4126626e+00 3.47e-08 7.01e-03  -4.0 2.03e-01    -  1.00e+00 1.00e+00H  1\n",
      "iter    objective    inf_pr   inf_du lg(mu)  ||d||  lg(rg) alpha_du alpha_pr  ls\n",
      " 120  3.3995111e+00 3.07e-06 2.67e-02  -4.0 7.11e-02    -  1.00e+00 1.00e+00F  1\n",
      " 121  3.3953912e+00 1.62e-04 1.44e-02  -4.0 3.82e-02    -  1.00e+00 1.00e+00h  1\n",
      " 122  3.3985340e+00 9.86e-05 1.19e-01  -4.0 5.53e-01    -  6.72e-01 1.00e+00H  1\n",
      " 123  3.3517646e+00 7.86e-03 1.74e-01  -4.0 6.11e-01    -  1.00e+00 5.23e-01h  1\n",
      " 124  3.3787815e+00 3.41e-03 1.41e-01  -4.0 1.12e-01    -  1.00e+00 5.00e-01h  2\n",
      " 125  3.3928849e+00 1.46e-04 4.84e-02  -4.0 1.28e-01    -  1.00e+00 1.00e+00H  1\n",
      " 126  3.3999712e+00 6.09e-06 2.94e-02  -4.0 2.62e-02    -  1.00e+00 1.00e+00H  1\n",
      " 127  3.3913543e+00 8.14e-05 4.38e-03  -4.0 3.04e-02    -  1.00e+00 1.00e+00h  1\n",
      " 128  3.3859155e+00 8.76e-05 4.79e-03  -4.0 4.21e-02    -  1.00e+00 1.00e+00h  1\n",
      " 129  3.3872253e+00 6.38e-05 3.00e-02  -4.0 2.37e-01    -  1.00e+00 1.00e+00H  1\n",
      "iter    objective    inf_pr   inf_du lg(mu)  ||d||  lg(rg) alpha_du alpha_pr  ls\n",
      " 130  3.3874625e+00 5.62e-05 5.72e-02  -4.0 6.94e-01    -  1.00e+00 1.56e-02h  7\n",
      " 131  3.3875938e+00 4.24e-05 8.82e-02  -4.0 9.80e-01    -  1.00e+00 1.56e-02h  7\n",
      " 132  3.3875632e+00 4.62e-05 1.02e-01  -4.0 1.19e+00    -  1.00e+00 1.56e-02h  7\n",
      " 133  3.3875937e+00 4.62e-05 1.12e-01  -4.0 1.39e+00    -  1.00e+00 9.77e-04h 11\n",
      " 134  3.3878695e+00 4.68e-05 8.88e-02  -4.0 9.60e-01    -  1.00e+00 7.81e-03h  8\n",
      " 135  3.3786510e+00 7.93e-03 9.17e-02  -4.0 1.57e+00    -  1.00e+00 2.36e-01h  3\n",
      " 136  3.3787024e+00 4.16e-03 6.71e-02  -4.0 3.67e-01    -  1.00e+00 1.00e+00H  1\n",
      " 137  3.4157076e+00 2.57e-06 6.33e-02  -4.0 1.23e-01    -  1.00e+00 1.00e+00H  1\n",
      " 138  3.3868332e+00 6.77e-05 1.46e-02  -4.0 9.74e-02    -  1.00e+00 1.00e+00H  1\n",
      " 139  3.3816896e+00 1.67e-03 2.15e-02  -4.0 1.10e-01    -  1.00e+00 1.00e+00h  1\n",
      "iter    objective    inf_pr   inf_du lg(mu)  ||d||  lg(rg) alpha_du alpha_pr  ls\n",
      " 140  3.3852446e+00 1.47e-03 2.15e-02  -4.0 4.84e-02    -  1.00e+00 1.25e-01h  4\n",
      " 141  3.3861707e+00 1.10e-03 1.74e-02  -4.0 1.38e-02    -  1.00e+00 2.50e-01h  3\n",
      " 142  3.3862529e+00 1.09e-03 1.71e-02  -4.0 1.07e-02    -  1.00e+00 1.56e-02h  7\n",
      " 143  3.3863137e+00 1.07e-03 1.67e-02  -4.0 1.41e-02    -  1.00e+00 1.56e-02h  7\n",
      " 144  3.3863168e+00 1.07e-03 1.65e-02  -4.0 1.65e-02    -  1.00e+00 4.88e-04h 12\n",
      " 145  3.3894982e+00 1.28e-04 2.87e-03  -4.0 2.56e-02    -  1.00e+00 1.00e+00h  1\n",
      " 146  3.3951973e+00 9.16e-06 5.27e-03  -4.0 5.57e-03    -  1.00e+00 1.00e+00h  1\n",
      " 147  3.3910211e+00 7.64e-06 4.06e-04  -4.0 5.99e-03    -  1.00e+00 1.00e+00h  1\n",
      "\n",
      "Number of Iterations....: 147\n",
      "\n",
      "                                   (scaled)                 (unscaled)\n",
      "Objective...............:   3.3910211333340645e+00    3.3910211333340645e+00\n",
      "Dual infeasibility......:   4.0567628775033083e-04    4.0567628775033083e-04\n",
      "Constraint violation....:   7.6406378566873379e-06    7.6406378566873379e-06\n",
      "Variable bound violation:   0.0000000000000000e+00    0.0000000000000000e+00\n",
      "Complementarity.........:   9.9999999999977020e-05    9.9999999999977020e-05\n",
      "Overall NLP error.......:   4.0567628775033083e-04    4.0567628775033083e-04\n",
      "\n",
      "\n",
      "Number of objective function evaluations             = 329\n",
      "Number of objective gradient evaluations             = 148\n",
      "Number of equality constraint evaluations            = 329\n",
      "Number of inequality constraint evaluations          = 329\n",
      "Number of equality constraint Jacobian evaluations   = 148\n",
      "Number of inequality constraint Jacobian evaluations = 148\n",
      "Number of Lagrangian Hessian evaluations             = 0\n",
      "Total seconds in IPOPT                               = 0.940\n",
      "\n",
      "EXIT: Optimal Solution Found.\n"
     ]
    },
    {
     "data": {
      "text/html": [
       "<pre style=\"white-space:pre;overflow-x:auto;line-height:normal;font-family:Menlo,'DejaVu Sans Mono',consolas,'Courier New',monospace\">    <span style=\"color: #008080; text-decoration-color: #008080; font-weight: bold\">0</span>                 <span style=\"color: #008080; text-decoration-color: #008080; font-weight: bold\">0</span>  <span style=\"color: #008080; text-decoration-color: #008080; font-weight: bold\">3.3910211333340645</span>      <span style=\"color: #008080; text-decoration-color: #008080; font-weight: bold\">0.40271853963224014</span>               <span style=\"color: #008080; text-decoration-color: #008080; font-weight: bold\">-4.0</span>               <span style=\"color: #008080; text-decoration-color: #008080; font-weight: bold\">1</span>\n",
       "</pre>\n"
      ],
      "text/plain": [
       "    \u001b[1;36m0\u001b[0m                 \u001b[1;36m0\u001b[0m  \u001b[1;36m3.3910211333340645\u001b[0m      \u001b[1;36m0.40271853963224014\u001b[0m               \u001b[1;36m-4.0\u001b[0m               \u001b[1;36m1\u001b[0m\n"
      ]
     },
     "metadata": {},
     "output_type": "display_data"
    }
   ],
   "source": [
    "res,x_opt,fun_opt = model.solve(max_iter=1, mu_init=0.0001,tol=1e-3,print_level=5,verbose=True)"
   ]
  },
  {
   "cell_type": "code",
   "execution_count": 15,
   "metadata": {},
   "outputs": [
    {
     "data": {
      "image/png": "[encoded data removed]",
      "text/plain": [
       "<Figure size 1400x400 with 3 Axes>"
      ]
     },
     "metadata": {},
     "output_type": "display_data"
    }
   ],
   "source": [
    "u, q, r, delta, theta, alpha = model.parse_vars_fn(x_opt)\n",
    "u = u.reshape((scale,scale))\n",
    "plot_experiment(true,noisy,u,alpha)"
   ]
  },
  {
   "cell_type": "code",
   "execution_count": 12,
   "metadata": {},
   "outputs": [
    {
     "name": "stdout",
     "output_type": "stream",
     "text": [
      "[0.74088498 0.73483748 0.96153554 1.02967801 1.05335245 1.06108778\n",
      " 1.06266369 1.06309814 1.06320471 1.06321507 1.0632175  1.00868871\n",
      " 0.57147433 0.49769252 0.61262473 0.30184236 0.60408677 0.84597261\n",
      " 0.78791926 0.64398382 0.97295618 1.03388277 1.05204688 1.06321076\n",
      " 1.0632204  1.06322475 1.02765598 0.60170519 0.45620636 0.21597347\n",
      " 0.42534872 0.29129771 1.02357846 1.02065561 1.02864021 1.03953738\n",
      " 1.06321924 1.06323175 1.06323564 1.06323575 1.06323493 1.0631445\n",
      " 0.84258266 0.57004032 0.16009159 0.17085509 0.38558504 0.56432642\n",
      " 1.06323553 1.06323563 1.06323593 1.06323552 1.06323517 1.063237\n",
      " 1.06323651 1.06323577 1.06323486 1.06323431 1.06322278 0.63645304\n",
      " 0.45641816 0.55496669 0.78174017 0.9697205  1.06323737 1.06323724\n",
      " 1.06323724 1.06323739 1.06323743 1.06323669 1.06323621 1.06323657\n",
      " 1.0632352  1.0632339  1.06322747 0.58982579 0.75695237 1.06323006\n",
      " 0.99537997 0.73239837 0.93500561 1.06313988 1.06323675 1.06323681\n",
      " 1.06323679 1.06323647 1.06323628 1.06323196 1.06322796 1.0048374\n",
      " 1.06320244 1.06323632 1.06323197 1.03655874 0.775841   0.66895291\n",
      " 1.06323641 1.06323675 1.06323664 1.06323607 1.06323348 1.06323347\n",
      " 1.0632248  1.0632045  1.00996613 1.06321239 1.06323564 1.06323135\n",
      " 1.06322483 1.06322328 1.06323173 1.06323561 1.0632367  1.06323666\n",
      " 1.06323458 1.06323355 1.06323385 1.06323193 0.34993844 0.09493576\n",
      " 0.66040076 1.06323398 1.06322944 1.0632236  1.06323341 1.06323571\n",
      " 1.06323611 1.06323658 1.06323562 1.06323576 1.06323302 1.06319324\n",
      " 0.81279148 0.95133104 0.09137971 0.61633765 1.0631999  0.91961384\n",
      " 1.06323286 1.06323518 1.063236   1.06323629 1.06323664 1.06323616\n",
      " 1.0632312  1.06321345 0.82865541 0.61975911 0.51074752 0.8938656\n",
      " 0.34161358 0.20499446 0.63673152 1.0632323  1.06323419 1.06323573\n",
      " 1.06323612 1.06323655 1.0632351  1.06323476 0.47726404 0.49638972\n",
      " 0.72852699 0.53230514 0.26177094 0.91000641 0.16406049 0.11899045\n",
      " 0.71041434 1.06322476 1.06323492 1.06323568 1.06323633 1.06323155\n",
      " 1.06322968 1.06322965 0.54905384 0.10236108 0.22322663 0.23201978\n",
      " 0.5390368  0.65394767 0.16132773 0.39872336 1.06321801 1.06323468\n",
      " 1.06323556 1.06323627 1.06321692 1.06320446 1.06320013 1.06320027\n",
      " 0.53552595 0.23997754 0.40860771 0.34811604 0.3642278  0.37219013\n",
      " 0.39864924 1.0632181  1.06323461 1.06323558 1.06323628 1.06321249\n",
      " 1.063178   1.06307687 1.06309194 1.06304556 0.24188233 0.34328406\n",
      " 0.49857801 0.30496449 0.26531972 0.54739567 1.06321835 1.06323477\n",
      " 1.06323578 1.06323609 1.06321611 1.06315976 1.06250163 1.06304528\n",
      " 1.06248878 1.06236481 0.15062957 0.38559712 0.59569849 0.2912128\n",
      " 0.5930293  1.06321535 1.06323556 1.06323558 1.06323584 1.06321777\n",
      " 1.06317565 1.05894995 1.0630422  1.06190886 1.06147065 1.05322677]\n"
     ]
    }
   ],
   "source": [
    "print(delta)"
   ]
  },
  {
   "cell_type": "code",
   "execution_count": null,
   "metadata": {},
   "outputs": [],
   "source": []
  }
 ],
 "metadata": {
  "kernelspec": {
   "display_name": ".venv",
   "language": "python",
   "name": "python3"
  },
  "language_info": {
   "codemirror_mode": {
    "name": "ipython",
    "version": 3
   },
   "file_extension": ".py",
   "mimetype": "text/x-python",
   "name": "python",
   "nbconvert_exporter": "python",
   "pygments_lexer": "ipython3",
   "version": "3.12.7"
  }
 },
 "nbformat": 4,
 "nbformat_minor": 2
}
